{
 "cells": [
  {
   "cell_type": "markdown",
   "metadata": {},
   "source": [
    "# Copy / Clone the course repository to your own computer"
   ]
  },
  {
   "cell_type": "markdown",
   "metadata": {},
   "source": [
    "The course material is available in a public repository (no SSH connection necessary). It will be updated regularily.\n",
    "\n",
    "## Initial download\n",
    "\n",
    "In a console/terminal, change directories to where you want the course folder to live. The following command copies the entire course material repository to your computer to the folder './geosf21_material'. \n",
    "\n",
    "    cd $home\n",
    "    git clone https://github.com/GeoPythonVT/geosf21_material.git\n",
    "\n",
    "You won't be able to push any content to this repository. \n",
    "\n",
    "## Update\n",
    "\n",
    "You can update the repository for new content (without repeatedly downloading the entire repository), whenever there is new material available. For that, enter the folder 'geosf21_material' on the ARC web-app/your computer and type in the terminal/console:\n",
    "\n",
    "    cd $home/geosf21_material\n",
    "    git pull\n",
    "\n",
    "Alternatively, you can download the material directly from the repositories website: \n",
    "\n",
    "https://github.com/GeoPythonVT/geosf21_material"
   ]
  }
 ],
 "metadata": {
  "kernelspec": {
   "display_name": "Python 3",
   "language": "python",
   "name": "python3"
  },
  "language_info": {
   "codemirror_mode": {
    "name": "ipython",
    "version": 3
   },
   "file_extension": ".py",
   "mimetype": "text/x-python",
   "name": "python",
   "nbconvert_exporter": "python",
   "pygments_lexer": "ipython3",
   "version": "3.8.5"
  }
 },
 "nbformat": 4,
 "nbformat_minor": 5
}
