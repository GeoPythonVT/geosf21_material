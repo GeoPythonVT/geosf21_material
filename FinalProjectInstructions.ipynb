{
 "cells": [
  {
   "cell_type": "markdown",
   "metadata": {},
   "source": [
    "\"Geo Data Science with Python\", Fall 2021\n",
    "\n",
    "### Notebook Final Project Instructions\n",
    "\n",
    "---"
   ]
  },
  {
   "cell_type": "markdown",
   "metadata": {},
   "source": [
    "# Introduction\n",
    "\n",
    "In the final project, we want to apply our gained literacy in the Python language and with data analysis methods to explore and mine climate or geoscience data for a region of interest.\n",
    "\n",
    "The learning objectives of the final projects are:\n",
    "\n",
    "- Create a Python program that processes large geo datasets fast and efficiently.\n",
    "- Apply various data analysis and machine learning methods useful to mine geo data and using Python.\n",
    "- Visualize, summarize and interpret results from a Python data anlysis algorithm.\n",
    "\n"
   ]
  },
  {
   "cell_type": "markdown",
   "metadata": {},
   "source": [
    "---\n",
    "# Task\n",
    "\n",
    "The major tasks of this project are:\n",
    "\n",
    "1. Define a data analysis problem (a set of questions to explore) relevant to you, which includes analysis of gridded spatiotemporal data for a certain region and applies at least one machine learning method. I would like everyone find a project that excites them. The next section lists some criteria for the problem.\n",
    "2. Summarize your geospatial data analysis problem in written form and send it to me via e-mail by Saturday, November 20th, 2021.\n",
    "3. Develop a Python algorithm to map the data and approach the defined problem for at least one region.\n",
    "4. Perform the data analysis. Include code to visualize your results in a professional manner.\n",
    "5. Summarize your work in a paper and present your dataset and results in a lightening talk.\n"
   ]
  },
  {
   "cell_type": "markdown",
   "metadata": {},
   "source": [
    "## Criteria for choosing your data analysis problem:\n",
    "\n",
    "- Choose a geographical region. And therein at as many non-uniform boundaries you are interested in, these can be countries, US states, river basins.\n",
    "\n",
    "- Select at least **two geophysical variables** you want to study. Both should exhibit spatial variablity and at least one of them temporal variability. Choose appropriate grided data sets on NASA archives or other data services and use python code to download at least one of the datasets. Example data sets are given below.\n",
    "    - At least one dataset should be \"large\", with the slice you are using having a minimum spatial size of ~ $latsize * lonsize > 100 * 100 $ and either covering a very long period (e.g. 100 years) or providing high temporal sampling (e.g. monthly for 20 years, daily for 5 years) \n",
    "    - The second dataset can also be any other non-uniformly sampled dataset you are interested in (e.g. groundwater well time series, seismic data, deformation data, ...).\n",
    "\n",
    "\n",
    "- **The data analysis problem should include**:\n",
    "    - Characterization and visualization of spatial and/or temporal variations in the geophysical variables (e.g. via statistical metrics for each grid point and the region you chose). And comparison of the two geophysical variables (e.g., temporal or spatial changes, statistical metrics and output of the next item). **Define at least 3 questions you want to approach for these tasks.**\n",
    "    - **Apply at least one machine learning approach** exploring features in your dataset. **Define at least 1 questions you want to approach.**\n",
    "        - Build a regression model either for estimation of periodic and long-term changes in at least one datasets for the region of interest. Or to predict a third geophysical variable from two others.\n",
    "         - Apply one of the unsupervised machine learning methods (clustering and/or PCA) to explore features in your datasets.\n",
    "     - Discussion of the meaning of the extracted features and how they can support your research.\n",
    "\n",
    "\n",
    "- Please consult me for ideas or discussion on how to utilize the methods. \n",
    "\n",
    "- **Undergraduate students** may focus on **one** gridded dataset and application of the machine learning approach will be graded for extra credit.\n",
    "\n",
    "\n",
    "- If you work in a team, please indicate names of all collaborators in the doc-string of the script file. And make a statement on individual contributions at the end of the report. (Provide detail, who coded which part, and/or which parts you worked on together, and/or who wrote which part of the summary, etc.)!"
   ]
  },
  {
   "cell_type": "markdown",
   "metadata": {},
   "source": [
    "---\n",
    "# Data Sets\n",
    "\n",
    "## Region boundary\n",
    "\n",
    "Please consult me for this. We have not covered import of shapefiles in Python. I can either provide text/.csv-file for boundaries you are interested in, or help with the conversion into a textfile.\n",
    "\n",
    "## Gridded Datasets\n",
    "\n",
    "Here a list of datasets suggestions you may explore during your project (see lecture slides from today and links below for more information):\n",
    "\n",
    "\n",
    "- Monthly GPM precipitation: \n",
    "    - https://disc.gsfc.nasa.gov/datasets/GPM_3IMERGM_06/summary?keywords=%22IMERG%20final%22\n",
    "\n",
    "\n",
    "- GISTEMP\n",
    "    - https://data.giss.nasa.gov/gistemp/\n",
    "    - https://data.giss.nasa.gov/pub/gistemp/gistemp250.nc.gz\n",
    "    - if you want a higher spatial resolution, use Temperature from the GLDAS model dataset \n",
    "\n",
    "\n",
    "- Soil Moisture Model GLDAS, including soil moisture, but also other hydrological variables (evapotranspiration, temperature, precipitation, snow) \n",
    "    - https://daac.gsfc.nasa.gov/datasets/GLDAS_NOAH025_M_2.1/summary?keywords=GLDAS%20v2.1\n",
    "\n",
    "\n",
    "- Terrestrial Water Storage from the GRACE satellites \n",
    "    - http://www2.csr.utexas.edu/grace/RL06_mascons.html\n",
    "    - https://podaac.jpl.nasa.gov/dataset/TELLUS_GRAC-GRFO_MASCON_CRI_GRID_RL06_V2?ids=Processing%20Levels&values=3%20-%20Gridded%20Observations&search=grace%20jpl%20mascon&provider=POCLOUD\n",
    "\n",
    "\n",
    "- Global drought index SPEI: \n",
    "    - https://spei.csic.es/, more information also here: \n",
    "    - https://climatedataguide.ucar.edu/climate-data/standardized-precipitation-evapotranspiration-index-spei  \n",
    "\n",
    "\n",
    "- Historical Land-Cover Change and Land-Use Conversions Global Dataset:\n",
    "    - https://www.ncei.noaa.gov/access/metadata/landing-page/bin/iso?id=gov.noaa.ncdc:C00814\n",
    "\n",
    "\n",
    "\n",
    "\n",
    "- Any other data you find interesting on NASA Earth data distributions through ESDS: https://earthdata.nasa.gov/\n",
    "\n",
    "\n",
    "- Other datasets:\n",
    "    - Natural Earth: raster and vector map data for visualization: http://www.naturalearthdata.com/downloads/\n",
    "    - Koeppen climate zones: http://climateviewer.org/history-and-science/geoscience-and-oceanography/maps/geography-of-the-koppen-climate-classification-system-overlay/\n",
    "    - 15 free satellite imagery sources: https://gisgeography.com/free-satellite-imagery-data-list/  \n",
    "    - Global Administrative Areas (GADM): http://gadm.org/\n",
    "    - Global Lake and Wetland Database: https://www.worldwildlife.org/pages/global-lakes-and-wetlands-database\n",
    "    - Shoreline, Coastlines: https://www.ngdc.noaa.gov/mgg/shorelines/gshhs.html\n"
   ]
  },
  {
   "cell_type": "markdown",
   "metadata": {},
   "source": [
    "---\n",
    "# What to deliver and when?\n",
    "\n",
    "1. Write down your geospatial data anslysis problem (a set of questions to explore) and send it to me via e-mail. Wait for confirmation, before beginning the analysis. (**Saturday, November 20th, 2021**).\n",
    "2. Data analysis code (in the form of a script-file or notebook) that you used to conduct the required data analysis. (**December 8**)\n",
    "3. A paper summarizing the work (minimum 3 pages, incl. figures, introduction, data, methods, results, conclusions) as pdf file. (**December 8**)\n",
    "4. Google slides for a **3-minute** presentation that you will use on December 7 for presenting your methods and results. Submit as link to the slides (**December 6**)\n",
    "5. Lightening talk on **December 7, 8.00-9.15 am**.\n",
    "\n",
    "**Note:** Part 2 could also be implemented in a jupyter notebook, but it should contain only the most important results to summarize the work. In this case, submit also a pdf version of the notebook and keep in mind that code does not count toward the 3-page minimum."
   ]
  },
  {
   "cell_type": "markdown",
   "metadata": {},
   "source": [
    "---\n",
    "# Final Project Presentation\n",
    "\n",
    "**When?**\n",
    "December 7 during classes 8.00-9.15 pm\n",
    "\n",
    "**Where?**\n",
    "Computer Lab. Please let me know, if you need anything specific for the presentation.\n",
    "\n",
    "**How?** \n",
    "Prepare for a 3-minutes lightening talk presented via google slides and followed by 1-2 minute questions. We will have a tight schedule on this day, so please practice your presentation in advance, and stick to the time limit.\n",
    "\n",
    "Presentations will be given in the following order:\n",
    "- Mohammad            \n",
    "- Aaron               \n",
    "- Alexander           \n",
    "- Alina               \n",
    "- Ben                 \n",
    "- Dhari               \n",
    "- Faisal              \n",
    "- Tyler      \n",
    "- Junyao              \n",
    "- Maddie              \n",
    "- Rose      \n",
    "- Leonard             \n",
    "- Sonia        \n",
    "- Ahmed               \n"
   ]
  },
  {
   "cell_type": "markdown",
   "metadata": {},
   "source": [
    "---\n",
    "# Grading\n",
    "\n",
    "- Python code: 40%\n",
    "- Report paper: 30%\n",
    "- Presentation: 30%"
   ]
  },
  {
   "cell_type": "code",
   "execution_count": null,
   "metadata": {},
   "outputs": [],
   "source": []
  }
 ],
 "metadata": {
  "kernelspec": {
   "display_name": "Python 3",
   "language": "python",
   "name": "python3"
  },
  "language_info": {
   "codemirror_mode": {
    "name": "ipython",
    "version": 3
   },
   "file_extension": ".py",
   "mimetype": "text/x-python",
   "name": "python",
   "nbconvert_exporter": "python",
   "pygments_lexer": "ipython3",
   "version": "3.8.8"
  }
 },
 "nbformat": 4,
 "nbformat_minor": 4
}
