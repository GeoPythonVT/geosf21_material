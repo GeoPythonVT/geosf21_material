{
 "cells": [
  {
   "cell_type": "markdown",
   "id": "fd05c460-5f0f-42c2-b2ee-c72028262da0",
   "metadata": {},
   "source": [
    "## Test Exercise for GitHub\n",
    "\n",
    "Please fill some code in the cell below"
   ]
  },
  {
   "cell_type": "code",
   "execution_count": null,
   "id": "cd77f746-c70b-425b-8379-ffc6a6d75615",
   "metadata": {},
   "outputs": [],
   "source": []
  }
 ],
 "metadata": {
  "kernelspec": {
   "display_name": "Python [conda env:geosf21]",
   "language": "python",
   "name": "conda-env-geosf21-py"
  },
  "language_info": {
   "codemirror_mode": {
    "name": "ipython",
    "version": 3
   },
   "file_extension": ".py",
   "mimetype": "text/x-python",
   "name": "python",
   "nbconvert_exporter": "python",
   "pygments_lexer": "ipython3",
   "version": "3.9.5"
  }
 },
 "nbformat": 4,
 "nbformat_minor": 5
}
