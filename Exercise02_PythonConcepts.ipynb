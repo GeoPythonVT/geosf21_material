{
 "cells": [
  {
   "cell_type": "markdown",
   "metadata": {},
   "source": [
    "\"Geo Data Science with Python\" \n",
    "### Notebook Exercise 2\n",
    " \n",
    "# Basic Object Types: Numbers, Booleans and Strings\n",
    "\n",
    "---\n",
    "\n",
    "## Part A: Python Objects (3 points)\n",
    "\n",
    "What is the difference between creating a variable and referencing a variable? Do variables have to be initialized before they can be referenced in Python? Explain why!\n",
    "Enter your answers in the following cell."
   ]
  },
  {
   "cell_type": "markdown",
   "metadata": {},
   "source": [
    "---\n",
    "\n",
    "## Part B: Number Objects (8 points)\n",
    "\n",
    "### **Task B.1: Expression Operators**\n",
    "\n",
    "Search the folowing websites listing basic expression operators (https://www.tutorialspoint.com/python/python_basic_operators.htm)\n",
    "and built-in functions in Python (https://docs.python.org/3/library/functions.html)\n",
    "\n",
    "1. Which built-in expression operator for Python number objects returns the remainder of a division? \n",
    "2. And which built-in function does round a floating point number? \n",
    "\n",
    "Name these these two operators/functions. Enter your answers in the following cell, replacing the placeholder \"YOUR ANSWER HERE\"."
   ]
  },
  {
   "cell_type": "markdown",
   "metadata": {},
   "source": [
    "\"YOUR ANSWER HERE\""
   ]
  },
  {
   "cell_type": "markdown",
   "metadata": {},
   "source": [
    "### **Task B.2: Experimenting with functions**\n",
    "\n",
    "<div class=\"alert alert-info\">\n",
    "\n",
    "**Note on Indentation**\n",
    "\n",
    "\n",
    "We have not really run into this problem in the lessons, but Python codes are sensitive to how much you indent the start of each line. This is perhaps easiest to see with an example:\n",
    "\n",
    "`name = 'Dave'\n",
    "    dogs = 0\n",
    "print('My name is', name, 'and I own', dogs, 'dogs.')`\n",
    "\n",
    "If you copy and paste this code into the Jupyter Notebook cell and run it, you will see that is gives an `IndentationError`. And in other examples a missing Indent will raise this error.\n",
    "\n",
    "We will explain in detail later of why indentation matters, and why and when you need to use it in some of the answer cells. But for now just be sure you **do not change indent in the next answer cell below**.\n",
    "</div>\n",
    "\n",
    "From task B.1, use the operator to assign a variable of the name `z` with the remainder of the division of the variables with the names `x` and `y`. Use exactly those variable names. Enter your solution in the cell below by replacing the lines \"### YOUR CODE HERE\". \n",
    "\n",
    "Your code below, added to replace those two lines, will complete a code block called myDivisionRemainder(). This is a function in Python. Your code will then work for any value in `x` and `y`, as you can test in the following Jupyter Notebook cells. We will discuss the syntax of functions at a later point. At this point, you have to only fill the variable assignment, where it is states \"YOUR CODE HERE\". Do not change the indent."
   ]
  },
  {
   "cell_type": "code",
   "execution_count": null,
   "metadata": {},
   "outputs": [],
   "source": [
    "# Assign a variable z with the remainder of the division of x and y!\n",
    "#  Do not change the lines that state 'leave this line unchanged'\n",
    "\n",
    "def myDivisionRemainder(x,y):  # leave this line unchanged\n",
    "    \n",
    "    \"\"\"Enter your answer below, do not change the indent!\"\"\"\n",
    "    ### YOUR CODE HERE\n",
    "    \n",
    "    return(z)                 # leave this line unchanged"
   ]
  },
  {
   "cell_type": "markdown",
   "metadata": {},
   "source": [
    "Now, assign two variables `x` and `y` with any two INTEGER numbers in the next code cell. Then run the two cells further below to receive the division remainder and test your code. You can try differen numbers (floating or integer), but your last and submitted example has to be an integer number. If you are satisfied with the test, move on to the next task."
   ]
  },
  {
   "cell_type": "code",
   "execution_count": null,
   "metadata": {},
   "outputs": [],
   "source": [
    "\"\"\"Assign the variables x and y with integer numbers\"\"\"\n",
    "\n",
    "### YOUR CODE HERE\n"
   ]
  },
  {
   "cell_type": "code",
   "execution_count": null,
   "metadata": {},
   "outputs": [],
   "source": [
    "# Run this cell to check the result of your code for the division \n",
    "# remainder for the values of x and y.\n",
    "\n",
    "print(\"Division remainder of {} and {} is {} \".format(x,y,myDivisionRemainder(x,y)))\n",
    "\n",
    "# Note: this is a more Python way of printing out variable, using the format() method."
   ]
  },
  {
   "cell_type": "code",
   "execution_count": null,
   "metadata": {},
   "outputs": [],
   "source": [
    "# Check that your code assigns x and y with integer numbers and\n",
    "# that it returns the correct remainder of x and y\n",
    "\n",
    "assert type(x) == int\n",
    "assert type(y) == int\n",
    "assert myDivisionRemainder(100,10) == 0\n",
    "assert myDivisionRemainder(105,33) == 6\n",
    "assert myDivisionRemainder(8,3) == 2"
   ]
  },
  {
   "cell_type": "markdown",
   "metadata": {},
   "source": [
    "<div class=\"alert alert-info\">\n",
    "\n",
    "**Note on Assertions**\n",
    "\n",
    "\n",
    "The test cell above uses the statement `assert` to test the output of your code. We will discuss such statements in further detail later. An *assertion* is a \"sanity-check\" that one can turn on or turn off when testing a code section or an entire program. You can study more about this test here: https://www.tutorialspoint.com/python/assertions_in_python.htm.\n",
    "\n",
    "</div>\n"
   ]
  },
  {
   "cell_type": "markdown",
   "metadata": {},
   "source": [
    "### **Task B.3**\n",
    "\n",
    "Now use the built-in function for rounding a value, which you have named above. For that, assign a variable `u` with a floating point number and a variable `w` the the rounded value of `u`. Then print out the value of both variables with a print() statement, using the sentence: 'The rounded value of \"v\" is \"u\"!'"
   ]
  },
  {
   "cell_type": "code",
   "execution_count": null,
   "metadata": {},
   "outputs": [],
   "source": [
    "\"\"\" Assign a variable w with the rounded value of u.\n",
    "    Print out their values to screen. \"\"\"\n",
    "\n",
    "### YOUR CODE HERE\n"
   ]
  },
  {
   "cell_type": "markdown",
   "metadata": {},
   "source": [
    "## Part C: Booleans (10 points)\n",
    "\n",
    "<div class=\"alert alert-info\">\n",
    "Study the section about Booleans in the notebook Lessons03_BasicObjectTypes.ipynb.\n",
    "</div>\n",
    "\n",
    "Below we have added two sets of three different *Boolean* tests. Adjust the values of the variables in the way that all tests return *True*.\n",
    "\n",
    "### Task C.1\n",
    "\n",
    "Assign the variable `a` and `b` with number values, so that all tests in the following cell return `True`."
   ]
  },
  {
   "cell_type": "code",
   "execution_count": null,
   "metadata": {},
   "outputs": [],
   "source": [
    "\"\"\" Assign the variable a and b with number values,\n",
    "    so that all tests in the following cell return True \"\"\"\n",
    "\n",
    "### YOUR CODE HERE\n"
   ]
  },
  {
   "cell_type": "code",
   "execution_count": null,
   "metadata": {},
   "outputs": [],
   "source": [
    "# Check that your code returns only True test results\n",
    "Test1 = (b and a) == 33\n",
    "Test2 = (b or bool(a)) == 36\n",
    "\n",
    "print(Test1, Test2)"
   ]
  },
  {
   "cell_type": "code",
   "execution_count": null,
   "metadata": {},
   "outputs": [],
   "source": [
    "# Check that your code returns only True test results\n",
    "assert Test1 == True\n",
    "assert Test2 == True\n",
    "assert type(a) == int or float\n",
    "assert type(b) == int or float"
   ]
  },
  {
   "cell_type": "markdown",
   "metadata": {},
   "source": [
    "### Task C.2\n",
    "\n",
    "Assign the variable c, d and e with number or string values, so that all tests in the following cell return True"
   ]
  },
  {
   "cell_type": "code",
   "execution_count": null,
   "metadata": {},
   "outputs": [],
   "source": [
    "\"\"\" Assign the variable c, d and f with number or string values,\n",
    "    so that all tests in the following cell return True \"\"\"\n",
    "\n",
    "### YOUR CODE HERE\n"
   ]
  },
  {
   "cell_type": "code",
   "execution_count": null,
   "metadata": {},
   "outputs": [],
   "source": [
    "# Check that your code returns only True test results\n",
    "\n",
    "Test1 = bool(d)\n",
    "Test2 = c > e and (type(e) == int)\n",
    "Test3 = (c or e) == 1\n",
    "Test4 = (not e) and d == 'hi'\n",
    "\n",
    "print(Test1, Test2, Test3, Test4)"
   ]
  },
  {
   "cell_type": "code",
   "execution_count": null,
   "metadata": {},
   "outputs": [],
   "source": [
    "# Check that your code returns only True test results\n",
    "assert Test1 == True\n",
    "assert Test2 == True\n",
    "assert Test3 == True\n",
    "assert Test4 == True\n",
    "assert type(c) == int or float or str\n",
    "assert type(d) == int or float or str\n",
    "assert type(e) == int or float or str"
   ]
  },
  {
   "cell_type": "markdown",
   "metadata": {},
   "source": [
    "---\n",
    "## Part D: String Objects (4 points)\n",
    "\n",
    "Part C of this assignment is about strings.\n",
    "\n",
    "### Task D.1\n",
    "Assign a variable `myString` with any string you like, in the next code cell. "
   ]
  },
  {
   "cell_type": "code",
   "execution_count": 1,
   "metadata": {},
   "outputs": [
    {
     "data": {
      "text/plain": [
       "'Assign a variable myString with a string'"
      ]
     },
     "execution_count": 1,
     "metadata": {},
     "output_type": "execute_result"
    }
   ],
   "source": [
    "\"\"\"Assign a variable myString with a string\"\"\"\n",
    "\n",
    "### YOUR CODE HERE"
   ]
  },
  {
   "cell_type": "markdown",
   "metadata": {},
   "source": [
    "Use the assert statement to check if your variable is a string."
   ]
  },
  {
   "cell_type": "code",
   "execution_count": null,
   "metadata": {},
   "outputs": [],
   "source": [
    "\"\"\" Check that your variable is a string, using assert\"\"\"\n",
    "\n",
    "### YOUR CODE HERE"
   ]
  },
  {
   "cell_type": "markdown",
   "metadata": {},
   "source": [
    "Now print out your string in the next code cell, using the print() function with the format() method, as shown in task B.2, using the sentence \"My string is: ...\". "
   ]
  },
  {
   "cell_type": "code",
   "execution_count": null,
   "metadata": {},
   "outputs": [],
   "source": [
    "\"\"\"Print your string with the format() method of the print function.\"\"\"\n",
    "\n",
    "### YOUR CODE HERE"
   ]
  },
  {
   "cell_type": "markdown",
   "metadata": {},
   "source": [
    "Find out more about strings, including an extensive list of string methods, here: https://www.tutorialspoint.com/python/python_strings.htm\n",
    "\n",
    "If you are satisfied with your notebook, save it and push it to your homework repository."
   ]
  },
  {
   "cell_type": "code",
   "execution_count": null,
   "metadata": {},
   "outputs": [],
   "source": []
  }
 ],
 "metadata": {
  "kernelspec": {
   "display_name": "Python 3",
   "language": "python",
   "name": "python3"
  },
  "language_info": {
   "codemirror_mode": {
    "name": "ipython",
    "version": 3
   },
   "file_extension": ".py",
   "mimetype": "text/x-python",
   "name": "python",
   "nbconvert_exporter": "python",
   "pygments_lexer": "ipython3",
   "version": "3.8.8"
  }
 },
 "nbformat": 4,
 "nbformat_minor": 4
}
