{
 "cells": [
  {
   "cell_type": "markdown",
   "id": "88f06cdc-2326-449e-8483-0c86d08ae11f",
   "metadata": {},
   "source": [
    "\"Geo Data Science with Python\" \n",
    "### Notebook Exercise 6e\n",
    "\n",
    "---\n",
    "\n",
    "# Downloading Science Data with pydap\n",
    "\n",
    "If you work in teams, please indicate your colaborators below!"
   ]
  },
  {
   "cell_type": "code",
   "execution_count": null,
   "id": "7e0290bd-7a46-4207-8cac-da46708ad93a",
   "metadata": {},
   "outputs": [],
   "source": [
    "NAME = \"\"\n",
    "COLLABORATORS = \"\""
   ]
  },
  {
   "cell_type": "markdown",
   "id": "026fb9d5-1d22-4bf6-a519-0059b00c2f8b",
   "metadata": {},
   "source": [
    "---\n",
    "# Task description for working with pydap\n",
    "\n",
    "(20 points)\n",
    "\n",
    "- On the OPeNDAP test server: http://test.opendap.org/dap/data/nc, find the file: 20070917-MODIS_A-JPL-L2P-A2007260000000.L2_LAC_GHRSST-v01.nc\n",
    "\n",
    "- Generate a download URL, only for the lat, lon, time and sea_surface_temperature variables\n",
    "- Use the pydap package to connect to and inspect the dataset\n",
    "- Using pydap, write code to answer the questions:\n",
    "    - What is the shape of the sea_surface_temperature variable?\n",
    "    - What is the code to retrieve the fill value of the dataset?\n",
    "    - What is the shape of the lat/lon variables?\n",
    "    - What is the code for downloading only the first 500x500 datapoints from all variables?\n",
    "    - Would you need to create a meshgrid to plot the variable?\n",
    "\n",
    "- Write a **decent** report below your code, answering all the qustions (up to you if you want to use only markup cells or a combination of code and markup cells.\n",
    "- Make a simple plot of the 500x500 subset of the sst variable with plt.scatter()\n"
   ]
  },
  {
   "cell_type": "code",
   "execution_count": null,
   "id": "690c56b3-6987-4368-93ed-556789423346",
   "metadata": {},
   "outputs": [],
   "source": []
  },
  {
   "cell_type": "code",
   "execution_count": null,
   "id": "fa09101e-1c25-414c-bf29-5d9b480fa07e",
   "metadata": {},
   "outputs": [],
   "source": []
  },
  {
   "cell_type": "code",
   "execution_count": null,
   "id": "05225786-d68d-44c4-83ca-4a24f0d95009",
   "metadata": {},
   "outputs": [],
   "source": []
  }
 ],
 "metadata": {
  "kernelspec": {
   "display_name": "Python 3",
   "language": "python",
   "name": "python3"
  },
  "language_info": {
   "codemirror_mode": {
    "name": "ipython",
    "version": 3
   },
   "file_extension": ".py",
   "mimetype": "text/x-python",
   "name": "python",
   "nbconvert_exporter": "python",
   "pygments_lexer": "ipython3",
   "version": "3.8.8"
  }
 },
 "nbformat": 4,
 "nbformat_minor": 5
}
