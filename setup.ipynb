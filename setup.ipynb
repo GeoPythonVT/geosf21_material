Setup your GitHub connection to the Python application on ARC.
