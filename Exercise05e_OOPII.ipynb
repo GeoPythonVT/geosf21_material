{
 "cells": [
  {
   "cell_type": "markdown",
   "metadata": {},
   "source": [
    "\"Geo Data Science with Python\" \n",
    "### Notebook Exercise 5e\n",
    "\n",
    "---\n",
    "\n",
    "# Using & Writing Classes in Python\n",
    "\n",
    "This exercise continues practice on using and builds bractice on writing Classes in Python.\n",
    "\n",
    "If you work in teams, please indicate your colaborators below!"
   ]
  },
  {
   "cell_type": "code",
   "execution_count": null,
   "metadata": {},
   "outputs": [],
   "source": [
    "NAME = \"\"\n",
    "COLLABORATORS = \"\""
   ]
  },
  {
   "cell_type": "markdown",
   "metadata": {},
   "source": [
    "---\n",
    "# Part A: Using a Car Class!\n",
    "(15 points)\n",
    "\n",
    "In this assignment we will be using a `Car` class like this:\n",
    "\n",
    "<img src=\"./Lessons/images/Image_ClassCar.png\" width=\"300\" />\n",
    "\n",
    "Figure 1: *A Car Class.*"
   ]
  },
  {
   "cell_type": "markdown",
   "metadata": {},
   "source": [
    "Below, you can find a definition of the `Car` class, already coded in Python. Your task will be to use the class, create instances and call its methods with correct attributes being passed.\n",
    "\n",
    "Our `Car` class contains a class variable `vehicle_type`, a constructor method with the arguments `make` and `model` as well as three further methods:\n",
    "\n",
    "* `getCharge()`: Checks the battery status.\n",
    "* `recharge()`: Recharges the battery.\n",
    "* `drive()`: Drives the car\n",
    "\n",
    "Study the definition of the class in the code cell below. The function `getCharge()` sets the charge status of the car battery in percentage. The charge status is assigned randomly using the module `random`. The function `recharge()` recharges the car battery to 100%. And the last method `drive()` simply drives the car.\n",
    "\n",
    "Below, you will be guided step-by-step to perform the following tasks:\n",
    "\n",
    "* Print the `vehicle_type` of the `Car` class\n",
    "* Adjusting the `vehicle_type` of the `Car` class to `'electric car'`\n",
    "* Create an instance of the `Car` class using the name `myToyota` with the make/model `Toyota`/`Prius`\n",
    "* Create an instance of the `Car` class using the name `myTesla` with the make/model `Tesla`/`S` \n",
    "* Work on the accuracy of the class variable `vehicle_type`.\n",
    "* Check the charge status of the battery for `myTesla`.\n",
    "* Refill the battery if needed.\n",
    "* Drive the car.\n",
    "\n",
    "Make sure to use exaclty the same variable names and strings as stated in the tasks."
   ]
  },
  {
   "cell_type": "code",
   "execution_count": 4,
   "metadata": {
    "nbgrader": {
     "grade": false,
     "grade_id": "cell-ACarClassCode",
     "locked": true,
     "schema_version": 3,
     "solution": false,
     "task": false
    }
   },
   "outputs": [],
   "source": [
    "import random  # importing the function random to use for generating the charge status of the car\n",
    "\n",
    "# the complexer Car class\n",
    "class Car:\n",
    "\n",
    "    # Class variables\n",
    "    vehicle_type = \"automobile\"\n",
    "\n",
    "    # Constructor method\n",
    "    def __init__(self, make, model):\n",
    "        self.model = model\n",
    "        self.make  = make\n",
    "        print(\"You have created an \" + self.vehicle_type + \" of make/model: \" + make + \"/\" + model + \".\")\n",
    "        print(\"Check your charge status, before you take a ride!\")\n",
    "\n",
    "    # Method to get charge status\n",
    "    def getCharge(self):\n",
    "        self.charge  = charge = round(random.random()*100)\n",
    "        if self.charge > 30:\n",
    "            print( \"At \" + str(self.charge) + \" percent, your battery is charged enough, take a ride.\")\n",
    "            self.drive()\n",
    "        else:\n",
    "            print(\"At \" + str(self.charge) + \" percent, the battery is almost empty. Call the recharge function!\")\n",
    "\n",
    "    # Method to recharge\n",
    "    def recharge(self):\n",
    "        print(\"Recharching the car battery to 100 percent.\")\n",
    "        self.charge = 100\n",
    "        self.drive()\n",
    "\n",
    "    # Method to drive the car\n",
    "    def drive(self):\n",
    "        print(\"The \" + self.make + \" is driving well.\")\n",
    "        "
   ]
  },
  {
   "cell_type": "markdown",
   "metadata": {
    "nbgrader": {
     "grade": false,
     "grade_id": "cell-Ainfo1",
     "locked": true,
     "schema_version": 3,
     "solution": false,
     "task": false
    }
   },
   "source": [
    "With the following statement you can check the content of the class variable vehicle_type:"
   ]
  },
  {
   "cell_type": "code",
   "execution_count": 5,
   "metadata": {
    "nbgrader": {
     "grade": false,
     "grade_id": "cell-Acode1",
     "locked": true,
     "schema_version": 3,
     "solution": false,
     "task": false
    }
   },
   "outputs": [
    {
     "name": "stdout",
     "output_type": "stream",
     "text": [
      "automobile\n"
     ]
    }
   ],
   "source": [
    "print(Car.vehicle_type)"
   ]
  },
  {
   "cell_type": "markdown",
   "metadata": {
    "nbgrader": {
     "grade": false,
     "grade_id": "cell-Atask1",
     "locked": true,
     "schema_version": 3,
     "solution": false,
     "task": false
    }
   },
   "source": [
    "### Task A.1 (1 point)\n",
    "\n",
    "Let's begin with specifying the class's vehicle type to an electric car. Enter code below, to assign the class variable `vehicle_type` with the new string `'electric car'`. Then print out a sentence reporting the new vehicle type you created."
   ]
  },
  {
   "cell_type": "code",
   "execution_count": 1,
   "metadata": {},
   "outputs": [
    {
     "data": {
      "text/plain": [
       "'Add your code'"
      ]
     },
     "execution_count": 1,
     "metadata": {},
     "output_type": "execute_result"
    }
   ],
   "source": [
    "\"\"\"Add your code\"\"\"\n",
    "\n",
    "### YOUR CODE HERE\n"
   ]
  },
  {
   "cell_type": "markdown",
   "metadata": {
    "nbgrader": {
     "grade": false,
     "grade_id": "cell-Atask2",
     "locked": true,
     "schema_version": 3,
     "solution": false,
     "task": false
    }
   },
   "source": [
    "### Task A.2 (3 points)\n",
    "\n",
    "Now, create two instances of the `Car` class:\n",
    "* Create an instance of the `Car` class using the name `myToyota` with the make/model `Toyota`/`Prius`\n",
    "* Create an instance of the `Car` class using the name `myTesla` with the make/model `Tesla`/`S` \n",
    "* Add two print statements reporting the new cars you created and their make and model.\n",
    "* Add two print statements checking the vehicle type of both cars."
   ]
  },
  {
   "cell_type": "code",
   "execution_count": null,
   "metadata": {},
   "outputs": [],
   "source": [
    "\"\"\"Add your code\"\"\"\n",
    "\n",
    "### YOUR CODE HERE\n"
   ]
  },
  {
   "cell_type": "markdown",
   "metadata": {
    "nbgrader": {
     "grade": false,
     "grade_id": "cell-Ainfo3",
     "locked": true,
     "schema_version": 3,
     "solution": false,
     "task": false
    }
   },
   "source": [
    "### Task A.3 (1 points)\n",
    "\n",
    "We are not satisfied of the accuracy of the vehicle type. Redefine only the class variable `vehicle_type` of the Toyota Prius to `'hybrid car'`. Then add two print statements reporting the vehicle type for both cars."
   ]
  },
  {
   "cell_type": "code",
   "execution_count": null,
   "metadata": {},
   "outputs": [],
   "source": [
    "\"\"\"Add your code\"\"\"\n",
    "\n",
    "### YOUR CODE HERE\n"
   ]
  },
  {
   "cell_type": "markdown",
   "metadata": {
    "nbgrader": {
     "grade": false,
     "grade_id": "cell-A4task",
     "locked": true,
     "points": 1,
     "schema_version": 3,
     "solution": false,
     "task": true
    }
   },
   "source": [
    "### Task A.4 (3 points)\n",
    "\n",
    "Now, we continue working with the methods for the instance `myTesla`. Let's do what was requested at instance creation: \n",
    "\n",
    "* `Check your charge status, before you take a ride!`\n",
    "\n",
    "Review the code for the class definition. Which `Car` class method do you have to call to check the charge status of the electric motor's battery? Then, assign the current charge attribute to a variable of the name `Tesla_charge`. Then add a print statement reporting the current charge status using the variable `Tesla_charge`.\n",
    "\n",
    "Hint: You have to first check the charge status, before you can reference the `charge` attribute."
   ]
  },
  {
   "cell_type": "code",
   "execution_count": null,
   "metadata": {},
   "outputs": [],
   "source": [
    "\"\"\"Add your code\"\"\"\n",
    "\n",
    "### YOUR CODE HERE\n"
   ]
  },
  {
   "cell_type": "markdown",
   "metadata": {
    "nbgrader": {
     "grade": false,
     "grade_id": "cell-A6task",
     "locked": true,
     "points": 2,
     "schema_version": 3,
     "solution": false,
     "task": true
    }
   },
   "source": [
    "### Task A.5 (1 points)\n",
    "\n",
    "The drive method is called when recharging the battery. Remeber, a method can also be called in by other methods inside the class definition.\n",
    "\n",
    "But we can also call this method directly and drive the car by ourselfes. \n",
    "\n",
    "* Drive the Tesla until the battery is empty."
   ]
  },
  {
   "cell_type": "code",
   "execution_count": null,
   "metadata": {},
   "outputs": [],
   "source": [
    "\"\"\"Add your code\"\"\"\n",
    "\n",
    "### YOUR CODE HERE\n"
   ]
  },
  {
   "cell_type": "markdown",
   "metadata": {
    "nbgrader": {
     "grade": false,
     "grade_id": "cell-A5task",
     "locked": true,
     "points": 1,
     "schema_version": 3,
     "solution": false,
     "task": true
    }
   },
   "source": [
    "### Task A.6 (3 points)\n",
    "\n",
    "You should rerun the answer cell above until you get feedback that the battery is almost empty. Now recharge your car using a respective method of the class. Revise the class definition to find out which method you should use for that. After recharging the battery, assign the new charge status of your `Car` instance `myTesla` to a variable `new_Tesla_charge`."
   ]
  },
  {
   "cell_type": "code",
   "execution_count": null,
   "metadata": {},
   "outputs": [],
   "source": [
    "\"\"\"Add your code\"\"\"\n",
    "\n",
    "### YOUR CODE HERE\n"
   ]
  },
  {
   "cell_type": "markdown",
   "metadata": {
    "nbgrader": {
     "grade": false,
     "grade_id": "cell-AtaskFinal",
     "locked": true,
     "schema_version": 3,
     "solution": false,
     "task": false
    }
   },
   "source": [
    "### Task A.7 (3 points)\n",
    "\n",
    "Play the same game with the second car we created above, the Toyota Prius and do the following:\n",
    "\n",
    "1. Check the charge status of the Toyota, assign the result to the variable `Toyota_charge` and report the result to screen.\n",
    "2. Drive the Toyota until the battery is empty.\n",
    "3. Recharge the Toyota, assign the result to the variable `new_Toyota_charge` and report the result to screen."
   ]
  },
  {
   "cell_type": "code",
   "execution_count": 4,
   "metadata": {},
   "outputs": [
    {
     "data": {
      "text/plain": [
       "'Add your code for item 1'"
      ]
     },
     "execution_count": 4,
     "metadata": {},
     "output_type": "execute_result"
    }
   ],
   "source": [
    "\"\"\"Add your code for item 1\"\"\"\n",
    "\n",
    "### YOUR CODE HERE\n"
   ]
  },
  {
   "cell_type": "code",
   "execution_count": 5,
   "metadata": {},
   "outputs": [
    {
     "data": {
      "text/plain": [
       "'Add your code for item 2'"
      ]
     },
     "execution_count": 5,
     "metadata": {},
     "output_type": "execute_result"
    }
   ],
   "source": [
    "\"\"\"Add your code for item 2\"\"\"\n",
    "\n",
    "### YOUR CODE HERE\n"
   ]
  },
  {
   "cell_type": "code",
   "execution_count": null,
   "metadata": {},
   "outputs": [],
   "source": [
    "\"\"\"Add your code for item 3\"\"\"\n",
    "\n",
    "### YOUR CODE HERE\n"
   ]
  },
  {
   "cell_type": "markdown",
   "metadata": {},
   "source": [
    "---\n",
    "\n",
    "# Part B: Write a class Square\n",
    "(15 points)\n",
    "\n",
    "Write a class Square that generates point coordinates of it’s four corners given a single point, side length and rotation angle, as shown in the image below.\n",
    "\n",
    "<img src=\"./Lessons/images/Image_ClassSquare.png\" width=\"400\" />\n"
   ]
  },
  {
   "cell_type": "markdown",
   "metadata": {},
   "source": [
    "The following items are needed to complete part B of this homework. Don't forget to submit the file geometry.py to your homework repository together with this homework notebook ! \n",
    "\n",
    "1. Retrieve the code of the class Point from your last lecture notes or from the notebook Lesson5e_supplement_writeClassPoint.ipynb. For this exercise, include the constructor method and the method display, you don't need the method distance.\n",
    "\n",
    "2. Code a class Square, which receives three arguments to the constructor method:\n",
    "    - a point defined in a local coordinate system (= an instance of the Class Point), which defines the upper left corner of the square,\n",
    "    - the length of a side of the square, and \n",
    "    - a rotation angle (versus horizontal line, hence x axis, see image above) \n",
    "\n",
    "\n",
    "2. Write a method `getCorners()` and add it to the class `Square`. The method will calculate and print out a simple list of the coordinates of all four corners of the square. Use trigonometric functions to code the task and apply functions of the math module (be careful to enter the correct unit of the angle for sine or cosine functions). \n",
    "\n",
    "3. Embed the classes Point and Square in a module called geometry.py. Add the import of the math module at an appropriate location.\n",
    "\n",
    "4. Add a docstring to your module.\n",
    "\n",
    "5. From the answer notebook, import the completed module geometry. Then generate your own square instance, by defining with parameter listed below. Take care to use the correct name qualifiers when calling the class from the module. Display the results for all corner coordinates with the method getCorners.\n",
    "    - point: x = 4.5 m, y = 6.8 m\n",
    "    - square length: 10 m\n",
    "    - rotation angle versus horizontal: 15°\n"
   ]
  },
  {
   "cell_type": "code",
   "execution_count": 2,
   "metadata": {},
   "outputs": [
    {
     "data": {
      "text/plain": [
       "'Put your classes into the module geometry.py.\\n   Then import this module here and perform task B5 from above. '"
      ]
     },
     "execution_count": 2,
     "metadata": {},
     "output_type": "execute_result"
    }
   ],
   "source": [
    "\"\"\"Put your classes into the module geometry.py.\n",
    "   Then import this module here and perform task B5 from above. \"\"\"\n",
    "\n",
    "### YOUR CODE HERE\n"
   ]
  },
  {
   "cell_type": "markdown",
   "metadata": {
    "nbgrader": {
     "grade": false,
     "grade_id": "cell-final",
     "locked": true,
     "schema_version": 3,
     "solution": false,
     "task": false
    }
   },
   "source": [
    "---\n",
    "If you are satisfied with your assignments, save your notebook, and make a backup. Then submit this assignment to your homework repository on GitHub."
   ]
  },
  {
   "cell_type": "code",
   "execution_count": null,
   "metadata": {},
   "outputs": [],
   "source": []
  }
 ],
 "metadata": {
  "kernelspec": {
   "display_name": "Python 3",
   "language": "python",
   "name": "python3"
  },
  "language_info": {
   "codemirror_mode": {
    "name": "ipython",
    "version": 3
   },
   "file_extension": ".py",
   "mimetype": "text/x-python",
   "name": "python",
   "nbconvert_exporter": "python",
   "pygments_lexer": "ipython3",
   "version": "3.8.8"
  }
 },
 "nbformat": 4,
 "nbformat_minor": 4
}
