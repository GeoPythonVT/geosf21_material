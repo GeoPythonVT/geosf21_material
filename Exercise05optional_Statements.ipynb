{
 "cells": [
  {
   "cell_type": "markdown",
   "id": "08a169c3-6207-4f5f-9cc8-0ff635d11bd1",
   "metadata": {},
   "source": [
    "\"Geo Data Science with Python\" \n",
    "### Notebook Exercise 5 optional\n",
    "\n",
    "---\n",
    "\n",
    "# Statements and Opject-Oriented Programming with Python\n",
    "\n",
    "If you work in teams, please indicate your colaborators below!"
   ]
  },
  {
   "cell_type": "code",
   "execution_count": 3,
   "id": "d05ac3ea-135f-46e8-9b61-c359348450c8",
   "metadata": {},
   "outputs": [],
   "source": [
    "NAME = \"\"\n",
    "COLLABORATORS = \"\""
   ]
  },
  {
   "cell_type": "markdown",
   "id": "4ec86de1-1519-4d85-a1e4-be585e219511",
   "metadata": {
    "nbgrader": {
     "grade": false,
     "grade_id": "cell-Atask1",
     "locked": true,
     "schema_version": 3,
     "solution": false,
     "task": false
    }
   },
   "source": [
    "---\n",
    "# Part A: Batch processing data files with a for loop \n",
    "(5 points)\n",
    "\n",
    "### Overview\n",
    "\n",
    "This problem is meant to simulate a common problem dealing with data files: batch processing.\n",
    "\n",
    "Batch processing involves using scripts to process many data files, and one common task is generating a list of filenames that will be processed, or saved to disk.\n",
    "\n",
    "We want to create filenames to store monthly temperature data for a certain station. Use iterations to create the filenames in a batch."
   ]
  },
  {
   "cell_type": "markdown",
   "id": "2d091392-0550-44f0-8097-c3ad4002e216",
   "metadata": {
    "nbgrader": {
     "grade": false,
     "grade_id": "cell-Atask1",
     "locked": true,
     "schema_version": 3,
     "solution": false,
     "task": false
    }
   },
   "source": [
    "### Grading Criteria\n",
    "\n",
    "- Creating and using variables to produce the desired text format described below\n",
    "- Successfully using for loop to iterate over desired set of numbers\n",
    "- Successfully producing the desired filename, including path\n",
    "- Including comments that explain what most lines in the code do\n",
    "\n",
    "Please use variable names as mentioned in the instructions."
   ]
  },
  {
   "cell_type": "markdown",
   "id": "24258baa-d479-4c2b-b26c-52b03f747f20",
   "metadata": {
    "nbgrader": {
     "grade": false,
     "grade_id": "cell-hints",
     "locked": true,
     "schema_version": 3,
     "solution": false,
     "task": false
    }
   },
   "source": [
    "**Hint**\n",
    "\n",
    "In case you have forgotten, string variables can be concatenated. For example,\n",
    "\n",
    "```python\n",
    "a = \"Taco \"\n",
    "b = \"time\"\n",
    "c = a + b\n",
    "print(c)\n",
    "```"
   ]
  },
  {
   "cell_type": "markdown",
   "id": "4d1fe7cc-4605-4dda-896a-0091732b7c01",
   "metadata": {
    "nbgrader": {
     "grade": false,
     "grade_id": "cell-Atask2",
     "locked": true,
     "schema_version": 3,
     "solution": false,
     "task": false
    }
   },
   "source": [
    "### Task A.1 \n",
    "(1 point)\n",
    "\n",
    "- Create a new variable called `basename` that contains text `\"StationTemp_\"`.\n",
    "- Create a new variable `filenames` that is an empty list."
   ]
  },
  {
   "cell_type": "code",
   "execution_count": null,
   "id": "8155b88d-7446-47a8-95ef-24e00cdf5a08",
   "metadata": {
    "nbgrader": {
     "grade": false,
     "grade_id": "cell-Aanswer1",
     "locked": false,
     "schema_version": 3,
     "solution": true,
     "task": false
    }
   },
   "outputs": [],
   "source": [
    "\"\"\"Add your code \"\"\"\n",
    "\n",
    "### YOUR CODE HERE\n"
   ]
  },
  {
   "cell_type": "code",
   "execution_count": null,
   "id": "b1d369bb-1b86-4a39-a832-517a45f7d9f2",
   "metadata": {
    "nbgrader": {
     "grade": true,
     "grade_id": "cell-Atest2",
     "locked": true,
     "points": 1,
     "schema_version": 3,
     "solution": false,
     "task": false
    }
   },
   "outputs": [],
   "source": [
    "# Test print of the variable\n",
    "print('Basename: ', basename)\n",
    "print('List for filenames: ', filenames)\n"
   ]
  },
  {
   "cell_type": "markdown",
   "id": "15a1dae3-7601-4842-9512-9cecb7100248",
   "metadata": {
    "nbgrader": {
     "grade": false,
     "grade_id": "cell-Atask4",
     "locked": true,
     "points": 1,
     "schema_version": 3,
     "solution": false,
     "task": true
    }
   },
   "source": [
    "### Task A.2\n",
    "(3 points)\n",
    "\n",
    "Now, create a file name for each month between 01/2019- 12/2020 with the following filename:\n",
    "1. begins with the text from `basename` variable\n",
    "2. the date as `yyyy_mm` (the month should be printed with exactly two digits)\n",
    "3. the file extension `.txt`  \n",
    "\n",
    "Then add the list of filenames to the list `filenames` and print the results to screen"
   ]
  },
  {
   "cell_type": "code",
   "execution_count": null,
   "id": "f4cd4662-bbe3-4e84-bf3e-684636b4b16c",
   "metadata": {
    "nbgrader": {
     "grade": false,
     "grade_id": "cell-Aanswer3",
     "locked": false,
     "schema_version": 3,
     "solution": true,
     "task": false
    }
   },
   "outputs": [],
   "source": [
    "\"\"\"Add your code \"\"\"\n",
    "\n",
    "### YOUR CODE HERE\n"
   ]
  },
  {
   "cell_type": "markdown",
   "id": "06297822-ea8e-4103-8bda-4c200aac9860",
   "metadata": {},
   "source": [
    "### Task A.3\n",
    "(2 points)\n",
    "\n",
    "Now, add the following path to each filename: `/user/myname/data/` and save the full filenames in the list `filenames_full`. Print the results to screen."
   ]
  },
  {
   "cell_type": "code",
   "execution_count": null,
   "id": "f777f265-4503-4261-9db2-a0fd4afd720b",
   "metadata": {},
   "outputs": [],
   "source": [
    "\"\"\"Add your code \"\"\"\n",
    "\n",
    "### YOUR CODE HERE\n"
   ]
  },
  {
   "cell_type": "markdown",
   "id": "b4e5a710-2c7b-416d-9dc6-20da8f76f38d",
   "metadata": {},
   "source": [
    "---\n",
    "# Part B: Classes and Modules\n",
    "(15 points)\n",
    "\n",
    "Write a class Sphere that can capture geometry of astronomical objects.\n",
    "\n",
    "- Write a class Sphere to represent the geometric solid sphere. Your class should implement the following methods:\n",
    "    - __init__(self, name, radius): creates a sphere having the given radius\n",
    "    - getRadius(self): returns the radius of this sphere\n",
    "    - getCircumference(self): returns the maximum spherical circumference: $C=2πR$\n",
    "    - surfaceArea(self): returns the surface area of the sphere: A=πR^2\n",
    "    - volume(self): returns the volume of the sphere: $V=4/3πR^3$\n",
    "    - printResults(self): returns labeled results from all methods above (display results using reasonable labels and an accuracy of one decimal point after the comma for radius and circumference, and additionally the scientific format in exponential notation for surfaceArea and volume).\n",
    "- Embed the class in a module called geosphere. You may use the module math for receiving the value of π for the formulas, or simply use the value: $π=3.14159$.\n",
    "- Add a `main()` function to your module, that generates instances of the class Sphere for Earth (R = 6371 km), Moon (1737 km) and Sun (695700 km) and runs the correct method to calculate all coded geometric parameter in the class and prints the results on the screen. \n",
    "- Ensure that your module is not executing the main function, when imported as module. However, it should be possible to run it as main script from the command line.\n",
    "- Comment your code and add a docstring to your module!\n",
    "- Run the script `geophsphere.py` as main script from the interpreter and to receive the display of spherical parameter of the Earth as coded in c.\n",
    "- Import the module geosphere to the notebook cell below and separately run the main script, to get the same output.\n",
    "\n",
    "Dont' forget to submit your module sphere.py together with this notebook to your homework repository"
   ]
  },
  {
   "cell_type": "code",
   "execution_count": null,
   "id": "447f1dd9-0877-4208-82f4-3f355c54bd81",
   "metadata": {},
   "outputs": [],
   "source": [
    "\"\"\"Add your code \"\"\"\n",
    "\n",
    "### YOUR CODE HERE\n"
   ]
  },
  {
   "cell_type": "markdown",
   "id": "67c9cfdd-9285-4e93-ac53-0b8040b12660",
   "metadata": {
    "nbgrader": {
     "grade": false,
     "grade_id": "cell-task",
     "locked": true,
     "points": 2,
     "schema_version": 3,
     "solution": false,
     "task": true
    }
   },
   "source": [
    "---\n",
    "\n",
    "# Part C: Writing Child and Parent Classes \n",
    "(10 points total)\n",
    "\n",
    "In this exercise you have a free hand in writing your own children and parent classes. Review part B of notebook `Lesson05e_OOPII.ipynb` on the major aspects of inheritance in Python, including how parent classes and child classes work, how to override methods and attributes, and how to use the `super()` function.\n",
    "\n",
    "Then, write the following code:\n",
    "* A parent class in **answer cell 1** (5 points) \n",
    "    * with a constructor method\n",
    "    * with at least 2 attributes (can be inside the constructor method) and \n",
    "    * with at least additional 2 functions \n",
    "* Two child classes in **answer cell 2** (7 points)\n",
    "    * Inheriting attributes and functions from the parent class and \n",
    "    * One child class should overwrite at least one method or one attribute\n",
    "    * The other child class should overwrite *AND* add at least one method or attribute\n",
    "    * Make use of the `super()` function in one child class\n",
    "* Instances for each class **answer cell 3** (3 points)\n",
    "    * Define instances one for each class, properly \n",
    "    * Use each instances in a meaningful way (to create some print outs)\n",
    "* Your code does not invoke any errors (2 points)\n",
    "\n",
    "You can use your own creativity and ideas to design any kind of classes you like. You can build on the examples from the lesson notebook `Lesson05e_OOPII.ipynb`. However, don't simply copy the code here. Give the classes your onw content and structure.\n"
   ]
  },
  {
   "cell_type": "code",
   "execution_count": null,
   "id": "52c3502b-80b3-423e-b540-b4b9d3b8c7fd",
   "metadata": {},
   "outputs": [],
   "source": [
    "\"\"\"Write a parent class\"\"\"\n",
    "\n",
    "### YOUR CODE HERE\n"
   ]
  },
  {
   "cell_type": "code",
   "execution_count": null,
   "id": "f565e361-a74f-4397-8d72-f88f23a65c76",
   "metadata": {},
   "outputs": [],
   "source": [
    "\"\"\"Write two children classes\"\"\"\n",
    "\n",
    "### YOUR CODE HERE\n"
   ]
  },
  {
   "cell_type": "code",
   "execution_count": null,
   "id": "a5b41f31-6c34-49cb-b71f-4459550afddf",
   "metadata": {},
   "outputs": [],
   "source": [
    "\"\"\"Define instances for each parent and children class\n",
    "   & use them in at least one example\"\"\"\n",
    "\n",
    "### YOUR CODE HERE\n"
   ]
  },
  {
   "cell_type": "markdown",
   "id": "bf255552-fdd9-41f6-9b9b-44922f099411",
   "metadata": {
    "nbgrader": {
     "grade": false,
     "grade_id": "cell-final",
     "locked": true,
     "schema_version": 3,
     "solution": false,
     "task": false
    }
   },
   "source": [
    "---\n",
    "If you are satisfied with your assignments, save your notebook, and make a backup. Then submit this assignment to your homework repository on GitHub."
   ]
  }
 ],
 "metadata": {
  "kernelspec": {
   "display_name": "Python 3",
   "language": "python",
   "name": "python3"
  },
  "language_info": {
   "codemirror_mode": {
    "name": "ipython",
    "version": 3
   },
   "file_extension": ".py",
   "mimetype": "text/x-python",
   "name": "python",
   "nbconvert_exporter": "python",
   "pygments_lexer": "ipython3",
   "version": "3.8.8"
  }
 },
 "nbformat": 4,
 "nbformat_minor": 5
}
