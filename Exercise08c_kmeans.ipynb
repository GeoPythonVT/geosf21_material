{
 "cells": [
  {
   "cell_type": "markdown",
   "id": "1b8daed9-bc58-4de7-a031-939714a8c576",
   "metadata": {},
   "source": [
    "\"Geo Data Science with Python\" \n",
    "### Notebook Exercise 8c\n",
    "\n",
    "---\n",
    "\n",
    "# k-means Clustering with sklearn\n",
    "\n",
    "If you work in teams, please indicate your colaborators below!"
   ]
  },
  {
   "cell_type": "code",
   "execution_count": 1,
   "id": "767cc868-b728-4ed3-b9a6-68a17187e727",
   "metadata": {
    "tags": []
   },
   "outputs": [],
   "source": [
    "NAME = \"\"\n",
    "COLLABORATORS = \"\""
   ]
  },
  {
   "cell_type": "markdown",
   "id": "d43bf551-fdfb-484c-bb5e-fc7a8ed25f71",
   "metadata": {},
   "source": [
    "---"
   ]
  },
  {
   "cell_type": "markdown",
   "id": "c3c339d1-25aa-4bbf-843f-c6306788b0e2",
   "metadata": {},
   "source": [
    "# Task A: Copy code \n",
    "\n",
    "Copy all the packages and code needed to generate synthetic data from Lesson08c in the code cell below"
   ]
  },
  {
   "cell_type": "code",
   "execution_count": null,
   "id": "7a046f0a-c92e-4dbe-b5ef-dafb59960c48",
   "metadata": {},
   "outputs": [],
   "source": [
    "\n",
    "### ADD CODE FROM LESSON08c to generate the synthetic dataset\n"
   ]
  },
  {
   "cell_type": "markdown",
   "id": "017d60d0-e73a-462d-9970-59bf727bef2c",
   "metadata": {},
   "source": [
    "---\n",
    "# Task B: k-means clustering with sklearn & it's properties\n",
    "\n",
    "### This is Tutorial 3 from the Lesson08c notebook\n",
    "(6 points)\n",
    "\n",
    "The package  `sklearn.cluster` provides a `k-means` **class** that can solve the problem using either Lloyd’s or Elkan’s algorithm. Inspect the code below how to use it.\n"
   ]
  },
  {
   "cell_type": "code",
   "execution_count": 10,
   "id": "71d075ff-3bb8-40bc-8412-7087caa11ff3",
   "metadata": {},
   "outputs": [],
   "source": [
    "from sklearn.cluster import KMeans\n",
    "\n",
    "# kmeans code\n",
    "kmeans = KMeans(n_clusters=2, random_state=0).fit(Y)  # Compute k-means clustering.\n",
    "c = kmeans.cluster_centers_"
   ]
  },
  {
   "cell_type": "markdown",
   "id": "44384a0e-265d-4634-83a5-4709ac21a584",
   "metadata": {},
   "source": [
    "### Apply kmeans class attibutes to answer the following questions\n",
    "\n",
    "For that, find more details on attibutes of the class `sklearn.cluster.KMeans` on the document pages: https://scikit-learn.org/stable/modules/generated/sklearn.cluster.KMeans.html#sklearn.cluster.KMeans\n",
    "\n",
    "- How many cluster centers do you get and what are their values?\n",
    "- Which algorithm is used, if not specified?\n",
    "- How do you retrieve the labels, and what are they?\n",
    "- How many iterations did the algorithm run?\n",
    "- How can you retrieve sum of squared distances?\n",
    "- What information is stored in `n_features_in_`?"
   ]
  },
  {
   "cell_type": "code",
   "execution_count": 12,
   "id": "1aa67405-0e98-4e80-b1d6-878337bc5676",
   "metadata": {},
   "outputs": [],
   "source": [
    "\n",
    "### ADD YOUR CODE BELOW\n",
    "\n",
    "\n",
    "#How many cluster centers do you get and what are their values?\n",
    "\n",
    "\n",
    "#Which algorithm is used, if not specified?\n",
    "\n",
    "\n",
    "#How do you retrieve the labels, and what are they?\n",
    "\n",
    "\n",
    "#How many iterations did the algorithm run?\n",
    "\n",
    "\n",
    "#How can you retrieve sum of squared distances?\n",
    "\n",
    "\n",
    "#What information is stored in `n_features_in_`?: Number of features seen during fit.\n",
    "\n"
   ]
  },
  {
   "cell_type": "markdown",
   "id": "15828e3a-ae0a-4f0e-bb51-e75b2f1d8fe2",
   "metadata": {},
   "source": [
    "---\n",
    "# Task C: Checking the accuracy of the results\n",
    "### This is Tutorial 4 from the Lesson08c notebook\n",
    "\n",
    "(10 points)\n",
    "\n",
    "Now, since these are artifically generated data cluster, we can check or validate the results with known input (note, this is usually not possible when working with real data).\n",
    "\n",
    "We can do this for the training dataset and for the test dataset.\n",
    "\n",
    "1) Predict clustering for testing data stored in variable `ytest` using kmeans.predict() function (see functionality of the function in the documentation pages). Note: you have to run the predict() function on the instance you created in Task B. The function then returns labels for the prediction dataset that was passed to it.\n",
    "\n",
    "2) Plot the original test dataset `ytest` (with known labels `ztest`) (color coded by cluster) and compare to results that you get from the kmean-prediction. Tip: You could plot original cluster as scatter with larger circles, and then the kmean prediction results on top using smaller circles, to visualize if cluster label match. Optional: Do the same for training data (`Y` with labels `Z`).\n",
    "\n",
    "3) Explain what do you see: How accurate is the k-means algorithm?\n",
    "\n"
   ]
  },
  {
   "cell_type": "code",
   "execution_count": 13,
   "id": "b6c55c9a-9fb0-4205-8b75-510f2ca81d74",
   "metadata": {},
   "outputs": [],
   "source": [
    "\n",
    "### ADD YOUR CODE HERE FOR TEST DATASET\n",
    "\n"
   ]
  },
  {
   "cell_type": "code",
   "execution_count": 3,
   "id": "59b7c680-c46a-47dd-af2e-949d0e15da87",
   "metadata": {},
   "outputs": [],
   "source": [
    "\n",
    "### ADD YOUR CODE HERE FOR TRAINING DATA (OPTIONAL)\n",
    "\n"
   ]
  },
  {
   "cell_type": "markdown",
   "id": "86b295dd-669f-4f59-b64e-638b226a2a3a",
   "metadata": {},
   "source": [
    "ANSWER QUESTION 3)"
   ]
  },
  {
   "cell_type": "markdown",
   "id": "e927e1b8-e040-4c4f-8fc9-d8698517e096",
   "metadata": {},
   "source": [
    "---\n",
    "# Task D: kmeans with different k\n",
    "### This is Tutorial 5 from the Lesson08c notebook\n",
    "\n",
    "(5 points)\n",
    "\n",
    "Now, calculate a new kmeans clustering on the training dateaset (`Y`) with the sklearn function for different number of clusters. Then plot the results (color points by cluster to visualize the cluster). Add also the resulting cluster centers. See how the k-value significantly impacts your results."
   ]
  },
  {
   "cell_type": "code",
   "execution_count": 16,
   "id": "c8b4f84d-49ab-459b-a3b5-5f77fb02c6fe",
   "metadata": {},
   "outputs": [],
   "source": [
    "\n",
    "### ADD YOUR CODE HERE\n",
    "\n",
    "\n"
   ]
  },
  {
   "cell_type": "markdown",
   "id": "e1efacad-8518-400a-ac8e-83f63c65aa54",
   "metadata": {},
   "source": [
    "---\n",
    "# Task E (optional): Explore Hierarchical Clustering\n",
    "\n",
    "(9 extra credit points)\n",
    "\n",
    "Read about hierarchical clustering and Agglomerative Clustering on the extra lecture slides (available on canvas). Also, inspect code to use Agglomerative Clustering with sklearn in Lesson08c notebook and the documentation pages on the sklearn class `sklearn.cluster.AgglomerativeClustering`: https://scikit-learn.org/stable/modules/generated/sklearn.cluster.AgglomerativeClustering.html#sklearn.cluster.AgglomerativeClustering. \n",
    "\n",
    "Then add code for the following in the cell below:\n",
    "1) Use hierarchical clustering for the training dataset `Y`, instead of k-means.\n",
    "2) Plot the resulting labels (color points by cluster to visualize the cluster) and compare to the true values (from the synthetic dataset).\n",
    "3) Discuss accuracy of this algorithm versus k-means."
   ]
  },
  {
   "cell_type": "code",
   "execution_count": 2,
   "id": "ec261364-217e-46fa-9cac-db6c677ad8a5",
   "metadata": {},
   "outputs": [],
   "source": [
    "\n",
    "### ADD YOUR CODE HERE\n"
   ]
  },
  {
   "cell_type": "code",
   "execution_count": null,
   "id": "47a9b958-5c50-4cd9-a3a6-194bdc594030",
   "metadata": {},
   "outputs": [],
   "source": []
  }
 ],
 "metadata": {
  "kernelspec": {
   "display_name": "Python 3",
   "language": "python",
   "name": "python3"
  },
  "language_info": {
   "codemirror_mode": {
    "name": "ipython",
    "version": 3
   },
   "file_extension": ".py",
   "mimetype": "text/x-python",
   "name": "python",
   "nbconvert_exporter": "python",
   "pygments_lexer": "ipython3",
   "version": "3.8.8"
  }
 },
 "nbformat": 4,
 "nbformat_minor": 5
}
