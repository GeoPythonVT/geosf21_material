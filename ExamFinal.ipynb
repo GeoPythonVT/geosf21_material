{
 "cells": [
  {
   "cell_type": "markdown",
   "metadata": {},
   "source": [
    "\"Geo Data Science with Python\" - Fall 2021\n",
    "### Notebook Final Exam\n",
    "\n",
    "This is a take-home exam. \n",
    "\n",
    "If you work in teams, please indicate your collaborators below."
   ]
  },
  {
   "cell_type": "code",
   "execution_count": null,
   "metadata": {
    "tags": []
   },
   "outputs": [],
   "source": [
    "NAME = \"\"\n",
    "COLLABORATORS = \"\""
   ]
  },
  {
   "cell_type": "markdown",
   "metadata": {},
   "source": [
    "---\n",
    "---\n",
    "# PART A: Theoretical Knowledge\n",
    "\n",
    "(16 points)\n",
    "\n",
    "Note that these exam questions are designed to deepen your understanding of Python language and data science topics. I encourage you to try to think about the answers first and formulate how you would formulate them, before you cross-check and complete them by looking up your notes or elsewhere. This is also similar to how we approach scientific writing about theoretical topics, for example for the introduction of a report or scientific paper. First we note down down our thoughts to include what we understand is important and to draft a sketch on a topic, then we reflect our draft by revising the literature, and then we use both to formulate our statements more precise. \n",
    "\n",
    "Grading criteria: \n",
    "- Relevancy of your statements (2 points, depending on question)\n",
    "- Precision of your statements (1 point)\n",
    "- Conciseness of your answer (1 point)\n"
   ]
  },
  {
   "cell_type": "markdown",
   "metadata": {},
   "source": [
    "---\n",
    "#### Question A.1: Explain the difference between a class and a function in Python\n",
    "(4 points)\n",
    "\n"
   ]
  },
  {
   "cell_type": "markdown",
   "metadata": {},
   "source": [
    "ADD YOUR ANSWER HERE"
   ]
  },
  {
   "cell_type": "markdown",
   "metadata": {},
   "source": [
    "---\n",
    "#### Question A.3: Explain the difference between a class object and an instance object in Python.\n",
    "\n",
    "Can one exist without the other?\n",
    "Add code example for how to create a class and how to create an instance.\n",
    "\n",
    "(4 points)\n"
   ]
  },
  {
   "cell_type": "markdown",
   "metadata": {},
   "source": [
    "ADD YOUR ANSWER HERE"
   ]
  },
  {
   "cell_type": "markdown",
   "metadata": {},
   "source": [
    "---\n",
    "#### Question A.3: Explain the difference between the matrix product and the hadamard product when combining two numpy arrays. \n",
    "\n",
    "Provide code example for applying both to the example matrices x and y below. Also, name example cases, for which each of them are applied!\n",
    "\n",
    "(4 points)\n",
    "\n"
   ]
  },
  {
   "cell_type": "code",
   "execution_count": null,
   "metadata": {},
   "outputs": [],
   "source": [
    "ADD YOUR ANSWER HERE"
   ]
  },
  {
   "cell_type": "code",
   "execution_count": null,
   "metadata": {},
   "outputs": [],
   "source": [
    "import numpy as np\n",
    "x = np.array([[1,1,1],[1,1,1],[1,1,1]])\n",
    "y = np.array([[2,2,2],[2,2,2],[2,2,2]])"
   ]
  },
  {
   "cell_type": "code",
   "execution_count": null,
   "metadata": {},
   "outputs": [],
   "source": [
    "\n",
    "### ADD YOUR CODE HERE\n"
   ]
  },
  {
   "cell_type": "markdown",
   "metadata": {},
   "source": [
    "---\n",
    "#### Question A.4: Which machine learning method(s) would you use to automatically discriminate between sounds of birds from sounds of whizzles? Explain your answer.\n",
    "\n",
    "(4 points)\n"
   ]
  },
  {
   "cell_type": "markdown",
   "metadata": {},
   "source": [
    "ADD YOUR ANSWER HERE"
   ]
  },
  {
   "cell_type": "markdown",
   "metadata": {},
   "source": [
    "---\n",
    "---\n",
    "# PART B: Practical Knowledge\n",
    "\n",
    "(40 points + 10 extra credit)\n",
    "\n",
    "The tasks of this part are very similar to previous exercises and intent to allow you to get some routine experience with downloading and handling large science data and analyzing them for specific regions."
   ]
  },
  {
   "cell_type": "markdown",
   "metadata": {},
   "source": [
    "---\n",
    "### B.1: Getting data via OpenDAP Servers\n",
    "\n",
    "(10 points)\n",
    "\n",
    "At the following link you can retrieve information about groundwater and soil moisture conditions over the US from a data assimilation of remotely sensed GRACE data into a hydrological modle CLSM.\n",
    "\n",
    "https://disc.gsfc.nasa.gov/datasets/GRACEDADM_CLSM0125US_7D_4.0/summary?keywords=GRACE%20TWS\n",
    "\n",
    "Investigate also the readme file of the dataset (available at the same link, under the Documentation tab) and answer the following questions in the markdown cell below:\n",
    "\n",
    "- What is the content of the variable `gws_inst`\n",
    "- What is the unit of the variable `gws_inst`\n",
    "- What is the basic purpose of the dataset?\n",
    "- What is the meaning of low or high `gws_inst` values?\n",
    "\n",
    "Then, via OpenDAP, retrieve data over mid-eastern USA (south of 40 degree lat, north of 33 degree lat, and east of -85 degree) during any week in the available time series but only for the variable `gws_inst`, its coordinates and its time variable. Add your code in the code cell below."
   ]
  },
  {
   "cell_type": "markdown",
   "metadata": {},
   "source": [
    "ADD YOUR ANSWERS TO THE QUESTIONS HERE"
   ]
  },
  {
   "cell_type": "code",
   "execution_count": null,
   "metadata": {},
   "outputs": [],
   "source": [
    "\n",
    "### ADD YOUR CODE HERE\n"
   ]
  },
  {
   "cell_type": "markdown",
   "metadata": {},
   "source": [
    "---\n",
    "### B.2: Selecting data within Virginia and North Carolina\n",
    "\n",
    "(10 points)\n",
    "\n",
    "For the dataset above, generate two data masks that will allow you to extract only those grid cells that are located inside the state of Virginia and North Carolina. The boundaries for both states are given in the files `boundary_VA.csv` and `boundary_NC.csv`. Then plot the dataset and the boundary for the month you chose above. Describe the results (values and their spatial variablity). We will use the mask in the next step."
   ]
  },
  {
   "cell_type": "code",
   "execution_count": 2,
   "metadata": {},
   "outputs": [],
   "source": [
    "\n",
    "### ADD YOUR CODE HERE\n"
   ]
  },
  {
   "cell_type": "markdown",
   "metadata": {},
   "source": [
    "ADD YOUR DESCRIPTION OF THE RESULTS HERE"
   ]
  },
  {
   "cell_type": "markdown",
   "metadata": {},
   "source": [
    "---\n",
    "### B.3: Analyzing time series for Virginia and North Carolina\n",
    "\n",
    "(20 points)\n",
    "\n",
    "Expand your retrieval of the GRACEDADM_CLSM0125US dataset to at least two successive years of your choice (you have to batch process the url-links).  You can either download the list of filenames from the NASA website or generate them automatically by updating the dates in the links.\n",
    "\n",
    "Estimate a time series for the region average of `gws_inst` for the state of Virginia and the state of North Carolina. Plot the time series, compare and discuss the results."
   ]
  },
  {
   "cell_type": "code",
   "execution_count": 1,
   "metadata": {},
   "outputs": [],
   "source": [
    "\n",
    "### ADD YOUR CODE HERE\n"
   ]
  },
  {
   "cell_type": "markdown",
   "metadata": {},
   "source": [
    "\n",
    "ADD YOUR DISCUSSION OF THE RESULTS HERE\n"
   ]
  },
  {
   "cell_type": "markdown",
   "metadata": {},
   "source": [
    "---\n",
    "### B.4: Explorative Exercise: Module Cartopy (extra credit)\n",
    "\n",
    "(10 extra credit points)\n",
    "\n",
    "Expand your Python knowledge and investigate the module `cartopy`. \n",
    "\n",
    "Study their documentation pages here: https://scitools.org.uk/cartopy/docs/v0.15/matplotlib/intro.html# and here https://scitools.org.uk/cartopy/docs/v0.15/matplotlib/advanced_plotting.html?highlight=pcolormesh\n",
    "to find out how to plot your map(s) from task B.2 in any preferred projection and adding coastlines to the plot.\n",
    "\n",
    "To install the package on your computer/webapp, if you haven't yet, use:\n",
    "\n",
    "```python\n",
    "conda install cartopy\n",
    "```\n"
   ]
  },
  {
   "cell_type": "code",
   "execution_count": null,
   "metadata": {},
   "outputs": [],
   "source": [
    "\n",
    "### ADD YOUR CODE HERE\n"
   ]
  },
  {
   "cell_type": "code",
   "execution_count": null,
   "metadata": {},
   "outputs": [],
   "source": []
  }
 ],
 "metadata": {
  "kernelspec": {
   "display_name": "Python 3",
   "language": "python",
   "name": "python3"
  },
  "language_info": {
   "codemirror_mode": {
    "name": "ipython",
    "version": 3
   },
   "file_extension": ".py",
   "mimetype": "text/x-python",
   "name": "python",
   "nbconvert_exporter": "python",
   "pygments_lexer": "ipython3",
   "version": "3.8.8"
  }
 },
 "nbformat": 4,
 "nbformat_minor": 4
}
