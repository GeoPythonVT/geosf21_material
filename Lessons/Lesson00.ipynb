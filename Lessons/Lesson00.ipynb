{
 "cells": [
  {
   "cell_type": "markdown",
   "metadata": {},
   "source": [
    "# Notebook Cell Types\n",
    "\n",
    "## This is a Markdown Cell\n",
    "\n",
    "This is an executed and selected markdown cell. It contains some information, description or instructions on how to handle and read this notebook.\n",
    "\n",
    "Double click me, to see the source code..."
   ]
  },
  {
   "cell_type": "markdown",
   "metadata": {},
   "source": [
    "# Notebook Cell Types\n",
    "\n",
    "## This is a Markdown Cell\n",
    "\n",
    "This is markdown cell is in edit mode, it was not executed yet, . It contains some information, description or instructions on how to handle and read this notebook.\n",
    "\n",
    "Double click me, to see the source code..."
   ]
  },
  {
   "cell_type": "code",
   "execution_count": 1,
   "metadata": {},
   "outputs": [
    {
     "data": {
      "text/plain": [
       "11"
      ]
     },
     "execution_count": 1,
     "metadata": {},
     "output_type": "execute_result"
    }
   ],
   "source": [
    "\"\"\"This is an executed code cell: see the running number to the left and the outpub below.\"\"\"\n",
    "1+10"
   ]
  },
  {
   "cell_type": "code",
   "execution_count": null,
   "metadata": {},
   "outputs": [],
   "source": [
    "\"\"\"This code cell was not executed, yet, it has no running number to the left\"\"\"\n",
    "1+10"
   ]
  }
 ],
 "metadata": {
  "kernelspec": {
   "display_name": "Python 3",
   "language": "python",
   "name": "python3"
  },
  "language_info": {
   "codemirror_mode": {
    "name": "ipython",
    "version": 3
   },
   "file_extension": ".py",
   "mimetype": "text/x-python",
   "name": "python",
   "nbconvert_exporter": "python",
   "pygments_lexer": "ipython3",
   "version": "3.8.8"
  }
 },
 "nbformat": 4,
 "nbformat_minor": 4
}
