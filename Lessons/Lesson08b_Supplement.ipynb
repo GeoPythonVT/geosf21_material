{
 "cells": [
  {
   "cell_type": "markdown",
   "id": "8d9cf7a1-6d0f-44d9-a22b-ac99d5f4c3a4",
   "metadata": {},
   "source": [
    "# Simple masking"
   ]
  },
  {
   "cell_type": "code",
   "execution_count": 17,
   "id": "10b749c4-8526-4696-8888-3ba244c4cc5b",
   "metadata": {},
   "outputs": [],
   "source": [
    "import numpy as np"
   ]
  },
  {
   "cell_type": "markdown",
   "id": "761750bd-4548-4cc3-8348-3c1b707c7ea4",
   "metadata": {},
   "source": [
    "### 1D array & 1D mask"
   ]
  },
  {
   "cell_type": "code",
   "execution_count": 21,
   "id": "ed08de19-8819-4c98-8db0-34058d9e9b23",
   "metadata": {},
   "outputs": [
    {
     "data": {
      "text/plain": [
       "array([False,  True,  True])"
      ]
     },
     "execution_count": 21,
     "metadata": {},
     "output_type": "execute_result"
    }
   ],
   "source": [
    "x = np.array([3,4,5])   \n",
    "mask = np.array([0,1,1]) == 1  \n",
    "mask"
   ]
  },
  {
   "cell_type": "code",
   "execution_count": 22,
   "id": "6b151019-9d2a-464d-9915-f6c2d4370174",
   "metadata": {},
   "outputs": [
    {
     "data": {
      "text/plain": [
       "array([4, 5])"
      ]
     },
     "execution_count": 22,
     "metadata": {},
     "output_type": "execute_result"
    }
   ],
   "source": [
    "x[mask]"
   ]
  },
  {
   "cell_type": "markdown",
   "id": "628a6533-d293-48db-910b-c86266bd4b91",
   "metadata": {},
   "source": [
    "### 2D array & 2D mask"
   ]
  },
  {
   "cell_type": "code",
   "execution_count": 72,
   "id": "2fd46a6a-ae0f-413b-8190-0d5e2783983b",
   "metadata": {},
   "outputs": [
    {
     "data": {
      "text/plain": [
       "array([[3, 4, 5],\n",
       "       [6, 7, 8]])"
      ]
     },
     "execution_count": 72,
     "metadata": {},
     "output_type": "execute_result"
    }
   ],
   "source": [
    "x = np.array([[3,4,5],[6,7,8]])   \n",
    "mask = np.array([[0,1,1],[0,1,1]]) == 1 \n",
    "x"
   ]
  },
  {
   "cell_type": "code",
   "execution_count": 73,
   "id": "96b9de00-642e-476f-bd85-b7fcdc4d108c",
   "metadata": {},
   "outputs": [
    {
     "data": {
      "text/plain": [
       "array([4, 5, 7, 8])"
      ]
     },
     "execution_count": 73,
     "metadata": {},
     "output_type": "execute_result"
    }
   ],
   "source": [
    "x[mask]"
   ]
  },
  {
   "cell_type": "markdown",
   "id": "d3b56f74-295c-4a1e-ac40-d7c2676ad4aa",
   "metadata": {},
   "source": [
    "### 2D array & 1D mask"
   ]
  },
  {
   "cell_type": "code",
   "execution_count": 78,
   "id": "f41adea7-2f81-40a1-a15a-2024d7d4de09",
   "metadata": {},
   "outputs": [
    {
     "data": {
      "text/plain": [
       "array([[3, 4, 5],\n",
       "       [6, 7, 8]])"
      ]
     },
     "execution_count": 78,
     "metadata": {},
     "output_type": "execute_result"
    }
   ],
   "source": [
    "x = np.array([[3,4,5],[6,7,8]])   \n",
    "mask = np.array([0,1,1]) == 1  \n",
    "x"
   ]
  },
  {
   "cell_type": "code",
   "execution_count": 75,
   "id": "8b6e75d8-5097-4ca5-a1f7-98b88cff0181",
   "metadata": {},
   "outputs": [],
   "source": [
    "# x[mask] # won't work because dimensions does not match (see rules of broadcasting)!!!"
   ]
  },
  {
   "cell_type": "code",
   "execution_count": 76,
   "id": "8fa9034f-e0ba-4bda-acf2-307ff4bec8cc",
   "metadata": {},
   "outputs": [
    {
     "data": {
      "text/plain": [
       "array([[4, 5],\n",
       "       [7, 8]])"
      ]
     },
     "execution_count": 76,
     "metadata": {},
     "output_type": "execute_result"
    }
   ],
   "source": [
    "x[:,mask] # note, all entries on first dimension is supposed to be treated the same way"
   ]
  },
  {
   "cell_type": "code",
   "execution_count": null,
   "id": "22bccac6-fbd0-490c-8b89-34378b18de5e",
   "metadata": {},
   "outputs": [],
   "source": [
    "# this is congruent for next dimension"
   ]
  },
  {
   "cell_type": "markdown",
   "id": "6bdc6e36-8c5a-4dda-a77e-920abe35c584",
   "metadata": {},
   "source": [
    "### 3D array & 2D mask"
   ]
  },
  {
   "cell_type": "code",
   "execution_count": 102,
   "id": "9e782497-ccef-4e46-8555-2e26305341cc",
   "metadata": {},
   "outputs": [
    {
     "data": {
      "text/plain": [
       "array([[[ 3,  4,  5],\n",
       "        [ 6,  7,  8]],\n",
       "\n",
       "       [[ 9, 10, 11],\n",
       "        [12, 13, 14]]])"
      ]
     },
     "execution_count": 102,
     "metadata": {},
     "output_type": "execute_result"
    }
   ],
   "source": [
    "x = np.array([[[3,4,5],[6,7,8]],[[9,10,11],[12,13,14]]])   \n",
    "mask = np.array([[0,1,1],[1,0,1]]) == 1  \n",
    "x"
   ]
  },
  {
   "cell_type": "code",
   "execution_count": 96,
   "id": "55c611f8-d81d-4cfc-8e7f-a87ee16c940d",
   "metadata": {},
   "outputs": [
    {
     "data": {
      "text/plain": [
       "array([[False,  True,  True],\n",
       "       [ True, False,  True]])"
      ]
     },
     "execution_count": 96,
     "metadata": {},
     "output_type": "execute_result"
    }
   ],
   "source": [
    "mask"
   ]
  },
  {
   "cell_type": "code",
   "execution_count": 97,
   "id": "1b91ffd2-6d03-4158-9456-8f8025dbdea8",
   "metadata": {},
   "outputs": [
    {
     "data": {
      "text/plain": [
       "array([[ 4,  5,  6,  8],\n",
       "       [10, 11, 12, 14]])"
      ]
     },
     "execution_count": 97,
     "metadata": {},
     "output_type": "execute_result"
    }
   ],
   "source": [
    "x[:,mask] "
   ]
  },
  {
   "cell_type": "markdown",
   "id": "f20255b1-1114-49fc-9cee-e8d80b4cc3eb",
   "metadata": {},
   "source": [
    "### 3D array & 1D mask"
   ]
  },
  {
   "cell_type": "code",
   "execution_count": 100,
   "id": "b5722837-d0a7-417c-b5b8-38dd593b1edc",
   "metadata": {},
   "outputs": [
    {
     "data": {
      "text/plain": [
       "array([[[ 3,  4,  5],\n",
       "        [ 6,  7,  8]],\n",
       "\n",
       "       [[ 9, 10, 11],\n",
       "        [12, 13, 14]]])"
      ]
     },
     "execution_count": 100,
     "metadata": {},
     "output_type": "execute_result"
    }
   ],
   "source": [
    "x = np.array([[[3,4,5],[6,7,8]],[[9,10,11],[12,13,14]]])   \n",
    "mask = np.array([0,1,1]) == 1  \n",
    "x"
   ]
  },
  {
   "cell_type": "code",
   "execution_count": 99,
   "id": "4ccbf3a5-df03-4ecc-9a82-3808c6f0a690",
   "metadata": {},
   "outputs": [
    {
     "data": {
      "text/plain": [
       "array([False,  True,  True])"
      ]
     },
     "execution_count": 99,
     "metadata": {},
     "output_type": "execute_result"
    }
   ],
   "source": [
    "mask"
   ]
  },
  {
   "cell_type": "code",
   "execution_count": 95,
   "id": "ea450282-d8f8-4b48-a5bf-d2ec519c92c5",
   "metadata": {},
   "outputs": [
    {
     "data": {
      "text/plain": [
       "array([[[ 4,  5],\n",
       "        [ 7,  8]],\n",
       "\n",
       "       [[10, 11],\n",
       "        [13, 14]]])"
      ]
     },
     "execution_count": 95,
     "metadata": {},
     "output_type": "execute_result"
    }
   ],
   "source": [
    "x[:,:,mask]"
   ]
  },
  {
   "cell_type": "markdown",
   "id": "2c634ed0-f41f-4051-ae39-5781ad82a165",
   "metadata": {},
   "source": [
    "# Masking and filling values at the same time"
   ]
  },
  {
   "cell_type": "markdown",
   "id": "5abf818d-9def-4d4e-bd06-38b10bcdca80",
   "metadata": {},
   "source": [
    "### 1D array & 1D mask"
   ]
  },
  {
   "cell_type": "code",
   "execution_count": 103,
   "id": "e9608863-324c-4d7e-812a-3a7a45334496",
   "metadata": {},
   "outputs": [
    {
     "data": {
      "text/plain": [
       "array([False,  True,  True])"
      ]
     },
     "execution_count": 103,
     "metadata": {},
     "output_type": "execute_result"
    }
   ],
   "source": [
    "x = np.array([3,4,5])   \n",
    "mask = np.array([0,1,1]) == 1  \n",
    "mask"
   ]
  },
  {
   "cell_type": "code",
   "execution_count": 107,
   "id": "e5625f4e-12e7-42f7-b509-a969b5b49465",
   "metadata": {},
   "outputs": [
    {
     "data": {
      "text/plain": [
       "array([3, 7, 7])"
      ]
     },
     "execution_count": 107,
     "metadata": {},
     "output_type": "execute_result"
    }
   ],
   "source": [
    "x[mask] = 7  # now values are not removed, but the masked values are overwritten\n",
    "x"
   ]
  },
  {
   "cell_type": "markdown",
   "id": "55490932-df4c-45ac-8bc0-7e450652a87f",
   "metadata": {},
   "source": [
    "### 3D array & 1D mask"
   ]
  },
  {
   "cell_type": "code",
   "execution_count": 110,
   "id": "811c3d6c-3fd5-415d-94d1-9c7ce2216682",
   "metadata": {},
   "outputs": [
    {
     "data": {
      "text/plain": [
       "array([[[ 3,  4,  5],\n",
       "        [ 6,  7,  8]],\n",
       "\n",
       "       [[ 9, 10, 11],\n",
       "        [12, 13, 14]]])"
      ]
     },
     "execution_count": 110,
     "metadata": {},
     "output_type": "execute_result"
    }
   ],
   "source": [
    "x = np.array([[[3,4,5],[6,7,8]],[[9,10,11],[12,13,14]]])   \n",
    "mask = np.array([0,1,1]) == 1  \n",
    "x"
   ]
  },
  {
   "cell_type": "code",
   "execution_count": 111,
   "id": "b857b331-59ff-429c-8d6b-4310579c5406",
   "metadata": {},
   "outputs": [
    {
     "data": {
      "text/plain": [
       "array([False,  True,  True])"
      ]
     },
     "execution_count": 111,
     "metadata": {},
     "output_type": "execute_result"
    }
   ],
   "source": [
    "mask"
   ]
  },
  {
   "cell_type": "code",
   "execution_count": 112,
   "id": "d0b9ef43-3018-4248-a214-2c005200ee95",
   "metadata": {},
   "outputs": [
    {
     "data": {
      "text/plain": [
       "array([[[ 3,  7,  7],\n",
       "        [ 6,  7,  7]],\n",
       "\n",
       "       [[ 9,  7,  7],\n",
       "        [12,  7,  7]]])"
      ]
     },
     "execution_count": 112,
     "metadata": {},
     "output_type": "execute_result"
    }
   ],
   "source": [
    "x[:,:,mask] = 7  # now values are not removed, but the masked values are overwritten\n",
    "x"
   ]
  },
  {
   "cell_type": "code",
   "execution_count": 114,
   "id": "92a57efa-cede-4c18-912f-aae38ad90288",
   "metadata": {},
   "outputs": [
    {
     "data": {
      "text/plain": [
       "array([[[7, 7, 7],\n",
       "        [7, 7, 7]],\n",
       "\n",
       "       [[7, 7, 7],\n",
       "        [7, 7, 7]]])"
      ]
     },
     "execution_count": 114,
     "metadata": {},
     "output_type": "execute_result"
    }
   ],
   "source": [
    "x[:,:,~mask] = 7  # now NOT masked values are overwritten\n",
    "x"
   ]
  },
  {
   "cell_type": "markdown",
   "id": "59c700d5-d50a-4a2f-b7d7-c7a7a6e44394",
   "metadata": {},
   "source": [
    "# Example for removing land areas from the data array and reshaping it back to regular data grid"
   ]
  },
  {
   "cell_type": "markdown",
   "id": "0fc17d4a-551d-47d9-852b-89d651a7ddb5",
   "metadata": {},
   "source": [
    "To demonstrate, we first create a simple example data grid (map) with latsize = 2, lonsize = 5. We also create two mask arrays, one for ocean and one for land areas in the mini-map."
   ]
  },
  {
   "cell_type": "code",
   "execution_count": 256,
   "id": "2fbeb244-71f9-48bb-bcbd-1765ed0327e6",
   "metadata": {},
   "outputs": [],
   "source": [
    "import numpy as np\n",
    "\n",
    "# Create testing dataset (mini-map, only one dimension) and related ocean and land mask\n",
    "\n",
    "# Create data grid: (latsize by lonsize)\n",
    "dataGrid = np.array([[1,2,3,4,5],[6,7,8,9,10]])   \n",
    "\n",
    "# Create land/ocean mask for data grid: (latsize by lonsize)\n",
    "mask = np.array([[1,0,1,1,1],[1,0,0,0,1]]) # mask for ocean area = 1, land = 0\n",
    "mask_Ocean = mask == 1                     # mask for ocean area = True, land = False\n",
    "mask_Land = ~mask_Ocean"
   ]
  },
  {
   "cell_type": "markdown",
   "id": "d9ef4d51-f93f-4366-9e04-d0ce3c1127d5",
   "metadata": {},
   "source": [
    "Now, we need to flatten the data grid into a vector, so we can store it into a data matrix. In our case, n=2x5=10 and m = 1 (here we have only one time step, later you have to expand this example to multiple time steps or dimensions)."
   ]
  },
  {
   "cell_type": "code",
   "execution_count": 257,
   "id": "c71a907b-d83b-4a12-99ed-f2a681801823",
   "metadata": {},
   "outputs": [],
   "source": [
    "# Reshaping and/or flattening the data grid into a vector: (latsize*lonsize by 1)\n",
    "X = dataGrid.copy()\n",
    "X = X.reshape(10,1)\n",
    "X_MaskOcn = mask_Ocean.flatten()"
   ]
  },
  {
   "cell_type": "code",
   "execution_count": 213,
   "id": "ede2c44c-5c88-4c09-aaf0-30cacf8aae8a",
   "metadata": {},
   "outputs": [
    {
     "data": {
      "text/plain": [
       "array([[ 1],\n",
       "       [ 2],\n",
       "       [ 3],\n",
       "       [ 4],\n",
       "       [ 5],\n",
       "       [ 6],\n",
       "       [ 7],\n",
       "       [ 8],\n",
       "       [ 9],\n",
       "       [10]])"
      ]
     },
     "execution_count": 213,
     "metadata": {},
     "output_type": "execute_result"
    }
   ],
   "source": [
    "X"
   ]
  },
  {
   "cell_type": "code",
   "execution_count": 216,
   "id": "2e188f4a-16cc-4c7a-a5f2-c9c0941b4691",
   "metadata": {},
   "outputs": [
    {
     "data": {
      "text/plain": [
       "array([ True, False,  True,  True,  True,  True, False, False, False,\n",
       "        True])"
      ]
     },
     "execution_count": 216,
     "metadata": {},
     "output_type": "execute_result"
    }
   ],
   "source": [
    "X_MaskOcn"
   ]
  },
  {
   "cell_type": "code",
   "execution_count": 218,
   "id": "d4d7b1f1-a38e-4006-9dc6-0bf45b02cd7e",
   "metadata": {},
   "outputs": [
    {
     "data": {
      "text/plain": [
       "array([[ 1],\n",
       "       [ 3],\n",
       "       [ 4],\n",
       "       [ 5],\n",
       "       [ 6],\n",
       "       [10]])"
      ]
     },
     "execution_count": 218,
     "metadata": {},
     "output_type": "execute_result"
    }
   ],
   "source": [
    "X_Ocean = X[X_MaskOcn]\n",
    "X_Ocean"
   ]
  },
  {
   "cell_type": "markdown",
   "id": "33fcb428-9f29-4992-8a9d-32c041637cda",
   "metadata": {},
   "source": [
    "Now we can perform PCA/SVD with the data matrix X_Ocean."
   ]
  },
  {
   "cell_type": "markdown",
   "id": "3e2784ee-874a-44a0-8fd1-7bd289a2840b",
   "metadata": {},
   "source": [
    "After PCA, our results are in a datamatrix of shape X_Ocean, and we want to reconstruct the grid. Here we skip the PCA, and just copy the content from the original data vector and assume it is our svd output.\n"
   ]
  },
  {
   "cell_type": "code",
   "execution_count": 219,
   "id": "1f6fd0bf-fd41-4d00-b060-dd998e297088",
   "metadata": {},
   "outputs": [
    {
     "data": {
      "text/plain": [
       "array([[ 1],\n",
       "       [ 3],\n",
       "       [ 4],\n",
       "       [ 5],\n",
       "       [ 6],\n",
       "       [10]])"
      ]
     },
     "execution_count": 219,
     "metadata": {},
     "output_type": "execute_result"
    }
   ],
   "source": [
    "X_Ocean_svd = X_Ocean.copy()\n",
    "X_Ocean_svd"
   ]
  },
  {
   "cell_type": "markdown",
   "id": "66dccc3f-4242-46fd-b46a-6b276de36008",
   "metadata": {},
   "source": [
    "Now we create an empty grid `dataGrid_svd`, which should have the same shape as our original map, and which should be available to be filled with the output from the SVD for the ocean areas:"
   ]
  },
  {
   "cell_type": "code",
   "execution_count": 220,
   "id": "bdfd314c-2796-4027-8a3f-6984b3c44414",
   "metadata": {},
   "outputs": [
    {
     "data": {
      "text/plain": [
       "array([[0., 0., 0., 0., 0.],\n",
       "       [0., 0., 0., 0., 0.]])"
      ]
     },
     "execution_count": 220,
     "metadata": {},
     "output_type": "execute_result"
    }
   ],
   "source": [
    "dataGrid_out = np.zeros(dataGrid.shape)    # empty grid of original shape lat by lon\n",
    "dataGrid_out"
   ]
  },
  {
   "cell_type": "markdown",
   "id": "5df5a6b7-405e-4a57-878f-63315a27eebc",
   "metadata": {},
   "source": [
    "Then we can fill this grid with the output of the SVD stored in `X_Ocean_svd`. We can assign all land areas with nan, using the land mask.\n",
    "\n",
    "Then, to fill the ocean values into the output grid, we have to use the masking approach in a way so we fill only the ocean cells with the results from the svd:"
   ]
  },
  {
   "cell_type": "code",
   "execution_count": 262,
   "id": "e315896f-65ba-4376-9432-5655aa7b30c1",
   "metadata": {},
   "outputs": [
    {
     "data": {
      "text/plain": [
       "array([[ 1., nan,  3.,  4.,  5.],\n",
       "       [ 6., nan, nan, nan, 10.]])"
      ]
     },
     "execution_count": 262,
     "metadata": {},
     "output_type": "execute_result"
    }
   ],
   "source": [
    "dataGrid_out[mask_Land] = np.nan\n",
    "dataGrid_out[mask_Ocean] = X_Ocean_svd.flatten()\n",
    "dataGrid_out"
   ]
  },
  {
   "cell_type": "markdown",
   "id": "40a9881e-e094-43b4-b245-5e05c0be2009",
   "metadata": {},
   "source": [
    "Now, since we kept original values in the X_Ocean_svd (later should contain the svd output), we can see that the output data grid contains again the correct values at each grid cell."
   ]
  },
  {
   "cell_type": "markdown",
   "id": "4a18df49-d7c8-48eb-ab77-70d4cc0cba1d",
   "metadata": {},
   "source": [
    "## Same process, but for multiple columns in X (m>1)\n",
    "\n",
    "The next step would be to expand this to a datamatrix of higher dimensions, with m>1, hence, more than one time step. The concept is the same (using the vectorized ocean mask), however, we have to index & mask the extended dimesnsions in the data arrays correctly.\n",
    "\n",
    "To begin, we generate a data matrix of m=2 and copy a second map into the data grid (data values of the first map are simply are multiplied by 10 in the second map.)"
   ]
  },
  {
   "cell_type": "code",
   "execution_count": 265,
   "id": "804b7228-1e20-45e4-80a9-a2a64864c077",
   "metadata": {},
   "outputs": [
    {
     "data": {
      "text/plain": [
       "array([[[  1,   2,   3,   4,   5],\n",
       "        [  6,   7,   8,   9,  10]],\n",
       "\n",
       "       [[ 10,  20,  30,  40,  50],\n",
       "        [ 60,  70,  80,  90, 100]]])"
      ]
     },
     "execution_count": 265,
     "metadata": {},
     "output_type": "execute_result"
    }
   ],
   "source": [
    "dataGrid_2D = np.vstack(([dataGrid],[dataGrid*10]))\n",
    "dataGrid_2D"
   ]
  },
  {
   "cell_type": "code",
   "execution_count": 266,
   "id": "0a085778-67ac-4e7f-ba19-812df4ee5311",
   "metadata": {},
   "outputs": [
    {
     "data": {
      "text/plain": [
       "(2, 2, 5)"
      ]
     },
     "execution_count": 266,
     "metadata": {},
     "output_type": "execute_result"
    }
   ],
   "source": [
    "timelen, latlen, lonlen = dataGrid_2D.shape\n",
    "timelen, latlen, lonlen "
   ]
  },
  {
   "cell_type": "code",
   "execution_count": 267,
   "id": "688a1ae9-fafc-4073-a0c3-6d9f2d107353",
   "metadata": {},
   "outputs": [
    {
     "data": {
      "text/plain": [
       "array([[  1,  10],\n",
       "       [  2,  20],\n",
       "       [  3,  30],\n",
       "       [  4,  40],\n",
       "       [  5,  50],\n",
       "       [  6,  60],\n",
       "       [  7,  70],\n",
       "       [  8,  80],\n",
       "       [  9,  90],\n",
       "       [ 10, 100]])"
      ]
     },
     "execution_count": 267,
     "metadata": {},
     "output_type": "execute_result"
    }
   ],
   "source": [
    "X_2D = dataGrid_2D.copy()\n",
    "X_2D = X_2D.reshape((timelen,latlen*lonlen))\n",
    "X_2D = X_2D.transpose() \n",
    "X_2D"
   ]
  },
  {
   "cell_type": "markdown",
   "id": "09caa5f7-64eb-4ee2-b88d-e333e9f0886b",
   "metadata": {},
   "source": [
    "Now, the mask needs to be applied to each column in the data matrix. For that we can copy the ocean mask multiple times."
   ]
  },
  {
   "cell_type": "code",
   "execution_count": 268,
   "id": "bd16cd57-b213-4db3-bf4a-085a025f291e",
   "metadata": {},
   "outputs": [
    {
     "data": {
      "text/plain": [
       "array([ True, False,  True,  True,  True,  True, False, False, False,\n",
       "        True])"
      ]
     },
     "execution_count": 268,
     "metadata": {},
     "output_type": "execute_result"
    }
   ],
   "source": [
    "X_MaskOcn"
   ]
  },
  {
   "cell_type": "code",
   "execution_count": 269,
   "id": "ddd2c341-4ba6-4bc9-a4df-743d5be9dbbe",
   "metadata": {},
   "outputs": [
    {
     "data": {
      "text/plain": [
       "array([[  1,  10],\n",
       "       [  3,  30],\n",
       "       [  4,  40],\n",
       "       [  5,  50],\n",
       "       [  6,  60],\n",
       "       [ 10, 100]])"
      ]
     },
     "execution_count": 269,
     "metadata": {},
     "output_type": "execute_result"
    }
   ],
   "source": [
    "X_2D_Ocean = X_2D[X_MaskOcn,:]\n",
    "X_2D_Ocean"
   ]
  },
  {
   "cell_type": "code",
   "execution_count": 270,
   "id": "989a12ca-05dc-48ba-a86d-798f7e2447d1",
   "metadata": {},
   "outputs": [
    {
     "data": {
      "text/plain": [
       "array([[[0., 0., 0., 0., 0.],\n",
       "        [0., 0., 0., 0., 0.]],\n",
       "\n",
       "       [[0., 0., 0., 0., 0.],\n",
       "        [0., 0., 0., 0., 0.]]])"
      ]
     },
     "execution_count": 270,
     "metadata": {},
     "output_type": "execute_result"
    }
   ],
   "source": [
    "dataGrid_out_2D = np.zeros(dataGrid_2D.shape)    # empty grid of original shape lat by lon\n",
    "dataGrid_out_2D"
   ]
  },
  {
   "cell_type": "code",
   "execution_count": 271,
   "id": "12c8ba56-08ac-4e0c-a70e-445be0c2026e",
   "metadata": {},
   "outputs": [
    {
     "data": {
      "text/plain": [
       "array([[[  1.,  nan,   3.,   4.,   5.],\n",
       "        [  6.,  nan,  nan,  nan,  10.]],\n",
       "\n",
       "       [[ 10.,  nan,  30.,  40.,  50.],\n",
       "        [ 60.,  nan,  nan,  nan, 100.]]])"
      ]
     },
     "execution_count": 271,
     "metadata": {},
     "output_type": "execute_result"
    }
   ],
   "source": [
    "dataGrid_out_2D[:,mask_Land] = np.nan\n",
    "dataGrid_out_2D[:,mask_Ocean] = X_2D_Ocean.transpose()\n",
    "dataGrid_out_2D"
   ]
  },
  {
   "cell_type": "code",
   "execution_count": null,
   "id": "203ddddb-696c-48e6-8a0e-b59c06938c92",
   "metadata": {},
   "outputs": [],
   "source": []
  },
  {
   "cell_type": "code",
   "execution_count": null,
   "id": "28bace45-fa03-4ddd-b5e3-a185709b34a2",
   "metadata": {},
   "outputs": [],
   "source": []
  }
 ],
 "metadata": {
  "kernelspec": {
   "display_name": "Python 3",
   "language": "python",
   "name": "python3"
  },
  "language_info": {
   "codemirror_mode": {
    "name": "ipython",
    "version": 3
   },
   "file_extension": ".py",
   "mimetype": "text/x-python",
   "name": "python",
   "nbconvert_exporter": "python",
   "pygments_lexer": "ipython3",
   "version": "3.8.8"
  }
 },
 "nbformat": 4,
 "nbformat_minor": 5
}
