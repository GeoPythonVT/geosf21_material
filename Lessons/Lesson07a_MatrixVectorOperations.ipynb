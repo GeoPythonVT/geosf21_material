{
 "cells": [
  {
   "cell_type": "markdown",
   "id": "4ba1c559-47af-4c54-b8f7-11e094f9554f",
   "metadata": {
    "tags": []
   },
   "source": [
    "\"Geo Data Science with Python\" \n",
    "### Notebook Lesson 7a\n",
    "\n",
    "# Matrix and Vector Operations\n",
    "\n",
    "This lesson discusses how to perform matrix and vector operations with NumPy in Python.\n",
    "\n",
    "### Sources\n",
    "This notebook is contains information from the following resources:\n",
    "- Goodfellow, Bengio, & Courville. (2016). Deep Learning. MIT Press. Retrieved from www.deeplearningbook.org\n",
    "- Numpy lecture number 4, from DataScience Lectures By Dr Paul Gader, University of Florida\n",
    "- Numpy references: https://numpy.org/devdocs/user/index.html\n",
    "- https://numpy.org/devdocs/user/numpy-for-matlab-users.html#array-or-matrix-which-should-i-use\n"
   ]
  },
  {
   "cell_type": "code",
   "execution_count": 3,
   "id": "7665f831-ea01-403c-aba9-5cebfaa48965",
   "metadata": {},
   "outputs": [],
   "source": [
    "import numpy as np"
   ]
  },
  {
   "cell_type": "markdown",
   "id": "dd981f38-b1db-4811-b8e2-3eba61f30fcd",
   "metadata": {},
   "source": [
    "## Definitions"
   ]
  },
  {
   "cell_type": "markdown",
   "id": "781107e7-fc07-4a56-b20d-63708afe1f4c",
   "metadata": {},
   "source": [
    "### Definition of scalar"
   ]
  },
  {
   "cell_type": "code",
   "execution_count": 34,
   "id": "081818c6-41df-4025-b8a2-2fbeaba473e9",
   "metadata": {},
   "outputs": [],
   "source": [
    "scalar = 3\n",
    "#scalar = np.array([3])  # scalar as 1x1 array\n",
    "scalar"
   ]
  },
  {
   "cell_type": "markdown",
   "id": "be1cf8f7-e76f-4f80-8e35-398b9a3ed93b",
   "metadata": {},
   "source": [
    "### Definition of vector"
   ]
  },
  {
   "cell_type": "code",
   "execution_count": 22,
   "id": "848b8e13-efb4-41ff-8f93-d0f3eeacad9d",
   "metadata": {},
   "outputs": [
    {
     "data": {
      "text/plain": [
       "array([[1],\n",
       "       [2],\n",
       "       [3]])"
      ]
     },
     "execution_count": 22,
     "metadata": {},
     "output_type": "execute_result"
    }
   ],
   "source": [
    "# Definition of vector:\n",
    "vectorCol = np.array([[1],[2],[3]]) # column vector\n",
    "vectorCol"
   ]
  },
  {
   "cell_type": "code",
   "execution_count": 51,
   "id": "cbe645cd-39a6-4479-9967-414ce5107f33",
   "metadata": {},
   "outputs": [
    {
     "data": {
      "text/plain": [
       "array([[1, 2, 3]])"
      ]
     },
     "execution_count": 51,
     "metadata": {},
     "output_type": "execute_result"
    }
   ],
   "source": [
    "vectorRow = np.array([[1,2,3]])     # row vector\n",
    "vectorRow"
   ]
  },
  {
   "cell_type": "markdown",
   "id": "8b73544d-43bc-430b-ada4-7e2488bf3129",
   "metadata": {},
   "source": [
    "### Shape of a vector & special vectors"
   ]
  },
  {
   "cell_type": "code",
   "execution_count": 21,
   "id": "4e629489-018e-469d-94c3-b025d9e97d51",
   "metadata": {},
   "outputs": [
    {
     "data": {
      "text/plain": [
       "(1, 3)"
      ]
     },
     "execution_count": 21,
     "metadata": {},
     "output_type": "execute_result"
    }
   ],
   "source": [
    "# shape of vector : (numRow, 1)\n",
    "vector.shape"
   ]
  },
  {
   "cell_type": "code",
   "execution_count": 48,
   "id": "ef07fab9-98bb-4f3f-9f76-c706230ad63a",
   "metadata": {},
   "outputs": [
    {
     "data": {
      "text/plain": [
       "array([[0.],\n",
       "       [0.],\n",
       "       [0.]])"
      ]
     },
     "execution_count": 48,
     "metadata": {},
     "output_type": "execute_result"
    }
   ],
   "source": [
    "# 0-vectors\n",
    "zeroVector = np.zeros((3,1))\n",
    "zeroVector"
   ]
  },
  {
   "cell_type": "code",
   "execution_count": 47,
   "id": "c3b9dc7f-3af1-47da-b0b8-7250e84102c6",
   "metadata": {},
   "outputs": [
    {
     "data": {
      "text/plain": [
       "array([[1.],\n",
       "       [1.],\n",
       "       [1.]])"
      ]
     },
     "execution_count": 47,
     "metadata": {},
     "output_type": "execute_result"
    }
   ],
   "source": [
    "# 1-vectors\n",
    "oneVector = np.ones((3,1))\n",
    "oneVector"
   ]
  },
  {
   "cell_type": "markdown",
   "id": "16cca9e3-c93c-44ab-8174-e33029185eba",
   "metadata": {},
   "source": [
    "### Definition of Matrix"
   ]
  },
  {
   "cell_type": "code",
   "execution_count": 88,
   "id": "4d3b7e45-10e0-461b-a13e-d9b38445312f",
   "metadata": {},
   "outputs": [],
   "source": [
    "# Definition of matrix:\n",
    "matrix = np.array([[1, 2, 3], \n",
    "                   [4, 5, 6]])"
   ]
  },
  {
   "cell_type": "code",
   "execution_count": 39,
   "id": "170fc836-51cd-4c5c-841f-3ba853730e7e",
   "metadata": {},
   "outputs": [
    {
     "data": {
      "text/plain": [
       "(2, 3)"
      ]
     },
     "execution_count": 39,
     "metadata": {},
     "output_type": "execute_result"
    }
   ],
   "source": [
    "# Matrix shape:\n",
    "matrix.shape\n",
    "# shape of matrix : (numRow, numCol)"
   ]
  },
  {
   "cell_type": "markdown",
   "id": "5abbf7dd-2b71-4ac9-9f23-ed98fe3484df",
   "metadata": {},
   "source": [
    "### Definition of Tensor"
   ]
  },
  {
   "cell_type": "code",
   "execution_count": 18,
   "id": "82ca4763-37ae-460d-aa34-66148f349477",
   "metadata": {},
   "outputs": [],
   "source": [
    "# Definition of matrix:\n",
    "tensor = np.array([[[1, 2, 3], \n",
    "                    [4, 5, 6]  ],\n",
    "                   [[7, 8, 9], \n",
    "                    [9, 8, 7]  ] ])"
   ]
  },
  {
   "cell_type": "code",
   "execution_count": 19,
   "id": "ffe78dfa-0802-40ac-a395-b0c30fca57d0",
   "metadata": {},
   "outputs": [
    {
     "data": {
      "text/plain": [
       "(2, 2, 3)"
      ]
     },
     "execution_count": 19,
     "metadata": {},
     "output_type": "execute_result"
    }
   ],
   "source": [
    "tensor.shape"
   ]
  },
  {
   "cell_type": "markdown",
   "id": "81cb5946-7db6-4b3d-a45c-753d323f4f1e",
   "metadata": {},
   "source": [
    "## Matrix & Vector Operations"
   ]
  },
  {
   "cell_type": "markdown",
   "id": "9a2b8eb0-5db8-40db-8080-25ec3834bc82",
   "metadata": {},
   "source": [
    "### Matrix & Vector Transpose"
   ]
  },
  {
   "cell_type": "code",
   "execution_count": 14,
   "id": "c844796e-7fb4-44a4-b4c1-7832f457eb0a",
   "metadata": {},
   "outputs": [
    {
     "data": {
      "text/plain": [
       "array([[1, 4],\n",
       "       [2, 5],\n",
       "       [3, 6]])"
      ]
     },
     "execution_count": 14,
     "metadata": {},
     "output_type": "execute_result"
    }
   ],
   "source": [
    "# Matrix transpose\n",
    "matrix.T"
   ]
  },
  {
   "cell_type": "code",
   "execution_count": 49,
   "id": "494bee34-c5a4-48ad-b754-394dc2696178",
   "metadata": {},
   "outputs": [
    {
     "data": {
      "text/plain": [
       "(3, 4)"
      ]
     },
     "execution_count": 49,
     "metadata": {},
     "output_type": "execute_result"
    }
   ],
   "source": [
    "matrix.T.shape"
   ]
  },
  {
   "cell_type": "code",
   "execution_count": 53,
   "id": "aacaf713-2ffb-4042-93b0-20498485b1d0",
   "metadata": {},
   "outputs": [
    {
     "data": {
      "text/plain": [
       "array([[1],\n",
       "       [2],\n",
       "       [3]])"
      ]
     },
     "execution_count": 53,
     "metadata": {},
     "output_type": "execute_result"
    }
   ],
   "source": [
    "# Vector transpose\n",
    "vector = np.array([[1,2,3]]) # row vector\n",
    "vector.T                     # column vector"
   ]
  },
  {
   "cell_type": "markdown",
   "id": "f2254d4a-b381-45e2-b4a4-6de473cea572",
   "metadata": {},
   "source": [
    "### Scalar Multiplication, Vector and Matrix Addition"
   ]
  },
  {
   "cell_type": "code",
   "execution_count": 59,
   "id": "58e685e5-554c-4e2a-8af8-c2a1330755b2",
   "metadata": {},
   "outputs": [
    {
     "data": {
      "text/plain": [
       "array([3])"
      ]
     },
     "execution_count": 59,
     "metadata": {},
     "output_type": "execute_result"
    }
   ],
   "source": [
    "scalar"
   ]
  },
  {
   "cell_type": "code",
   "execution_count": 73,
   "id": "bd801fcd-0c74-4026-a817-5958cee01ec9",
   "metadata": {},
   "outputs": [
    {
     "data": {
      "text/plain": [
       "array([[1, 2, 3]])"
      ]
     },
     "execution_count": 73,
     "metadata": {},
     "output_type": "execute_result"
    }
   ],
   "source": [
    "vector"
   ]
  },
  {
   "cell_type": "code",
   "execution_count": 74,
   "id": "dd9b8c13-81e0-45f5-9704-d3e3983a10b5",
   "metadata": {},
   "outputs": [
    {
     "data": {
      "text/plain": [
       "array([[3, 6, 9]])"
      ]
     },
     "execution_count": 74,
     "metadata": {},
     "output_type": "execute_result"
    }
   ],
   "source": [
    "# scalar multiplication\n",
    "vector*scalar"
   ]
  },
  {
   "cell_type": "code",
   "execution_count": 80,
   "id": "4d350542-542a-43fd-a2df-ef5fe6f73fab",
   "metadata": {},
   "outputs": [
    {
     "data": {
      "text/plain": [
       "array([[4, 5, 6]])"
      ]
     },
     "execution_count": 80,
     "metadata": {},
     "output_type": "execute_result"
    }
   ],
   "source": [
    "# scalar addition\n",
    "vector + scalar"
   ]
  },
  {
   "cell_type": "code",
   "execution_count": 81,
   "id": "c7584fa6-8a0d-4d7b-b70a-c697135192b2",
   "metadata": {},
   "outputs": [
    {
     "data": {
      "text/plain": [
       "array([[2, 4, 6]])"
      ]
     },
     "execution_count": 81,
     "metadata": {},
     "output_type": "execute_result"
    }
   ],
   "source": [
    "# vector operations\n",
    "vector + vector"
   ]
  },
  {
   "cell_type": "code",
   "execution_count": 82,
   "id": "70313460-8343-40f0-b57c-535c706fc388",
   "metadata": {},
   "outputs": [
    {
     "data": {
      "text/plain": [
       "array([[0, 0, 0]])"
      ]
     },
     "execution_count": 82,
     "metadata": {},
     "output_type": "execute_result"
    }
   ],
   "source": [
    "vector - vector"
   ]
  },
  {
   "cell_type": "code",
   "execution_count": 89,
   "id": "bb7a4b2d-e266-404d-b3c6-68016cf6187f",
   "metadata": {},
   "outputs": [
    {
     "data": {
      "text/plain": [
       "array([[ 3,  6,  9],\n",
       "       [12, 15, 18]])"
      ]
     },
     "execution_count": 89,
     "metadata": {},
     "output_type": "execute_result"
    }
   ],
   "source": [
    "# matrix and scalar multiplication\n",
    "matrix * scalar"
   ]
  },
  {
   "cell_type": "code",
   "execution_count": 91,
   "id": "d42606a7-20bb-47a9-bda9-9500458e7535",
   "metadata": {},
   "outputs": [
    {
     "data": {
      "text/plain": [
       "array([[ 2,  4,  6],\n",
       "       [ 8, 10, 12]])"
      ]
     },
     "execution_count": 91,
     "metadata": {},
     "output_type": "execute_result"
    }
   ],
   "source": [
    "# matrix addition\n",
    "matrix + matrix"
   ]
  },
  {
   "cell_type": "markdown",
   "id": "fb509cb3-1727-4793-bd7e-2beed7f2b706",
   "metadata": {},
   "source": [
    "### Matrix Multiplication"
   ]
  },
  {
   "cell_type": "code",
   "execution_count": 102,
   "id": "7d918bde-13e3-4b90-b059-ac7602f0d9e9",
   "metadata": {},
   "outputs": [
    {
     "data": {
      "text/plain": [
       "array([[17, 22, 27],\n",
       "       [22, 29, 36],\n",
       "       [27, 36, 45]])"
      ]
     },
     "execution_count": 102,
     "metadata": {},
     "output_type": "execute_result"
    }
   ],
   "source": [
    "# Matrix Multiplication according to Linear Algebra\n",
    "#  available since Python 3.5\n",
    "matrix.T @ matrix"
   ]
  },
  {
   "cell_type": "code",
   "execution_count": 103,
   "id": "b6cba126-cd3a-486a-9813-dd4621bb2f55",
   "metadata": {},
   "outputs": [
    {
     "data": {
      "text/plain": [
       "array([[17, 22, 27],\n",
       "       [22, 29, 36],\n",
       "       [27, 36, 45]])"
      ]
     },
     "execution_count": 103,
     "metadata": {},
     "output_type": "execute_result"
    }
   ],
   "source": [
    "# Matrix Multiplication according to Linear Algebra (alternative)\n",
    "np.dot(matrix.T,matrix)"
   ]
  },
  {
   "cell_type": "markdown",
   "id": "e0195aea-a77d-4e73-80e7-8c81b1d3da6d",
   "metadata": {},
   "source": [
    "### Dot product / Inner product"
   ]
  },
  {
   "cell_type": "code",
   "execution_count": 242,
   "id": "e63937b7-9cb1-4e54-ac42-3f26d55e0f16",
   "metadata": {},
   "outputs": [
    {
     "data": {
      "text/plain": [
       "array([[1],\n",
       "       [2],\n",
       "       [3]])"
      ]
     },
     "execution_count": 242,
     "metadata": {},
     "output_type": "execute_result"
    }
   ],
   "source": [
    "vectorCol"
   ]
  },
  {
   "cell_type": "code",
   "execution_count": 243,
   "id": "7dd3221d-3e47-4199-8016-f695b9e047ae",
   "metadata": {},
   "outputs": [
    {
     "data": {
      "text/plain": [
       "array([[14]])"
      ]
     },
     "execution_count": 243,
     "metadata": {},
     "output_type": "execute_result"
    }
   ],
   "source": [
    "# Vector inner product (= spatial length of the vector)\n",
    "vectorCol.T @ vectorCol"
   ]
  },
  {
   "cell_type": "markdown",
   "id": "634054a4-5d43-472b-b7c2-6af593368094",
   "metadata": {},
   "source": [
    "### Element-by-element Operations"
   ]
  },
  {
   "cell_type": "code",
   "execution_count": 95,
   "id": "55d5ffc5-bd4a-4820-b8a9-cd76d13c0fde",
   "metadata": {},
   "outputs": [
    {
     "data": {
      "text/plain": [
       "array([[ 1,  4,  9],\n",
       "       [16, 25, 36]])"
      ]
     },
     "execution_count": 95,
     "metadata": {},
     "output_type": "execute_result"
    }
   ],
   "source": [
    "# element by element multiplication (Hadamard product)\n",
    "np.multiply(matrix,matrix)"
   ]
  },
  {
   "cell_type": "code",
   "execution_count": 94,
   "id": "b4cc75f8-1acf-4c6a-8d49-c2a586cf665f",
   "metadata": {},
   "outputs": [
    {
     "data": {
      "text/plain": [
       "array([[ 1,  4,  9],\n",
       "       [16, 25, 36]])"
      ]
     },
     "execution_count": 94,
     "metadata": {},
     "output_type": "execute_result"
    }
   ],
   "source": [
    "# element by element multiplication (alternative)\n",
    "matrix*matrix"
   ]
  },
  {
   "cell_type": "code",
   "execution_count": 112,
   "id": "641dbb91-e46f-41d6-b36a-50832e1fd05c",
   "metadata": {
    "tags": []
   },
   "outputs": [
    {
     "data": {
      "text/plain": [
       "array([[ True,  True,  True]])"
      ]
     },
     "execution_count": 112,
     "metadata": {},
     "output_type": "execute_result"
    }
   ],
   "source": [
    "# same for vectors\n",
    "vector * vector == np.multiply(vector,vector)"
   ]
  },
  {
   "cell_type": "code",
   "execution_count": 113,
   "id": "94f1f279-7c23-46e6-9a69-8f62b509f81d",
   "metadata": {},
   "outputs": [
    {
     "data": {
      "text/plain": [
       "array([[ True],\n",
       "       [ True],\n",
       "       [ True]])"
      ]
     },
     "execution_count": 113,
     "metadata": {},
     "output_type": "execute_result"
    }
   ],
   "source": [
    "# same rules for column vectors\n",
    "vector.T * vector.T == np.multiply(vector.T,vector.T)"
   ]
  },
  {
   "cell_type": "markdown",
   "id": "090902d3-ec7b-4f2d-9fe9-3c230ff109fe",
   "metadata": {},
   "source": [
    "### Vectorization of numpy array operations\n",
    "\n",
    "Numpy operations are designed for fast data processing. Numpy operators support vectorization, which makes the computation much faster than if we would process the arrays with for-loops.\n",
    "\n",
    "Arithmetic operators implemented in NumPy are:\n",
    "- `+` or `np.add` for addition\n",
    "- `-` or `np.substract` for substraction\n",
    "- `-` or `np.negative` for unary negation\n",
    "- `*` or `np.multiply` for multiplication\n",
    "- `/` or `np.divide` for division\n",
    "- `//` or `np.floor_divide()` for floor division\n",
    "- `**` or `np.power()` for exponentiation\n",
    "- `%` or `np.mod()` for modulus/remainder\n",
    "\n",
    "Others: `np.abs`, `np.sin()`, `np.exp()`, `np.log()`, etc.\n"
   ]
  },
  {
   "cell_type": "markdown",
   "id": "cddbc1ee-6e7f-459e-9b0d-892bf5c3c809",
   "metadata": {},
   "source": [
    "### Tutorial 1\n",
    "\n",
    "Below, a big array of length 1000 is filled with random numbers."
   ]
  },
  {
   "cell_type": "code",
   "execution_count": 226,
   "id": "b329db13-68e7-427e-8019-a480f55d0a4c",
   "metadata": {},
   "outputs": [
    {
     "data": {
      "text/plain": [
       "(10000,)"
      ]
     },
     "execution_count": 226,
     "metadata": {},
     "output_type": "execute_result"
    }
   ],
   "source": [
    "bigArray = np.random.randint(1, 100, size=10000) \n",
    "bigArray.shape"
   ]
  },
  {
   "cell_type": "markdown",
   "id": "d180b12d-0e54-4cde-a5d6-7f5d8d2e5fbb",
   "metadata": {},
   "source": [
    "Apply any arithmetic operator to this vector in two ways:\n",
    "1. Write a function that uses a for loop, iterating through the vector and calculating the operation and saving the output to a variable\n",
    "2. Using NumPy vectorized operator for the same operation (example from previous table)\n",
    "\n",
    "Use the magic command `%timeit` to measure the execution time and compare them for both ways."
   ]
  },
  {
   "cell_type": "code",
   "execution_count": null,
   "id": "5899a203-365b-4e1f-b697-63b3de097d17",
   "metadata": {},
   "outputs": [],
   "source": [
    "# add your code\n"
   ]
  },
  {
   "cell_type": "code",
   "execution_count": null,
   "id": "d2c228be-3966-4221-a58b-2909f90558d2",
   "metadata": {},
   "outputs": [],
   "source": []
  },
  {
   "cell_type": "code",
   "execution_count": 227,
   "id": "3803e17d-c600-468a-84fb-e093259a9cc7",
   "metadata": {},
   "outputs": [],
   "source": [
    "\n",
    "# see a solution below"
   ]
  },
  {
   "cell_type": "markdown",
   "id": "be6543b8-9787-49a3-ab5c-0fbae6eaf15a",
   "metadata": {},
   "source": [
    "### Tutorial 2\n",
    "\n",
    "Now, measure the runtime for matrix multiplication numpy (linear algepra multiplication) and compare it to that of an algorithm using for-loops. For that, find code for algorithm using for-loops in the function `matrixMultiplication`, given in the script `matrixMultiplication.py`. The script also defines two test matrices A and B.\n",
    "\n",
    "What is the runtime for the loop-algorithm compared to numpy multiplication of the two matrices A and B?\n",
    "\n",
    "Explain why the calculation of one algorithm is faster than the other one!"
   ]
  },
  {
   "cell_type": "code",
   "execution_count": 213,
   "id": "8c043381-fb7d-49f9-b069-863643660994",
   "metadata": {},
   "outputs": [],
   "source": []
  },
  {
   "cell_type": "code",
   "execution_count": null,
   "id": "eb6257f6-c05b-460d-a3ac-59ab64071506",
   "metadata": {},
   "outputs": [],
   "source": []
  },
  {
   "cell_type": "code",
   "execution_count": null,
   "id": "898494d9-74df-40d0-ab53-4f91bdb61fee",
   "metadata": {},
   "outputs": [],
   "source": []
  },
  {
   "cell_type": "markdown",
   "id": "f998cad2-8398-4ea0-8a60-ea0779682e9b",
   "metadata": {},
   "source": [
    "### NumPy Matrix\n",
    "Matrix data type in numpy is available as alternative currently, but it be deprecated eventually."
   ]
  },
  {
   "cell_type": "code",
   "execution_count": 191,
   "id": "62bf6ec1-dc30-44f5-a326-8d2f6ca02472",
   "metadata": {},
   "outputs": [
    {
     "data": {
      "text/plain": [
       "matrix([[1, 2, 3],\n",
       "        [4, 5, 6]])"
      ]
     },
     "execution_count": 191,
     "metadata": {},
     "output_type": "execute_result"
    }
   ],
   "source": [
    "# matrix class of numpy is a subclass of ndarray\n",
    "npMatrix = np.matrix('1 2 3; 4 5 6')\n",
    "npMatrix"
   ]
  },
  {
   "cell_type": "code",
   "execution_count": 192,
   "id": "0ee55efc-576f-4a4c-ae8d-087c3c3dea01",
   "metadata": {},
   "outputs": [
    {
     "data": {
      "text/plain": [
       "numpy.matrix"
      ]
     },
     "execution_count": 192,
     "metadata": {},
     "output_type": "execute_result"
    }
   ],
   "source": [
    "type(npMatrix)"
   ]
  },
  {
   "cell_type": "markdown",
   "id": "2044ca73-0f78-46ef-9dfa-294b9ddf5d37",
   "metadata": {},
   "source": [
    "More details in the references: https://numpy.org/doc/stable/reference/generated/numpy.matrix.html\n",
    "\n",
    "And a discussion on when to use array versus matrix: https://numpy.org/devdocs/user/numpy-for-matlab-users.html#array-or-matrix-which-should-i-use"
   ]
  },
  {
   "cell_type": "markdown",
   "id": "6e3d9833-5194-43ee-8a80-a9f1bb7e6572",
   "metadata": {},
   "source": [
    "## Rules of Broadcasting\n",
    "Let's get continue with NumPy arrays. \n",
    "When combining arrays of different sizes for matrix summation, substraction and element-by matrix multipliation with `*` or `np.multiply()`, rules of broadcasting will be applied.\n",
    "\n",
    "**Rule 1**: If the two arrays differ in their number of dimensions, the shape of the one with fewer dimensions is padded with ones on its leading (left) side.\n",
    "\n",
    "**Rule 2**: If the shape of the two arrays does not match in any dimension, the array with shape equal to 1 in that dimension is stretched to match the other shape.\n",
    "\n",
    "**Rule 3**: If in any dimension the sizes disagree and neither is equal to 1, an error is raised.\n",
    "\n",
    "These rules apply, for example, when multiplying or adding a scalar to a vector or a matrix."
   ]
  },
  {
   "cell_type": "code",
   "execution_count": 188,
   "id": "e81e47be-2c48-465b-bd8c-61262280f695",
   "metadata": {},
   "outputs": [
    {
     "data": {
      "text/plain": [
       "array([[1, 2, 3],\n",
       "       [4, 5, 6]])"
      ]
     },
     "execution_count": 188,
     "metadata": {},
     "output_type": "execute_result"
    }
   ],
   "source": [
    "matrix = np.array([  [1, 2, 3],\n",
    "                     [4, 5, 6]   ])\n",
    "matrix"
   ]
  },
  {
   "cell_type": "code",
   "execution_count": 151,
   "id": "c09d9d25-1064-41ae-9161-1a705387ef5d",
   "metadata": {},
   "outputs": [
    {
     "data": {
      "text/plain": [
       "array([[10, 10, 10]])"
      ]
     },
     "execution_count": 151,
     "metadata": {},
     "output_type": "execute_result"
    }
   ],
   "source": [
    "vector = np.array([  [10, 10, 10]  ])\n",
    "vector"
   ]
  },
  {
   "cell_type": "code",
   "execution_count": 152,
   "id": "87c43efa-29b0-451d-8687-01897c8ba93f",
   "metadata": {},
   "outputs": [
    {
     "data": {
      "text/plain": [
       "array([100])"
      ]
     },
     "execution_count": 152,
     "metadata": {},
     "output_type": "execute_result"
    }
   ],
   "source": [
    "scalar = np.array([100]) \n",
    "scalar"
   ]
  },
  {
   "cell_type": "code",
   "execution_count": 153,
   "id": "919f3e17-0218-4575-a754-b3b64c7365ff",
   "metadata": {},
   "outputs": [
    {
     "data": {
      "text/plain": [
       "array([[101, 102, 103],\n",
       "       [104, 105, 106]])"
      ]
     },
     "execution_count": 153,
     "metadata": {},
     "output_type": "execute_result"
    }
   ],
   "source": [
    "matrix + scalar"
   ]
  },
  {
   "cell_type": "code",
   "execution_count": 154,
   "id": "47b2e7fa-c077-4038-9e12-eaef273152ab",
   "metadata": {},
   "outputs": [
    {
     "data": {
      "text/plain": [
       "array([[110, 110, 110]])"
      ]
     },
     "execution_count": 154,
     "metadata": {},
     "output_type": "execute_result"
    }
   ],
   "source": [
    "vector + scalar"
   ]
  },
  {
   "cell_type": "markdown",
   "id": "780cddc2-90cb-477e-8481-75cbc7a72499",
   "metadata": {},
   "source": [
    "These rules also apply, when multiply or sum a vector to a matrix."
   ]
  },
  {
   "cell_type": "code",
   "execution_count": 155,
   "id": "0e726265-2f4a-4777-b193-8d84eae83b0b",
   "metadata": {},
   "outputs": [
    {
     "data": {
      "text/plain": [
       "array([[11, 12, 13],\n",
       "       [14, 15, 16]])"
      ]
     },
     "execution_count": 155,
     "metadata": {},
     "output_type": "execute_result"
    }
   ],
   "source": [
    "matrix + vector"
   ]
  },
  {
   "cell_type": "markdown",
   "id": "47db25c6-1af4-44d3-a313-81d452a5d150",
   "metadata": {},
   "source": [
    "### Special Matrices\n",
    "\n",
    "Let's get continue with NumPy arrays and define some special matrices with them."
   ]
  },
  {
   "cell_type": "code",
   "execution_count": 215,
   "id": "b9b2bb6d-c46c-4449-87c0-400a701ef8a8",
   "metadata": {},
   "outputs": [
    {
     "data": {
      "text/plain": [
       "array([[1, 0, 0, 0, 0],\n",
       "       [0, 2, 0, 0, 0],\n",
       "       [0, 0, 3, 0, 0],\n",
       "       [0, 0, 0, 4, 0],\n",
       "       [0, 0, 0, 0, 5]])"
      ]
     },
     "execution_count": 215,
     "metadata": {},
     "output_type": "execute_result"
    }
   ],
   "source": [
    "# Diagonal matrix\n",
    "np.diag([1,2,3,4,5])"
   ]
  },
  {
   "cell_type": "code",
   "execution_count": 179,
   "id": "2a512089-003d-432c-aab8-b6277a4e8d28",
   "metadata": {},
   "outputs": [
    {
     "data": {
      "text/plain": [
       "array([[1., 0., 0., 0., 0., 0., 0., 0., 0., 0.],\n",
       "       [0., 1., 0., 0., 0., 0., 0., 0., 0., 0.],\n",
       "       [0., 0., 1., 0., 0., 0., 0., 0., 0., 0.],\n",
       "       [0., 0., 0., 1., 0., 0., 0., 0., 0., 0.],\n",
       "       [0., 0., 0., 0., 1., 0., 0., 0., 0., 0.],\n",
       "       [0., 0., 0., 0., 0., 1., 0., 0., 0., 0.],\n",
       "       [0., 0., 0., 0., 0., 0., 1., 0., 0., 0.],\n",
       "       [0., 0., 0., 0., 0., 0., 0., 1., 0., 0.],\n",
       "       [0., 0., 0., 0., 0., 0., 0., 0., 1., 0.],\n",
       "       [0., 0., 0., 0., 0., 0., 0., 0., 0., 1.]])"
      ]
     },
     "execution_count": 179,
     "metadata": {},
     "output_type": "execute_result"
    }
   ],
   "source": [
    "# Identity matrix\n",
    "np.identity(10)\n",
    "# or\n",
    "np.eye(10)"
   ]
  },
  {
   "cell_type": "code",
   "execution_count": 245,
   "id": "d5ef1302-cc3b-4891-a1d8-1e34a8877a03",
   "metadata": {},
   "outputs": [
    {
     "data": {
      "text/plain": [
       "array([[ 6., -2., -3.],\n",
       "       [-1.,  1.,  0.],\n",
       "       [-1.,  0.,  1.]])"
      ]
     },
     "execution_count": 245,
     "metadata": {},
     "output_type": "execute_result"
    }
   ],
   "source": [
    "# Inverse matrix\n",
    "# We will talk about this in a future class,\n",
    "# as matrix inversion requires sophisticated operations\n",
    "# np.linalg.inv works only for square matrices\n",
    "A = np.array([[1, 2, 3], [1, 3, 3], [1, 2, 4]])\n",
    "Ainv = np.linalg.inv(A)\n",
    "Ainv"
   ]
  },
  {
   "cell_type": "code",
   "execution_count": 246,
   "id": "3dc790e1-50ae-453b-b6ef-a43fe693bced",
   "metadata": {},
   "outputs": [
    {
     "data": {
      "text/plain": [
       "array([[1., 0., 0.],\n",
       "       [0., 1., 0.],\n",
       "       [0., 0., 1.]])"
      ]
     },
     "execution_count": 246,
     "metadata": {},
     "output_type": "execute_result"
    }
   ],
   "source": [
    "# A*A^-1 = I\n",
    "A @Ainv"
   ]
  },
  {
   "cell_type": "markdown",
   "id": "64656c4e-f9f1-41dc-a148-ab2638a933e6",
   "metadata": {},
   "source": [
    "## Linear System of Equations\n",
    "\n",
    "Linear equations like:\n",
    "\n",
    "- $A_{11} x_1 + A_{12} x_2 + A_{13} x_3 = b_1$\n",
    "- $A_{21} x_1 + A_{22} x_2 + A_{23} x_3 = b_2$\n",
    "- $A_{31} x_1 + A_{32} x_2 + A_{33} x_3 = b_3$\n",
    "\n",
    "... can be written in the form Ax = b."
   ]
  },
  {
   "cell_type": "code",
   "execution_count": 248,
   "id": "a72348fa-3e78-4261-82a4-95f4e8f9d641",
   "metadata": {},
   "outputs": [
    {
     "data": {
      "text/plain": [
       "array([[1, 2, 3],\n",
       "       [1, 3, 3],\n",
       "       [1, 2, 4]])"
      ]
     },
     "execution_count": 248,
     "metadata": {},
     "output_type": "execute_result"
    }
   ],
   "source": [
    "# We can store the equation system in the matrix A, for example:\n",
    "A = np.array([[1, 2, 3], [1, 3, 3], [1, 2, 4]])\n",
    "A"
   ]
  },
  {
   "cell_type": "code",
   "execution_count": 249,
   "id": "29beb6a2-dc0a-47ac-8b9f-74954c0caf99",
   "metadata": {},
   "outputs": [],
   "source": [
    "# Assume we have a set of parameter (independent variables),\n",
    "# these are stored in the vector x:\n",
    "x = np.array([[2,4,1]]).T"
   ]
  },
  {
   "cell_type": "code",
   "execution_count": 256,
   "id": "ee8438bf-3c15-41e9-a783-0c91aec135a2",
   "metadata": {},
   "outputs": [
    {
     "data": {
      "text/plain": [
       "array([[13],\n",
       "       [17],\n",
       "       [14]])"
      ]
     },
     "execution_count": 256,
     "metadata": {},
     "output_type": "execute_result"
    }
   ],
   "source": [
    "# The dependent variables can then be calculated and stored in the vector b:\n",
    "b = A@x\n",
    "b\n"
   ]
  },
  {
   "cell_type": "markdown",
   "id": "c0382d39-6b6d-47e1-9b00-f945d34781f5",
   "metadata": {},
   "source": [
    "Our equation system looks like this:\n",
    "\n",
    "- $x_1 + 2 x_2 + 3 x_3 = 13$\n",
    "- $x_1 + 3 x_2 + 3 x_3 = 17$\n",
    "- $x_1 + 2 x_2 + 4 x_3 = 14$\n",
    "\n",
    "Now assume, **b** are observations, and **A** contains a geophysical model connecting model parameter **x** to observations **b**. We can then solve for x with the equation: $x = A^{-1}b$"
   ]
  },
  {
   "cell_type": "code",
   "execution_count": 251,
   "id": "a56bb3f5-ef44-4b9d-bf8d-c44a10ffc425",
   "metadata": {},
   "outputs": [],
   "source": [
    "# An inversion of the matrix A\n",
    "Ainv = np.linalg.inv(A)"
   ]
  },
  {
   "cell_type": "code",
   "execution_count": 255,
   "id": "4ac91b81-9517-49be-be76-f778ff34d44a",
   "metadata": {},
   "outputs": [
    {
     "data": {
      "text/plain": [
       "array([[2.],\n",
       "       [4.],\n",
       "       [1.]])"
      ]
     },
     "execution_count": 255,
     "metadata": {},
     "output_type": "execute_result"
    }
   ],
   "source": [
    "# ... can be used to calculate a solution of x, if we have b given:\n",
    "x_calculated = Ainv@b\n",
    "x_calculated"
   ]
  },
  {
   "cell_type": "markdown",
   "id": "890a6a48-38e3-451e-8487-af2b0ef1bb2c",
   "metadata": {},
   "source": [
    "As you can see, the results for `x_calculated` are equal to the originally given parameter x above."
   ]
  },
  {
   "cell_type": "markdown",
   "id": "3cc64eef-0515-40bd-9dbf-273fae3a71c7",
   "metadata": {},
   "source": [
    "### Tutorial 3\n",
    "\n",
    "Solve the equation system:\n",
    "\n",
    "$ 3x_1 + 2x_2 + 4x_3 = 25$\n",
    "\n",
    "$  x_1 +  x_2 + 2x_3 = 11$\n",
    "   \n",
    "$10x_1 +  x_2 +  x_3 = 37$\n",
    "   "
   ]
  },
  {
   "cell_type": "code",
   "execution_count": 213,
   "id": "5b6b19e8-9ed7-4320-bbf2-ac7117ab964f",
   "metadata": {},
   "outputs": [],
   "source": [
    "# put your code here\n"
   ]
  },
  {
   "cell_type": "code",
   "execution_count": null,
   "id": "280d07f8-8820-4951-9c87-f517fe7d07e4",
   "metadata": {},
   "outputs": [],
   "source": []
  },
  {
   "cell_type": "code",
   "execution_count": 214,
   "id": "0e668580-a8c8-4d63-b3db-7d3fb4941a32",
   "metadata": {},
   "outputs": [],
   "source": [
    "\n",
    "# Solution is provided at the bottom"
   ]
  },
  {
   "cell_type": "markdown",
   "id": "cb388bc1-f829-4853-864c-2cd19cc8279a",
   "metadata": {},
   "source": [
    "### Agregation\n",
    "\n",
    "Functions that aggregate dataset to a statistical or other value are called aggregations. We have discussed several functions during the class about numpy arrays and used several of them during the exercises."
   ]
  },
  {
   "cell_type": "code",
   "execution_count": 131,
   "id": "548c6ea8-e7e6-4e90-919b-1723a7bbedc8",
   "metadata": {},
   "outputs": [],
   "source": [
    "# Examples:\n",
    "# np.min(), np.max(), np.median(), \n",
    "# np.std(), np.sum(), np.mean(), ..."
   ]
  },
  {
   "cell_type": "markdown",
   "id": "2ad2bfc6-4182-4b0a-8f41-3e78f783fb4e",
   "metadata": {},
   "source": [
    "---\n",
    "# Solutions\n",
    "## Tutorial 1"
   ]
  },
  {
   "cell_type": "code",
   "execution_count": 237,
   "id": "cf6bc1cf-c899-4f8c-8fe5-a5507d6194e7",
   "metadata": {},
   "outputs": [
    {
     "data": {
      "text/plain": [
       "(10000,)"
      ]
     },
     "execution_count": 237,
     "metadata": {},
     "output_type": "execute_result"
    }
   ],
   "source": [
    "bigArray = np.random.randint(1, 100, size=10000) \n",
    "bigArray.shape"
   ]
  },
  {
   "cell_type": "code",
   "execution_count": 223,
   "id": "8cc02563-d208-4a42-ae78-c3473ef927eb",
   "metadata": {},
   "outputs": [
    {
     "name": "stdout",
     "output_type": "stream",
     "text": [
      "18.4 ms ± 138 µs per loop (mean ± std. dev. of 7 runs, 10 loops each)\n"
     ]
    }
   ],
   "source": [
    "\"\"\"\n",
    "Vectorization is much faster than for loop. \n",
    "\"\"\"\n",
    "\n",
    "def computeReciprocal(values): \n",
    "    output = np.empty(len(values)) \n",
    "    for i in range(len(values)):\n",
    "        output[i] = 1.0 / values[i] \n",
    "    return output\n",
    "\n",
    "# run to see average execution time of for loop\n",
    "# time scale : milliseconds\n",
    "%timeit forLoopReciprocal = computeReciprocal(bigArray)"
   ]
  },
  {
   "cell_type": "code",
   "execution_count": 222,
   "id": "d0b543e8-56d4-4812-9a4c-3d14644ca2e7",
   "metadata": {},
   "outputs": [
    {
     "name": "stdout",
     "output_type": "stream",
     "text": [
      "21.9 µs ± 294 ns per loop (mean ± std. dev. of 7 runs, 10000 loops each)\n"
     ]
    }
   ],
   "source": [
    "%timeit vectorizedReciprocal = (1.0 / bigArray)"
   ]
  },
  {
   "cell_type": "markdown",
   "id": "8be2da64-fc67-4d86-a4ba-3e3d46a635ae",
   "metadata": {},
   "source": [
    "## Tutorial 3"
   ]
  },
  {
   "cell_type": "code",
   "execution_count": 209,
   "id": "4e11ce6c-6de9-49f8-b8a4-940dd165572c",
   "metadata": {},
   "outputs": [],
   "source": [
    "b = np.array([[25,23,10]]).T"
   ]
  },
  {
   "cell_type": "code",
   "execution_count": 210,
   "id": "183a2d6a-54d4-4c61-aada-124f5b77b2b8",
   "metadata": {},
   "outputs": [],
   "source": [
    "A = np.array([\n",
    "    [3,2,4],\n",
    "    [1,3,2],\n",
    "    [1,1,1]\n",
    "])"
   ]
  },
  {
   "cell_type": "code",
   "execution_count": 211,
   "id": "c0f7b2ae-1e86-40c7-a2bf-566aeb856c2f",
   "metadata": {},
   "outputs": [],
   "source": [
    "x = np.linalg.inv(A) @ b"
   ]
  },
  {
   "cell_type": "code",
   "execution_count": 212,
   "id": "20e679ce-acf6-44a7-9716-7494d9496483",
   "metadata": {},
   "outputs": [
    {
     "data": {
      "text/plain": [
       "array([[3.],\n",
       "       [6.],\n",
       "       [1.]])"
      ]
     },
     "execution_count": 212,
     "metadata": {},
     "output_type": "execute_result"
    }
   ],
   "source": [
    "x"
   ]
  }
 ],
 "metadata": {
  "kernelspec": {
   "display_name": "Python 3",
   "language": "python",
   "name": "python3"
  },
  "language_info": {
   "codemirror_mode": {
    "name": "ipython",
    "version": 3
   },
   "file_extension": ".py",
   "mimetype": "text/x-python",
   "name": "python",
   "nbconvert_exporter": "python",
   "pygments_lexer": "ipython3",
   "version": "3.8.8"
  }
 },
 "nbformat": 4,
 "nbformat_minor": 5
}
