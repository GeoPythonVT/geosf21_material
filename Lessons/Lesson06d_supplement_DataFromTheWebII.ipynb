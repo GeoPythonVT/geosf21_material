{
 "cells": [
  {
   "cell_type": "markdown",
   "id": "cf6f0ec0-0196-496c-a4b1-417f936e342f",
   "metadata": {
    "tags": []
   },
   "source": [
    "\"Geo Data Science with Python\" \n",
    "### Notebook Lesson 06d\n",
    "\n",
    "# Python Packages: Download data from the Web II\n",
    "\n",
    "This lesson discusses several smaller Python Modules useful to download and retrieve Geoscience data from the internet. \n",
    "\n",
    "### Sources\n",
    "This notebook is contains information from the following resources:\n",
    "\n",
    "NetCDF\n",
    "- NetCDF Module: https://unidata.github.io/netcdf4-python/\n",
    "\n",
    "---"
   ]
  },
  {
   "cell_type": "markdown",
   "id": "8210cf7f-2662-4451-b24e-aff07232ebeb",
   "metadata": {},
   "source": [
    "---\n",
    "## CODE EXAMPLE 0: Download the Gistemp file again"
   ]
  },
  {
   "cell_type": "code",
   "execution_count": 1,
   "id": "3a8e2235-f97b-4aad-b991-648f66d06ebe",
   "metadata": {},
   "outputs": [],
   "source": [
    "# 1. Import the module\n",
    "import requests"
   ]
  },
  {
   "cell_type": "code",
   "execution_count": 2,
   "id": "2eae7a9b-96b8-4a01-8d38-5ee111ffe44b",
   "metadata": {},
   "outputs": [],
   "source": [
    "# 2. Define the URL\n",
    "url = 'https://data.giss.nasa.gov/pub/gistemp/gistemp250_GHCNv4.nc.gz'\n",
    "filename = 'gistemp250_GHCNv4.nc.gz'"
   ]
  },
  {
   "cell_type": "code",
   "execution_count": 3,
   "id": "f24d2175-b582-4192-bb07-8faee18ac72b",
   "metadata": {},
   "outputs": [],
   "source": [
    "# 3. Use requests.get() to download the data behind that URL\n",
    "r = requests.get(url, allow_redirects=True, stream=True)  "
   ]
  },
  {
   "cell_type": "code",
   "execution_count": 4,
   "id": "1418baba-52cc-4a30-bc23-bf896a01efe2",
   "metadata": {},
   "outputs": [
    {
     "data": {
      "text/plain": [
       "11034247"
      ]
     },
     "execution_count": 4,
     "metadata": {},
     "output_type": "execute_result"
    }
   ],
   "source": [
    "# 4. Write the file to a new file on your computer\n",
    "open(filename, 'wb').write(r.content)  #the previous two in one line"
   ]
  },
  {
   "cell_type": "code",
   "execution_count": 5,
   "id": "4787b589-0f7e-46ba-ad6b-a55c7c1d26d7",
   "metadata": {},
   "outputs": [],
   "source": [
    "# Unzip the file: bash command\n",
    "!gunzip -f -k {filename} # unpacks the file, \n",
    "                         # -f forces command & overwrites files\n",
    "                         # -k keeps both files .gz and unzipped one\n",
    "# Information on gunzip: https://www.tutorialspoint.com/unix_commands/gunzip.htm"
   ]
  },
  {
   "cell_type": "markdown",
   "id": "bcf7435a-6810-4334-baa3-046f2a8b1db4",
   "metadata": {},
   "source": [
    "---\n",
    "## CODE EXAMPLES 1: Working with NetCDF4 files"
   ]
  },
  {
   "cell_type": "code",
   "execution_count": 6,
   "id": "45364c69-24c2-4927-83d3-4afe14cc0cf3",
   "metadata": {},
   "outputs": [],
   "source": [
    "# switch environtment if needed:\n",
    "# %%bash\n",
    "# source activate OOD-GEOFALL\n",
    "# conda env list"
   ]
  },
  {
   "cell_type": "code",
   "execution_count": 7,
   "id": "5932b6e4-97eb-4049-98df-a78bcad40fcf",
   "metadata": {},
   "outputs": [],
   "source": [
    "# Check, if installation of netCDF4 is available\n",
    "from netCDF4 import Dataset\n",
    "# and conda environment is correct\n",
    "#!conda env list"
   ]
  },
  {
   "cell_type": "markdown",
   "id": "721d7f5b-a899-4e09-bbad-e3e658b6f93d",
   "metadata": {},
   "source": [
    "### Import the data"
   ]
  },
  {
   "cell_type": "code",
   "execution_count": 8,
   "id": "d50e1a93-13d0-40f8-87a4-24baf3c75e7f",
   "metadata": {},
   "outputs": [],
   "source": [
    "filename = 'gistemp250_GHCNv4.nc'\n",
    "data = Dataset(filename, mode='r')"
   ]
  },
  {
   "cell_type": "markdown",
   "id": "5c3f4e3a-79a6-4795-8ca3-5737380fa0a1",
   "metadata": {},
   "source": [
    "### Explore the data (Tutorial 1)"
   ]
  },
  {
   "cell_type": "code",
   "execution_count": 9,
   "id": "468e9073-4f15-40a6-84a6-04223f15aa26",
   "metadata": {},
   "outputs": [
    {
     "data": {
      "text/plain": [
       "netCDF4._netCDF4.Dataset"
      ]
     },
     "execution_count": 9,
     "metadata": {},
     "output_type": "execute_result"
    }
   ],
   "source": [
    "# object type of the netcdf4 Dataset\n",
    "type(data)"
   ]
  },
  {
   "cell_type": "code",
   "execution_count": 10,
   "id": "239537fa-7bf6-45bf-99c4-f4afa8d602d2",
   "metadata": {},
   "outputs": [
    {
     "name": "stdout",
     "output_type": "stream",
     "text": [
      "<class 'netCDF4._netCDF4.Dataset'>\n",
      "root group (NETCDF3_CLASSIC data model, file format NETCDF3):\n",
      "    title: GISTEMP Surface Temperature Analysis\n",
      "    institution: NASA Goddard Institute for Space Studies\n",
      "    source: http://data.giss.nasa.gov/gistemp/\n",
      "    Conventions: CF-1.6\n",
      "    history: Created 2021-10-11 08:03:29 by SBBX_to_nc 2.0 - ILAND=250,  IOCEAN=none,     Base: 1951-1980\n",
      "    dimensions(sizes): lat(90), lon(180), time(1701), nv(2)\n",
      "    variables(dimensions): float32 lat(lat), float32 lon(lon), int32 time(time), int32 time_bnds(time, nv), int16 tempanomaly(time, lat, lon)\n",
      "    groups: \n"
     ]
    }
   ],
   "source": [
    "# look into the netcdf4 Dataset\n",
    "print(data)"
   ]
  },
  {
   "cell_type": "code",
   "execution_count": 11,
   "id": "325e0f8a-d1c5-48fd-a3b8-b5ae1c5703b7",
   "metadata": {},
   "outputs": [
    {
     "data": {
      "text/plain": [
       "{'lat': <class 'netCDF4._netCDF4.Variable'>\n",
       " float32 lat(lat)\n",
       "     standard_name: latitude\n",
       "     long_name: Latitude\n",
       "     units: degrees_north\n",
       " unlimited dimensions: \n",
       " current shape = (90,)\n",
       " filling on, default _FillValue of 9.969209968386869e+36 used,\n",
       " 'lon': <class 'netCDF4._netCDF4.Variable'>\n",
       " float32 lon(lon)\n",
       "     standard_name: longitude\n",
       "     long_name: Longitude\n",
       "     units: degrees_east\n",
       " unlimited dimensions: \n",
       " current shape = (180,)\n",
       " filling on, default _FillValue of 9.969209968386869e+36 used,\n",
       " 'time': <class 'netCDF4._netCDF4.Variable'>\n",
       " int32 time(time)\n",
       "     long_name: time\n",
       "     units: days since 1800-01-01 00:00:00\n",
       "     bounds: time_bnds\n",
       " unlimited dimensions: \n",
       " current shape = (1701,)\n",
       " filling on, default _FillValue of -2147483647 used,\n",
       " 'time_bnds': <class 'netCDF4._netCDF4.Variable'>\n",
       " int32 time_bnds(time, nv)\n",
       " unlimited dimensions: \n",
       " current shape = (1701, 2)\n",
       " filling on, default _FillValue of -2147483647 used,\n",
       " 'tempanomaly': <class 'netCDF4._netCDF4.Variable'>\n",
       " int16 tempanomaly(time, lat, lon)\n",
       "     long_name: Surface temperature anomaly\n",
       "     units: K\n",
       "     scale_factor: 0.01\n",
       "     cell_methods: time: mean\n",
       "     _FillValue: 32767\n",
       " unlimited dimensions: \n",
       " current shape = (1701, 90, 180)\n",
       " filling on}"
      ]
     },
     "execution_count": 11,
     "metadata": {},
     "output_type": "execute_result"
    }
   ],
   "source": [
    "# call attribute `variables`\n",
    "data.variables"
   ]
  },
  {
   "cell_type": "code",
   "execution_count": 12,
   "id": "60786abf-ed09-428f-899a-af9cfc7bb200",
   "metadata": {},
   "outputs": [
    {
     "data": {
      "text/plain": [
       "{'lat': <class 'netCDF4._netCDF4.Dimension'>: name = 'lat', size = 90,\n",
       " 'lon': <class 'netCDF4._netCDF4.Dimension'>: name = 'lon', size = 180,\n",
       " 'time': <class 'netCDF4._netCDF4.Dimension'>: name = 'time', size = 1701,\n",
       " 'nv': <class 'netCDF4._netCDF4.Dimension'>: name = 'nv', size = 2}"
      ]
     },
     "execution_count": 12,
     "metadata": {},
     "output_type": "execute_result"
    }
   ],
   "source": [
    "# call attibute `dimensions`\n",
    "data.dimensions"
   ]
  },
  {
   "cell_type": "markdown",
   "id": "2005c028-e37b-451b-bc6e-f01ee8f9e1b5",
   "metadata": {},
   "source": [
    "### Retrieve info for variable and dimension content (Tutorial 2)"
   ]
  },
  {
   "cell_type": "code",
   "execution_count": 13,
   "id": "c79075fd-42fe-40da-aeaf-66a7d2dd2e29",
   "metadata": {},
   "outputs": [
    {
     "name": "stdout",
     "output_type": "stream",
     "text": [
      "Available variables: \n",
      "['lat', 'lon', 'time', 'time_bnds', 'tempanomaly']\n"
     ]
    }
   ],
   "source": [
    "# retrieve list of available variables in data\n",
    "print ('Available variables: ')\n",
    "print ([e for e in data.variables])"
   ]
  },
  {
   "cell_type": "code",
   "execution_count": 14,
   "id": "0ff403f0-16b4-4cc0-927d-4a44e2671e48",
   "metadata": {},
   "outputs": [
    {
     "name": "stdout",
     "output_type": "stream",
     "text": [
      "Available dimension names: \n",
      "['lat', 'lon', 'time', 'nv']\n",
      "Available dimension values: \n",
      "[90, 180, 1701, 2]\n"
     ]
    }
   ],
   "source": [
    "# retrieve list of available dimension names \n",
    "print ('Available dimension names: ')\n",
    "print ([e for e in data.dimensions])\n",
    "\n",
    "# retrieve list of available dimension values\n",
    "print ('Available dimension values: ')\n",
    "print ([data.dimensions[e].size for e in data.dimensions])"
   ]
  },
  {
   "cell_type": "markdown",
   "id": "5fe43e25-86ef-46b4-a86c-f106417d95e0",
   "metadata": {},
   "source": [
    "### Retrieve info for individual variables (Tutorial 3)"
   ]
  },
  {
   "cell_type": "code",
   "execution_count": 15,
   "id": "d408cfa1-c092-4621-aff9-b998c55b6854",
   "metadata": {},
   "outputs": [
    {
     "data": {
      "text/plain": [
       "<class 'netCDF4._netCDF4.Variable'>\n",
       "float32 lat(lat)\n",
       "    standard_name: latitude\n",
       "    long_name: Latitude\n",
       "    units: degrees_north\n",
       "unlimited dimensions: \n",
       "current shape = (90,)\n",
       "filling on, default _FillValue of 9.969209968386869e+36 used"
      ]
     },
     "execution_count": 15,
     "metadata": {},
     "output_type": "execute_result"
    }
   ],
   "source": [
    "# printing info on variable 'lat'\n",
    "data.variables['lat'] "
   ]
  },
  {
   "cell_type": "code",
   "execution_count": 16,
   "id": "3af38ac0-f04f-45b1-bdd9-a94ac87dee50",
   "metadata": {},
   "outputs": [
    {
     "data": {
      "text/plain": [
       "<class 'netCDF4._netCDF4.Variable'>\n",
       "float32 lon(lon)\n",
       "    standard_name: longitude\n",
       "    long_name: Longitude\n",
       "    units: degrees_east\n",
       "unlimited dimensions: \n",
       "current shape = (180,)\n",
       "filling on, default _FillValue of 9.969209968386869e+36 used"
      ]
     },
     "execution_count": 16,
     "metadata": {},
     "output_type": "execute_result"
    }
   ],
   "source": [
    "# printing info on variable 'lon'\n",
    "data.variables['lon']"
   ]
  },
  {
   "cell_type": "code",
   "execution_count": 17,
   "id": "f80397e4-7d66-4c43-ae1a-a68fd147a822",
   "metadata": {},
   "outputs": [
    {
     "data": {
      "text/plain": [
       "<class 'netCDF4._netCDF4.Variable'>\n",
       "int16 tempanomaly(time, lat, lon)\n",
       "    long_name: Surface temperature anomaly\n",
       "    units: K\n",
       "    scale_factor: 0.01\n",
       "    cell_methods: time: mean\n",
       "    _FillValue: 32767\n",
       "unlimited dimensions: \n",
       "current shape = (1701, 90, 180)\n",
       "filling on"
      ]
     },
     "execution_count": 17,
     "metadata": {},
     "output_type": "execute_result"
    }
   ],
   "source": [
    "# printing info on variable 'tempanomaly'\n",
    "data.variables['tempanomaly']"
   ]
  },
  {
   "cell_type": "code",
   "execution_count": 18,
   "id": "7bc710da-79df-4867-a3ef-4c1439c7f598",
   "metadata": {},
   "outputs": [
    {
     "data": {
      "text/plain": [
       "'Surface temperature anomaly'"
      ]
     },
     "execution_count": 18,
     "metadata": {},
     "output_type": "execute_result"
    }
   ],
   "source": [
    "data.variables['tempanomaly'].long_name"
   ]
  },
  {
   "cell_type": "code",
   "execution_count": 19,
   "id": "dc80b359-5d06-4991-a2ff-07f8542de9a1",
   "metadata": {},
   "outputs": [
    {
     "data": {
      "text/plain": [
       "'K'"
      ]
     },
     "execution_count": 19,
     "metadata": {},
     "output_type": "execute_result"
    }
   ],
   "source": [
    "data.variables['tempanomaly'].units"
   ]
  },
  {
   "cell_type": "code",
   "execution_count": 20,
   "id": "1ecae60e-0a49-44e7-905a-1c2d6ae764d0",
   "metadata": {},
   "outputs": [
    {
     "data": {
      "text/plain": [
       "32767"
      ]
     },
     "execution_count": 20,
     "metadata": {},
     "output_type": "execute_result"
    }
   ],
   "source": [
    "data.variables['tempanomaly']._FillValue"
   ]
  },
  {
   "cell_type": "markdown",
   "id": "f4d1d2c6-54b7-4881-9002-8aa3a9f96845",
   "metadata": {},
   "source": [
    "### Retrieve variable content (Tutorial 4)"
   ]
  },
  {
   "cell_type": "code",
   "execution_count": 21,
   "id": "1befe2dc-e850-4b2e-bc88-25855a9bde60",
   "metadata": {},
   "outputs": [
    {
     "data": {
      "text/plain": [
       "masked_array(data=[-179., -177., -175., -173., -171., -169., -167., -165.,\n",
       "                   -163., -161., -159., -157., -155., -153., -151., -149.,\n",
       "                   -147., -145., -143., -141., -139., -137., -135., -133.,\n",
       "                   -131., -129., -127., -125., -123., -121., -119., -117.,\n",
       "                   -115., -113., -111., -109., -107., -105., -103., -101.,\n",
       "                    -99.,  -97.,  -95.,  -93.,  -91.,  -89.,  -87.,  -85.,\n",
       "                    -83.,  -81.,  -79.,  -77.,  -75.,  -73.,  -71.,  -69.,\n",
       "                    -67.,  -65.,  -63.,  -61.,  -59.,  -57.,  -55.,  -53.,\n",
       "                    -51.,  -49.,  -47.,  -45.,  -43.,  -41.,  -39.,  -37.,\n",
       "                    -35.,  -33.,  -31.,  -29.,  -27.,  -25.,  -23.,  -21.,\n",
       "                    -19.,  -17.,  -15.,  -13.,  -11.,   -9.,   -7.,   -5.,\n",
       "                     -3.,   -1.,    1.,    3.,    5.,    7.,    9.,   11.,\n",
       "                     13.,   15.,   17.,   19.,   21.,   23.,   25.,   27.,\n",
       "                     29.,   31.,   33.,   35.,   37.,   39.,   41.,   43.,\n",
       "                     45.,   47.,   49.,   51.,   53.,   55.,   57.,   59.,\n",
       "                     61.,   63.,   65.,   67.,   69.,   71.,   73.,   75.,\n",
       "                     77.,   79.,   81.,   83.,   85.,   87.,   89.,   91.,\n",
       "                     93.,   95.,   97.,   99.,  101.,  103.,  105.,  107.,\n",
       "                    109.,  111.,  113.,  115.,  117.,  119.,  121.,  123.,\n",
       "                    125.,  127.,  129.,  131.,  133.,  135.,  137.,  139.,\n",
       "                    141.,  143.,  145.,  147.,  149.,  151.,  153.,  155.,\n",
       "                    157.,  159.,  161.,  163.,  165.,  167.,  169.,  171.,\n",
       "                    173.,  175.,  177.,  179.],\n",
       "             mask=False,\n",
       "       fill_value=1e+20,\n",
       "            dtype=float32)"
      ]
     },
     "execution_count": 21,
     "metadata": {},
     "output_type": "execute_result"
    }
   ],
   "source": [
    "data.variables['tempanomaly'][:]\n",
    "data.variables['lon'][:]\n",
    "# retrieves masked array\n",
    "# the case for some netcdf variables\n",
    "# for lat, lon, mask is empty"
   ]
  },
  {
   "cell_type": "code",
   "execution_count": 22,
   "id": "14574301-ca82-4451-863f-e718854ea7c0",
   "metadata": {},
   "outputs": [
    {
     "data": {
      "text/plain": [
       "numpy.ma.core.MaskedArray"
      ]
     },
     "execution_count": 22,
     "metadata": {},
     "output_type": "execute_result"
    }
   ],
   "source": [
    "type(data.variables['tempanomaly'][:])"
   ]
  },
  {
   "cell_type": "code",
   "execution_count": 23,
   "id": "7a33410a-4ec4-4aec-8d07-4ecc044c2a9f",
   "metadata": {},
   "outputs": [
    {
     "data": {
      "text/plain": [
       "numpy.ma.core.MaskedArray"
      ]
     },
     "execution_count": 23,
     "metadata": {},
     "output_type": "execute_result"
    }
   ],
   "source": [
    "type(data.variables['lon'][:])"
   ]
  },
  {
   "cell_type": "code",
   "execution_count": 24,
   "id": "cdb0d052-374c-40ee-9947-f2f9ae5b53b4",
   "metadata": {},
   "outputs": [
    {
     "data": {
      "text/plain": [
       "True"
      ]
     },
     "execution_count": 24,
     "metadata": {},
     "output_type": "execute_result"
    }
   ],
   "source": [
    "# Check if variable lon contains a mask container (true)\n",
    "data.variables['lon'].mask"
   ]
  },
  {
   "cell_type": "code",
   "execution_count": 26,
   "id": "e4fcb0c5-e4cd-4b99-88e1-24fdf2f5535d",
   "metadata": {},
   "outputs": [
    {
     "data": {
      "text/plain": [
       "False"
      ]
     },
     "execution_count": 26,
     "metadata": {},
     "output_type": "execute_result"
    }
   ],
   "source": [
    "# Check if the mask container is filled (false)\n",
    "data.variables['lon'][:].mask"
   ]
  },
  {
   "cell_type": "markdown",
   "id": "d5a1dd38-572c-45fb-877a-ec3eabca0e27",
   "metadata": {},
   "source": [
    "### Retrieve variable content (Tutorial 5)"
   ]
  },
  {
   "cell_type": "code",
   "execution_count": 27,
   "id": "4696c66d-ea99-483d-bd59-2e6efd809d97",
   "metadata": {},
   "outputs": [],
   "source": [
    "# reference only the data array with:\n",
    "lon = data.variables['lon'][:].data"
   ]
  },
  {
   "cell_type": "code",
   "execution_count": 28,
   "id": "b6448568-cac3-4dd8-98c2-2501679275d7",
   "metadata": {},
   "outputs": [
    {
     "data": {
      "text/plain": [
       "numpy.ndarray"
      ]
     },
     "execution_count": 28,
     "metadata": {},
     "output_type": "execute_result"
    }
   ],
   "source": [
    "# content is a numpy array\n",
    "type(lon)"
   ]
  },
  {
   "cell_type": "code",
   "execution_count": 29,
   "id": "8b52d610-1260-4f1d-aab4-b8f52086d4f4",
   "metadata": {},
   "outputs": [],
   "source": [
    "# writing content of all other interesting variables in data to separate numpy arrays\n",
    "lat = data.variables['lat'][:].data\n",
    "time = data.variables['time'][:].data\n",
    "anom = data.variables['tempanomaly'][:].data\n",
    "mask = data.variables['tempanomaly'][:].mask"
   ]
  },
  {
   "cell_type": "code",
   "execution_count": 30,
   "id": "39c1d422-21e1-4a12-ac98-624b8ad61ef4",
   "metadata": {},
   "outputs": [
    {
     "name": "stdout",
     "output_type": "stream",
     "text": [
      "Size of longitude array: (180,)\n",
      "Size of latitude array: (90,)\n",
      "Size of time array: (1701,)\n",
      "Size of data array: (1701, 90, 180)\n",
      "Size of data mask array: (1701, 90, 180)\n"
     ]
    }
   ],
   "source": [
    "import numpy # need to import numpy now, if you have not done so before\n",
    "print(\"Size of longitude array:\",lon.shape)\n",
    "print(\"Size of latitude array:\",lat.shape)\n",
    "print(\"Size of time array:\",time.shape)\n",
    "print(\"Size of data array:\",anom.shape)\n",
    "print(\"Size of data mask array:\",mask.shape)"
   ]
  },
  {
   "cell_type": "code",
   "execution_count": 31,
   "id": "500fbebe-46e7-4b68-b5be-34fbb1227771",
   "metadata": {},
   "outputs": [
    {
     "name": "stdout",
     "output_type": "stream",
     "text": [
      "Type of longitude array: float32\n",
      "Type of latitude array: float32\n",
      "Type of time array: int32\n",
      "Type of data array: float32\n",
      "Type of data mask array: bool\n"
     ]
    }
   ],
   "source": [
    "print(\"Type of longitude array:\",lon.dtype)\n",
    "print(\"Type of latitude array:\",lat.dtype)\n",
    "print(\"Type of time array:\",time.dtype)\n",
    "print(\"Type of data array:\",anom.dtype)\n",
    "print(\"Type of data mask array:\",mask.dtype)"
   ]
  },
  {
   "cell_type": "markdown",
   "id": "a5075c9b-977d-455f-8198-c0681b00149a",
   "metadata": {},
   "source": [
    "### Examples for working with netCDF4 time values"
   ]
  },
  {
   "cell_type": "code",
   "execution_count": 32,
   "id": "e165c2ab-e862-4fdd-9b43-fd0659836cab",
   "metadata": {},
   "outputs": [
    {
     "data": {
      "text/plain": [
       "array([29233, 29264, 29293, ..., 80914, 80945, 80976], dtype=int32)"
      ]
     },
     "execution_count": 32,
     "metadata": {},
     "output_type": "execute_result"
    }
   ],
   "source": [
    "# time vector is in netCDF numbers, integer values\n",
    "time"
   ]
  },
  {
   "cell_type": "code",
   "execution_count": 33,
   "id": "c618bf4c-b052-44f4-b845-346dc96e6b16",
   "metadata": {},
   "outputs": [
    {
     "data": {
      "text/plain": [
       "'days since 1800-01-01 00:00:00'"
      ]
     },
     "execution_count": 33,
     "metadata": {},
     "output_type": "execute_result"
    }
   ],
   "source": [
    "# Recive unit of the time vector in data\n",
    "data.variables['time'].units"
   ]
  },
  {
   "cell_type": "code",
   "execution_count": 34,
   "id": "b85e56aa-9518-4fc2-a307-b1765944e1c8",
   "metadata": {},
   "outputs": [
    {
     "data": {
      "text/plain": [
       "array([cftime.DatetimeGregorian(1880, 1, 15, 0, 0, 0, 0, has_year_zero=False),\n",
       "       cftime.DatetimeGregorian(1880, 2, 15, 0, 0, 0, 0, has_year_zero=False),\n",
       "       cftime.DatetimeGregorian(1880, 3, 15, 0, 0, 0, 0, has_year_zero=False),\n",
       "       ...,\n",
       "       cftime.DatetimeGregorian(2021, 7, 15, 0, 0, 0, 0, has_year_zero=False),\n",
       "       cftime.DatetimeGregorian(2021, 8, 15, 0, 0, 0, 0, has_year_zero=False),\n",
       "       cftime.DatetimeGregorian(2021, 9, 15, 0, 0, 0, 0, has_year_zero=False)],\n",
       "      dtype=object)"
      ]
     },
     "execution_count": 34,
     "metadata": {},
     "output_type": "execute_result"
    }
   ],
   "source": [
    "# convert the netcdf time values to a date with num2date\n",
    "from netCDF4 import num2date\n",
    "unts = data.variables['time'].units\n",
    "time_dates = num2date(time,unts)  # string: 'days since 1800-01-01 00:00:00'\n",
    "time_dates"
   ]
  },
  {
   "cell_type": "code",
   "execution_count": 35,
   "id": "6dc0ab35-c77d-43c2-9a51-0684899b5192",
   "metadata": {},
   "outputs": [
    {
     "data": {
      "text/plain": [
       "cftime._cftime.DatetimeGregorian"
      ]
     },
     "execution_count": 35,
     "metadata": {},
     "output_type": "execute_result"
    }
   ],
   "source": [
    "# date is given in netCDF's cftimec class:\n",
    "type(time_dates[0])"
   ]
  },
  {
   "cell_type": "code",
   "execution_count": 40,
   "id": "27fc60f3-765a-4312-8dfe-5cdc657379ba",
   "metadata": {},
   "outputs": [
    {
     "data": {
      "text/plain": [
       "'1880-02-15 00:00:00'"
      ]
     },
     "execution_count": 40,
     "metadata": {},
     "output_type": "execute_result"
    }
   ],
   "source": [
    "# receive a cftime data as string\n",
    "time_dates[1].strftime()\n",
    "# alternatively:\n",
    "#str(time_dates[1])"
   ]
  },
  {
   "cell_type": "code",
   "execution_count": 41,
   "id": "293a76e4-f70c-4d6e-9211-21424675f908",
   "metadata": {},
   "outputs": [
    {
     "data": {
      "text/plain": [
       "array([29233, 29264, 29293, ..., 80914, 80945, 80976])"
      ]
     },
     "execution_count": 41,
     "metadata": {},
     "output_type": "execute_result"
    }
   ],
   "source": [
    "# convert cftime dates to netcdf time values with date2num\n",
    "from netCDF4 import date2num\n",
    "date2num(time_dates,unts)"
   ]
  },
  {
   "cell_type": "code",
   "execution_count": 43,
   "id": "2f96d42f-17f9-419e-aa91-6d403693b5e8",
   "metadata": {},
   "outputs": [
    {
     "data": {
      "text/plain": [
       "80976"
      ]
     },
     "execution_count": 43,
     "metadata": {},
     "output_type": "execute_result"
    }
   ],
   "source": [
    "# convert datetime dates to netcdf time values with date2num\n",
    "from datetime import datetime\n",
    "date2num(datetime(2021, 9, 15),unts)"
   ]
  },
  {
   "cell_type": "code",
   "execution_count": 44,
   "id": "acb257eb-7c38-4d6c-ad69-dea0b58672ea",
   "metadata": {},
   "outputs": [
    {
     "data": {
      "text/plain": [
       "1692"
      ]
     },
     "execution_count": 44,
     "metadata": {},
     "output_type": "execute_result"
    }
   ],
   "source": [
    "# convert datetime date to an index corresponding to netcdf time unit\n",
    "from netCDF4 import date2index\n",
    "from datetime import datetime\n",
    "timeindex = date2index(datetime(2021, 1, 15),data.variables['time'])\n",
    "timeindex"
   ]
  },
  {
   "cell_type": "markdown",
   "id": "a2b7108e-e68b-41fa-8b2a-b29de09bae96",
   "metadata": {},
   "source": [
    "### Close the data object"
   ]
  },
  {
   "cell_type": "code",
   "execution_count": 45,
   "id": "e4912d7f-6871-4bd0-ab24-66b31032e58d",
   "metadata": {
    "tags": []
   },
   "outputs": [],
   "source": [
    "# closing the netCDF file\n",
    "data.close()"
   ]
  },
  {
   "cell_type": "markdown",
   "id": "1c3e9170-c1ec-4fa9-9358-e9f298fb1018",
   "metadata": {},
   "source": [
    "---\n",
    "## CODE EXAMPLES 2: Plotting data with matplotlib\n",
    "\n",
    "### Plotting the data (Tutorial 6)"
   ]
  },
  {
   "cell_type": "code",
   "execution_count": 71,
   "id": "9a6f2174-22dd-4183-a74c-81c43072fd0b",
   "metadata": {},
   "outputs": [
    {
     "name": "stdout",
     "output_type": "stream",
     "text": [
      "\n",
      "This netcdf file contains records from 1880-01-15 00:00:00 to 2021-09-15 00:00:00\n"
     ]
    },
    {
     "data": {
      "image/png": "[encoded data removed]",
      "text/plain": [
       "<Figure size 720x432 with 2 Axes>"
      ]
     },
     "metadata": {
      "needs_background": "light"
     },
     "output_type": "display_data"
    }
   ],
   "source": [
    "# %load gistemp_plot.py\n",
    "\"\"\"\n",
    "Created on Mon Oct 12 18:54:30 2021\n",
    "@author: swerth\n",
    "\"\"\"\n",
    "import matplotlib.pyplot as plt\n",
    "import numpy as np\n",
    "import netCDF4\n",
    "from netCDF4 import Dataset\n",
    "from netCDF4 import date2index\n",
    "from datetime import datetime\n",
    "\n",
    "\n",
    "# read netcdf file\n",
    "data = Dataset('gistemp250_GHCNv4.nc')\n",
    "\n",
    "# Get index for a certain month, read this month from the data below\n",
    "year = 2021\n",
    "month = 9\n",
    "timeindex = date2index(datetime(year, month, 15),\n",
    "                       data.variables['time'])\n",
    "\n",
    "\n",
    "\n",
    "\n",
    "# read data \n",
    "# --------\n",
    "###  complete the code here\n",
    "###  read lat, lon, time and anomaly into numpy arrays\n",
    "###  read tempanomaly for month defined above\n",
    "###  replace fill values with np.nan\n",
    "\n",
    "# solution\n",
    "# --------\n",
    "###  complete the code here\n",
    "###  read lat, lon, time into numpy arrays\n",
    "lat = data.variables['lat'][:].data\n",
    "lon = data.variables['lon'][:].data\n",
    "time = data.variables['time'][:].data\n",
    "\n",
    "###  read tempanomaly (for month defined above) into numpy array\n",
    "anom = data.variables['tempanomaly'][timeindex].data\n",
    "anom_mask = data.variables['tempanomaly'][timeindex].mask\n",
    "\n",
    "###  replace fill values\n",
    "fillVal = data.variables['tempanomaly']._FillValue\n",
    "anom[anom==fillVal] = np.nan\n",
    "\n",
    "\n",
    "\n",
    "# plot data \n",
    "# --------\n",
    "\n",
    "# converting the 1D coordinate arrays to a meshgrid\n",
    "lonGrid, latGrid = np.meshgrid(lon,lat)\n",
    "\n",
    "# plot data into map\n",
    "fig = plt.figure(figsize=(10, 6))\n",
    "\n",
    "# plotting the first last map in the time series\n",
    "plt.pcolormesh(lonGrid,latGrid, anom, shading='auto',cmap='nipy_spectral') \n",
    "# try other colorbars: hot, hot_r, cool\n",
    "\n",
    "\n",
    "# adding a colorbar and title\n",
    "plt.title('Temperature Anomaly ' + str(datetime(year, month, 15)))\n",
    "plt.colorbar(label=('temperature anomaly (' + u'\\N{DEGREE SIGN}' + 'C)'))\n",
    "\n",
    "# add plot limits\n",
    "#plt.clim(-8, 8)\n",
    "\n",
    "\n",
    "# get available time period in netcdf file and write to screen\n",
    "t_units = data.variables['time'].units\n",
    "time_beg = netCDF4.num2date(data.variables['time'][0],t_units)\n",
    "time_end = netCDF4.num2date(data.variables['time'][-1],t_units)\n",
    "print('\\nThis netcdf file contains records from ' + str(time_beg) +\n",
    "      ' to ' + str(time_end))"
   ]
  },
  {
   "cell_type": "markdown",
   "id": "394689ba-9ee6-473e-b804-0f620939c43f",
   "metadata": {},
   "source": [
    "### Plotting the mask"
   ]
  },
  {
   "cell_type": "code",
   "execution_count": 52,
   "id": "2501d973-2d47-4ec1-8db3-ee421517b8ea",
   "metadata": {},
   "outputs": [
    {
     "data": {
      "text/plain": [
       "<matplotlib.colorbar.Colorbar at 0x13b251910>"
      ]
     },
     "execution_count": 52,
     "metadata": {},
     "output_type": "execute_result"
    },
    {
     "data": {
      "image/png": "[encoded data removed]",
      "text/plain": [
       "<Figure size 432x288 with 2 Axes>"
      ]
     },
     "metadata": {
      "needs_background": "light"
     },
     "output_type": "display_data"
    }
   ],
   "source": [
    "plt.pcolormesh(lonGrid,latGrid, anom_mask, shading='auto') \n",
    "plt.colorbar(label=('temperature anomaly Mask'))"
   ]
  },
  {
   "cell_type": "markdown",
   "id": "9692ebdd-a138-48ec-83b3-0de379aa864c",
   "metadata": {},
   "source": [
    "### Calculate global tem mean at each time, plot a time series (Tutorial 7)"
   ]
  },
  {
   "cell_type": "code",
   "execution_count": 54,
   "id": "a9e38f87-7680-4121-986b-d781f23c3efc",
   "metadata": {},
   "outputs": [],
   "source": [
    "# read netcdf dataset again\n",
    "data = Dataset('gistemp250_GHCNv4.nc')\n",
    "\n",
    "# retrieve data for all time steps, set empty values to nan\n",
    "anomAll = data.variables['tempanomaly'][:].data\n",
    "anomAll[anomAll==fillVal] = np.nan"
   ]
  },
  {
   "cell_type": "code",
   "execution_count": 56,
   "id": "bd80b752-4bc9-44fc-8701-fc1029e22f0d",
   "metadata": {},
   "outputs": [],
   "source": [
    "# getting the number of months in the dataset (we know its 24)\n",
    "NoOfMonths = len(time)     "
   ]
  },
  {
   "cell_type": "code",
   "execution_count": 57,
   "id": "b720b14f-06e6-4baf-8ada-691f8db423a8",
   "metadata": {},
   "outputs": [],
   "source": [
    "# creating a numpy array of the same length, containing zeros\n",
    "monthlyMeanAnom = np.zeros(NoOfMonths) "
   ]
  },
  {
   "cell_type": "code",
   "execution_count": 58,
   "id": "20fdd196-0dfa-4b1c-a1e7-8a578d0f2f3f",
   "metadata": {},
   "outputs": [],
   "source": [
    "# iterating over each month in a for-loop: estimating mean 'tos' over the globe\n",
    "for t in range(NoOfMonths):            \n",
    "    # using nanmean to make sure nan values are ignored\n",
    "    monthlyMeanAnom[t] = np.nanmean(anomAll[t]) "
   ]
  },
  {
   "cell_type": "code",
   "execution_count": 59,
   "id": "d6a64b76-b102-4d65-bbb7-cea841e5909d",
   "metadata": {},
   "outputs": [
    {
     "data": {
      "text/plain": [
       "Text(0, 0.5, 'Temperature (Celsius)')"
      ]
     },
     "execution_count": 59,
     "metadata": {},
     "output_type": "execute_result"
    },
    {
     "data": {
      "image/png": "[encoded data removed]",
      "text/plain": [
       "<Figure size 432x288 with 1 Axes>"
      ]
     },
     "metadata": {
      "needs_background": "light"
     },
     "output_type": "display_data"
    }
   ],
   "source": [
    "# plotting the time series of mean 'tos' (over the entire globe)\n",
    "plt.plot(range(NoOfMonths),monthlyMeanAnom)\n",
    "\n",
    "# adding labels\n",
    "plt.title(\"Temperature Anomaly\")\n",
    "plt.xlabel('Months since 01/1880')\n",
    "plt.ylabel('Temperature (Celsius)')"
   ]
  }
 ],
 "metadata": {
  "kernelspec": {
   "display_name": "Python 3",
   "language": "python",
   "name": "python3"
  },
  "language_info": {
   "codemirror_mode": {
    "name": "ipython",
    "version": 3
   },
   "file_extension": ".py",
   "mimetype": "text/x-python",
   "name": "python",
   "nbconvert_exporter": "python",
   "pygments_lexer": "ipython3",
   "version": "3.8.8"
  }
 },
 "nbformat": 4,
 "nbformat_minor": 5
}
