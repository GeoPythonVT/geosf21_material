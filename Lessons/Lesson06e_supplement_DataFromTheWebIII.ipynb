{
 "cells": [
  {
   "cell_type": "markdown",
   "id": "cf6f0ec0-0196-496c-a4b1-417f936e342f",
   "metadata": {
    "tags": []
   },
   "source": [
    "\"Geo Data Science with Python\" \n",
    "### Notebook Lesson 06d\n",
    "\n",
    "# Python Packages: Download data from the Web II\n",
    "\n",
    "This lesson discusses several smaller Python Modules useful to download and retrieve Geoscience data from the internet. \n",
    "\n",
    "### Sources\n",
    "This notebook is contains information from the following resources:\n",
    "\n",
    "PyDap\n",
    "- https://www.pydap.org/en/latest\n",
    "- https://www.pydap.org/en/latest/client.html\n",
    "- https://github.com/pydap/pydap\n",
    "\n",
    "OpenDAP Data Access Protocol\n",
    "- https://www.opendap.org/\n",
    "- https://opendap.github.io/documentation/QuickStart.html\n",
    "- https://www.opendap.org/support/user-documentation\n",
    "\n",
    "NASA Earthdata\n",
    "\n",
    "- Register: https://urs.earthdata.nasa.gov/documentation/what_do_i_need_to_know\n",
    "- Data Access: https://disc.gsfc.nasa.gov/data-access\n",
    "- OpenDap: https://earthdata.nasa.gov/collaborate/open-data-services-and-software/api/opendap\n",
    "- GESDISC data recipes: https://disc.gsfc.nasa.gov/information/howto\n",
    "\n",
    "Examples from Earthdata\n",
    "- Earthdata, read NetCDF data in Python: https://disc.gsfc.nasa.gov/information/howto?title=How%20to%20read%20and%20plot%20NetCDF%20MERRA-2%20data%20in%20Python\n",
    "- Download subset of data: https://disc.gsfc.nasa.gov/information/howto?title=How%20to%20download%20a%20spatial%20and%20variable%20subset%20of%20Level%201B%20data%20using%20OPeNDAP"
   ]
  },
  {
   "cell_type": "markdown",
   "id": "ca94f9e0-4d18-4eaf-956c-92daf8fa714b",
   "metadata": {},
   "source": [
    "---\n",
    "## CODE EXAMPLE 1: Open remote datasets\n",
    "\n",
    "Let’s start **accessing gridded data**, i.e., data that is stored as a regular multidimensional array. Here’s a simple example where we access the COADS climatology from the official OPeNDAP server:"
   ]
  },
  {
   "cell_type": "code",
   "execution_count": 1,
   "id": "61185a91-89be-47a2-a8fd-7b90b06cd723",
   "metadata": {},
   "outputs": [
    {
     "ename": "ModuleNotFoundError",
     "evalue": "No module named 'pydap'",
     "output_type": "error",
     "traceback": [
      "\u001b[0;31m---------------------------------------------------------------------------\u001b[0m",
      "\u001b[0;31mModuleNotFoundError\u001b[0m                       Traceback (most recent call last)",
      "\u001b[0;32m<ipython-input-1-9ae8e49c3305>\u001b[0m in \u001b[0;36m<module>\u001b[0;34m\u001b[0m\n\u001b[0;32m----> 1\u001b[0;31m \u001b[0;32mfrom\u001b[0m \u001b[0mpydap\u001b[0m\u001b[0;34m.\u001b[0m\u001b[0mclient\u001b[0m \u001b[0;32mimport\u001b[0m \u001b[0mopen_url\u001b[0m\u001b[0;34m\u001b[0m\u001b[0;34m\u001b[0m\u001b[0m\n\u001b[0m",
      "\u001b[0;31mModuleNotFoundError\u001b[0m: No module named 'pydap'"
     ]
    }
   ],
   "source": [
    "from pydap.client import open_url"
   ]
  },
  {
   "cell_type": "code",
   "execution_count": null,
   "id": "63f4d05e-3813-40eb-bc51-898f2212f39e",
   "metadata": {},
   "outputs": [],
   "source": [
    "# open_url: function to open an URL given the location of the dataset\n",
    "pdpData = open_url('http://test.opendap.org/dap/data/nc/coads_climatology.nc')"
   ]
  },
  {
   "cell_type": "code",
   "execution_count": null,
   "id": "d0b3ba4f-d350-4909-b2fa-4d70567df5ec",
   "metadata": {},
   "outputs": [],
   "source": [
    "# this returns a DatasetType object (which is a fancy dictionary)\n",
    "type(pdpData)"
   ]
  },
  {
   "cell_type": "code",
   "execution_count": null,
   "id": "613af486-621e-4bfe-b549-73a8f6429980",
   "metadata": {},
   "outputs": [],
   "source": [
    "# check the names of the stored variables\n",
    "pdpData.keys()  # or pdpData.values()"
   ]
  },
  {
   "cell_type": "code",
   "execution_count": null,
   "id": "05e99262-15ea-4e60-88f3-7ec2d08e4c77",
   "metadata": {},
   "outputs": [],
   "source": [
    "# reference the SST variable\n",
    "sst = pdpData['SST']  \n",
    "\n",
    "# or with \"lazy syntax\": dataset.SST"
   ]
  },
  {
   "cell_type": "code",
   "execution_count": null,
   "id": "949f30f0-420a-4be9-8c4b-6ba6a11bda28",
   "metadata": {},
   "outputs": [],
   "source": [
    "# this returns a GridType object (which is a multidimensional array)\n",
    "type(sst)"
   ]
  },
  {
   "cell_type": "code",
   "execution_count": null,
   "id": "4eeab1cc-7748-4e00-acf5-ee878ea219c2",
   "metadata": {},
   "outputs": [],
   "source": [
    "\n",
    "# the array has specific axes defining each of its dimensions\n",
    "sst.dimensions"
   ]
  },
  {
   "cell_type": "code",
   "execution_count": null,
   "id": "ca3ab906-6fc7-411f-b47e-e566268ad0ba",
   "metadata": {},
   "outputs": [],
   "source": [
    "# the array maps to all variables with related dimensions\n",
    "sst.maps"
   ]
  },
  {
   "cell_type": "code",
   "execution_count": null,
   "id": "b038a685-d180-448b-bfed-e58ffb793792",
   "metadata": {},
   "outputs": [],
   "source": [
    "# axes of the array can be called directly\n",
    "sst.TIME  # gives same as pdpData['TIME']"
   ]
  },
  {
   "cell_type": "code",
   "execution_count": null,
   "id": "01040d7f-7d0a-4020-9127-b3d196c3bab2",
   "metadata": {},
   "outputs": [],
   "source": [
    "# axes of the array are of BaseType object\n",
    "type(sst.TIME)  # same for TIME, COADSY and COADSX"
   ]
  },
  {
   "cell_type": "markdown",
   "id": "1866582b-d4f9-4955-94e5-864d8debd41e",
   "metadata": {},
   "source": [
    "---\n",
    "## CODE EXAMPLE 2: Introspect the variable attributes\n",
    "\n",
    "Call attributes of the DataGrid object (class):"
   ]
  },
  {
   "cell_type": "code",
   "execution_count": null,
   "id": "c8440736-a40c-4597-9d24-25ed28286251",
   "metadata": {},
   "outputs": [],
   "source": [
    "# check shape of the sst variable from the coads_climatology dataset\n",
    "sst.shape"
   ]
  },
  {
   "cell_type": "code",
   "execution_count": null,
   "id": "b96dc6b2-97a7-4dd5-a9cb-b68c9e3fb7b6",
   "metadata": {},
   "outputs": [],
   "source": [
    "sst.dtype"
   ]
  },
  {
   "cell_type": "code",
   "execution_count": null,
   "id": "3941d621-0c8e-4c47-99d7-4b54946b9f16",
   "metadata": {},
   "outputs": [],
   "source": [
    "sst.TIME.shape"
   ]
  },
  {
   "cell_type": "code",
   "execution_count": null,
   "id": "f715da86-9bcd-4810-b9f4-07f3d0a04dbe",
   "metadata": {},
   "outputs": [],
   "source": [
    "sst.TIME.dtype"
   ]
  },
  {
   "cell_type": "code",
   "execution_count": null,
   "id": "27243681-68f1-4ff1-affc-07a6741eb3cb",
   "metadata": {},
   "outputs": [],
   "source": [
    "# call an attribute of GridType object: attributes\n",
    "sst.attributes"
   ]
  },
  {
   "cell_type": "markdown",
   "id": "0264c88f-42aa-47c5-b553-39044e1a60ad",
   "metadata": {},
   "source": [
    "---\n",
    "## CODE EXAMPLE 3: Download a subset of gridded data\n",
    "\n",
    "Pydap will download the accessed data on-the-fly as needed:"
   ]
  },
  {
   "cell_type": "code",
   "execution_count": null,
   "id": "853dcc68-1068-4a81-8488-2353f906e73d",
   "metadata": {},
   "outputs": [],
   "source": [
    "# get shape again and compare to mappings\n",
    "sst.shape "
   ]
  },
  {
   "cell_type": "code",
   "execution_count": null,
   "id": "37a61546-bfce-4d57-a0b0-06eeb0e75531",
   "metadata": {},
   "outputs": [],
   "source": [
    "sst.TIME.shape, sst.COADSY.shape, sst.COADSX.shape"
   ]
  },
  {
   "cell_type": "code",
   "execution_count": null,
   "id": "1bf58fbe-570e-4f15-830e-d34c599b7a8f",
   "metadata": {},
   "outputs": [],
   "source": [
    "# only now, this will download data from the server !!!\n",
    "grid = sst[0,10:14,10:14] "
   ]
  },
  {
   "cell_type": "code",
   "execution_count": null,
   "id": "67537b75-75dc-47d9-a70f-e7dd2d22d167",
   "metadata": {},
   "outputs": [],
   "source": [
    "# data subset is also of object GridType\n",
    "type(grid)"
   ]
  },
  {
   "cell_type": "code",
   "execution_count": null,
   "id": "cff8d7c1-197c-4d04-ae46-fe74eba513ac",
   "metadata": {},
   "outputs": [],
   "source": [
    "#the grid data and its mappings can be viewed with the attribute data\n",
    "grid.data"
   ]
  },
  {
   "cell_type": "code",
   "execution_count": null,
   "id": "ad296e50-3366-4f7f-844c-4b44ac9aa76b",
   "metadata": {},
   "outputs": [],
   "source": [
    "#data itself can be accessed in the array attribute of the Grid...\n",
    "grid.array[:]"
   ]
  },
  {
   "cell_type": "code",
   "execution_count": null,
   "id": "691180a0-05ee-427e-9021-03129e0e2934",
   "metadata": {},
   "outputs": [],
   "source": [
    "#... or through the data axes\n",
    "grid.array[:].data"
   ]
  },
  {
   "cell_type": "code",
   "execution_count": null,
   "id": "274daef5-115b-4c5b-8530-cabf5eecadda",
   "metadata": {},
   "outputs": [],
   "source": [
    "# access with dictionary syntax or 'lazy' syntax:\n",
    "grid['SST'][:].data\n",
    "grid['TIME'][:].data    # or grid.TIME[:].data\n",
    "grid['COADSX'][:].data  # or grid.COADSX[:].data\n",
    "grid['COADSY'][:].data  # or grid.COADSY[:].data\n"
   ]
  },
  {
   "cell_type": "code",
   "execution_count": null,
   "id": "ca767c41-f824-4d7d-95ef-863d9614a1c6",
   "metadata": {},
   "outputs": [],
   "source": [
    "grid.data"
   ]
  },
  {
   "cell_type": "code",
   "execution_count": null,
   "id": "5d65a29a-5a03-44e3-b0cb-dd95a1b5b6df",
   "metadata": {},
   "outputs": [],
   "source": [
    "#Alternatively: dowloaded the data directly, skipping the axes:\n",
    "sst.array[0,10:14,10:14].data"
   ]
  },
  {
   "cell_type": "markdown",
   "id": "e0d2b765-31b6-436e-9a58-6b1103d409ab",
   "metadata": {},
   "source": [
    "---\n",
    "## CODE EXAMPLE 4: Determine Download URL for Certain Subset"
   ]
  },
  {
   "cell_type": "code",
   "execution_count": null,
   "id": "d49c11e1-a5a3-48ac-b88b-0d60599e3bf6",
   "metadata": {},
   "outputs": [],
   "source": [
    "# open website: http://test.opendap.org/opendap/data/nc/\n",
    "# click on nc file\n",
    "# get link for subset dataset through access form...\n",
    "# e.g. only for SST variable and time variable"
   ]
  },
  {
   "cell_type": "code",
   "execution_count": null,
   "id": "81226db0-dc3c-471a-82ee-ac49246dd009",
   "metadata": {},
   "outputs": [],
   "source": [
    "pdpData2 = open_url('http://test.opendap.org/opendap/data/nc/coads_climatology.nc?TIME[0:1:11],SST[0:1:11][0:1:89][0:1:179]')\n",
    "pdpData2.keys()"
   ]
  },
  {
   "cell_type": "markdown",
   "id": "3ee12247-c10f-4062-84ac-8852e915a7ea",
   "metadata": {},
   "source": [
    "---\n",
    "## CODE EXAMPLE 5: Open the file with netCDF4 (after downloading) \n",
    "\n",
    "You could also download the file we just worked with from the OPeNDAP server and interact with it via the netCDF4 package, as we discussed during the last lesson, that means with the same netCDF4 functions and attributes. You could try this below. This should demonstrate, how the package **pydap** provides just another interface (like the package netCDF4) to the same science data structure (NetCDF Science Data files). The power of pydap and OPeNDAP servers is, though, that you do not have to download the entire dataset, only the variables or slices that you need."
   ]
  },
  {
   "cell_type": "code",
   "execution_count": null,
   "id": "a37a5feb-6207-4683-9242-9da91bbbaa8a",
   "metadata": {},
   "outputs": [],
   "source": [
    "# uncomment the lines to download the file to your computer\n",
    "import requests\n",
    "url = 'http://test.opendap.org/dap/data/nc/coads_climatology.nc'\n",
    "filename = 'coads_climatology.nc'\n",
    "# r = requests.get(url, allow_redirects=True, stream=True)  \n",
    "# open(filename, 'wb').write(r.content) "
   ]
  },
  {
   "cell_type": "code",
   "execution_count": null,
   "id": "09f7024e-9a1f-4c75-9f63-655fcf3ff4cc",
   "metadata": {},
   "outputs": [],
   "source": [
    "# open it with netCDF4\n",
    "from netCDF4 import Dataset\n",
    "data = Dataset('coads_climatology.nc')"
   ]
  },
  {
   "cell_type": "code",
   "execution_count": null,
   "id": "241b453a-92c9-4f2b-86c8-44a2e39d2748",
   "metadata": {},
   "outputs": [],
   "source": [
    "data"
   ]
  },
  {
   "cell_type": "markdown",
   "id": "b9540666-2171-4f5b-805a-fe804f264d14",
   "metadata": {},
   "source": [
    "---\n",
    "### CODE EXAMPLE 6: OpenDAP with EarthData and Authentication"
   ]
  },
  {
   "cell_type": "code",
   "execution_count": null,
   "id": "82b140d9-10e8-4721-be9b-cd9b71ce1944",
   "metadata": {},
   "outputs": [],
   "source": [
    "# to make this work:\n",
    "#   - needed to instal lxml package\n",
    "#   - need to authorize applications on EarthData account:\n",
    "#     \"NSIDC V0 OPeNDAP\" and \"NASA GESDISC DATA ARCHIVE\" \n",
    "#     for later also: OB.DAAC MERIS, GESDISC Test Data Archive"
   ]
  },
  {
   "cell_type": "code",
   "execution_count": null,
   "id": "9ef4937c-f2e4-4f01-b080-c618ea29c5a6",
   "metadata": {},
   "outputs": [],
   "source": [
    "from pydap.client import open_url       # needed for OPeNDAP access\n",
    "from pydap.cas.urs import setup_session # needed for Earthdata login\n",
    "import numpy as np"
   ]
  },
  {
   "cell_type": "code",
   "execution_count": null,
   "id": "5758c99e-5975-4c17-a782-b702671d8f07",
   "metadata": {},
   "outputs": [],
   "source": [
    "url = 'https://hydro1.gesdisc.eosdis.nasa.gov/opendap/hyrax/GLDAS/GLDAS_CLSM10_M.2.1/2021/GLDAS_CLSM10_M.A202101.021.nc4'\n",
    "username = 'geopythonvt'      # please replace with your own username\n",
    "password = 'GeoPythonVT2021'  # please replace with your own password\n",
    "session = setup_session(username, password, check_url=url) # create Earthdata session\n",
    "dataset = open_url(url, session=session)  # create connection to dataset"
   ]
  },
  {
   "cell_type": "code",
   "execution_count": null,
   "id": "d10c3cab-d458-4faa-9d72-531c39ff94d4",
   "metadata": {},
   "outputs": [],
   "source": [
    "# The dataset has lot's of variables:\n",
    "dataset.keys()"
   ]
  },
  {
   "cell_type": "code",
   "execution_count": null,
   "id": "0f1cd4fa-3c44-461e-ae3f-a7b280d09c16",
   "metadata": {},
   "outputs": [],
   "source": [
    "dataset.attributes"
   ]
  },
  {
   "cell_type": "code",
   "execution_count": null,
   "id": "a0c31fc5-09f3-4be6-b384-ad80194ce35e",
   "metadata": {},
   "outputs": [],
   "source": [
    "# Let's say we are only interested in Rainfall data\n",
    "dataset.Rainf_tavg.attributes"
   ]
  },
  {
   "cell_type": "code",
   "execution_count": null,
   "id": "36b62ff0-8302-4c6c-aa00-6c0580631727",
   "metadata": {},
   "outputs": [],
   "source": [
    "dataset.Rainf_tavg.shape"
   ]
  },
  {
   "cell_type": "code",
   "execution_count": null,
   "id": "4c2d27a6-3809-4ff7-8ad1-22521d9e497a",
   "metadata": {},
   "outputs": [],
   "source": [
    "dataset.Rainf_tavg.shape"
   ]
  },
  {
   "cell_type": "code",
   "execution_count": null,
   "id": "deb48621-a172-4f55-b5af-4c833084232b",
   "metadata": {},
   "outputs": [],
   "source": [
    "dataset.time[:].data"
   ]
  },
  {
   "cell_type": "code",
   "execution_count": null,
   "id": "7bfd3c83-71a0-4e45-a967-c7d30df468de",
   "metadata": {},
   "outputs": [],
   "source": [
    "dataset.time[:].units"
   ]
  },
  {
   "cell_type": "code",
   "execution_count": null,
   "id": "be6e289a-a70b-4f49-a2c9-81b79bd7b1fb",
   "metadata": {},
   "outputs": [],
   "source": [
    "# Now we can download only the rainfall variable \n",
    "# and its mappings and metadata: time, lon, lat, missing_value\n",
    "rainf = dataset.Rainf_tavg.array[:].data\n",
    "lon = dataset.lon[:].data\n",
    "lat =  dataset.lat[:].data\n",
    "lonGrid, latGrid = np.meshgrid(lon,lat)\n",
    "fillVal = dataset.Rainf_tavg.missing_value"
   ]
  },
  {
   "cell_type": "markdown",
   "id": "ff266210-d473-409a-87d5-0ca2a97a7c69",
   "metadata": {},
   "source": [
    "#### Plot the rainfall data"
   ]
  },
  {
   "cell_type": "code",
   "execution_count": null,
   "id": "c779dca0-2582-4acd-9aa4-b66d75625fa9",
   "metadata": {},
   "outputs": [],
   "source": [
    "fillVal"
   ]
  },
  {
   "cell_type": "code",
   "execution_count": null,
   "id": "6da21bde-94ac-443f-b0e0-c988f40eefd5",
   "metadata": {},
   "outputs": [],
   "source": [
    "# replace missing values with nan\n",
    "rainf[rainf==fillVal] = np.nan\n",
    "# convert unit from kg m-2 s-1 to kg m-2 d-1\n",
    "rainf_day = rainf*60*60*24"
   ]
  },
  {
   "cell_type": "code",
   "execution_count": null,
   "id": "47732899-6671-48fa-8ea9-86f5d03bbed5",
   "metadata": {},
   "outputs": [],
   "source": [
    "import matplotlib.pyplot as plt\n",
    "fig = plt.figure(figsize=(10, 6))\n",
    "plt.pcolormesh(lonGrid,latGrid, rainf_day[0], shading='auto',cmap='nipy_spectral') \n",
    "# or use: \n",
    "#plt.scatter(lonGrid,latGrid, c=rainf_day, cmap='nipy_spectral', s=1) \n",
    "plt.colorbar(label='GLDAS average daily Rainfall in Jan 2021(mm)')"
   ]
  },
  {
   "cell_type": "markdown",
   "id": "cbb38fc9-045d-41d2-933a-14b59358597e",
   "metadata": {},
   "source": [
    "---\n",
    "## CODE EXAMPLE 7: Download entire file with requests (no subsetting)\n",
    "\n",
    "For this we need to setup the login to Earthdata by creating a .netrc file\n",
    "See also descriptions here: https://disc.gsfc.nasa.gov/data-access\n",
    "\n",
    "You need to replace `<username>` and `<password>` with your own Earthdata login credentials."
   ]
  },
  {
   "cell_type": "code",
   "execution_count": null,
   "id": "29234260-b3e1-406b-9d8c-0cb14ef3d962",
   "metadata": {},
   "outputs": [],
   "source": [
    "%%bash\n",
    "cd $HOME\n",
    "touch .netrc\n",
    "echo \"machine urs.earthdata.nasa.gov login <username>` password <password>\" > .netrc\n",
    "chmod 0600 .netrc"
   ]
  },
  {
   "cell_type": "code",
   "execution_count": null,
   "id": "655abcbf-dc15-4612-9103-9f43014349ba",
   "metadata": {},
   "outputs": [],
   "source": [
    "# Set the URL string to point to a specific data URL. Some generic examples are:\n",
    "#   https://servername/data/path/file\n",
    "#   https://servername/opendap/path/file[.format[?subset]]\n",
    "#   https://servername/daac-bin/OTF/HTTP_services.cgi?KEYWORD=value[&KEYWORD=value]\n",
    "URL = 'https://hydro1.gesdisc.eosdis.nasa.gov/opendap/hyrax/GLDAS/GLDAS_CLSM10_M.2.1/2001/GLDAS_CLSM10_M.A200101.021.nc4.html'\n",
    "\n",
    "# Set the FILENAME string to the data file name, the LABEL keyword value, or any customized name. \n",
    "FILENAME = 'GLDAS_CLSM10_M.A200101.021.nc4'\n",
    "\n",
    "import requests\n",
    "result = requests.get(URL)\n",
    "try:\n",
    "    result.raise_for_status()\n",
    "    f = open(FILENAME,'wb')\n",
    "    f.write(result.content)\n",
    "    f.close()\n",
    "    print('contents of URL written to '+FILENAME)\n",
    "except:\n",
    "    print('requests.get() returned an error code '+str(result.status_code))\n"
   ]
  }
 ],
 "metadata": {
  "kernelspec": {
   "display_name": "Python 3",
   "language": "python",
   "name": "python3"
  },
  "language_info": {
   "codemirror_mode": {
    "name": "ipython",
    "version": 3
   },
   "file_extension": ".py",
   "mimetype": "text/x-python",
   "name": "python",
   "nbconvert_exporter": "python",
   "pygments_lexer": "ipython3",
   "version": "3.8.8"
  }
 },
 "nbformat": 4,
 "nbformat_minor": 5
}
