{
 "cells": [
  {
   "cell_type": "markdown",
   "metadata": {},
   "source": [
    "\"Geo Data Science with Python\" \n",
    "### Notebook Lesson 7b\n",
    "\n",
    "# Selecting points inside a boundary\n",
    "\n",
    "The purpose of this notebook is to introduce some content of the Python module **Shapely** and make use of it's classes for selecting points inside a boundary and generating a regional mask raster.\n",
    "\n",
    "### Sources\n",
    "Documentation pages of the module [Shapely](https://shapely.readthedocs.io/en/stable/index.html) and the [Python-GIS page about Shapely](https://automating-gis-processes.github.io/CSC18/lessons/L4/point-in-polygon.html).\n",
    "\n",
    "---\n"
   ]
  },
  {
   "cell_type": "markdown",
   "metadata": {},
   "source": [
    "# Part A: Module Shapely\n",
    "\n",
    "In previous lesson parts, we calculated statistics for gridded data over the entire globe or a certain bounding box (lat/lon box). In a more realistic scenario, we would be interested to retrieve statistics for a certain geographical or political area, like an ocean region (like the Atlatnic), a river basin, a country or a state.\n",
    "\n",
    "Such boundaries are not lat/lon blocks, but defined by more complex polygons and we cannot simply slice them out of the arrays. To be able to select unregularly shaped region from a data array, we will peak into a module, which provides us with tools to perform exactly that: selecting raster data within a region. As you will see later, this is a very typical Geoscience problem, which reduces to the problem of finding out whether a **point falls inside a polygon**. \n",
    "\n",
    "Here, you will learn to do this in Python with the module shapely."
   ]
  },
  {
   "cell_type": "markdown",
   "metadata": {},
   "source": [
    "<img src=\"./images/Image_Shapely.png\" width=\"500\" />\n",
    "\n",
    "Figure 1: *Fundamental geometric objects that can be used in Python with Shapely module*"
   ]
  },
  {
   "cell_type": "markdown",
   "metadata": {},
   "source": [
    "## Creating Points and Lines using Shapely\n",
    "\n",
    "The most fundamental geometric objects are Points, Lines and Polygons which are the basic ingredients when working with spatial data in vector format. Python has a specific module called Shapely, which can be used to create and work with planar geometric objects. There are many useful functionalities that you can do with Shapely such as:\n",
    "\n",
    "* Create a Line or Polygon from a Collection of Point geometries\n",
    "* Calculate areas/length/bounds etc. of input geometries\n",
    "* Make geometric operations based on the input geometries such as Union, Difference, Distance etc.\n",
    "* Make spatial queries between geometries such Intersects, Touches, Crosses, Within etc.\n",
    "\n",
    "Geometric Objects consist of coordinate tuples where:\n",
    "\n",
    "* Point-objects represent a single point in space. Points can be either two-dimensional (x, y) or three dimensional (x, y, z).\n",
    "* LineString-objects (i.e. a line) represent a sequence of points joined together to form a line. Hence, a line consist of a list of at least two coordinate tuples\n",
    "* Polygon objects represents a filled area that consists of a list of at least three coordinate tuples that forms the exterior ring and a (possible) list of hole polygons.\n",
    "\n",
    "Here we will look only into selected parts of the module: **Points and Polygons** and related functions `within()` and `contain()`, which are necessary to perform the final project."
   ]
  },
  {
   "cell_type": "markdown",
   "metadata": {},
   "source": [
    "### Point\n",
    "\n",
    "During a previous lesson, you were coding your a class Point. Shapely offers something similar, but it comes with many more methods and attributes.\n",
    "\n",
    "Creating a shapely Point is easy, you pass x and y coordinates into a Point()-object:"
   ]
  },
  {
   "cell_type": "code",
   "execution_count": 1,
   "metadata": {},
   "outputs": [],
   "source": [
    "# Import geometric object Point from shapely module\n",
    "from shapely.geometry import Point, Polygon"
   ]
  },
  {
   "cell_type": "code",
   "execution_count": 2,
   "metadata": {},
   "outputs": [],
   "source": [
    "# Create Point geometric object(s) with coordinates\n",
    "point1 = Point(2.2, 4.2)\n",
    "point2 = Point(7.2, -25.1)\n",
    "point3 = Point(9.26, -2.456)"
   ]
  },
  {
   "cell_type": "markdown",
   "metadata": {},
   "source": [
    "Let’s see what the variables look like"
   ]
  },
  {
   "cell_type": "code",
   "execution_count": 3,
   "metadata": {},
   "outputs": [
    {
     "name": "stdout",
     "output_type": "stream",
     "text": [
      "POINT (2.2 4.2)\n"
     ]
    }
   ],
   "source": [
    "# printing point 1 to screen\n",
    "print(point1)"
   ]
  },
  {
   "cell_type": "code",
   "execution_count": 4,
   "metadata": {},
   "outputs": [
    {
     "name": "stdout",
     "output_type": "stream",
     "text": [
      "<class 'shapely.geometry.point.Point'>\n"
     ]
    }
   ],
   "source": [
    "# What is the type of the point?\n",
    "print(type(point1))"
   ]
  },
  {
   "cell_type": "markdown",
   "metadata": {},
   "source": [
    "We can see that the type of the point is shapely’s Point which is represented in a specific format that is based on GEOS C++ library that is one of the standard libraries in GIS."
   ]
  },
  {
   "cell_type": "markdown",
   "metadata": {},
   "source": [
    "### Point attributes and functions\n",
    "\n",
    "The point-object has some built-in attributes that can be accessed and also some useful functionalities. One of the most useful ones are the ability to extract the coordinates of a Point and calculate the Euclidian distance between points.\n",
    "\n",
    "Extracting the coordinates of a Point can be done in a couple of different ways:"
   ]
  },
  {
   "cell_type": "code",
   "execution_count": 5,
   "metadata": {},
   "outputs": [
    {
     "data": {
      "text/plain": [
       "shapely.coords.CoordinateSequence"
      ]
     },
     "execution_count": 5,
     "metadata": {},
     "output_type": "execute_result"
    }
   ],
   "source": [
    "# Get the coordinates\n",
    "point_coords = point1.coords \n",
    "\n",
    "# What is the type of this?\n",
    "type(point_coords) "
   ]
  },
  {
   "cell_type": "markdown",
   "metadata": {},
   "source": [
    "Ok, we can see that the output is a Shapely CoordinateSequence. Let’s see how we can get out the actual coordinates:"
   ]
  },
  {
   "cell_type": "code",
   "execution_count": 6,
   "metadata": {},
   "outputs": [],
   "source": [
    "# Get x and y coordinates\n",
    "xy = point_coords.xy\n",
    "\n",
    "# Get only x coordinates of Point1\n",
    "x = point1.x\n",
    "\n",
    "# Whatabout y coordinate?\n",
    "y = point1.y"
   ]
  },
  {
   "cell_type": "markdown",
   "metadata": {},
   "source": [
    "What is inside?"
   ]
  },
  {
   "cell_type": "code",
   "execution_count": 7,
   "metadata": {},
   "outputs": [
    {
     "name": "stdout",
     "output_type": "stream",
     "text": [
      "(array('d', [2.2]), array('d', [4.2]))\n"
     ]
    }
   ],
   "source": [
    "# printing received coordinates of the point\n",
    "print(xy)"
   ]
  },
  {
   "cell_type": "code",
   "execution_count": 8,
   "metadata": {},
   "outputs": [
    {
     "name": "stdout",
     "output_type": "stream",
     "text": [
      "2.2\n"
     ]
    }
   ],
   "source": [
    "# printing received x coordinate of the point\n",
    "print(x)"
   ]
  },
  {
   "cell_type": "code",
   "execution_count": 9,
   "metadata": {},
   "outputs": [
    {
     "name": "stdout",
     "output_type": "stream",
     "text": [
      "4.2\n"
     ]
    }
   ],
   "source": [
    "# printing received y coordinate of the point\n",
    "print(y)"
   ]
  },
  {
   "cell_type": "markdown",
   "metadata": {},
   "source": [
    "So we can see that the our xy variable contains a tuple where x and y are stored inside of numpy arrays. However, our x and y variables are plain decimal numbers.\n",
    "\n",
    "It is also possible to calculate the distance between points which can be useful in many applications. The returned distance is based on the projection of the points (degrees in WGS84, meters in UTM)."
   ]
  },
  {
   "cell_type": "code",
   "execution_count": 10,
   "metadata": {},
   "outputs": [
    {
     "name": "stdout",
     "output_type": "stream",
     "text": [
      "Distance between the points is 29.72 decimal degrees\n"
     ]
    }
   ],
   "source": [
    "# Calculate the distance between point1 and point2\n",
    "point_dist = point1.distance(point2)\n",
    "print(\"Distance between the points is {0:.2f} decimal degrees\".format(point_dist))"
   ]
  },
  {
   "cell_type": "markdown",
   "metadata": {},
   "source": [
    "## Polygon\n",
    "\n",
    "Creating a shapely-object Polygon continues the same logic of how Point was created but Polygon objects only accept coordinate-tuples as input. A shapely Polygon needs at least three coordinate-tuples:"
   ]
  },
  {
   "cell_type": "code",
   "execution_count": 11,
   "metadata": {},
   "outputs": [],
   "source": [
    "# Create a Polygon from the coordinates\n",
    "poly = Polygon([(2.2, 4.2), (7.2, -25.1), (9.26, -2.456)])\n",
    "\n",
    "# We can also use our previously created Point objects (same outcome)\n",
    "# --> notice that Polygon object requires x,y coordinates as input\n",
    "poly2 = Polygon([[p.x, p.y] for p in [point1, point2, point3]])"
   ]
  },
  {
   "cell_type": "code",
   "execution_count": 12,
   "metadata": {},
   "outputs": [],
   "source": [
    "# Geometry type can be accessed as a String\n",
    "poly_type = poly.geom_type\n",
    "\n",
    "# Using the Python's type function gives the type in a different format\n",
    "poly_type2 = type(poly)"
   ]
  },
  {
   "cell_type": "markdown",
   "metadata": {},
   "source": [
    "Let's see how our Polygon looks like:"
   ]
  },
  {
   "cell_type": "code",
   "execution_count": 13,
   "metadata": {},
   "outputs": [
    {
     "name": "stdout",
     "output_type": "stream",
     "text": [
      "POLYGON ((2.2 4.2, 7.2 -25.1, 9.26 -2.456, 2.2 4.2))\n",
      "POLYGON ((2.2 4.2, 7.2 -25.1, 9.26 -2.456, 2.2 4.2))\n",
      "Geometry type as text: Polygon\n",
      "Geometry how Python shows it: <class 'shapely.geometry.polygon.Polygon'>\n"
     ]
    }
   ],
   "source": [
    "# printing out both polygons\n",
    "print(poly)\n",
    "print(poly2)\n",
    "\n",
    "# printing the polygon type as text and how Python shows is\n",
    "print(\"Geometry type as text:\", poly_type)\n",
    "print(\"Geometry how Python shows it:\", poly_type2)"
   ]
  },
  {
   "cell_type": "markdown",
   "metadata": {},
   "source": [
    "### Polygon attributes and functions\n",
    "\n",
    "We can again access different attributes that are really useful such as area, centroid, bounding box, exterior, and exterior-length of the Polygon. Here some examples:"
   ]
  },
  {
   "cell_type": "code",
   "execution_count": 14,
   "metadata": {},
   "outputs": [],
   "source": [
    "# Define a polygon that circumferes a mercator projected global map\n",
    "world = Polygon([(-180, 90), (-180, -90), (180, -90), (180, 90)])\n",
    "\n",
    "# Get the centroid of the Polygon\n",
    "world_centroid = world.centroid\n",
    "\n",
    "# Get the area of the Polygon\n",
    "world_area = world.area\n",
    "\n",
    "# Get the bounds of the Polygon (i.e. bounding box)\n",
    "world_bbox = world.bounds\n",
    "\n",
    "# Get the exterior of the Polygon\n",
    "world_ext = world.exterior\n",
    "\n",
    "# Get the length of the exterior\n",
    "world_ext_length = world_ext.length"
   ]
  },
  {
   "cell_type": "code",
   "execution_count": 15,
   "metadata": {},
   "outputs": [
    {
     "name": "stdout",
     "output_type": "stream",
     "text": [
      "Poly centroid:  POINT (-0 -0)\n",
      "Poly Area:  64800.0\n",
      "Poly Bounding Box:  (-180.0, -90.0, 180.0, 90.0)\n",
      "Poly Exterior:  LINEARRING (-180 90, -180 -90, 180 -90, 180 90, -180 90)\n",
      "Poly Exterior Length:  1080.0\n"
     ]
    }
   ],
   "source": [
    "print(\"Poly centroid: \", world_centroid)\n",
    "print(\"Poly Area: \", world_area)\n",
    "print(\"Poly Bounding Box: \", world_bbox)\n",
    "print(\"Poly Exterior: \", world_ext)\n",
    "print(\"Poly Exterior Length: \", world_ext_length)"
   ]
  },
  {
   "cell_type": "markdown",
   "metadata": {},
   "source": [
    "Shapely also provides the option of creating lines. But we will stop at this point and postpone further content on shapely objects to GIS322. "
   ]
  },
  {
   "cell_type": "markdown",
   "metadata": {},
   "source": [
    "## Point in Polygon\n",
    "\n",
    "Finding out if a certain **point is located inside or outside of an area is a fundamental geospatial operation** that is often used, for example, **to select data based on location**. Such spatial queries are one of the typical first steps of the workflow when doing spatial analysis. \n",
    "\n",
    "Computationally, detecting if a point is inside a polygon is most commonly done using a specific formula called Ray Casting algorithm. Luckily, we do not need to create such a function ourselves for conducting the **Point in Polygon (PIP)** query. Instead, we can take advantage of Shapely’s binary predicates that can evaluate the topological relationships between geometric objects, such as the PIP as we’re interested here.\n",
    "\n",
    "There are basically two ways of conducting PIP in Shapely:\n",
    "\n",
    "* using a function called .within() that checks if a point is within a polygon\n",
    "* using a function called .contains() that checks if a polygon contains a point\n",
    "\n",
    "Let’s first again create a Polygon using a list of coordinate-tuples and a couple of Point objects:"
   ]
  },
  {
   "cell_type": "code",
   "execution_count": 16,
   "metadata": {},
   "outputs": [],
   "source": [
    "# Create Point objects\n",
    "p1 = Point(24.952242, 60.1696017)\n",
    "p2 = Point(24.976567, 60.1612500)\n",
    "\n",
    "# Create a Polygon\n",
    "coords = [(24.950899, 60.169158), (24.953492, 60.169158), (24.953510, 60.170104), (24.950958, 60.169990)]\n",
    "poly = Polygon(coords)"
   ]
  },
  {
   "cell_type": "markdown",
   "metadata": {},
   "source": [
    "Let's check what we have:"
   ]
  },
  {
   "cell_type": "code",
   "execution_count": 17,
   "metadata": {},
   "outputs": [
    {
     "name": "stdout",
     "output_type": "stream",
     "text": [
      "POINT (24.952242 60.1696017)\n"
     ]
    }
   ],
   "source": [
    "print(p1)"
   ]
  },
  {
   "cell_type": "code",
   "execution_count": 18,
   "metadata": {},
   "outputs": [
    {
     "name": "stdout",
     "output_type": "stream",
     "text": [
      "POINT (24.976567 60.16125)\n"
     ]
    }
   ],
   "source": [
    "print(p2)"
   ]
  },
  {
   "cell_type": "code",
   "execution_count": 19,
   "metadata": {},
   "outputs": [
    {
     "name": "stdout",
     "output_type": "stream",
     "text": [
      "POLYGON ((24.950899 60.169158, 24.953492 60.169158, 24.95351 60.170104, 24.950958 60.16999, 24.950899 60.169158))\n"
     ]
    }
   ],
   "source": [
    "print(poly)"
   ]
  },
  {
   "cell_type": "markdown",
   "metadata": {},
   "source": [
    "Now, let’s check if those points are `within()` the polygon"
   ]
  },
  {
   "cell_type": "code",
   "execution_count": 20,
   "metadata": {},
   "outputs": [
    {
     "data": {
      "text/plain": [
       "True"
      ]
     },
     "execution_count": 20,
     "metadata": {},
     "output_type": "execute_result"
    }
   ],
   "source": [
    "# Check if p1 is within the polygon using the within function\n",
    "p1.within(poly)"
   ]
  },
  {
   "cell_type": "code",
   "execution_count": 21,
   "metadata": {},
   "outputs": [
    {
     "data": {
      "text/plain": [
       "False"
      ]
     },
     "execution_count": 21,
     "metadata": {},
     "output_type": "execute_result"
    }
   ],
   "source": [
    "# Check if p2 is within the polygon\n",
    "p2.within(poly)"
   ]
  },
  {
   "cell_type": "markdown",
   "metadata": {},
   "source": [
    "We can see that the first point seems to be inside that polygon and the other one doesn’t.\n",
    "\n",
    "In fact, the first point is close to the center of the polygon as we can see:"
   ]
  },
  {
   "cell_type": "code",
   "execution_count": 22,
   "metadata": {},
   "outputs": [
    {
     "name": "stdout",
     "output_type": "stream",
     "text": [
      "POINT (24.952242 60.1696017)\n",
      "POINT (24.95224242849236 60.16960179038188)\n"
     ]
    }
   ],
   "source": [
    "# Our point\n",
    "print(p1)\n",
    "\n",
    "# The centroid\n",
    "print(poly.centroid)"
   ]
  },
  {
   "cell_type": "markdown",
   "metadata": {},
   "source": [
    "It is also possible to do PIP other way around, i.e. to check if polygon contains a point:"
   ]
  },
  {
   "cell_type": "code",
   "execution_count": 23,
   "metadata": {},
   "outputs": [
    {
     "data": {
      "text/plain": [
       "True"
      ]
     },
     "execution_count": 23,
     "metadata": {},
     "output_type": "execute_result"
    }
   ],
   "source": [
    "# Does polygon contain p1?\n",
    "poly.contains(p1)"
   ]
  },
  {
   "cell_type": "code",
   "execution_count": 24,
   "metadata": {},
   "outputs": [
    {
     "data": {
      "text/plain": [
       "False"
      ]
     },
     "execution_count": 24,
     "metadata": {},
     "output_type": "execute_result"
    }
   ],
   "source": [
    "# Does polygon contain p2?\n",
    "poly.contains(p2)"
   ]
  },
  {
   "cell_type": "markdown",
   "metadata": {},
   "source": [
    "Both ways of checking the spatial relationship results in the same outcome. But which one should you use then? Well, it depends:\n",
    "\n",
    "If you have **many points and just one polygon** and you try to find out which one of them is inside the polygon:\n",
    "    \n",
    "* You need to iterate over the points and check, one at a time, if it is `within()` the polygon specified\n",
    "\n",
    "If you have **many polygons and just one point** and you want to find out which polygon contains the point\n",
    "\n",
    "* You iterate over the polygons until you find a polygon that `contains()` the point specified (assuming there are no overlapping polygons)."
   ]
  },
  {
   "cell_type": "markdown",
   "metadata": {},
   "source": [
    "### Conclusion\n",
    "\n",
    "The module shapely provides us with data object types for points and polygons (and more). It also comes with function to perform a Point in Polygon (PIP) analysis.\n",
    "This is definitely not all to know about the module shapely, but the most important functions to move on to analyze our sea surface temperatures for the atlantic ocean only!"
   ]
  },
  {
   "cell_type": "markdown",
   "metadata": {},
   "source": [
    "---\n",
    "\n",
    "# Part B: Analyzing SST in the Atlatnic Ocean\n",
    "\n",
    "### Creating a spatial mask for the gridded dataset\n",
    "\n",
    "The goal of this part is to calculate map statistics within a non-uniform geographical region from a given gridded dataset (e.g. temperature data, sea surface data, etc.). One approach to achieve that is to create a data mask, that can filter grid points lying outside the region and only include points inside the region. Once we have that mask, to mask out all points outside the region. Based on the mask, we can then calculate map statistics only for points inside the region. \n",
    "\n",
    "Such a mask would aquire 0 (or `nan`) for raster points that fall outside the region and 1 for raster points that fall inside the region. See an example for a grid covering the state of Arizona and printing the values of a mask array coding the state boundaries. :\n",
    "\n",
    "<img src=\"./images/Image_spatialMask.png\" width=\"200\" />\n",
    "\n",
    "In order to achieve the generation of such a mask, we can utilize classes of the module shapely, which provide methods to discriminate whether points locate inside a specific polygon (e.g. geographical region) For that we have to convert the geographical information into shapely objects. \n",
    "\n",
    "Below we will do exactly that for calculating statistics of sea surface temperature in the atlantic ocean."
   ]
  },
  {
   "cell_type": "markdown",
   "metadata": {},
   "source": [
    "### Dataset\n",
    "We will be working with the same file as in one of the previous exercises, sea surface temperatures stored in a netCDF file `tos_O1_2001-2002.nc`."
   ]
  },
  {
   "cell_type": "code",
   "execution_count": 25,
   "metadata": {},
   "outputs": [
    {
     "name": "stderr",
     "output_type": "stream",
     "text": [
      "<ipython-input-25-83be411386b7>:6: DeprecationWarning: `np.bool` is a deprecated alias for the builtin `bool`. To silence this warning, use `bool` by itself. Doing this will not modify any behavior and is safe. If you specifically wanted the numpy scalar type, use `np.bool_` here.\n",
      "Deprecated in NumPy 1.20; for more details and guidance: https://numpy.org/devdocs/release/1.20.0-notes.html#deprecations\n",
      "  lat = ncData.variables['lat'][:].data\n",
      "<ipython-input-25-83be411386b7>:7: DeprecationWarning: `np.bool` is a deprecated alias for the builtin `bool`. To silence this warning, use `bool` by itself. Doing this will not modify any behavior and is safe. If you specifically wanted the numpy scalar type, use `np.bool_` here.\n",
      "Deprecated in NumPy 1.20; for more details and guidance: https://numpy.org/devdocs/release/1.20.0-notes.html#deprecations\n",
      "  lon = ncData.variables['lon'][:].data\n",
      "<ipython-input-25-83be411386b7>:8: DeprecationWarning: `np.bool` is a deprecated alias for the builtin `bool`. To silence this warning, use `bool` by itself. Doing this will not modify any behavior and is safe. If you specifically wanted the numpy scalar type, use `np.bool_` here.\n",
      "Deprecated in NumPy 1.20; for more details and guidance: https://numpy.org/devdocs/release/1.20.0-notes.html#deprecations\n",
      "  ncTime = ncData.variables['time'][:].data\n",
      "<ipython-input-25-83be411386b7>:9: DeprecationWarning: `np.bool` is a deprecated alias for the builtin `bool`. To silence this warning, use `bool` by itself. Doing this will not modify any behavior and is safe. If you specifically wanted the numpy scalar type, use `np.bool_` here.\n",
      "Deprecated in NumPy 1.20; for more details and guidance: https://numpy.org/devdocs/release/1.20.0-notes.html#deprecations\n",
      "  ncMask = ncData.variables['tos'][:].mask\n",
      "<ipython-input-25-83be411386b7>:10: DeprecationWarning: `np.bool` is a deprecated alias for the builtin `bool`. To silence this warning, use `bool` by itself. Doing this will not modify any behavior and is safe. If you specifically wanted the numpy scalar type, use `np.bool_` here.\n",
      "Deprecated in NumPy 1.20; for more details and guidance: https://numpy.org/devdocs/release/1.20.0-notes.html#deprecations\n",
      "  tos = ncData.variables['tos'][:].data\n"
     ]
    }
   ],
   "source": [
    "import numpy as np\n",
    "from netCDF4 import Dataset\n",
    "ncData = Dataset('./tos_O1_2001-2002.nc')\n",
    "\n",
    "# reading data from netcdf file tos_O1_2001-2002.nc\n",
    "lat = ncData.variables['lat'][:].data\n",
    "lon = ncData.variables['lon'][:].data\n",
    "ncTime = ncData.variables['time'][:].data\n",
    "ncMask = ncData.variables['tos'][:].mask\n",
    "tos = ncData.variables['tos'][:].data\n",
    "tos[tos==1e20] = np.nan\n",
    "ncData.close()\n",
    "lonGrid, latGrid = np.meshgrid(lon,lat)"
   ]
  },
  {
   "cell_type": "markdown",
   "metadata": {},
   "source": [
    "Here we want to do this for **sea surface temperatures within the Atlantic ocean**. For that we are providing the outline of deeper portions of the Atlantic given as a coordinate list of polygon vertices stored in a .csv-file `Atlantic.csv`. Hence, the file contains the boundaries of the deeper Atlantic. We can import the data and look at them first:"
   ]
  },
  {
   "cell_type": "code",
   "execution_count": 26,
   "metadata": {},
   "outputs": [],
   "source": [
    "# reading the boundary of the Atlantic from csv file using numpy\n",
    "filename = \"./Atlantic.csv\" \n",
    "atlanticBnd = np.genfromtxt(filename, delimiter=',', skip_header=1) "
   ]
  },
  {
   "cell_type": "code",
   "execution_count": 27,
   "metadata": {},
   "outputs": [
    {
     "data": {
      "text/plain": [
       "array([[ 4.46575507e+01,  2.99575338e+02],\n",
       "       [ 4.46575507e+01,  3.03424768e+02],\n",
       "       [ 4.51885065e+01,  3.08203370e+02],\n",
       "       [ 4.77494210e+01,  3.10832823e+02],\n",
       "       [ 5.31631090e+01,  3.10712519e+02],\n",
       "       [ 5.71350120e+01,  3.13645667e+02],\n",
       "       [ 6.27444711e+01,  3.25217377e+02],\n",
       "       [ 6.43482122e+01,  3.33102437e+02],\n",
       "       [ 6.00715692e+01,  3.40452917e+02],\n",
       "       [ 5.60622165e+01,  3.48070687e+02],\n",
       "       [ 4.81771561e+01,  3.48337978e+02],\n",
       "       [ 4.34629002e+01,  3.49617922e+02],\n",
       "       [ 3.65604748e+01,  3.49883400e+02],\n",
       "       [ 3.24455674e+01,  3.49219705e+02],\n",
       "       [ 2.84633989e+01,  3.43644670e+02],\n",
       "       [ 2.18264514e+01,  3.41653585e+02],\n",
       "       [ 1.28002029e+01,  3.40989891e+02],\n",
       "       [ 6.00387095e+00,  3.38141872e+02],\n",
       "       [ 1.08966190e-01,  3.31645446e+02],\n",
       "       [-1.40286470e+00,  3.22008221e+02],\n",
       "       [ 3.90669327e+00,  3.12583755e+02],\n",
       "       [ 9.21625125e+00,  3.03690246e+02],\n",
       "       [ 1.74460661e+01,  3.02362856e+02],\n",
       "       [ 1.99681061e+01,  2.92540174e+02],\n",
       "       [ 2.43484915e+01,  2.84708576e+02],\n",
       "       [ 3.09854389e+01,  2.83381187e+02],\n",
       "       [ 3.72241696e+01,  2.86434182e+02],\n",
       "       [ 4.08081212e+01,  2.92540174e+02],\n",
       "       [ 4.46575507e+01,  2.99575338e+02]])"
      ]
     },
     "execution_count": 27,
     "metadata": {},
     "output_type": "execute_result"
    }
   ],
   "source": [
    "# printing the content of the Atlantic boundary to screen\n",
    "atlanticBnd"
   ]
  },
  {
   "cell_type": "markdown",
   "metadata": {},
   "source": [
    "You see latitudinal coordinates in the first column and longitudinal cooridnates in the second column.\n",
    "\n",
    "Let's plot the boundary into our last map of sea surface temperatures, to see where this is located and if the import worked well!"
   ]
  },
  {
   "cell_type": "code",
   "execution_count": 28,
   "metadata": {},
   "outputs": [
    {
     "data": {
      "text/plain": [
       "Text(0.5, 1.0, 'Sea Surface Temperature, Jun/2001')"
      ]
     },
     "execution_count": 28,
     "metadata": {},
     "output_type": "execute_result"
    },
    {
     "data": {
      "image/png": "[encoded data removed]",
      "text/plain": [
       "<Figure size 432x288 with 2 Axes>"
      ]
     },
     "metadata": {
      "needs_background": "light"
     },
     "output_type": "display_data"
    }
   ],
   "source": [
    "# plotting the 'tos' data for the month of June and the atlanticBnd\n",
    "import matplotlib.pyplot as plt\n",
    "plt.pcolormesh(lonGrid,latGrid, tos[5],shading='auto') \n",
    "plt.plot(atlanticBnd[:,1], atlanticBnd[:,0], 'k--')\n",
    "cbar = plt.colorbar()\n",
    "\n",
    "# adding labels\n",
    "cbar.set_label('degree Celsius')\n",
    "plt.title(\"Sea Surface Temperature, Jun/2001\")"
   ]
  },
  {
   "cell_type": "markdown",
   "metadata": {},
   "source": [
    "You can see the boundary of the deeper Atlantic ocean is now outlined between Europe and North America. "
   ]
  },
  {
   "cell_type": "markdown",
   "metadata": {},
   "source": [
    "### Create a Shapely Polygon from a boundary saved in a textfile\n",
    "\n",
    "In the next step, before we can generate a mask for this region, we need to convert the outline of the Atlantic (which we have saved in a numpy array) into a shapely Polygon.\n",
    "\n",
    "Let's use the boundary for the deep Atlantic to generate a shapely Polygon. Remember, shapely Polygon objects only accept coordinate-tuples as input. For that, we have to index each coordinate pair in `atlanticBnd` and convert it to a tuple. For the first coordinate pair in the array, this would look like this:"
   ]
  },
  {
   "cell_type": "code",
   "execution_count": 29,
   "metadata": {},
   "outputs": [
    {
     "data": {
      "text/plain": [
       "(44.65755072, 299.5753383)"
      ]
     },
     "execution_count": 29,
     "metadata": {},
     "output_type": "execute_result"
    }
   ],
   "source": [
    "# transforming the first row in atlanticBnd to a tuple\n",
    "tuple(atlanticBnd[0,:])"
   ]
  },
  {
   "cell_type": "markdown",
   "metadata": {},
   "source": [
    "Now, we want to restructure the entire array into a list that contains a tuple for each coordinate pair (row in the array). We can do this in a for-loop!"
   ]
  },
  {
   "cell_type": "code",
   "execution_count": 30,
   "metadata": {},
   "outputs": [],
   "source": [
    "# Create an empty list\n",
    "atlanticList = []\n",
    "\n",
    "# Convert all coordinate pairs in the array to a tuple\n",
    "# and append them to the list\n",
    "for i in range(len(atlanticBnd)):\n",
    "     atlanticList.append(tuple(atlanticBnd[i,:]))\n",
    "        "
   ]
  },
  {
   "cell_type": "markdown",
   "metadata": {},
   "source": [
    "Now we have a list of coordinate tuples:"
   ]
  },
  {
   "cell_type": "code",
   "execution_count": 31,
   "metadata": {},
   "outputs": [
    {
     "data": {
      "text/plain": [
       "[(44.65755072, 299.5753383),\n",
       " (44.65755072, 303.4247678),\n",
       " (45.18850652, 308.20337),\n",
       " (47.74942097, 310.8328232),\n",
       " (53.16310901, 310.712519),\n",
       " (57.13501196, 313.6456669),\n",
       " (62.74447108, 325.2173767),\n",
       " (64.34821219, 333.1024371),\n",
       " (60.07156924, 340.4529172),\n",
       " (56.06221648, 348.0706874),\n",
       " (48.17715605, 348.3379776),\n",
       " (43.46290018, 349.6179222),\n",
       " (36.56047481, 349.8834001),\n",
       " (32.44556738, 349.2197054),\n",
       " (28.4633989, 343.6446695),\n",
       " (21.82645143, 341.6535852),\n",
       " (12.80020288, 340.9898905),\n",
       " (6.003870948, 338.1418717),\n",
       " (0.10896619, 331.6454461),\n",
       " (-1.402864703, 322.0082207),\n",
       " (3.906693271, 312.5837553),\n",
       " (9.216251245, 303.6902457),\n",
       " (17.44606611, 302.3628562),\n",
       " (19.96810614, 292.540174),\n",
       " (24.34849147, 284.708576),\n",
       " (30.98543894, 283.3811865),\n",
       " (37.22416956, 286.4341823),\n",
       " (40.80812119, 292.540174),\n",
       " (44.65755072, 299.5753383)]"
      ]
     },
     "execution_count": 31,
     "metadata": {},
     "output_type": "execute_result"
    }
   ],
   "source": [
    "# printing out the AtlanticList\n",
    "atlanticList"
   ]
  },
  {
   "cell_type": "markdown",
   "metadata": {},
   "source": [
    "And we can generate a shapely Polygon from that:"
   ]
  },
  {
   "cell_type": "code",
   "execution_count": 32,
   "metadata": {},
   "outputs": [],
   "source": [
    "# transforming the AtlanticList to a shapely polygon\n",
    "from shapely.geometry import Point, Polygon\n",
    "atlanticPoly = Polygon(atlanticList)"
   ]
  },
  {
   "cell_type": "markdown",
   "metadata": {},
   "source": [
    "Shapely gives us even a very quick glance at the polygon, if we just execute its name:"
   ]
  },
  {
   "cell_type": "code",
   "execution_count": 33,
   "metadata": {},
   "outputs": [
    {
     "data": {
      "image/svg+xml": [
       "<svg xmlns=\"http://www.w3.org/2000/svg\" xmlns:xlink=\"http://www.w3.org/1999/xlink\" width=\"100.0\" height=\"100.0\" viewBox=\"-4.062953247 280.721097956 71.071253981 71.82239068800004\" preserveAspectRatio=\"xMinYMin meet\"><g transform=\"matrix(1,0,0,-1,0,633.2645866)\"><path fill-rule=\"evenodd\" fill=\"#66cc99\" stroke=\"#555555\" stroke-width=\"1.4364478137600007\" opacity=\"0.6\" d=\"M 44.65755072,299.5753383 L 44.65755072,303.4247678 L 45.18850652,308.20337 L 47.74942097,310.8328232 L 53.16310901,310.712519 L 57.13501196,313.6456669 L 62.74447108,325.2173767 L 64.34821219,333.1024371 L 60.07156924,340.4529172 L 56.06221648,348.0706874 L 48.17715605,348.3379776 L 43.46290018,349.6179222 L 36.56047481,349.8834001 L 32.44556738,349.2197054 L 28.4633989,343.6446695 L 21.82645143,341.6535852 L 12.80020288,340.9898905 L 6.003870948,338.1418717 L 0.10896619,331.6454461 L -1.402864703,322.0082207 L 3.906693271,312.5837553 L 9.216251245,303.6902457 L 17.44606611,302.3628562 L 19.96810614,292.540174 L 24.34849147,284.708576 L 30.98543894,283.3811865 L 37.22416956,286.4341823 L 40.80812119,292.540174 L 44.65755072,299.5753383 z\" /></g></svg>"
      ],
      "text/plain": [
       "<shapely.geometry.polygon.Polygon at 0x119baa7f0>"
      ]
     },
     "execution_count": 33,
     "metadata": {},
     "output_type": "execute_result"
    }
   ],
   "source": [
    "# printing out the shapely polygon atlanticPoly\n",
    "atlanticPoly"
   ]
  },
  {
   "cell_type": "markdown",
   "metadata": {},
   "source": [
    "With that we are one step closer to selecting raster points inside the polygon! However, first we need to perform some practical steps, for handeling the large global dataset of sea surface temperatures."
   ]
  },
  {
   "cell_type": "markdown",
   "metadata": {},
   "source": [
    "### Reduce the global dataset to a map frame emcompassing the polygon\n",
    "\n",
    "Since a global dataset has a lot of points, we would have to run the PIP check many times. But we actually know that our area locates only in the northwest (NW) portion of the global dataset. So before we attempt to generate the mask, we reduce our global dataset to a new dataframe that is encompassing the atlantic boundaries, but not much more. We have done something like this in the previous notebook so, below we will add the entire code to do the same here.\n",
    "\n",
    "For that, we have been selecting the boundaries of the new data frame visually from the maps above:"
   ]
  },
  {
   "cell_type": "code",
   "execution_count": 34,
   "metadata": {},
   "outputs": [],
   "source": [
    "# setting boundaries of the new data frame for our analysis\n",
    "latMin = -2\n",
    "latMax = 80\n",
    "lonMin = 260  # lon coordinates in this dataset go from 0...360!!!\n",
    "lonMax = 360  # lon coordinates in this dataset go from 0...360!!!\n",
    "\n",
    "# Finding indexes in the datasets that belong to the new boundaries\n",
    "idx_latMax = np.argmin(np.abs(lat-latMax))\n",
    "idx_latMin = np.argmin(np.abs(lat-latMin))\n",
    "idx_lonMax = np.argmin(np.abs(lon-lonMax))\n",
    "idx_lonMin = np.argmin(np.abs(lon-lonMin))\n",
    "\n",
    "# reducing the data and coordinate arrays to this frame\n",
    "# only adjusting coordinate dimensions, not the time dimension (first one)\n",
    "tos_NW = tos[:,idx_latMin:idx_latMax,idx_lonMin:idx_lonMax]\n",
    "lon_grid_NW = lonGrid[idx_latMin:idx_latMax,idx_lonMin:idx_lonMax]\n",
    "lat_grid_NW = latGrid[idx_latMin:idx_latMax,idx_lonMin:idx_lonMax]\n",
    "\n",
    "# reducing also the 1D coordinate arrays\n",
    "lon_NW = lon[idx_lonMin:idx_lonMax]\n",
    "lat_NW = lat[idx_latMin:idx_latMax]"
   ]
  },
  {
   "cell_type": "markdown",
   "metadata": {},
   "source": [
    "To control our code, let's print the reduced dataset to a map, before we continue to create the mask for the atlantic:"
   ]
  },
  {
   "cell_type": "code",
   "execution_count": 35,
   "metadata": {},
   "outputs": [
    {
     "data": {
      "image/png": "[encoded data removed]",
      "text/plain": [
       "<Figure size 432x288 with 2 Axes>"
      ]
     },
     "metadata": {
      "needs_background": "light"
     },
     "output_type": "display_data"
    }
   ],
   "source": [
    "# plotting 'tos' and atlanticBnd for the new northwest data frame\n",
    "plt.pcolormesh(lon_grid_NW,lat_grid_NW, tos_NW[5],shading='auto') \n",
    "plt.plot(atlanticBnd[:,1], atlanticBnd[:,0], 'k--')\n",
    "cbar = plt.colorbar()\n",
    "\n",
    "# adding title and label to the colorbar\n",
    "plt.title(\"Sea Surface Temperature, Jun/2001\")\n",
    "cbar.set_label('degree Celsius')"
   ]
  },
  {
   "cell_type": "markdown",
   "metadata": {},
   "source": [
    "This looks good. Now we have a smaller datagrid, which will be faster to process. The reduced dataset has the shape:"
   ]
  },
  {
   "cell_type": "code",
   "execution_count": 36,
   "metadata": {},
   "outputs": [
    {
     "data": {
      "text/plain": [
       "(24, 82, 50)"
      ]
     },
     "execution_count": 36,
     "metadata": {},
     "output_type": "execute_result"
    }
   ],
   "source": [
    "# receiving shape/dimensions of ncTOS_NW\n",
    "tos_NW.shape"
   ]
  },
  {
   "cell_type": "markdown",
   "metadata": {},
   "source": [
    "This is 24 time steps, 82 latitudinal grid rows and 50 longitudinal grid columns. The latter two should and do match the map above. "
   ]
  },
  {
   "cell_type": "markdown",
   "metadata": {},
   "source": [
    "### Select raster points inside the polygon & create the spatial mask\n",
    "\n",
    "Now, we want to find all the grid points of this reduced sea surface temperature dataset that fall inside the polygon. \n",
    "\n",
    "The module shapely provides two functions for that `within()` and `contain()`. Since we will have **many points and just one polygon**, the goal will be to:\n",
    "* iterate over all points in the 2D raster data array, \n",
    "* generate a shapely Point for each coordinate pair, and\n",
    "* then check, one at a time, if it is `within()` the polygon specified!\n",
    "\n",
    "The check in the last step will return True for data points inside the polygon and false for points outside the polygon! When checking each raster point, whether it is inside the boundary, we save the results in a new array **`atlanticMask`** in the form of zeros and ones. This will be the **spatial mask** we want to get for our dataset of the size (82x50). (We will not touch the dimension of the time series.)\n",
    "\n",
    "For checking all the raster points in the 2D data array, we need a nested for loop that iterates over all items in the array. This has to be done in two directions: in longitude and in latitude direction. Below, we have formulated algorithm for that in pseudo code:\n",
    "\n",
    "``` \n",
    "SET atlanticMask to numpy array containing 0 and of shape of raster data set\n",
    "FOR latitude-iteration\n",
    "    FOR longitude-iteration\n",
    "        convert lat/lon pair to shapely point\n",
    "        check if point is inside polygon\n",
    "        assign current item in atlanticMask to integer value of check (0/1)\n",
    "    ENDFOR\n",
    "ENDFOR\n",
    "```\n",
    "\n",
    "So let's code this pseudo code into Python. You have to be very careful to index the lat/lon dimensions at their right positions during indexing."
   ]
  },
  {
   "cell_type": "code",
   "execution_count": 37,
   "metadata": {},
   "outputs": [],
   "source": [
    "# mask array containing only 0, of size lon x lat\n",
    "atlanticMask = np.zeros(tos_NW.shape[1:])\n",
    "\n",
    "# nested loop to check if points inside polygon and fill the mask\n",
    "\n",
    "# iterate through longitude array\n",
    "for lo_i in range(len(lon_NW)):\n",
    "\n",
    "    # iterate through latitude array\n",
    "    for la_i in range(len(lat_NW)):\n",
    "        \n",
    "        # set current lon/lat\n",
    "        lo = lon_NW[lo_i]  # current longitude coord in iteration\n",
    "        la = lat_NW[la_i]  # current latitude coord in iteration\n",
    "        \n",
    "        # create current point\n",
    "        currentPoint = Point(la,lo)\n",
    "        \n",
    "        # check if point inside: returns true or false\n",
    "        check = currentPoint.within(atlanticPoly)\n",
    "        atlanticMask[la_i,lo_i] = int(check)\n"
   ]
  },
  {
   "cell_type": "markdown",
   "metadata": {},
   "source": [
    "Running this creates the new mask array `atlanticMask`, which contains 0 outside and 1 inside the Atlantic Polygon. Now, let's print that new mask, to check if your result is correct!"
   ]
  },
  {
   "cell_type": "code",
   "execution_count": 38,
   "metadata": {},
   "outputs": [
    {
     "data": {
      "image/png": "[encoded data removed]",
      "text/plain": [
       "<Figure size 432x288 with 2 Axes>"
      ]
     },
     "metadata": {
      "needs_background": "light"
     },
     "output_type": "display_data"
    }
   ],
   "source": [
    "# plotting the atlanticMask\n",
    "plt.pcolormesh(lon_grid_NW,lat_grid_NW, atlanticMask,shading='auto')\n",
    "\n",
    "# plotting the Atlantic boundaries (atlanticBnd) \n",
    "plt.plot(atlanticBnd[:,1], atlanticBnd[:,0], 'r--')\n",
    "\n",
    "# adding colorbar and label for the colorbar\n",
    "cbar = plt.colorbar()\n",
    "cbar.set_label('Mask function for the Atlantic')"
   ]
  },
  {
   "cell_type": "markdown",
   "metadata": {},
   "source": [
    "As you can see, that worked perfectly. We now have a mask array `atlanticMask`, which contains 0 outside the polygon and 1 inside the polygon.\n",
    "\n",
    "From that we can repeat our time series analysis from above: estimate the average sea surface temperature for each month in the time series and plot the graph. This time, we only have to multiply each monthly map with the mask array and use the `nanmean()` function. For making that work, we convert all 0 values in the mask array to `np.nan` values:"
   ]
  },
  {
   "cell_type": "code",
   "execution_count": 39,
   "metadata": {},
   "outputs": [],
   "source": [
    "# assigning np.nan values to 0 values in atlanticMask\n",
    "atlanticMask[atlanticMask==0] = np.nan  "
   ]
  },
  {
   "cell_type": "code",
   "execution_count": 40,
   "metadata": {},
   "outputs": [
    {
     "data": {
      "text/plain": [
       "array([[nan, nan, nan, ..., nan, nan, nan],\n",
       "       [nan, nan, nan, ..., nan, nan, nan],\n",
       "       [nan, nan, nan, ..., nan, nan, nan],\n",
       "       ...,\n",
       "       [nan, nan, nan, ..., nan, nan, nan],\n",
       "       [nan, nan, nan, ..., nan, nan, nan],\n",
       "       [nan, nan, nan, ..., nan, nan, nan]])"
      ]
     },
     "execution_count": 40,
     "metadata": {},
     "output_type": "execute_result"
    }
   ],
   "source": [
    "atlanticMask"
   ]
  },
  {
   "cell_type": "markdown",
   "metadata": {},
   "source": [
    "When plotting this, it looks like the following (nan values are maked out in white):"
   ]
  },
  {
   "cell_type": "code",
   "execution_count": 41,
   "metadata": {},
   "outputs": [
    {
     "data": {
      "image/png": "[encoded data removed]",
      "text/plain": [
       "<Figure size 432x288 with 2 Axes>"
      ]
     },
     "metadata": {
      "needs_background": "light"
     },
     "output_type": "display_data"
    }
   ],
   "source": [
    "# plotting the atlanticMask, containing nan instead of 0\n",
    "plt.pcolormesh(lon_grid_NW,lat_grid_NW, atlanticMask,shading='auto') \n",
    "plt.plot(atlanticBnd[:,1], atlanticBnd[:,0], 'r--')\n",
    "cbar = plt.colorbar()"
   ]
  },
  {
   "cell_type": "markdown",
   "metadata": {},
   "source": [
    "Now, let's use our data set for the NW of the globe and repeat the time series analysis, to estimate the mean sea surface temperatures inside the Atlantic polygon and for each month:"
   ]
  },
  {
   "cell_type": "code",
   "execution_count": 42,
   "metadata": {},
   "outputs": [],
   "source": [
    "# getting the number of months in the dataset (we know its 24)\n",
    "NoOfMonths = len(ncTime)     \n",
    "\n",
    "# creating a numpy array of that length\n",
    "monthlyMeanTos_NW = np.zeros(NoOfMonths)  \n",
    "\n",
    "# in a for loop: estimating the mean global SST per month\n",
    "for t in range(NoOfMonths):           \n",
    "    monthlyMeanTos_NW[t] = np.nanmean(tos_NW[t]*atlanticMask) # multiply dataset with polygon mask"
   ]
  },
  {
   "cell_type": "code",
   "execution_count": 43,
   "metadata": {},
   "outputs": [
    {
     "data": {
      "text/plain": [
       "Text(0, 0.5, 'Temperature (Celsius)')"
      ]
     },
     "execution_count": 43,
     "metadata": {},
     "output_type": "execute_result"
    },
    {
     "data": {
      "image/png": "[encoded data removed]",
      "text/plain": [
       "<Figure size 432x288 with 1 Axes>"
      ]
     },
     "metadata": {
      "needs_background": "light"
     },
     "output_type": "display_data"
    }
   ],
   "source": [
    "# plotting the time series\n",
    "plt.plot(range(NoOfMonths),monthlyMeanTos_NW)\n",
    "\n",
    "# adding title and axes labels\n",
    "plt.title(\"Monthly Mean Sea Surface Temperature, Atlantic Ocean, 2001-2002\")\n",
    "plt.xlabel('Months since 01/2001')\n",
    "plt.ylabel('Temperature (Celsius)')"
   ]
  },
  {
   "cell_type": "markdown",
   "metadata": {},
   "source": [
    "Our time variable from the netCDF dataset contained days since January 01, 2001. We can also use that information for adjusting the labels in the x-axis."
   ]
  },
  {
   "cell_type": "markdown",
   "metadata": {},
   "source": [
    "### Making use of the time vector in the netCDF dataset\n",
    "\n",
    "The netCDF dataset provided us also with an array containing information on the time stamps of the 24 maps of sea surface temperatures during 2001-2002.\n",
    "\n",
    "For that let's have a closer look to the time variable of the netCDF file. Let's first print out the variable information again:"
   ]
  },
  {
   "cell_type": "code",
   "execution_count": 44,
   "metadata": {},
   "outputs": [
    {
     "name": "stdout",
     "output_type": "stream",
     "text": [
      "<class 'netCDF4._netCDF4.Variable'>\n",
      "float64 time(time)\n",
      "    standard_name: time\n",
      "    long_name: time\n",
      "    units: days since 2001-1-1\n",
      "    axis: T\n",
      "    calendar: 360_day\n",
      "    bounds: time_bnds\n",
      "    original_units: seconds since 2001-1-1\n",
      "unlimited dimensions: time\n",
      "current shape = (24,)\n",
      "filling on, default _FillValue of 9.969209968386869e+36 used\n"
     ]
    },
    {
     "name": "stderr",
     "output_type": "stream",
     "text": [
      "<ipython-input-44-90695d650faf>:3: DeprecationWarning: tostring() is deprecated. Use tobytes() instead.\n",
      "  print(ncData.variables['time'] )\n"
     ]
    }
   ],
   "source": [
    "# printing infor for variable 'time' in the netCDF file\n",
    "ncData = Dataset('./tos_O1_2001-2002.nc')\n",
    "print(ncData.variables['time'] )\n",
    "ncData.close()"
   ]
  },
  {
   "cell_type": "markdown",
   "metadata": {},
   "source": [
    "And looking into the exact content of the variable, we see the following:"
   ]
  },
  {
   "cell_type": "code",
   "execution_count": 45,
   "metadata": {},
   "outputs": [
    {
     "data": {
      "text/plain": [
       "array([ 15.,  45.,  75., 105., 135., 165., 195., 225., 255., 285., 315.,\n",
       "       345., 375., 405., 435., 465., 495., 525., 555., 585., 615., 645.,\n",
       "       675., 705.])"
      ]
     },
     "execution_count": 45,
     "metadata": {},
     "output_type": "execute_result"
    }
   ],
   "source": [
    "# printing the content of the 'time' variable from the netCDF file\n",
    "ncTime   "
   ]
  },
  {
   "cell_type": "markdown",
   "metadata": {},
   "source": [
    "You can see the time variable contains a 1D array, with running numbers from 0 to 705. And from the self-describing information we can receive info on the units of the time vector:\n",
    "    \n",
    "    units: days since 2001-1-1\n",
    "  \n",
    "That means that the running numbers from 0 to 705 for the time stamps of the 24 maps indicate how many days have passed since January 1, 2001 when the maps were recorded.\n",
    "\n",
    "We can use function `timedelta` of the module `datetime` to convert these dates, which allows to add a certain number of days to a defined date `datetime()` function. So let's import both functions from the datetime module first:"
   ]
  },
  {
   "cell_type": "code",
   "execution_count": 46,
   "metadata": {},
   "outputs": [],
   "source": [
    "# importing functions datetime and timedelta from the datetime module\n",
    "from datetime import datetime\n",
    "from datetime import timedelta"
   ]
  },
  {
   "cell_type": "markdown",
   "metadata": {},
   "source": [
    "Now we want to get the date for the first entry in `ncTime`, which is 15 days after January 1, 2001. For that we would have to define the same date using the `datetime()` function and then add the 15 days to it using the `timedelta()` function:"
   ]
  },
  {
   "cell_type": "code",
   "execution_count": 47,
   "metadata": {},
   "outputs": [
    {
     "data": {
      "text/plain": [
       "datetime.datetime(2001, 1, 16, 0, 0)"
      ]
     },
     "execution_count": 47,
     "metadata": {},
     "output_type": "execute_result"
    }
   ],
   "source": [
    "datetime(2001, 1, 1) + timedelta(15)   # adding 15 days to the date 2001/01/01"
   ]
  },
  {
   "cell_type": "markdown",
   "metadata": {},
   "source": [
    "Now we got the date for January 16, 2001, which is exactly 15 days after Januar 1, 2001. Using a list comprehension, we can do the same for all items in the time array `ncTime` and assign the outcome to a new variable `ncTime_date`:"
   ]
  },
  {
   "cell_type": "code",
   "execution_count": 48,
   "metadata": {},
   "outputs": [
    {
     "data": {
      "text/plain": [
       "[datetime.datetime(2001, 1, 16, 0, 0),\n",
       " datetime.datetime(2001, 2, 15, 0, 0),\n",
       " datetime.datetime(2001, 3, 17, 0, 0),\n",
       " datetime.datetime(2001, 4, 16, 0, 0),\n",
       " datetime.datetime(2001, 5, 16, 0, 0),\n",
       " datetime.datetime(2001, 6, 15, 0, 0),\n",
       " datetime.datetime(2001, 7, 15, 0, 0),\n",
       " datetime.datetime(2001, 8, 14, 0, 0),\n",
       " datetime.datetime(2001, 9, 13, 0, 0),\n",
       " datetime.datetime(2001, 10, 13, 0, 0),\n",
       " datetime.datetime(2001, 11, 12, 0, 0),\n",
       " datetime.datetime(2001, 12, 12, 0, 0),\n",
       " datetime.datetime(2002, 1, 11, 0, 0),\n",
       " datetime.datetime(2002, 2, 10, 0, 0),\n",
       " datetime.datetime(2002, 3, 12, 0, 0),\n",
       " datetime.datetime(2002, 4, 11, 0, 0),\n",
       " datetime.datetime(2002, 5, 11, 0, 0),\n",
       " datetime.datetime(2002, 6, 10, 0, 0),\n",
       " datetime.datetime(2002, 7, 10, 0, 0),\n",
       " datetime.datetime(2002, 8, 9, 0, 0),\n",
       " datetime.datetime(2002, 9, 8, 0, 0),\n",
       " datetime.datetime(2002, 10, 8, 0, 0),\n",
       " datetime.datetime(2002, 11, 7, 0, 0),\n",
       " datetime.datetime(2002, 12, 7, 0, 0)]"
      ]
     },
     "execution_count": 48,
     "metadata": {},
     "output_type": "execute_result"
    }
   ],
   "source": [
    "# adding number of days in ncTime to the date 2001/01/01\n",
    "ncTime_date = [ datetime(2001, 1, 1) + timedelta(date) for date in ncTime ]\n",
    "ncTime_date"
   ]
  },
  {
   "cell_type": "markdown",
   "metadata": {},
   "source": [
    "This looks great, because now we can use these dates to add them to our plots, as we have done in previous lesson. \n",
    "\n",
    "### Adding dates to the time series graph\n",
    "\n",
    "For that we just add the variable `ncTime_date` to the `plot()` function, together with the time series `monthlyMeanTos_NW`. Since the date labels are relatively long, they might overlap. For that let's also enlarge the plot a bit (using the `rcParams` attribute of the pyplot package):"
   ]
  },
  {
   "cell_type": "code",
   "execution_count": 49,
   "metadata": {},
   "outputs": [
    {
     "data": {
      "text/plain": [
       "Text(0, 0.5, 'Temperature (Celsius)')"
      ]
     },
     "execution_count": 49,
     "metadata": {},
     "output_type": "execute_result"
    },
    {
     "data": {
      "image/png": "[encoded data removed]",
      "text/plain": [
       "<Figure size 864x432 with 1 Axes>"
      ]
     },
     "metadata": {
      "needs_background": "light"
     },
     "output_type": "display_data"
    }
   ],
   "source": [
    "# setting the size of the plot\n",
    "plt.rcParams['figure.figsize'] = [12, 6]   \n",
    "\n",
    "# plotting time series with correct dates\n",
    "plt.plot(ncTime_date,monthlyMeanTos_NW)    \n",
    "\n",
    "# adding title and axes labels\n",
    "plt.title(\"Monthly Mean Sea Surface Temperature, Atlantic Ocean, 2001-2002\")\n",
    "plt.xlabel('Days since 01/01/2001')\n",
    "plt.ylabel('Temperature (Celsius)')"
   ]
  },
  {
   "cell_type": "markdown",
   "metadata": {},
   "source": [
    "### Compare sea surface temperatures in the Atlantic to those in the seas of northern hemisphere \n",
    "\n",
    "Now we can plot the time series of mean sea surface temperatures in the atlancic together with the time series for the northern hemisphere to compare them in one graph. And you can also export the final graph to an image file. For that we are adding the the pyplot function `plt.savefig('filename.png')` to the bottom of the next code cell:"
   ]
  },
  {
   "cell_type": "code",
   "execution_count": 50,
   "metadata": {},
   "outputs": [],
   "source": [
    "# keep all time steps and longitudes, slice only along latitude\n",
    "tos_data_north = tos[:,80:170,:]\n",
    "\n",
    "# getting the number of months in the dataset (we know its 24)\n",
    "NoOfMonths = len(ncTime)     \n",
    "\n",
    "# creating a numpy array of that length\n",
    "monthlyMeanTOS_north = np.zeros(NoOfMonths)  \n",
    "\n",
    "# iterating over each month in a for-loop: estimating mean 'tos' for northern hemisphere\n",
    "for t in range(NoOfMonths):            \n",
    "    monthlyMeanTOS_north[t] = np.nanmean(tos_data_north[t])"
   ]
  },
  {
   "cell_type": "code",
   "execution_count": 51,
   "metadata": {},
   "outputs": [
    {
     "data": {
      "image/png": "[encoded data removed]",
      "text/plain": [
       "<Figure size 864x432 with 1 Axes>"
      ]
     },
     "metadata": {
      "needs_background": "light"
     },
     "output_type": "display_data"
    }
   ],
   "source": [
    "# setting the size of the plot\n",
    "plt.rcParams['figure.figsize'] = [12, 6]   \n",
    "\n",
    "# plotting time series with correct dates and adding labels for each time series\n",
    "line1, = plt.plot(ncTime,monthlyMeanTos_NW, 'b',label='Atlantic')\n",
    "line2, = plt.plot(ncTime,monthlyMeanTOS_north, 'r',label='Northern Hemisphere')\n",
    "\n",
    "# adding title and axes labels\n",
    "plt.title(\"Monthly Mean Sea Surface Temperature, 2001-2002\")\n",
    "plt.xlabel('Days since 01/01/2001')\n",
    "plt.ylabel('Temperature (Celsius)')\n",
    "\n",
    "# adding a legend\n",
    "plt.legend(handles=[line1, line2])\n",
    "\n",
    "# save the image to a file\n",
    "#plt.savefig('MonthlyMeanSST.png')"
   ]
  },
  {
   "cell_type": "markdown",
   "metadata": {},
   "source": [
    "As you can see, the atlantic is on average about 4 degree Celsius warmer than the rest of the sea in the norther hemisphere. This is not surprising, as the oceans of the northern hemisphere include also those of the arctic!"
   ]
  },
  {
   "cell_type": "markdown",
   "metadata": {},
   "source": [
    "### Print a map of mean temperatures per pixel\n",
    "\n",
    "Instead of averaging the sea surface temperatures over the space. We can also average them over time. From this we could, for example, analyze the global mean sea surface temperature for a certain year and study it's spatial distribution. Then we could compare this to a second year.\n",
    "\n",
    "Let's do this for the `tos` data for the data frame covering the atlantic, which we named `ncTos_NW` above. Remember the shape of that dataset?"
   ]
  },
  {
   "cell_type": "code",
   "execution_count": 52,
   "metadata": {},
   "outputs": [
    {
     "data": {
      "text/plain": [
       "(24, 82, 50)"
      ]
     },
     "execution_count": 52,
     "metadata": {},
     "output_type": "execute_result"
    }
   ],
   "source": [
    "tos_NW.shape"
   ]
  },
  {
   "cell_type": "markdown",
   "metadata": {},
   "source": [
    "Again, we have 24 time steps, 82 latitudinal grid rows and 50 longitudinal grid columns. Before we have calculated the mean averaging over certain grid points (those within our Atlantic Boundary).\n",
    "\n",
    "Now we want to calculate a mean for each grid point, averaging over the first 12 time steps (for the year 2001). For that we have to iterate over the grid points in latitude and longitude direction, similarly to when we checked the grid-points location inside or outside the Atlantic polygon. Then, for each grid-point, we average the time series for 2001 (the first 12 records in the time series for each grid point: "
   ]
  },
  {
   "cell_type": "code",
   "execution_count": 53,
   "metadata": {},
   "outputs": [],
   "source": [
    "# generate new array of same spatial size as the tos dataset \n",
    "#   should receive average temperatures during the first year (2001)\n",
    "average2001_NW = np.zeros(tos_NW.shape[1:])\n",
    "\n",
    "# nested loop to check if points inside polygon and fill the mask\n",
    "\n",
    "# iterate through longitude array\n",
    "for lo_i in range(len(lon_NW)):\n",
    "    \n",
    "    # iterate through latitude array\n",
    "    for la_i in range(len(lat_NW)):\n",
    "        \n",
    "        # average over the first 12 records in the time series for current grid points\n",
    "        # for that we slice out the time series of the current grid point from ncTos_NW:\n",
    "        curr_timeSeries = tos_NW[:12,la_i,lo_i]\n",
    "          \n",
    "        # Then, we have to catch those cases with any nan entries\n",
    "        # (the nanmean function creates a warning if all entries are nan)\n",
    "        if (np.any(np.isnan(curr_timeSeries))):\n",
    "            # assign np.nan to resulting grid point, if nan value in time series\n",
    "            average2001_NW[la_i,lo_i] = np.nan\n",
    "        else:\n",
    "            # assign mean of time series to current grid point\n",
    "            average2001_NW[la_i,lo_i] = np.nanmean(curr_timeSeries)\n",
    "            "
   ]
  },
  {
   "cell_type": "markdown",
   "metadata": {},
   "source": [
    "Now we can plot a map of mean sea surface temperatures during 2001, which we saved in the new array `average2001_NW`!"
   ]
  },
  {
   "cell_type": "code",
   "execution_count": 54,
   "metadata": {},
   "outputs": [
    {
     "data": {
      "image/png": "[encoded data removed]",
      "text/plain": [
       "<Figure size 576x432 with 2 Axes>"
      ]
     },
     "metadata": {
      "needs_background": "light"
     },
     "output_type": "display_data"
    }
   ],
   "source": [
    "# plotting map of mean temperatures for 2001\n",
    "plt.rcParams['figure.figsize'] = [8, 6]   \n",
    "plt.pcolormesh(lon_grid_NW,lat_grid_NW, average2001_NW,shading='auto') \n",
    "plt.plot(atlanticBnd[:,1], atlanticBnd[:,0], 'k--')\n",
    "cbar = plt.colorbar()\n",
    "\n",
    "# adding title and label to the colorbar\n",
    "plt.title(\"Average Sea Surface Temperature during 2001\")\n",
    "cbar.set_label('degree Celsius')"
   ]
  },
  {
   "cell_type": "markdown",
   "metadata": {},
   "source": [
    "And of course, the north is warmer than the south."
   ]
  },
  {
   "cell_type": "markdown",
   "metadata": {},
   "source": [
    "To get the same result for 2002:"
   ]
  },
  {
   "cell_type": "code",
   "execution_count": 55,
   "metadata": {},
   "outputs": [],
   "source": [
    "# generate new array of same spatial size as the tos dataset \n",
    "#   should receive average temperatures during the first year (2001)\n",
    "average2002_NW = np.zeros(tos_NW.shape[1:])\n",
    "\n",
    "# nested loop to check if points inside polygon and fill the mask\n",
    "\n",
    "# iterate through longitude array\n",
    "for lo_i in range(len(lon_NW)):\n",
    "    \n",
    "    # iterate through latitude array\n",
    "    for la_i in range(len(lat_NW)):\n",
    "        \n",
    "        # average over the first 12 records in the time series for current grid points\n",
    "        # for that we slice out the time series of the current grid point from ncTos_NW:\n",
    "        curr_timeSeries = tos_NW[12:,la_i,lo_i]\n",
    "          \n",
    "        # Then, we have to catch those cases with any nan entries\n",
    "        # (the nanmean function creates a warning if all entries are nan)\n",
    "        if (np.any(np.isnan(curr_timeSeries))):\n",
    "            # assign np.nan to resulting grid point, if nan value in time series\n",
    "            average2002_NW[la_i,lo_i] = np.nan\n",
    "        else:\n",
    "            # assign mean of time series to current grid point\n",
    "            average2002_NW[la_i,lo_i] = np.nanmean(curr_timeSeries)\n",
    "            "
   ]
  },
  {
   "cell_type": "markdown",
   "metadata": {},
   "source": [
    "Now we can also add both maps, for 2001 and 2002 into two subplots:"
   ]
  },
  {
   "cell_type": "code",
   "execution_count": 56,
   "metadata": {},
   "outputs": [
    {
     "data": {
      "text/plain": [
       "<matplotlib.colorbar.Colorbar at 0x11a8cd790>"
      ]
     },
     "execution_count": 56,
     "metadata": {},
     "output_type": "execute_result"
    },
    {
     "data": {
      "image/png": "[encoded data removed]",
      "text/plain": [
       "<Figure size 864x288 with 4 Axes>"
      ]
     },
     "metadata": {
      "needs_background": "light"
     },
     "output_type": "display_data"
    }
   ],
   "source": [
    "# plotting map of mean temperatures for 2001 and 2002 in subplots\n",
    "fig, axes = plt.subplots(nrows=1, ncols=2, figsize=(12,4))\n",
    "\n",
    "# plotting map for 2001 in the left subplot\n",
    "left = axes[0].pcolormesh(lon_grid_NW,lat_grid_NW, average2001_NW,shading='auto') \n",
    "axes[0].plot(atlanticBnd[:,1], atlanticBnd[:,0], 'k--')\n",
    "axes[0].set_title(\"Mean SST, 2001\")\n",
    "plt.colorbar(left, ax=axes[0])\n",
    "\n",
    "# plotting map for 2002 in the right subplot\n",
    "right = axes[1].pcolormesh(lon_grid_NW,lat_grid_NW, average2002_NW,shading='auto') \n",
    "axes[1].plot(atlanticBnd[:,1], atlanticBnd[:,0], 'k--')\n",
    "axes[1].set_title(\"Mean SST, 2002\")\n",
    "\n",
    "plt.colorbar(right, ax=axes[1])"
   ]
  },
  {
   "cell_type": "markdown",
   "metadata": {},
   "source": [
    "And 2002 was a bit warmer than 2001, as the upper range of the values in the colorbar is higher for 2002 than for 2001. You can make the same conclusion from the last plotted time series above. There, the seasonal max during 2002 is a bit higher than the seasonal max for 2001!\n",
    "\n",
    "To generate these subfigure plots, add label and colorbar for them individually, one has to address figure axes in object oriented fashion. We do not expect you to know this for the final project, but we encourage you to try this a bit by using the code above as template.\n",
    "\n",
    "You will need a lot of practise and trial and error to learn to code such subfigures, as there are hundrets of different settings. The best way to do that is to look for code templates in the matplotlib documentation pages."
   ]
  },
  {
   "cell_type": "markdown",
   "metadata": {},
   "source": [
    "### Compare histogram of average Atlantic temperatures in 2001 and 2002\n",
    "As the map shows above, also a histrogram indicates that Atlantic temperatures where very similar in 2001 and 2002. There are only slighly a few less occurances of extreme cold average temperature in 2002."
   ]
  },
  {
   "cell_type": "code",
   "execution_count": 72,
   "metadata": {},
   "outputs": [
    {
     "data": {
      "text/plain": [
       "<matplotlib.legend.Legend at 0x11b188910>"
      ]
     },
     "execution_count": 72,
     "metadata": {},
     "output_type": "execute_result"
    },
    {
     "data": {
      "image/png": "[encoded data removed]",
      "text/plain": [
       "<Figure size 576x432 with 1 Axes>"
      ]
     },
     "metadata": {
      "needs_background": "light"
     },
     "output_type": "display_data"
    }
   ],
   "source": [
    "import matplotlib.pyplot as plt\n",
    "\n",
    "plt.hist(average2001_NW[np.isfinite(average2002_NW*atlanticMask)]-272.15,10,label = '2001')\n",
    "plt.hist(average2002_NW[np.isfinite(average2002_NW*atlanticMask)]-272.15,10, alpha = 0.5,label = '2002')\n",
    "plt.legend()\n"
   ]
  },
  {
   "cell_type": "code",
   "execution_count": null,
   "metadata": {},
   "outputs": [],
   "source": []
  }
 ],
 "metadata": {
  "kernelspec": {
   "display_name": "Python 3",
   "language": "python",
   "name": "python3"
  },
  "language_info": {
   "codemirror_mode": {
    "name": "ipython",
    "version": 3
   },
   "file_extension": ".py",
   "mimetype": "text/x-python",
   "name": "python",
   "nbconvert_exporter": "python",
   "pygments_lexer": "ipython3",
   "version": "3.8.8"
  }
 },
 "nbformat": 4,
 "nbformat_minor": 4
}
