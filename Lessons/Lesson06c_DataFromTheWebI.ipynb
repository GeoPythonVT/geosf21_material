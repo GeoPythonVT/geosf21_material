{
 "cells": [
  {
   "cell_type": "markdown",
   "id": "2dfba525-d5b0-4a16-a9e6-cea04ae9f783",
   "metadata": {},
   "source": [
    "\"Geo Data Science with Python\" \n",
    "### Notebook Lesson 06c\n",
    "\n",
    "# Python Packages: Download data from the Web I\n",
    "\n",
    "This lesson discusses several smaller Python Modules useful to download and retrieve Geoscience data from the internet. \n",
    "\n",
    "### Sources\n",
    "This notebook is contains information from the following resources:\n",
    "\n",
    "- Downloading Files from the Internet: https://www.codingem.com/python-download-file-from-url/\n",
    "- Module urllib: https://docs.python.org/3/library/urllib.html\n",
    "- Module Requests: https://docs.python-requests.org/en/latest/api/\n",
    "- Module Pywget: https://bitbucket.org/licface/pywget/src/master/\n",
    "- Install Pywget: https://anaconda.org/anaconda/pywget\n",
    "---"
   ]
  },
  {
   "cell_type": "markdown",
   "id": "d33371f9-f99d-4831-aeb1-62529f4041ca",
   "metadata": {},
   "source": [
    "---\n",
    "## CODE EXAMPLE 1: Download files with urllib"
   ]
  },
  {
   "cell_type": "code",
   "execution_count": 1,
   "id": "c794f2dc-28cd-4e63-af61-adf422665ab2",
   "metadata": {},
   "outputs": [],
   "source": [
    "%reset -f"
   ]
  },
  {
   "cell_type": "code",
   "execution_count": 2,
   "id": "9aaf9a48-9ed2-479e-ab5d-7fc1d3ae9eaa",
   "metadata": {},
   "outputs": [
    {
     "data": {
      "text/plain": [
       "('VTlogo.svg', <http.client.HTTPMessage at 0x7fdc7e3bd4c0>)"
      ]
     },
     "execution_count": 2,
     "metadata": {},
     "output_type": "execute_result"
    }
   ],
   "source": [
    "# 1. Import the urllib module\n",
    "import urllib\n",
    "\n",
    "# 2. Define the URL: VT logo from vt.edu \n",
    "URL = \"https://www.assets.cms.vt.edu/images/logo-maroon-whiteBG.svg\"\n",
    "\n",
    "# 3. urllib‘s request.urlretrieve() method to download a file from a specific URL \n",
    "#    and save it to a new file called \"VTlogo.svg\"\n",
    "response = urllib.request.urlretrieve(URL, \"VTlogo.svg\")\n",
    "response"
   ]
  },
  {
   "cell_type": "markdown",
   "id": "4452cdcd-2ef5-45e2-8640-b3de4c9ddb95",
   "metadata": {},
   "source": [
    "---\n",
    "## CODE EXAMPLE 2: Download files with Requests"
   ]
  },
  {
   "cell_type": "code",
   "execution_count": 3,
   "id": "c584807b-4408-4e1b-843a-1bb3c0fd01f4",
   "metadata": {
    "tags": []
   },
   "outputs": [],
   "source": [
    "# 1. Import the requests module\n",
    "import requests\n",
    "\n",
    "# 2. Define the URL: VT logo from vt.edu\n",
    "URL = \"https://www.assets.cms.vt.edu/images/logo-maroon-whiteBG.svg\"\n",
    "\n",
    "# 3. Use requests.get() to download the data behind that URL: VT logo image file \n",
    "response = requests.get(URL)\n",
    "\n",
    "# 4. Write the file to a new file called \"VTlogo.svg\"\n",
    "f=open(\"VTlogo.svg\", \"wb\")\n",
    "f.write(response.content)\n",
    "f.close()"
   ]
  },
  {
   "cell_type": "markdown",
   "id": "f7f697bb-1e55-4016-9638-01bb3df2454b",
   "metadata": {},
   "source": [
    "## CODE EXAMPLE 3: Download files with wget \n",
    "\n",
    "#### NOTE: pywget is not a standard library and works only, if installed\n",
    "\n",
    "On your computer you can install the module **via terminal** with:\n",
    "```bash\n",
    "conda install -c anaconda pywget\n",
    "```\n",
    "or\n",
    "```bash\n",
    "conda install -c conda-forge pywget\n",
    "```\n",
    "\n",
    "<div class=\"alert alert-success\">\n",
    "\n",
    "**Note**: anaconda and conda-forge are different web-channels distributing conda-compatible python packages. Most of you (as well as the ARC webapp) will have Python installed with conda, and should use conda (or anaconda) with any conda-compatible channel to install new packages. Many documentation packages of the Python modules only mention installation through the pip distribution, which you should avoid, although conda installation is available as well. Please avoid using pip for package installation, if you did install Python through conda (or anaconda), this might lead to software incompatibility among different Python packages.\n",
    "    \n",
    "</div>\n"
   ]
  },
  {
   "cell_type": "code",
   "execution_count": 4,
   "id": "6ffc1c67-c8b2-4b42-928d-e2d693190cc7",
   "metadata": {},
   "outputs": [],
   "source": [
    "%reset -f"
   ]
  },
  {
   "cell_type": "code",
   "execution_count": 5,
   "id": "ae2026b3-c470-4b75-acef-deda255769f1",
   "metadata": {},
   "outputs": [],
   "source": [
    "# 1. Import the wget module\n",
    "import wget\n",
    "\n",
    "# 2. Define the URL: VT logo from vt.edu\n",
    "URL = \"https://www.assets.cms.vt.edu/images/logo-maroon-whiteBG.svg\"\n",
    "\n",
    "# 3. Use wget.download() to download a file from a specific URL \n",
    "#    and save it to a new file called \"VTlogo.svg\".\n",
    "response = wget.download(URL, \"VTlogo.svg\")\n"
   ]
  },
  {
   "cell_type": "markdown",
   "id": "1f275334-35ef-46fb-8075-45d4dc1bb22f",
   "metadata": {},
   "source": [
    "---\n",
    "## CODE EXAMPLE 4: Read a batch of files"
   ]
  },
  {
   "cell_type": "code",
   "execution_count": 6,
   "id": "c92109d0-1e59-4a06-bcf1-53e53064e473",
   "metadata": {},
   "outputs": [
    {
     "name": "stdout",
     "output_type": "stream",
     "text": [
      "test0.dat\n",
      "test1.dat\n",
      "test2.dat\n",
      "test3.dat\n",
      "test4.dat\n",
      "test7.dat\n",
      "test8.dat\n",
      "test9.dat\n",
      "test10.dat\n",
      "test11.dat\n"
     ]
    }
   ],
   "source": [
    "# simple solution, which assumes knowledge of non-existance of file 5 and 6:\n",
    "\n",
    "import requests\n",
    "\n",
    "for m in list(range(0,5))+list(range(7,12)):\n",
    "    fname = 'test'+ str(m) + '.dat'\n",
    "    url = 'http://test.opendap.org/opendap/hyrax/data/ff/'+ fname\n",
    "    outpath = './out/' + fname\n",
    "    r = requests.get(url)\n",
    "    open(outpath, \"wb\").write(r.content)\n",
    "    print(fname)"
   ]
  },
  {
   "cell_type": "code",
   "execution_count": 7,
   "id": "0fa26d0a-ab8d-4195-b628-b1746953c85c",
   "metadata": {},
   "outputs": [
    {
     "name": "stdout",
     "output_type": "stream",
     "text": [
      "test0.dat\n",
      "test1.dat\n",
      "test2.dat\n",
      "test3.dat\n",
      "test4.dat\n",
      "404 Client Error: Not Found for url: http://test.opendap.org/opendap/hyrax/data/ff/test5.dat\n",
      "404 Client Error: Not Found for url: http://test.opendap.org/opendap/hyrax/data/ff/test6.dat\n",
      "test7.dat\n",
      "test8.dat\n",
      "test9.dat\n",
      "test10.dat\n",
      "test11.dat\n"
     ]
    }
   ],
   "source": [
    "# solution with exception handling\n",
    "\n",
    "import requests\n",
    "\n",
    "for m in range(0,12):\n",
    "    fname = 'test'+ str(m) + '.dat'\n",
    "    url = 'http://test.opendap.org/opendap/hyrax/data/ff/'+ fname\n",
    "    outpath = './out/' + fname\n",
    "    try:\n",
    "        r = requests.get(url)\n",
    "        open(outpath, \"wb\").write(r.content)\n",
    "        r.raise_for_status()\n",
    "        print(fname)\n",
    "    except requests.exceptions.HTTPError as err:\n",
    "        print(err)\n"
   ]
  },
  {
   "cell_type": "markdown",
   "id": "8210cf7f-2662-4451-b24e-aff07232ebeb",
   "metadata": {},
   "source": [
    "---\n",
    "## CODE EXAMPLE 4: Download a NetCDF File"
   ]
  },
  {
   "cell_type": "code",
   "execution_count": 63,
   "id": "3a8e2235-f97b-4aad-b991-648f66d06ebe",
   "metadata": {},
   "outputs": [],
   "source": [
    "# 1. Import the module requests\n",
    "import requests"
   ]
  },
  {
   "cell_type": "code",
   "execution_count": 9,
   "id": "2eae7a9b-96b8-4a01-8d38-5ee111ffe44b",
   "metadata": {},
   "outputs": [],
   "source": [
    "# 2. Define the URL\n",
    "url = 'https://data.giss.nasa.gov/pub/gistemp/gistemp250_GHCNv4.nc.gz'\n",
    "filename = 'gistemp250_GHCNv4.nc.gz'"
   ]
  },
  {
   "cell_type": "code",
   "execution_count": 10,
   "id": "f24d2175-b582-4192-bb07-8faee18ac72b",
   "metadata": {},
   "outputs": [],
   "source": [
    "# 3. Use requests.get() to download the data behind that URL\n",
    "r = requests.get(url, allow_redirects=True, stream=True)  "
   ]
  },
  {
   "cell_type": "code",
   "execution_count": 11,
   "id": "b38c2c3f-9a02-4c47-8772-61c82f073f58",
   "metadata": {},
   "outputs": [
    {
     "name": "stdout",
     "output_type": "stream",
     "text": [
      "application/x-gzip\n"
     ]
    }
   ],
   "source": [
    "#optional: print out the content type at the url-address\n",
    "print(r.headers.get('content-type'))   "
   ]
  },
  {
   "cell_type": "code",
   "execution_count": 12,
   "id": "1418baba-52cc-4a30-bc23-bf896a01efe2",
   "metadata": {},
   "outputs": [
    {
     "data": {
      "text/plain": [
       "11034247"
      ]
     },
     "execution_count": 12,
     "metadata": {},
     "output_type": "execute_result"
    }
   ],
   "source": [
    "# 4. Write the file to a new BINARY file on your computer\n",
    "open(filename, 'wb').write(r.content)  #the previous two in one line"
   ]
  },
  {
   "cell_type": "markdown",
   "id": "0f1a7e76-483c-43ec-aeb3-94993da147ca",
   "metadata": {},
   "source": [
    "---\n",
    "## CODE EXAMPLE 5: GUNZIP"
   ]
  },
  {
   "cell_type": "code",
   "execution_count": 13,
   "id": "4787b589-0f7e-46ba-ad6b-a55c7c1d26d7",
   "metadata": {},
   "outputs": [],
   "source": [
    "# Unzip the file: bash command\n",
    "!gunzip -f -k {filename} # unpacks the file, \n",
    "                         # -f forces command & overwrites files\n",
    "                         # -k keeps both files .gz and unzipped one\n",
    "# Information on gunzip: https://www.tutorialspoint.com/unix_commands/gunzip.htm"
   ]
  },
  {
   "cell_type": "code",
   "execution_count": 14,
   "id": "3a6b1fa5-c998-421f-ac9d-0496e68d8d44",
   "metadata": {},
   "outputs": [],
   "source": [
    "# alternative way to unzip the file via Python module gzip\n",
    "# import gzip\n",
    "# import shutil\n",
    "# filename_unzip = filename.replace('.gz', '')\n",
    "# with gzip.open(filename, 'rb') as f_in:\n",
    "#     with open(filename_unzip, 'wb') as f_out:\n",
    "#         shutil.copyfileobj(f_in, f_out)"
   ]
  },
  {
   "cell_type": "markdown",
   "id": "1bccdabb-2a89-4874-a4dc-4e9740eb30c7",
   "metadata": {},
   "source": [
    "---\n",
    "## Final Notes on conda environement and package installation on the ARC webapp\n",
    "\n",
    "On the arc webapp, you should use the Python Kernel of this class, which is:\n",
    "\n",
    "**OOD-GEOFALL**.\n",
    "\n",
    "You can find out if this is the active Kernel of this notebook with the bash command:"
   ]
  },
  {
   "cell_type": "code",
   "execution_count": 1,
   "id": "fd4d5956-8a59-4c89-9a23-81a94427583c",
   "metadata": {},
   "outputs": [
    {
     "name": "stdout",
     "output_type": "stream",
     "text": [
      "# conda environments:\n",
      "#\n",
      "base                     /opt/anaconda3\n",
      "geosf21               *  /opt/anaconda3/envs/geosf21\n",
      "\n"
     ]
    }
   ],
   "source": [
    "! conda env list"
   ]
  },
  {
   "cell_type": "markdown",
   "id": "b6d8c0ba-a922-4c30-9b77-cafa5ae05e63",
   "metadata": {},
   "source": [
    "The environment marked with an asterisk is the one you have active. If this is not the environment for the class (OOD-GEOFALL), you can switch the environment of the notebook: **either** by switching the Kernel of the notebook at the top right drop down menu, **or** by executing the bash command in a magic cell:"
   ]
  },
  {
   "cell_type": "code",
   "execution_count": 65,
   "id": "17047cbc-9809-4aa0-8526-7a56ab1151c0",
   "metadata": {},
   "outputs": [
    {
     "name": "stdout",
     "output_type": "stream",
     "text": [
      "# conda environments:\n",
      "#\n",
      "base                     /opt/anaconda3\n",
      "geosf21               *  /opt/anaconda3/envs/geosf21\n",
      "\n"
     ]
    },
    {
     "name": "stderr",
     "output_type": "stream",
     "text": [
      "bash: line 1: activate: No such file or directory\n"
     ]
    }
   ],
   "source": [
    "%%bash\n",
    "source activate OOD-GEOFALL\n",
    "conda env list"
   ]
  },
  {
   "cell_type": "markdown",
   "id": "fa961f82-3c33-44c0-8ef0-5d2f0ad6fb61",
   "metadata": {},
   "source": [
    "Once you are sure, you are in the right environment, you can check if a needed package is installed in this environment, for example the netCDF4 package:"
   ]
  },
  {
   "cell_type": "code",
   "execution_count": 68,
   "id": "5466c094-14e3-4cc7-8f59-7fcaef642ba2",
   "metadata": {},
   "outputs": [],
   "source": [
    "import netCDF4"
   ]
  },
  {
   "cell_type": "markdown",
   "id": "6b419f6a-376e-46a9-a2b3-a27b95443984",
   "metadata": {},
   "source": [
    "If you get an error message, e.g. \"ModuleNotFoundError\", meaning the package is not installed, you have to switch to the terminal and execute the follwoing command and confirm the prompt:\n",
    "\n",
    "```bash\n",
    "conda install -c conda-forge netcdf4\n",
    "```\n",
    "\n",
    "or\n",
    "\n",
    "```bash\n",
    "conda install -c anaconda netcdf4\n",
    "```\n",
    "\n",
    "If you execute the command here as shell command (with %% bash or !), you might not see the execution in real time or won't be able to confirm the prompt, it might also run slower. I advise to run it in the terminal.\n",
    "\n",
    "This is the same procedure for any new packages that are not installed in your environment on any computer."
   ]
  },
  {
   "cell_type": "code",
   "execution_count": null,
   "id": "ca3bb922-e249-426f-8cb9-df1939b7d3c1",
   "metadata": {},
   "outputs": [],
   "source": []
  }
 ],
 "metadata": {
  "kernelspec": {
   "display_name": "Python [conda env:geosf21]",
   "language": "python",
   "name": "conda-env-geosf21-py"
  },
  "language_info": {
   "codemirror_mode": {
    "name": "ipython",
    "version": 3
   },
   "file_extension": ".py",
   "mimetype": "text/x-python",
   "name": "python",
   "nbconvert_exporter": "python",
   "pygments_lexer": "ipython3",
   "version": "3.9.5"
  }
 },
 "nbformat": 4,
 "nbformat_minor": 5
}
