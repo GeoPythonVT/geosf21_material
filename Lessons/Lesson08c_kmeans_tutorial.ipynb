{
 "cells": [
  {
   "cell_type": "markdown",
   "id": "62519afa-426e-4526-a32b-8989d67ef424",
   "metadata": {
    "tags": []
   },
   "source": [
    "\"Geo Data Science with Python\" \n",
    "### Notebook Lesson 8c\n",
    "\n",
    "# Cluster Analysis\n",
    "\n",
    "This lesson discusses examples of unsupervised learning through cluster analysis in Python.\n",
    "\n",
    "### Sources\n",
    "\n",
    "Brunton & Kutz, 2016 (see Syllabus for full reference), Chapter 5.\n",
    "\n",
    "---"
   ]
  },
  {
   "cell_type": "markdown",
   "id": "2054ec42-a5a2-4c7f-8a9d-650782719a3c",
   "metadata": {},
   "source": [
    "# k-means Clustering - Simple Example\n",
    "\n",
    "First, we are importing necessary packages, including scipy and sklearn functions."
   ]
  },
  {
   "cell_type": "code",
   "execution_count": 1,
   "id": "dff9637e-0616-4521-a25c-c04320d9b582",
   "metadata": {},
   "outputs": [],
   "source": [
    "import numpy as np\n",
    "import matplotlib.pyplot as plt\n",
    "from matplotlib import rcParams\n",
    "\n",
    "rcParams.update({'font.size': 12})\n",
    "plt.rcParams['figure.figsize'] = [6, 6]"
   ]
  },
  {
   "cell_type": "markdown",
   "id": "2d03c3f7-575b-443e-99a9-2c2d00c06412",
   "metadata": {},
   "source": [
    "### Generating random dataset for testing\n",
    "\n",
    "Now, let's generate a random dataset of two clusters, on which we can experiment later with clustering algorithms. We start with a random point cloude (ellipse) centered at (0,0):"
   ]
  },
  {
   "cell_type": "code",
   "execution_count": 2,
   "id": "3e46fbcc-3b72-41d1-8818-44c6b1b7c600",
   "metadata": {},
   "outputs": [
    {
     "data": {
      "text/plain": [
       "(150,)"
      ]
     },
     "execution_count": 2,
     "metadata": {},
     "output_type": "execute_result"
    }
   ],
   "source": [
    "# Training and testing set sizes\n",
    "n1 = 100 # Train\n",
    "n2 = 50  # Test\n",
    "\n",
    "# Random ellipse 1 centered at (0,0)\n",
    "x = np.random.randn(n1+n2)\n",
    "y = 0.5*np.random.randn(n1+n2)\n",
    "x.shape"
   ]
  },
  {
   "cell_type": "code",
   "execution_count": 3,
   "id": "b31c6e05-5c88-41da-9bd2-8d95d5665a11",
   "metadata": {},
   "outputs": [
    {
     "data": {
      "image/png": "[encoded data removed]",
      "text/plain": [
       "<Figure size 432x432 with 1 Axes>"
      ]
     },
     "metadata": {
      "needs_background": "light"
     },
     "output_type": "display_data"
    }
   ],
   "source": [
    "plt.figure()\n",
    "plt.plot(x[:n1],y[:n1],'ko')\n",
    "plt.show()"
   ]
  },
  {
   "cell_type": "markdown",
   "id": "0181a866-1585-40a5-99f2-f329b5c684b6",
   "metadata": {},
   "source": [
    "Now we generate a second data cloud (ellipse), that is also rotated:"
   ]
  },
  {
   "cell_type": "code",
   "execution_count": 4,
   "id": "8294da2d-b65c-4dc0-969e-236f364299b6",
   "metadata": {},
   "outputs": [],
   "source": [
    "# Random ellipse 2 centered at (1,-2)\n",
    "x2 = np.random.randn(n1+n2) + 1\n",
    "y2 = 0.2*np.random.randn(n1+n2) - 2\n",
    "\n",
    "# Rotate ellipse 2 by theta\n",
    "theta = np.pi/4\n",
    "A = np.zeros((2,2))\n",
    "A[0,0] = np.cos(theta)\n",
    "A[0,1] = -np.sin(theta)\n",
    "A[1,0] = np.sin(theta)\n",
    "A[1,1] = np.cos(theta)\n",
    "\n",
    "# Final rotated ellipse\n",
    "x3 = A[0,0]*x2 + A[0,1]*y2\n",
    "y3 = A[1,0]*x2 + A[1,1]*y2"
   ]
  },
  {
   "cell_type": "markdown",
   "id": "a4c8b1e7-0efe-426e-8e81-15eca38f2ab3",
   "metadata": {},
   "source": [
    "Now, shown below, we have generate data from two distinct Gaussian distributions. "
   ]
  },
  {
   "cell_type": "code",
   "execution_count": 5,
   "id": "670ce810-6a52-4c66-aa7b-d62496248cdc",
   "metadata": {},
   "outputs": [
    {
     "data": {
      "image/png": "[encoded data removed]",
      "text/plain": [
       "<Figure size 432x432 with 1 Axes>"
      ]
     },
     "metadata": {
      "needs_background": "light"
     },
     "output_type": "display_data"
    }
   ],
   "source": [
    "plt.figure()\n",
    "plt.plot(x[:n1],y[:n1],'ro')\n",
    "plt.plot(x3[:n1],y3[:n1],'bo')\n",
    "plt.show()"
   ]
  },
  {
   "cell_type": "markdown",
   "id": "8fc5a4d7-adfc-4da9-b82c-6cc99a231a1f",
   "metadata": {},
   "source": [
    "### Splitting data for cross-validation"
   ]
  },
  {
   "cell_type": "markdown",
   "id": "90378cab-25c7-4536-aabd-aa3cfcb59c44",
   "metadata": {},
   "source": [
    "In this case, we have ground truth data to check the k-means clustering against. Note that in general, this is not the case. "
   ]
  },
  {
   "cell_type": "code",
   "execution_count": 6,
   "id": "1c0c33e7-4eea-4add-a87c-cbbdca530bc3",
   "metadata": {},
   "outputs": [],
   "source": [
    "# Training set: first 2 x 100 \n",
    "X1 = np.column_stack((x3[:n1],y3[:n1]))  # Cluster 1 (blue)\n",
    "X2 = np.column_stack((x[:n1],y[:n1]))    # Cluster 2 (red)\n",
    "Y = np.concatenate((X1,X2))                      # data vectors (x1 and x2 values)\n",
    "Z = np.column_stack((np.ones(n1),2*np.ones(n1))) # labels\n",
    "\n",
    "\n",
    "# Test set: remaining 2 x 50 points\n",
    "x1test = np.column_stack((x3[n1:],y3[n1:]))   # test data set 1\n",
    "x2test = np.column_stack((x[n1:],y[n1:]))     # test data set 2\n",
    "ytest = np.concatenate((x1test,x2test))  \n",
    "ztest = np.column_stack((np.ones(n2),2*np.ones(n2))) # test labels\n"
   ]
  },
  {
   "cell_type": "markdown",
   "id": "45ec20b9-600a-43ef-ad7a-878e6d75e146",
   "metadata": {},
   "source": [
    "### Tutorial 1: k-means clustering with Lloyd's algorithm"
   ]
  },
  {
   "cell_type": "markdown",
   "id": "0450698e-8c92-4365-989e-53ed5c86b86b",
   "metadata": {},
   "source": [
    "For Lloyd algorithm, the user guesses the number of clusters and the initial cluster means and then the algorithm proceeds to update them in an iterative fashion. k-means is sensitive to the initial guess and many modern versions of the algorithm also provide principled strategies for initialization.\n",
    "\n",
    "Below an illustration of the k-means iteration procedure based upon Lloyd’s algorithm. Two clusters are sought so that k = 2. The initial guesses (black circles in panel (a)) are used to initially label all the data according to their distance from each initial guess for the mean. The means are then updated by computing the means of the newly labeled data. This two-stage heuristic converges after approximately four iterations.\n",
    "\n",
    "Based on the code below, discuss the following questions: \n",
    "1) Which variable stores the (center coordinates of the cluster)?\n",
    "2) What are the initial guesses for cluster center?\n",
    "3) How are the labels realized in the code (and via which variables)?\n",
    "4) Do the results change, when you change the number of iterations?\n"
   ]
  },
  {
   "cell_type": "code",
   "execution_count": 7,
   "id": "fcec51f4-3ce4-41dc-afe9-1828b51e7d33",
   "metadata": {},
   "outputs": [
    {
     "data": {
      "image/png": "[encoded data removed]",
      "text/plain": [
       "<Figure size 720x720 with 6 Axes>"
      ]
     },
     "metadata": {
      "needs_background": "light"
     },
     "output_type": "display_data"
    }
   ],
   "source": [
    "# Intitial guess: 2 cluster g1 and g2\n",
    "g1 = np.array([-1, 0])   # Initial guess for k-mean for first cluster\n",
    "g2 = np.array([1, 0])    # Initial guess for k-mean for second cluster\n",
    "\n",
    "# Setting number of iterations\n",
    "numIt = 6\n",
    "\n",
    "# Preparing the plot\n",
    "plt.rcParams['figure.figsize'] = [10, 10]\n",
    "fig,axs = plt.subplots(int(np.ceil(numIt)/2),2)\n",
    "axs = axs.reshape(-1)\n",
    "\n",
    "# Iterative, heuristic Lloyd algorithm\n",
    "for j in range(numIt):       # heuristic iterations\n",
    "    class1 = np.zeros((1,2))\n",
    "    class2 = np.zeros((1,2))\n",
    "    for jj in range(Y.shape[0]):  # processing all training data\n",
    "        d1 = np.linalg.norm(g1-Y[jj,:],ord=2) # distance to first k-mean\n",
    "        d2 = np.linalg.norm(g2-Y[jj,:],ord=2) # distance to second k-mean\n",
    "        \n",
    "        # sort current point into cluster 1 or 2, depending on distance\n",
    "        if d1<d2:\n",
    "            class1 = np.append(class1,Y[jj,:].reshape((1,2)),axis=0)\n",
    "        else:\n",
    "            class2 = np.append(class2,Y[jj,:].reshape((1,2)),axis=0)\n",
    "    \n",
    "    class1 = np.delete(class1, (0), axis=0) # remove zeros used to initialize\n",
    "    class2 = np.delete(class2, (0), axis=0)    \n",
    "    \n",
    "    # plot sorted points with different color per cluster into current subplot\n",
    "    axs[j].plot(class1[:,0],class1[:,1],'ro',ms=5)\n",
    "    axs[j].plot(class2[:,0],class2[:,1],'bo',ms=5)\n",
    "    axs[j].plot(g1[0],g1[1],'k*',ms=30)\n",
    "    axs[j].plot(g2[0],g2[1],'k*',ms=30)\n",
    "    axs[j].title.set_text('Iteration ' + str(j+1))\n",
    "    \n",
    "    # Updating the k-means\n",
    "    g1 = np.array([np.mean(class1[:,0]),np.mean(class1[:,1])])\n",
    "    g2 = np.array([np.mean(class2[:,0]),np.mean(class2[:,1])])    \n",
    "    \n",
    "plt.show()\n"
   ]
  },
  {
   "cell_type": "markdown",
   "id": "3d9e4458-6803-42ba-a30a-14b093d5ca56",
   "metadata": {},
   "source": [
    "### Tutorial 2: Track the convergence of the algorithm\n",
    "\n",
    "#### 2.a) Use the code from above and expand the code to calculate the within-cluster sum of squares for each iteration. "
   ]
  },
  {
   "cell_type": "code",
   "execution_count": 8,
   "id": "61e72280-f5b8-4ea6-92be-3934e02bfe2f",
   "metadata": {},
   "outputs": [],
   "source": [
    "\n",
    "### ADD YOUR CODE HERE\n",
    "\n",
    "\n",
    "\n",
    "\n",
    "\n",
    "\n"
   ]
  },
  {
   "cell_type": "markdown",
   "id": "d7177e61-c1ab-4325-847f-9eb1a31d727a",
   "metadata": {},
   "source": [
    "#### 2.b) Now make a plot of the sum of squares per number of iteration. At which iteration does the algorithm converge?"
   ]
  },
  {
   "cell_type": "code",
   "execution_count": 9,
   "id": "89df1685-7291-4545-867c-ff3d8ede0b62",
   "metadata": {},
   "outputs": [],
   "source": [
    "\n",
    "### ADD YOUR CODE HERE\n",
    "\n",
    "\n",
    "\n"
   ]
  },
  {
   "cell_type": "markdown",
   "id": "0f2a5a9b-c561-4172-ae0d-4792d9545b4c",
   "metadata": {},
   "source": [
    "### Tutorial 3: k-means clustering with sklearn & it's properties\n",
    "\n",
    "The package  `sklearn.cluster` provides a `k-means` **class** that can solve the problem using either Lloyd’s or Elkan’s algorithm. Inspect the code below how to use it.\n"
   ]
  },
  {
   "cell_type": "code",
   "execution_count": 10,
   "id": "240facdd-c6d9-4112-b7f0-1ad42e5cda4c",
   "metadata": {},
   "outputs": [],
   "source": [
    "from sklearn.cluster import KMeans\n",
    "\n",
    "# kmeans code\n",
    "kmeans = KMeans(n_clusters=2, random_state=0).fit(Y)  # Compute k-means clustering.\n",
    "c = kmeans.cluster_centers_"
   ]
  },
  {
   "cell_type": "markdown",
   "id": "63466fc9-79ca-419e-a629-aaabc98c9119",
   "metadata": {},
   "source": [
    "Now let's look at the difference between sklearn k-means and Loyd's algorithm a after 4 iterations (results from previous section). "
   ]
  },
  {
   "cell_type": "code",
   "execution_count": 11,
   "id": "c3e47334-6165-435a-a1a9-54c1bcc08912",
   "metadata": {},
   "outputs": [
    {
     "data": {
      "image/png": "[encoded data removed]",
      "text/plain": [
       "<Figure size 720x720 with 1 Axes>"
      ]
     },
     "metadata": {
      "needs_background": "light"
     },
     "output_type": "display_data"
    }
   ],
   "source": [
    "# result from previous section\n",
    "plt.plot(g1[0],g1[1],'ko',ms=10)\n",
    "plt.plot(g2[0],g2[1],'ko',ms=10)\n",
    "\n",
    "# kmeans result\n",
    "plt.plot(c[0,0],c[0,1],'k*',ms=10)\n",
    "plt.plot(c[1,0],c[1,1],'k*',ms=10)\n",
    "\n",
    "plt.show()\n"
   ]
  },
  {
   "cell_type": "markdown",
   "id": "6eda7468-05d5-4b71-9ea7-f39750b92d47",
   "metadata": {},
   "source": [
    "### Apply kmeans class attibutes to answer the following questions\n",
    "\n",
    "For that, find more details on attibutes of the class `sklearn.cluster.KMeans` on the document pages: https://scikit-learn.org/stable/modules/generated/sklearn.cluster.KMeans.html#sklearn.cluster.KMeans\n",
    "\n",
    "- How many cluster centers do you get and what are their values?\n",
    "- Which algorithm is used, if not specified?\n",
    "- How do you retrieve the labels, and what are they?\n",
    "- How many iterations did the algorithm run?\n",
    "- How can you retrieve sum of squared distances?\n",
    "- What information is stored in `n_features_in_`?"
   ]
  },
  {
   "cell_type": "code",
   "execution_count": 12,
   "id": "fccc2dc4-7a56-4669-ad5d-96e3e90ebb35",
   "metadata": {},
   "outputs": [],
   "source": [
    "\n",
    "### ADD YOUR CODE BELOW\n",
    "\n",
    "\n",
    "#How many cluster centers do you get and what are their values?\n",
    "\n",
    "\n",
    "#Which algorithm is used, if not specified?\n",
    "\n",
    "\n",
    "#How do you retrieve the labels, and what are they?\n",
    "\n",
    "\n",
    "#How many iterations did the algorithm run?\n",
    "\n",
    "\n",
    "#How can you retrieve sum of squared distances?\n",
    "\n",
    "\n",
    "#What information is stored in `n_features_in_`?: Number of features seen during fit.\n",
    "\n"
   ]
  },
  {
   "cell_type": "markdown",
   "id": "00e11a55-90b0-4c26-9e91-1cbf7a60f9df",
   "metadata": {},
   "source": [
    "### Tutorial 4: Checking the accuracy of the results\n",
    "\n",
    "Now, since these are artifically generated data cluster, we can check or validate the results with known input (note, this is usually not possible when working with real data).\n",
    "\n",
    "We can do this for the training dataset and for the test dataset.\n",
    "\n",
    "#### a) Check results for training dataset"
   ]
  },
  {
   "cell_type": "code",
   "execution_count": 13,
   "id": "45188e49-f56b-4712-adf7-9740a5bcabec",
   "metadata": {},
   "outputs": [],
   "source": [
    "\n",
    "### ADD YOUR CODE HERE\n",
    "\n"
   ]
  },
  {
   "cell_type": "markdown",
   "id": "b7ffe551-e282-4b84-acd0-2d7044e2f4c7",
   "metadata": {},
   "source": [
    "#### b) Check results for test dataset"
   ]
  },
  {
   "cell_type": "code",
   "execution_count": 14,
   "id": "dd48cdfa-d158-4ba3-ad69-e1f44eaa997c",
   "metadata": {},
   "outputs": [],
   "source": [
    "\n",
    "### ADD YOUR CODE HERE\n",
    "\n"
   ]
  },
  {
   "cell_type": "markdown",
   "id": "8672700f-26bd-42f3-8d0f-51c2dcf73233",
   "metadata": {},
   "source": [
    "### Decision line\n",
    "\n",
    "Below, the training data is used to produce a decision line (black line) separating the clusters (subplot 1). (The line can be found based on the slope between the two cluster points). Note that the line is clearly not optimal. The classification line can then be used on withheld data to test the accuracy of the algorithm (subplot 2). For the test data, one (of 50) magenta ball would be mislabeled while six (of 50) green balls are mislabeled. "
   ]
  },
  {
   "cell_type": "code",
   "execution_count": 15,
   "id": "89c4cd71-7d2f-46b0-b7b7-f74c86b81d26",
   "metadata": {},
   "outputs": [
    {
     "data": {
      "image/png": "[encoded data removed]",
      "text/plain": [
       "<Figure size 720x720 with 2 Axes>"
      ]
     },
     "metadata": {
      "needs_background": "light"
     },
     "output_type": "display_data"
    }
   ],
   "source": [
    "# Finding & creating the decision line\n",
    "midx = (c[0,0]+c[1,0])/2\n",
    "midy = (c[0,1]+c[1,1])/2\n",
    "slope = (c[1,1]-c[0,1])/(c[1,0]-c[0,0]) # rise/run\n",
    "b = midy+(1/slope)*midx\n",
    "xsep = np.arange(-1,2,0.1)\n",
    "ysep = -(1/slope)*xsep+b\n",
    "\n",
    "# Plotting original synthetic cluster versus decision line\n",
    "# to find error on both datasets\n",
    "\n",
    "# for training data\n",
    "fig,axs = plt.subplots(2)\n",
    "axs[0].plot(x[:n1],y[:n1],'ro')\n",
    "axs[0].plot(x3[:n1],y3[:n1],'bo')\n",
    "axs[0].plot(xsep,ysep,c='k',linewidth=2)\n",
    "axs[0].set_xlim(-2,4)\n",
    "axs[0].set_ylim(-3,2)\n",
    "\n",
    "# for test data\n",
    "axs[1].plot(x[n1:],y[n1:],'ro')\n",
    "axs[1].plot(x3[n1:],y3[n1:],'bo')\n",
    "axs[1].plot(xsep,ysep,c='k',linewidth=2)\n",
    "axs[1].set_xlim(-2,4)\n",
    "axs[1].set_ylim(-3,2)\n",
    "\n",
    "plt.show()"
   ]
  },
  {
   "cell_type": "markdown",
   "id": "45752295-451a-4507-ada0-2b013e050ef0",
   "metadata": {},
   "source": [
    "### Tutorial 5: kmeans with different k\n",
    "\n",
    "The k-value has to be indicated, and a wrong value, might not lead to expected results. Now, calculate kmeans for different number of clusters and plot the results."
   ]
  },
  {
   "cell_type": "code",
   "execution_count": 16,
   "id": "be18bcbe-a02a-44ea-af9a-789401a0be2d",
   "metadata": {},
   "outputs": [],
   "source": [
    "\n",
    "### ADD YOUR CODE HERE\n",
    "\n",
    "\n"
   ]
  },
  {
   "cell_type": "markdown",
   "id": "91e3fcd0-0993-4a5f-969b-91ab239e9f06",
   "metadata": {},
   "source": [
    "## Hierarchical Clustering (Dendrogram) - Simple Example\n",
    "\n",
    "Dendrogram approach or hierarchical clustering uses a different approach, that might be able to produce a better accuracy for our test dataset.\n",
    "\n",
    "Here we use the sklearn Agglomerative Clustering algorithm.\n",
    "https://scikit-learn.org/stable/modules/generated/sklearn.cluster.AgglomerativeClustering.html#sklearn.cluster.AgglomerativeClustering\n",
    "\n",
    "As we can see, this clustering method is more accurate."
   ]
  },
  {
   "cell_type": "code",
   "execution_count": 17,
   "id": "105991ea-fb3c-442c-980a-8d25c1af624e",
   "metadata": {},
   "outputs": [
    {
     "ename": "NameError",
     "evalue": "name 'Y3' is not defined",
     "output_type": "error",
     "traceback": [
      "\u001b[0;31m---------------------------------------------------------------------------\u001b[0m",
      "\u001b[0;31mNameError\u001b[0m                                 Traceback (most recent call last)",
      "\u001b[0;32m<ipython-input-17-648c2488e7ea>\u001b[0m in \u001b[0;36m<module>\u001b[0;34m\u001b[0m\n\u001b[1;32m      1\u001b[0m \u001b[0;32mfrom\u001b[0m \u001b[0msklearn\u001b[0m\u001b[0;34m.\u001b[0m\u001b[0mcluster\u001b[0m \u001b[0;32mimport\u001b[0m \u001b[0mAgglomerativeClustering\u001b[0m\u001b[0;34m\u001b[0m\u001b[0;34m\u001b[0m\u001b[0m\n\u001b[0;32m----> 2\u001b[0;31m \u001b[0mclustering\u001b[0m \u001b[0;34m=\u001b[0m \u001b[0mAgglomerativeClustering\u001b[0m\u001b[0;34m(\u001b[0m\u001b[0;34m)\u001b[0m\u001b[0;34m.\u001b[0m\u001b[0mfit\u001b[0m\u001b[0;34m(\u001b[0m\u001b[0mY3\u001b[0m\u001b[0;34m)\u001b[0m\u001b[0;34m\u001b[0m\u001b[0;34m\u001b[0m\u001b[0m\n\u001b[0m\u001b[1;32m      3\u001b[0m \u001b[0;34m\u001b[0m\u001b[0m\n\u001b[1;32m      4\u001b[0m \u001b[0mcmask\u001b[0m \u001b[0;34m=\u001b[0m \u001b[0mclustering\u001b[0m\u001b[0;34m.\u001b[0m\u001b[0mlabels_\u001b[0m \u001b[0;34m==\u001b[0m \u001b[0;36m0\u001b[0m\u001b[0;34m\u001b[0m\u001b[0;34m\u001b[0m\u001b[0m\n\u001b[1;32m      5\u001b[0m \u001b[0;34m\u001b[0m\u001b[0m\n",
      "\u001b[0;31mNameError\u001b[0m: name 'Y3' is not defined"
     ]
    }
   ],
   "source": [
    "from sklearn.cluster import AgglomerativeClustering\n",
    "clustering = AgglomerativeClustering().fit(Y3)\n",
    "\n",
    "cmask = clustering.labels_ == 0\n",
    "\n",
    "# # plot results of hierarchical clustering\n",
    "plt.scatter(Y3[cmask,0],Y3[cmask,1],s=20,c='r')\n",
    "plt.scatter(Y3[~cmask,0],Y3[~cmask,1],s=20,c='b')\n",
    "\n",
    "plt.show()"
   ]
  },
  {
   "cell_type": "markdown",
   "id": "dd7e1069-ac7c-4420-be2e-677709984c19",
   "metadata": {},
   "source": [
    "We can also plot the dentogram as of https://scikit-learn.org/stable/auto_examples/cluster/plot_agglomerative_dendrogram.html#sphx-glr-auto-examples-cluster-plot-agglomerative-dendrogram-py"
   ]
  },
  {
   "cell_type": "code",
   "execution_count": null,
   "id": "b4ab9ec1-bfbd-4d36-ab86-4597a6b0935b",
   "metadata": {},
   "outputs": [],
   "source": [
    "import numpy as np\n",
    "\n",
    "from matplotlib import pyplot as plt\n",
    "from scipy.cluster.hierarchy import dendrogram\n",
    "from sklearn.datasets import load_iris\n",
    "from sklearn.cluster import AgglomerativeClustering\n",
    "\n",
    "\n",
    "def plot_dendrogram(model, **kwargs):\n",
    "    # Create linkage matrix and then plot the dendrogram\n",
    "\n",
    "    # create the counts of samples under each node\n",
    "    counts = np.zeros(model.children_.shape[0])\n",
    "    n_samples = len(model.labels_)\n",
    "    for i, merge in enumerate(model.children_):\n",
    "        current_count = 0\n",
    "        for child_idx in merge:\n",
    "            if child_idx < n_samples:\n",
    "                current_count += 1  # leaf node\n",
    "            else:\n",
    "                current_count += counts[child_idx - n_samples]\n",
    "        counts[i] = current_count\n",
    "\n",
    "    linkage_matrix = np.column_stack(\n",
    "        [model.children_, model.distances_, counts]\n",
    "    ).astype(float)\n",
    "\n",
    "    # Plot the corresponding dendrogram\n",
    "    dendrogram(linkage_matrix, **kwargs)\n",
    "\n",
    "\n",
    "    \n",
    "# setting distance_threshold=0 ensures we compute the full tree.\n",
    "model = AgglomerativeClustering(distance_threshold=0, n_clusters=None)\n",
    "\n",
    "model = model.fit(Y3)\n",
    "plt.title(\"Hierarchical Clustering Dendrogram\")\n",
    "# plot the top three levels of the dendrogram\n",
    "plot_dendrogram(model, truncate_mode=\"level\", p=3)\n",
    "plt.xlabel(\"Number of points in node (or index of point if no parenthesis).\")\n",
    "plt.show()"
   ]
  },
  {
   "cell_type": "markdown",
   "id": "d68175bd-1d73-44f9-9c49-6caffdd84a35",
   "metadata": {},
   "source": [
    "### Alternatively, using the package scipy cluster hierarchy"
   ]
  },
  {
   "cell_type": "markdown",
   "id": "53211ebd-f02e-4eb3-a9b9-4ca252bb07b8",
   "metadata": {},
   "source": [
    "Alternatively, for displaying the clustering in a dendrogram, we appy the hierarchy clustering from the scipy package https://docs.scipy.org/doc/scipy/reference/generated/scipy.cluster.hierarchy.linkage.html\n",
    "\n",
    "Dendrogram structure produced from the data. The dendrogram shows which points are merged as well as the distance between points. Two clusters are generated for this level of threshold."
   ]
  },
  {
   "cell_type": "code",
   "execution_count": null,
   "id": "c43699b7-5915-44ee-83f9-a2b0e8858588",
   "metadata": {},
   "outputs": [],
   "source": [
    "from scipy.cluster import hierarchy\n",
    "from scipy.spatial.distance import pdist\n",
    "\n",
    "## Dendrograms\n",
    "\n",
    "Y3 = np.concatenate((X1[:50,:],X2[:50,:]))\n",
    "\n",
    "Y2 = pdist(Y3,metric='euclidean')\n",
    "Z = hierarchy.linkage(Y2,method='average')\n",
    "thresh = 0.85*np.max(Z[:,2])\n",
    "\n",
    "plt.figure()\n",
    "dn = hierarchy.dendrogram(Z,p=100,color_threshold=thresh)\n",
    "\n",
    "plt.show()"
   ]
  },
  {
   "cell_type": "markdown",
   "id": "bb2d9e06-63b6-4de6-b160-dee9770c7200",
   "metadata": {},
   "source": [
    "Clustering outcome from dendrogram routine: This is a summary, showing how each of the points was clustered through the distance metric. The horizontal red dotted line shows where the ideal separation should occur. The first 50 points should be grouped so that they are below the red horizontal line in the lower left quadrant. The second 50 points should be grouped above the red horizontal line in the upper right quadrant. In summary, the dendrogram misclassified some points."
   ]
  },
  {
   "cell_type": "code",
   "execution_count": null,
   "id": "47c16026-e706-48fa-9c32-f952a6bba7f0",
   "metadata": {},
   "outputs": [],
   "source": [
    "plt.bar(range(100),dn['leaves'])\n",
    "plt.plot(np.array([0, 100]),np.array([50, 50]),'r:',linewidth=2)\n",
    "plt.plot(np.array([50.5, 50.5]),np.array([0, 100]),'r:',linewidth=2)\n",
    "\n",
    "plt.show()"
   ]
  },
  {
   "cell_type": "markdown",
   "id": "0b798168-79ae-49ed-bfe3-32607568e18c",
   "metadata": {},
   "source": [
    "Dendrogram structure produced from the data with a different threshold used than above. The dendrogram shows which points are merged as well as the distance between points. In this case, more than a dozen clusters are generated."
   ]
  },
  {
   "cell_type": "code",
   "execution_count": null,
   "id": "0b9db40c-c5a8-4a5a-a011-26616c9b4de6",
   "metadata": {},
   "outputs": [],
   "source": [
    "thresh = 0.25*np.max(Z[:,2])\n",
    "\n",
    "plt.figure()\n",
    "dn = hierarchy.dendrogram(Z,p=100,color_threshold=thresh)\n",
    "plt.axis('off')\n",
    "plt.show()"
   ]
  }
 ],
 "metadata": {
  "kernelspec": {
   "display_name": "Python 3",
   "language": "python",
   "name": "python3"
  },
  "language_info": {
   "codemirror_mode": {
    "name": "ipython",
    "version": 3
   },
   "file_extension": ".py",
   "mimetype": "text/x-python",
   "name": "python",
   "nbconvert_exporter": "python",
   "pygments_lexer": "ipython3",
   "version": "3.8.8"
  }
 },
 "nbformat": 4,
 "nbformat_minor": 5
}
