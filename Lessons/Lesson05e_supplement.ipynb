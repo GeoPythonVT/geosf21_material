{
 "cells": [
  {
   "cell_type": "markdown",
   "metadata": {},
   "source": [
    "\"Geo Data Science with Python\" \n",
    "### Notebook Practice Summary for Lecture 5e\n",
    "\n",
    "---\n",
    "## Practice Solution: Writing the Class Point()\n",
    "\n",
    "Let's apply the knowledge on OOP and classes discussed so far, and build a completely new class that has more affinity to Geoscience problems. \n",
    "\n",
    "The cell below defines a class `Point`, which receives `x` and `y` coordinates as arguments during instance creation. The coordinates are set to zero by default. A method `display()` is available to print the coordinates of a `Point` instance to screen."
   ]
  },
  {
   "cell_type": "code",
   "execution_count": 1,
   "metadata": {},
   "outputs": [],
   "source": [
    "# Defining a class Point\n",
    "class Point:\n",
    "\n",
    "    def __init__(self, x=0.0, y=0.0): # default values of x and y coordinates are 0 \n",
    "        self.x = x\n",
    "        self.y = y\n",
    "        \n",
    "    def display(self):  # displays the coordinates\n",
    "        print('xCoord = ', self.x)\n",
    "        print('yCoord = ', self.y)"
   ]
  },
  {
   "cell_type": "markdown",
   "metadata": {},
   "source": [
    "In the next step, let's define two points with different coordinates. Since we defined `x=0.0` and `y=0.0` by default in the constructor method, we can begin with just creating the points, without passing any arguments to the constructor method:"
   ]
  },
  {
   "cell_type": "code",
   "execution_count": 23,
   "metadata": {},
   "outputs": [
    {
     "name": "stdout",
     "output_type": "stream",
     "text": [
      "xCoord =  0.0\n",
      "yCoord =  0.0\n",
      "xCoord =  0.0\n",
      "yCoord =  0.0\n"
     ]
    }
   ],
   "source": [
    "P1 = Point()\n",
    "P2 = Point()\n",
    "P1.display()\n",
    "P2.display()"
   ]
  },
  {
   "cell_type": "markdown",
   "metadata": {},
   "source": [
    "As you can see, all coordinates received the default values. Now, we can to keep those values for `P1`, but let's change those of `P2`. So we should fill the coordinates of `P2` with different values:"
   ]
  },
  {
   "cell_type": "code",
   "execution_count": 24,
   "metadata": {},
   "outputs": [
    {
     "name": "stdout",
     "output_type": "stream",
     "text": [
      "xCoord =  0.0\n",
      "yCoord =  0.0\n",
      "xCoord =  1.4\n",
      "yCoord =  2.7\n"
     ]
    }
   ],
   "source": [
    "P2.x = 1.4\n",
    "P2.y = 2.7\n",
    "P1.display()\n",
    "P2.display()"
   ]
  },
  {
   "cell_type": "markdown",
   "metadata": {},
   "source": [
    "We created two points P(x,y): P1(0,0) and P2(1.4,2.7)."
   ]
  },
  {
   "cell_type": "markdown",
   "metadata": {},
   "source": [
    "Now, this looks already pretty handy and what we have just created, is indeed one of the most basic classes defined in several GIS relevant Python packages!\n",
    "\n",
    "Now, we would like to show, how we can utilize OOP concepts for handeling point data. For example, let's code a very regularily needed calculation for points, like the distance $d$ between two points. The equation for that is:\n",
    "\n",
    "$d(P_1,P_2) = \\sqrt{ (x_2-x_1)^2 + (y_2-y_1)^2) }$\n",
    "\n",
    "In the equation the distance $d$ is given by the sqared root of the squared sum of the differences between the x and y coordinates of two points $P_1(x_1,y_1)$ and $P_2(x_2,y_2)$. \n",
    "\n",
    "If you want to code this equation, you could write a Python function that receives the coordinates of the two points, caluculates the distance according to the equation above and returns the result for $d$. \n",
    "\n",
    "In object-oriented programming, such a function is embedded into the `Point` class. Such a method, calculating the distance of a point to another point, could receive an instance of its own class as argument. (This is very congruent to the example above for the `Fish` class and its method `makeFishFriends()`.)\n",
    "\n",
    "So, let's write down code for a `distance()` method.\n",
    "First, we extend the class `Point` by a function `distance()` that receives an instance of its own class as argument (after `self`)."
   ]
  },
  {
   "cell_type": "code",
   "execution_count": 27,
   "metadata": {},
   "outputs": [],
   "source": [
    "# Importing the math modules to access sqrt()\n",
    "import math\n",
    "\n",
    "# Defining a class Point\n",
    "class Point:\n",
    "    \n",
    "    def __init__(self, x=0.0, y=0.0): # initial values of x and y coordinates are 0 \n",
    "        self.x = x\n",
    "        self.y = y\n",
    "        \n",
    "    def display(self):  # displays the coordinates\n",
    "        print('xCoord = ', self.x)\n",
    "        print('yCoord = ', self.y)\n",
    "    \n",
    "    # methdo calculates the distance from self.x/y to secondPoint.x/y        \n",
    "    def distance(self, secondPoint): \n",
    "        # Equation for distance btw two points:\n",
    "        dist = math.sqrt( (secondPoint.x-self.x)**2 + (secondPoint.y-self.y)**2 )\n",
    "        return(dist)  # returns the result to the method caller\n"
   ]
  },
  {
   "cell_type": "markdown",
   "metadata": {},
   "source": [
    "As you can see, we have added an import of the `math` module, to be able to use it's `sqrt()` function. Then we coded the equation for distance calculation in the method `distanc()`, using the coordinates of the `Point` class as well as the coordinates of anoter instance of the `Point` class, named `secondPoint`.\n",
    "\n",
    "Now, let's use and test this. We have to create two instances of the updated class `Point`, let's name them points `P1` and `P2` and fill them with coordinates given in kilometer:"
   ]
  },
  {
   "cell_type": "code",
   "execution_count": 32,
   "metadata": {},
   "outputs": [
    {
     "name": "stdout",
     "output_type": "stream",
     "text": [
      "xCoord =  0.0\n",
      "yCoord =  0.0\n",
      "xCoord =  1.4\n",
      "yCoord =  2.7\n"
     ]
    }
   ],
   "source": [
    "P1 = Point()\n",
    "P2 = Point(1.4, 2.7)\n",
    "P1.display()\n",
    "P2.display()"
   ]
  },
  {
   "cell_type": "markdown",
   "metadata": {},
   "source": [
    "Now, we can call the distance method for one point and pass the other point as argument. This would start the calculation of the equation for the distance $d$ between `P1` and `P2`."
   ]
  },
  {
   "cell_type": "code",
   "execution_count": 33,
   "metadata": {},
   "outputs": [
    {
     "name": "stdout",
     "output_type": "stream",
     "text": [
      "The distance between the points is: 3.04 km.\n"
     ]
    }
   ],
   "source": [
    "d = P1.distance(P2)\n",
    "print(\"The distance between the points is: {:.2f} km.\".format(d))"
   ]
  },
  {
   "cell_type": "markdown",
   "metadata": {},
   "source": [
    "There you go! This is a very simple GIS operation coded object-oriented in Python. Now you should be able to write functions and methods that accept arguments being class instances. "
   ]
  },
  {
   "cell_type": "markdown",
   "metadata": {},
   "source": [
    "## Practice Solution: Writing the class Polygon()\n",
    "\n",
    "Now, let's write a class with the name Polygon, which builds on the class Point.\n",
    "\n",
    "First, let's copy the class point, but we need only the constructor method:"
   ]
  },
  {
   "cell_type": "code",
   "execution_count": 1,
   "metadata": {},
   "outputs": [],
   "source": [
    "class Point:\n",
    "    \n",
    "    def __init__(self, x=0.0, y=0.0): # initial values of x and y coordinates are 0 \n",
    "        self.x = x\n",
    "        self.y = y\n",
    "        "
   ]
  },
  {
   "cell_type": "markdown",
   "metadata": {},
   "source": [
    "Now, define the class Polygon with a constructor method receiving two lists X and Y. These lists should accept a list of all x and y coordinates defining a polygon in a local coordinate system. Set the default value to an empty list."
   ]
  },
  {
   "cell_type": "code",
   "execution_count": 2,
   "metadata": {},
   "outputs": [],
   "source": [
    "class Polygon: \n",
    "    \n",
    "    def __init__(self, x = [], y = []):\n",
    "        print('Creating a polygon!')\n"
   ]
  },
  {
   "cell_type": "markdown",
   "metadata": {},
   "source": [
    "Now let's add the following to the constructor method: it should transfer the coordinate lists into a list of point instances. It should close the polygon, by copying the first point to the end of the list.\n",
    "The list of point instances should then become an instance variable of the Polygon instance. Let's also add some feedback to screen about the polygon we created."
   ]
  },
  {
   "cell_type": "code",
   "execution_count": 3,
   "metadata": {},
   "outputs": [],
   "source": [
    "class Polygon: \n",
    "    \n",
    "    def __init__(self, x = [], y = []):\n",
    "        pointList = []  # local point list variable\n",
    "        \n",
    "        # defining the points\n",
    "        for i in range(0,len(x)):\n",
    "            pnt = Point(x[i],y[i])\n",
    "            pointList.append(pnt)\n",
    "        \n",
    "        # closing the polygon\n",
    "        if len(x) > 1:  \n",
    "            pointList.append(Point(x[0],y[0]))\n",
    "        self.polyPnts = pointList # instance variable receiving the point list\n",
    "        \n",
    "        # feeback to screen\n",
    "        print(\"Added \" + str(len(x)) + \" point(s) to the polygon.\")"
   ]
  },
  {
   "cell_type": "markdown",
   "metadata": {},
   "source": [
    "We want to further expand that and define the method `drawFeature()`, which should only receive self as argument and then print to screen the coordinates of all points defined in the polygon instance.\n",
    "It will also returns feedback, if the list is empty. And we put everything together:"
   ]
  },
  {
   "cell_type": "code",
   "execution_count": 4,
   "metadata": {},
   "outputs": [],
   "source": [
    "class Point:\n",
    "    \n",
    "    def __init__(self, x=0.0, y=0.0): # initial values of x and y coordinates are 0 \n",
    "        self.x = x\n",
    "        self.y = y\n",
    "\n",
    "class Polygon: \n",
    "    \n",
    "    def __init__(self, x = [], y = []):\n",
    "        pointList = []  # local point list variable\n",
    "        \n",
    "        # defining the points\n",
    "        for i in range(0,len(x)):\n",
    "            pnt = Point(x[i],y[i])\n",
    "            pointList.append(pnt)\n",
    "        \n",
    "        # closing the polygon\n",
    "        if len(x) > 1:  \n",
    "            pointList.append(Point(x[0],y[0]))\n",
    "        self.polyPnts = pointList # instance variable receiving the point list\n",
    "        \n",
    "        # feeback to screen\n",
    "        print(\"Added \" + str(len(x)) + \" point(s) to the polygon.\")\n",
    "    \n",
    "    def drawFeature(self):\n",
    "        \n",
    "        # printing all points of the polygon\n",
    "        for i in range(0,len(self.polyPnts)):\n",
    "            print(\"Point \" + str(i+1) + \" (x/y) = \" \\\n",
    "                  + str(self.polyPnts[i].x) +  \" / \" \\\n",
    "                  + str(self.polyPnts[i].y)  ) \n",
    "        \n",
    "        # feedback for an empty point list\n",
    "        if len(self.polyPnts) == 0:\n",
    "            print('The point list is empty!')"
   ]
  },
  {
   "cell_type": "markdown",
   "metadata": {},
   "source": [
    "Now, let's Create two Parking lots, as instances of the Polygon class & call drawFeature() for them:\n",
    "- Parking Central: [0,0], [500,300],[600,150], [600,0]\n",
    "- Parking West: [1,1], [1,400],[400,400], [500,300]"
   ]
  },
  {
   "cell_type": "code",
   "execution_count": 35,
   "metadata": {},
   "outputs": [
    {
     "name": "stdout",
     "output_type": "stream",
     "text": [
      "Added 4 point(s) to the polygon.\n"
     ]
    }
   ],
   "source": [
    "parkingCentral = Polygon([0, 500, 600, 600],[0, 300, 150, 600])"
   ]
  },
  {
   "cell_type": "code",
   "execution_count": 36,
   "metadata": {
    "tags": []
   },
   "outputs": [
    {
     "name": "stdout",
     "output_type": "stream",
     "text": [
      "Point 1 (x/y) = 0 / 0\n",
      "Point 2 (x/y) = 500 / 300\n",
      "Point 3 (x/y) = 600 / 150\n",
      "Point 4 (x/y) = 600 / 600\n",
      "Point 5 (x/y) = 0 / 0\n"
     ]
    }
   ],
   "source": [
    "parkingCentral.drawFeature()"
   ]
  },
  {
   "cell_type": "code",
   "execution_count": 40,
   "metadata": {},
   "outputs": [
    {
     "name": "stdout",
     "output_type": "stream",
     "text": [
      "Added 4 point(s) to the polygon.\n",
      "Point 1 (x/y) = 1 / 1\n",
      "Point 2 (x/y) = 1 / 400\n",
      "Point 3 (x/y) = 400 / 400\n",
      "Point 4 (x/y) = 500 / 300\n",
      "Point 5 (x/y) = 1 / 1\n"
     ]
    }
   ],
   "source": [
    "parkingWest = Polygon([1, 1, 400, 500], [1, 400, 400, 300])\n",
    "parkingWest.drawFeature()"
   ]
  },
  {
   "cell_type": "markdown",
   "metadata": {},
   "source": [
    "If the classes are written well, they should also handle the case that the polygon was created as empty object:"
   ]
  },
  {
   "cell_type": "code",
   "execution_count": 7,
   "metadata": {},
   "outputs": [
    {
     "name": "stdout",
     "output_type": "stream",
     "text": [
      "Added 0 point(s) to the polygon.\n"
     ]
    }
   ],
   "source": [
    "parkingNone = Polygon()"
   ]
  },
  {
   "cell_type": "code",
   "execution_count": 8,
   "metadata": {},
   "outputs": [
    {
     "name": "stdout",
     "output_type": "stream",
     "text": [
      "The point list is empty!\n"
     ]
    }
   ],
   "source": [
    "parkingNone.drawFeature()"
   ]
  },
  {
   "cell_type": "code",
   "execution_count": null,
   "metadata": {},
   "outputs": [],
   "source": []
  }
 ],
 "metadata": {
  "kernelspec": {
   "display_name": "Python 3",
   "language": "python",
   "name": "python3"
  },
  "language_info": {
   "codemirror_mode": {
    "name": "ipython",
    "version": 3
   },
   "file_extension": ".py",
   "mimetype": "text/x-python",
   "name": "python",
   "nbconvert_exporter": "python",
   "pygments_lexer": "ipython3",
   "version": "3.8.8"
  }
 },
 "nbformat": 4,
 "nbformat_minor": 4
}
