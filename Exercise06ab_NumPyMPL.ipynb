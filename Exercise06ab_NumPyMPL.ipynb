{
 "cells": [
  {
   "cell_type": "markdown",
   "id": "197d6cba-0e7b-47fb-ab17-7fa2aa3d0e83",
   "metadata": {},
   "source": [
    "\"Geo Data Science with Python\" \n",
    "### Notebook Exercise 6a\n",
    "\n",
    "---\n",
    "\n",
    "# Python Packages: NumPy & Matplotlib\n",
    "\n",
    "This exercise containes exercises on the Python package NumPy and Matplotlib.\n",
    "\n",
    "If you work in teams, please indicate your colaborators below!"
   ]
  },
  {
   "cell_type": "code",
   "execution_count": null,
   "id": "f53fec4b-0222-4eb0-b9a5-5bfed094118d",
   "metadata": {},
   "outputs": [],
   "source": [
    "NAME = \"\"\n",
    "COLLABORATORS = \"\""
   ]
  },
  {
   "cell_type": "markdown",
   "id": "76243076-a97c-4de8-8fb0-048ccdc79edc",
   "metadata": {},
   "source": [
    "---\n",
    "# Part A: Data analysis with NumPy\n",
    "\n",
    "This part of the assignment is meant to help you to understand how to use NumPy to do some basic data analysis and data manipulations using real data. In this exercise you are asked to analyze temperature data from Kumpula, Helsinki (in Southern Finland) and Rovaniemi (in northern Finland) and to explore how their summer temperatures have differed in 2017."
   ]
  },
  {
   "cell_type": "markdown",
   "id": "d6958318-8a9f-497b-90f6-1d4cb512d19f",
   "metadata": {},
   "source": [
    "## Input data\n",
    "\n",
    "We will use NOAA weather data. The data has been stored in a CSV file (comma delimited text file) which is stored in the data subdirectory: `./6153237444115dat.csv`.\n",
    "\n",
    "You can read the full description of the data and all the attributes from this file:  `./3505doc.txt`.\n",
    "\n",
    "The first five rows of the data look like following:"
   ]
  },
  {
   "cell_type": "code",
   "execution_count": null,
   "id": "00401c1d-f09d-4024-89c6-78f7f74dfd7f",
   "metadata": {},
   "outputs": [],
   "source": [
    "# USAF,WBAN,YR--MODAHRMN,DIR,SPD,GUS,CLG,SKC,L,M,H,VSB,MW,MW,MW,MW,AW,AW,AW,AW,W,TEMP,DEWP,SLP,ALT,STP,MAX,MIN,PCP01,PCP06,PCP24,PCPXX,SD\n",
    "# 028450,99999,201705010000,174,10,14,***,***,*,*,*,2.2,**,**,**,**,67,**,**,**,8,31,31,1009.2,*****,984.1,***,***,*****,*****,*****,*****,35\n",
    "# 028450,99999,201705010020,180,10,***,4,***,*,*,*,2.9,**,**,**,**,10,**,**,**,*,30,30,******,29.74,******,***,***,*****,*****,*****,*****,**\n",
    "# 028450,99999,201705010050,190,10,***,4,***,*,*,*,2.1,**,**,**,**,10,**,**,**,*,30,30,******,29.74,******,***,***,*****,*****,*****,*****,**\n",
    "# 028450,99999,201705010100,188,12,16,***,***,*,*,*,3.2,**,**,**,**,77,**,**,**,*,31,30,1009.1,*****,984.0,***,***,*****,*****,*****,*****,35"
   ]
  },
  {
   "cell_type": "markdown",
   "id": "2373a46e-d104-40a0-a32c-52959ce3318e",
   "metadata": {
    "nbgrader": {
     "grade": false,
     "grade_id": "cell-Aintro2",
     "locked": true,
     "schema_version": 3,
     "solution": false,
     "task": false
    }
   },
   "source": [
    "**Note**: the data includes `*`-characters that represent no-data values.\n",
    "\n",
    "The most important columns for this exercise are:\n",
    "\n",
    "* **USAF** = the station ID number\n",
    "    * 028450 : Rovaniemi\n",
    "    * 029980 : Helsinki Kumpula\n",
    "* **YR--MODAHRMN** = Year-Month-Day-Hour-Minute in Greenwich Mean Time (GMT)\n",
    "* **TEMP** = Temperature in Fahrenheit\n",
    "* **MAX** = Maximum temperature in Fahrenheit\n",
    "* **MIN** = Minimum temperature in Fahrenheit\n",
    "\n",
    "You should read in only those columns using the `usecols()` parameter in the `genfromtxt()` function in NumPy. Please refer to the [NumPy documentation for numpy.genfromtxt()](https://docs.scipy.org/doc/numpy/reference/generated/numpy.genfromtxt.html) to learn how to use this parameter."
   ]
  },
  {
   "cell_type": "markdown",
   "id": "e1b23d53-5502-401a-81ee-c014badb1294",
   "metadata": {
    "nbgrader": {
     "grade": false,
     "grade_id": "cell-A1task1",
     "locked": true,
     "points": 1,
     "schema_version": 3,
     "solution": false,
     "task": true
    }
   },
   "source": [
    "---\n",
    "## A.1: Basic statistics of the data \n",
    "\n",
    "(total of 9 points)\n",
    "\n",
    "In this assignment part your task is to open and explore the NOAA weather data using NumPy. Please answer the given tasks and write your code into the codeblocks below."
   ]
  },
  {
   "cell_type": "markdown",
   "id": "1da06e33-4fc2-4ed9-b420-4aef1933a069",
   "metadata": {
    "nbgrader": {
     "grade": false,
     "grade_id": "cell-A1task1",
     "locked": true,
     "points": 1,
     "schema_version": 3,
     "solution": false,
     "task": true
    }
   },
   "source": [
    "---\n",
    "### Task A.1.1\n",
    "\n",
    "(4 points)\n",
    "\n",
    "- **Import** the NumPy module **using the acronym `np`**\n",
    "- **Read the data** using NumPy into a variable called **`data`** (1 point)\n",
    "    - Note: We only want the `USAF`, `YR--MODAHRMN`, `TEMP`, `MAX`, and `MIN` columns from the data file\n",
    "- **Split the data** into separate variables called `station`, `date`, `temp`, `temp_max`, and `temp_min`"
   ]
  },
  {
   "cell_type": "code",
   "execution_count": null,
   "id": "520be587-d803-468a-be03-7411cf393bb9",
   "metadata": {},
   "outputs": [],
   "source": [
    "\"\"\" Add your code to import numpy and read the data\"\"\"\n",
    "\n",
    "### ADD YOUR CODE"
   ]
  },
  {
   "cell_type": "code",
   "execution_count": null,
   "id": "2d269380-b729-417b-98be-6bd31e9c14f7",
   "metadata": {},
   "outputs": [],
   "source": [
    "# Test your code\n",
    "\n",
    "print(station)\n",
    "print(date)\n",
    "print(temp)\n",
    "print(temp_max)\n",
    "print(temp_min)"
   ]
  },
  {
   "cell_type": "markdown",
   "id": "332180ef-6a89-4279-9f76-9a659ca2461d",
   "metadata": {
    "nbgrader": {
     "grade": false,
     "grade_id": "cell-A1task2",
     "locked": true,
     "points": 0,
     "schema_version": 3,
     "solution": false,
     "task": true
    }
   },
   "source": [
    "---\n",
    "### Task A.1.2\n",
    "\n",
    "(2 points)\n",
    "\n",
    "Next, in the codeblock below, request appropriate numpy attributes that provide answers to these following questions:\n",
    "\n",
    "- What are the dimensions of the data? \n",
    "- What is the datatype of the data?\n"
   ]
  },
  {
   "cell_type": "code",
   "execution_count": null,
   "id": "7cde69b9-150b-419f-9b7b-aba82b034a2e",
   "metadata": {},
   "outputs": [],
   "source": [
    "\"\"\" Add your code to answer the questions\"\"\"\n",
    "\n",
    "# Print the dimensions of the data:\n",
    "\n",
    "# Print the datatype of the data:\n"
   ]
  },
  {
   "cell_type": "code",
   "execution_count": null,
   "id": "a411671c-ba27-475e-9540-3667d14fd643",
   "metadata": {},
   "outputs": [],
   "source": [
    "\"\"\" Add your code to print the answers to the questions\"\"\"\n",
    "\n",
    "### ADD YOUR CODE"
   ]
  },
  {
   "cell_type": "markdown",
   "id": "eedcc945-ba7a-40d3-9787-7f187beccb0f",
   "metadata": {
    "nbgrader": {
     "grade": false,
     "grade_id": "cell-A1task3",
     "locked": true,
     "schema_version": 3,
     "solution": false,
     "task": false
    }
   },
   "source": [
    "---\n",
    "### Task A.1.3\n",
    "\n",
    "(3 points)\n",
    "\n",
    "Now, let's explore basic statistics in the data, with the functions `np.nanmean()`, `np.nanstd()` and `np.unique()`.\n",
    "The first two functions calculate mean and standard deviation of a numpy array, ignoring all NaN values.\n",
    "\n",
    "- What is the mean Fahrenheit temperature in the data (the `temp` variable)? Assign this number to the variable `temp_mean`.\n",
    "- What is the standard deviation of the maximum temperature (the `temp_max` variable)? Assign this number to the variable `temp_max_std`.\n",
    "- How many unique stations exists in the data (the `station` variable)? Use the numpy method `unique()` and assign this number to the variable `station_count`.\n"
   ]
  },
  {
   "cell_type": "code",
   "execution_count": null,
   "id": "105c90f1-0417-4e55-9918-cf722e17e637",
   "metadata": {
    "nbgrader": {
     "grade": false,
     "grade_id": "cell-A1answer3",
     "locked": false,
     "schema_version": 3,
     "solution": true,
     "task": false
    }
   },
   "outputs": [],
   "source": [
    "\"\"\" Add your code to answer the questions\"\"\"\n",
    "\n",
    "# Calculate mean temperature\n",
    "\n",
    "# Calculate standard deviaton of the maximum temperature:\n",
    "\n",
    "# Calculate number of unique stations:\n"
   ]
  },
  {
   "cell_type": "code",
   "execution_count": null,
   "id": "88ea943a-5400-491c-af3b-c331ed293420",
   "metadata": {},
   "outputs": [],
   "source": [
    "\"\"\" Add your code to print the answers to the questions\"\"\"\n",
    "\n",
    "### ADD YOUR CODE"
   ]
  },
  {
   "cell_type": "markdown",
   "id": "30c88961-8d36-4f1e-b091-2e5e10ccd224",
   "metadata": {
    "nbgrader": {
     "grade": false,
     "grade_id": "cell-A2task1",
     "locked": true,
     "points": 1,
     "schema_version": 3,
     "solution": false,
     "task": true
    }
   },
   "source": [
    "---\n",
    "# A.2: Data manipulation \n",
    "\n",
    "(8 points)\n",
    "\n",
    "We will keep working with data from the file '6153237444115dat.csv', which should be saved in the variable `data`, as well as in the individual column variables `station`, `date`, `temp`, `temp_max`, and `temp_min`. Work on the following tasks for data manipulation."
   ]
  },
  {
   "cell_type": "markdown",
   "id": "4b2caded-242f-4447-9569-c643f53426bf",
   "metadata": {
    "nbgrader": {
     "grade": false,
     "grade_id": "cell-A2task1",
     "locked": true,
     "points": 1,
     "schema_version": 3,
     "solution": false,
     "task": true
    }
   },
   "source": [
    "---\n",
    "### Task A.2.1: Remove no data values\n",
    "\n",
    "(3 points)\n",
    "\n",
    "In the previous part, you had to use functions ignoring NaN values in the dataset. Now, we want to completely remove those datasets with nan-values. **Make sure that you comment your code (add inline comments explaining what your code does).**\n",
    "\n",
    "In the codeblock below:\n",
    "\n",
    " - Create a new mask variable `tempmask` that is `True` for all finite temperature values, and `False` for `nan` values in the `temp` variable\n",
    " - Filter (remove) all rows from the column variables (`station`, `date`, `temp`, `temp_max`, and `temp_min`) using the `tempmask` array and save the new columns in the variables (`station_noNan`, `date_noNan`, `temp_noNan`, `temp_max_noNan`, and `temp_min_noNan`)\n",
    " "
   ]
  },
  {
   "cell_type": "code",
   "execution_count": null,
   "id": "0daa6a2e-64ed-4a21-b7ce-df3771f3c80f",
   "metadata": {},
   "outputs": [],
   "source": [
    "\"\"\" Add your code to create the mask and assign variables\"\"\"\n",
    "\n",
    "### ADD YOUR CODE\n"
   ]
  },
  {
   "cell_type": "code",
   "execution_count": null,
   "id": "7db0e524-e1f9-41d5-bce9-727e38070c9a",
   "metadata": {},
   "outputs": [],
   "source": [
    "# Check your results (for example using the len() function)\n",
    "print(len(data))\n",
    "print(len(temp_noNan))\n",
    "print(len(station_noNan))\n"
   ]
  },
  {
   "cell_type": "markdown",
   "id": "1b52c91b-febd-48f1-80c6-2b53cc4e084d",
   "metadata": {
    "nbgrader": {
     "grade": false,
     "grade_id": "cell-A2task2",
     "locked": true,
     "schema_version": 3,
     "solution": false,
     "task": false
    }
   },
   "source": [
    "---\n",
    "### Task A.2.2: Divide the data into two separate datasets\n",
    "\n",
    "(4 points)\n",
    "\n",
    "In this problem you should divide the data into separate subsets for different stations.\n",
    "\n",
    "- Select all rows from the data arrays containin no nan-values into variable called `kumpula` where the `station` value is `29980` using an array mask called `kmask`\n",
    "- Select all rows from the data arrays containin no nan-values into variable called `rovaniemi` where the `station` value is `28450` using an array mask called `rmask`\n",
    "  \n",
    "Please use the given variable names and write your answer into the code cell below.\n",
    "\n",
    "Hint: the functions `vstack()` and `transpose()` might be useful for this task.\n",
    "\n",
    "Note: Don't be surprised, if there are still nan-values in the dataset. Keep in mind, that you have (and should have) excluded only nan-values in the temperature column of the dataset."
   ]
  },
  {
   "cell_type": "code",
   "execution_count": 4,
   "id": "5bd7e117-dc7f-48b0-9dd2-30105841ad81",
   "metadata": {},
   "outputs": [
    {
     "data": {
      "text/plain": [
       "' Add your code to split the dataset'"
      ]
     },
     "execution_count": 4,
     "metadata": {},
     "output_type": "execute_result"
    }
   ],
   "source": [
    "\"\"\" Add your code to split the dataset\"\"\"\n",
    "\n",
    "### ADD YOUR CODE\n"
   ]
  },
  {
   "cell_type": "code",
   "execution_count": null,
   "id": "df08f192-149e-4042-86dc-1954dff41dfc",
   "metadata": {},
   "outputs": [],
   "source": [
    "# Check the data (you don't need to modify this cell)\n",
    "print(\"Kumpula: \\n\", kumpula[:5,:], \"\\n\")\n",
    "print(\"Rovaniemi: \\n\", rovaniemi[:5,:], \"\\n\")\n"
   ]
  },
  {
   "cell_type": "markdown",
   "id": "dd781ad0-614b-4269-97f9-df1687798046",
   "metadata": {
    "nbgrader": {
     "grade": false,
     "grade_id": "cell-A2task3",
     "locked": true,
     "schema_version": 3,
     "solution": false,
     "task": false
    }
   },
   "source": [
    "---\n",
    "## Task A.2.3: Save the data into a csv-file\n",
    "\n",
    "(1 point)\n",
    "\n",
    "Now save the data for each station into a csv-file, using the savetext() function in the code cell below. \n"
   ]
  },
  {
   "cell_type": "code",
   "execution_count": 5,
   "id": "5eb4883f-c4b6-4bb2-b700-6462afdf65b7",
   "metadata": {
    "nbgrader": {
     "grade": true,
     "grade_id": "cell-A2answer3",
     "locked": false,
     "points": 0,
     "schema_version": 3,
     "solution": true,
     "task": false
    }
   },
   "outputs": [
    {
     "data": {
      "text/plain": [
       "' Add your code to save the dataset'"
      ]
     },
     "execution_count": 5,
     "metadata": {},
     "output_type": "execute_result"
    }
   ],
   "source": [
    "\"\"\" Add your code to save the dataset\"\"\"\n",
    "\n",
    "### ADD YOUR CODE\n"
   ]
  },
  {
   "cell_type": "markdown",
   "id": "703fce00-57b2-46d7-879e-c86070d20c03",
   "metadata": {
    "nbgrader": {
     "grade": false,
     "grade_id": "cell-A3task1",
     "locked": true,
     "schema_version": 3,
     "solution": false,
     "task": false
    }
   },
   "source": [
    "---\n",
    "# A.3: Data analysis \n",
    "\n",
    "(9 points)\n",
    "\n",
    "In this problem the aim is to understand the differences between temperatures in Helsinki Kumpula and Rovaniemi. The data are now stored in your variables `kumpula` and `rovaniemi`. Remember to comment your code."
   ]
  },
  {
   "cell_type": "markdown",
   "id": "8fe4f7a5-5ed9-4c0a-ae95-422e31eaa263",
   "metadata": {
    "nbgrader": {
     "grade": false,
     "grade_id": "cell-A3task1",
     "locked": true,
     "schema_version": 3,
     "solution": false,
     "task": false
    }
   },
   "source": [
    "---\n",
    "### Task A.3.1\n",
    "\n",
    "(1 point)\n",
    "\n",
    "What was the median temperature during the observed period in:\n",
    "  - Helsinki Kumpula? (store the answer in a variable `kumpula_median`\n",
    "  - Rovaniemi? (store the answer in a variable `rovaniemi_median`"
   ]
  },
  {
   "cell_type": "code",
   "execution_count": 5,
   "id": "85f66256-5555-4400-9d76-77c68efea9c6",
   "metadata": {
    "nbgrader": {
     "grade": true,
     "grade_id": "cell-A2answer3",
     "locked": false,
     "points": 0,
     "schema_version": 3,
     "solution": true,
     "task": false
    }
   },
   "outputs": [
    {
     "data": {
      "text/plain": [
       "' Add your code to save the dataset'"
      ]
     },
     "execution_count": 5,
     "metadata": {},
     "output_type": "execute_result"
    }
   ],
   "source": [
    "\"\"\" Add your code\"\"\"\n",
    "\n",
    "### ADD YOUR CODE\n"
   ]
  },
  {
   "cell_type": "code",
   "execution_count": 7,
   "id": "70275dec-f2b1-4270-80c1-a3e2cfb19e71",
   "metadata": {},
   "outputs": [],
   "source": [
    "#Print the answer:\n",
    "#print(\"Kumpula median: \", kumpula_median)\n",
    "#print(\"Rovaniemi median: \", rovaniemi_median)\n"
   ]
  },
  {
   "cell_type": "markdown",
   "id": "86ae9f58-a3ab-4990-91db-c7400d1d31e3",
   "metadata": {
    "nbgrader": {
     "grade": false,
     "grade_id": "cell-A3task2",
     "locked": true,
     "schema_version": 3,
     "solution": false,
     "task": false
    }
   },
   "source": [
    "---\n",
    "### Task A.3.2\n",
    "\n",
    "(4 points)\n",
    "\n",
    "The median temperatures above consider data from quite a long period of time (May-Aug), hence the differences might not be so clear.\n",
    "**Let's now find out what the mean temperatures in May and June in Kumpula and Rovaniemi were:**\n",
    "\n",
    "- Select from `rovaniemi` and `kumpula` arrays the rows where values of the `date` column are from May 2017\n",
    "and assign them into mask variables `rovaniemi_may` and `kumpula_may`\n",
    "- Repeat the procedure for the month of June and assign those values into mask variables `rovaniemi_june` and `kumpula_june`\n"
   ]
  },
  {
   "cell_type": "code",
   "execution_count": null,
   "id": "b1ce7904-1ada-44d3-b231-9f7c727621ba",
   "metadata": {},
   "outputs": [],
   "source": [
    "\"\"\" Enter code to make subset of the Kumpula and  \n",
    "    Rovaniemi data for the 5th and 6th months\"\"\"\n",
    "\n",
    "### ADD YOUR CODE\n"
   ]
  },
  {
   "cell_type": "markdown",
   "id": "87ee5cf8-6766-45d7-ac39-a69801e9fff9",
   "metadata": {
    "nbgrader": {
     "grade": false,
     "grade_id": "cell-A3task3",
     "locked": true,
     "points": 0,
     "schema_version": 3,
     "solution": false,
     "task": true
    }
   },
   "source": [
    "---\n",
    "### Task A.3.3\n",
    "\n",
    "(2 point)\n",
    "\n",
    "Print the mean, min and max temperatures for both locations in May and June using the new masks (`rovaniemi_may`,`kumpula_may`,`rovaniemi_june` and `kumpula_june`)."
   ]
  },
  {
   "cell_type": "code",
   "execution_count": 5,
   "id": "b0ad8d20-8558-44fc-b2b5-8a6ac1b2d3aa",
   "metadata": {
    "nbgrader": {
     "grade": true,
     "grade_id": "cell-A2answer3",
     "locked": false,
     "points": 0,
     "schema_version": 3,
     "solution": true,
     "task": false
    }
   },
   "outputs": [
    {
     "data": {
      "text/plain": [
       "' Add your code to save the dataset'"
      ]
     },
     "execution_count": 5,
     "metadata": {},
     "output_type": "execute_result"
    }
   ],
   "source": [
    "\"\"\" Add your code\"\"\"\n",
    "\n",
    "### ADD YOUR CODE\n"
   ]
  },
  {
   "cell_type": "markdown",
   "id": "51453155-23af-494b-91f3-04f447438ba6",
   "metadata": {
    "nbgrader": {
     "grade": false,
     "grade_id": "cell-A3task4",
     "locked": true,
     "points": 0,
     "schema_version": 3,
     "solution": false,
     "task": true
    }
   },
   "source": [
    "---\n",
    "### Task A.3.4\n",
    "\n",
    "(2 points) \n",
    "\n",
    "Let's briefly interpret the results of this data analysis. Justify your answers to the following questions based on the data analysis results from this exercise (edit the markdown cell below to add your answers):\n",
    "\n",
    "1. Does there seem to be a large difference in temperatures between the months?\n",
    "2. Is Rovaniemi a much colder place than Kumpula?"
   ]
  },
  {
   "cell_type": "markdown",
   "id": "94d527f5-03e7-4f4c-9843-187843aaffba",
   "metadata": {},
   "source": [
    "ADD YOUR ANSWERS HERE!!!"
   ]
  },
  {
   "cell_type": "markdown",
   "id": "edfbc39a-0be5-4e6b-ab50-ff6e34de6200",
   "metadata": {
    "nbgrader": {
     "grade": false,
     "grade_id": "cell-Btask",
     "locked": true,
     "points": 0,
     "schema_version": 3,
     "solution": false,
     "task": true
    }
   },
   "source": [
    "---\n",
    "# Part B: Plot your data\n",
    "\n",
    "(total of 13 points)\n",
    "\n",
    "## B.1: Compare time series from two locations.\n",
    "\n",
    "(7 points) \n",
    "\n",
    "In the previous part of this assignment (A.3) you have extracted the hourly temperature measurements during the month of May, 2017 for the two locations *Kumpula* and *Rovaniemi*. These are still available in the numpy arrays `kumpula` and `rovaniemi`. Now you should plot the data, to compare them visually. You can also check if the plots supports your conclusion you made in task A.3.4. Make sure to comment your code as much as necessary."
   ]
  },
  {
   "cell_type": "markdown",
   "id": "0c6544a7-f4d7-4cfe-8263-0670661f40e9",
   "metadata": {
    "nbgrader": {
     "grade": false,
     "grade_id": "cell-Btask",
     "locked": true,
     "points": 0,
     "schema_version": 3,
     "solution": false,
     "task": true
    }
   },
   "source": [
    "Plot format & grading criteria:\n",
    "\n",
    "1. The lines should be dashed with circles for the data points\n",
    "2. The graph for *Kumpula* should be red, the graph for *Rovaniemi* should be blue\n",
    "3. You should also include a title `\"Kumpula & Rovaniemi Temperatures in May 2017\"` \n",
    "4. X-label should be `\"Time\"`\n",
    "5. Y-label should be `\"Temperature [°F]\"`\n",
    "6. Mark the highest peak in one time series by adding text to the graph: `'High temperature in May 2017 (location)'`\n",
    "7. save your figure in a .png image file."
   ]
  },
  {
   "cell_type": "code",
   "execution_count": 5,
   "id": "332f106b-b56d-483f-93e9-841a8deeacad",
   "metadata": {
    "nbgrader": {
     "grade": true,
     "grade_id": "cell-A2answer3",
     "locked": false,
     "points": 0,
     "schema_version": 3,
     "solution": true,
     "task": false
    }
   },
   "outputs": [
    {
     "data": {
      "text/plain": [
       "' Add your code to save the dataset'"
      ]
     },
     "execution_count": 5,
     "metadata": {},
     "output_type": "execute_result"
    }
   ],
   "source": [
    "\"\"\" Add your code to plot the data\"\"\"\n",
    "\n",
    "### ADD YOUR CODE\n"
   ]
  },
  {
   "cell_type": "markdown",
   "id": "90b4a727-e78e-4139-a3d7-94391bab9331",
   "metadata": {
    "nbgrader": {
     "grade": false,
     "grade_id": "cell-Btask2",
     "locked": true,
     "points": 0,
     "schema_version": 3,
     "solution": false,
     "task": true
    }
   },
   "source": [
    "---\n",
    "### B2: Plot with date labels\n",
    "\n",
    "(6 points)\n",
    "\n",
    "Add the following two items to your plot from the previous task:\n",
    "\n",
    "* Add date labels to the x axis in datetime format `'%Y%m%d%H%M'`. <br> Hint: use the `plt.subplots()` function this time, but do not create rows or colums.\n",
    "* Add a legend for the two colored graphs to the plot. You will have to self-study the solution for this!\n",
    "* Add a grid to the background.\n"
   ]
  },
  {
   "cell_type": "code",
   "execution_count": 5,
   "id": "dbd0a3f0-667a-41fd-a302-00571d2b480a",
   "metadata": {
    "nbgrader": {
     "grade": true,
     "grade_id": "cell-A2answer3",
     "locked": false,
     "points": 0,
     "schema_version": 3,
     "solution": true,
     "task": false
    }
   },
   "outputs": [
    {
     "data": {
      "text/plain": [
       "' Add your code to save the dataset'"
      ]
     },
     "execution_count": 5,
     "metadata": {},
     "output_type": "execute_result"
    }
   ],
   "source": [
    "\"\"\" Add your code to plot the data\"\"\"\n",
    "\n",
    "### ADD YOUR CODE\n"
   ]
  },
  {
   "cell_type": "markdown",
   "id": "2f5f0241-6bc6-4f8b-a601-a99ffa5eba52",
   "metadata": {
    "nbgrader": {
     "grade": false,
     "grade_id": "cell-final",
     "locked": true,
     "schema_version": 3,
     "solution": false,
     "task": false
    }
   },
   "source": [
    "---\n",
    "If you are satisfied with your assignments, save it and make a backup. Then submit it to your homework repository."
   ]
  },
  {
   "cell_type": "code",
   "execution_count": null,
   "id": "0f30af9d-abb2-44bf-8b9a-9dd04e7f3a04",
   "metadata": {},
   "outputs": [],
   "source": []
  }
 ],
 "metadata": {
  "kernelspec": {
   "display_name": "Python 3",
   "language": "python",
   "name": "python3"
  },
  "language_info": {
   "codemirror_mode": {
    "name": "ipython",
    "version": 3
   },
   "file_extension": ".py",
   "mimetype": "text/x-python",
   "name": "python",
   "nbconvert_exporter": "python",
   "pygments_lexer": "ipython3",
   "version": "3.8.8"
  }
 },
 "nbformat": 4,
 "nbformat_minor": 5
}
