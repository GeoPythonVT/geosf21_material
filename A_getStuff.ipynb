{
 "cells": [
  {
   "cell_type": "code",
   "execution_count": 1,
   "id": "57491301-5429-4b83-b56d-e6ff732476f2",
   "metadata": {},
   "outputs": [
    {
     "name": "stdout",
     "output_type": "stream",
     "text": [
      "remote: Enumerating objects: 79, done.\u001b[K\n",
      "remote: Counting objects: 100% (79/79), done.\u001b[K\n",
      "remote: Compressing objects: 100% (55/55), done.\u001b[K\n",
      "remote: Total 77 (delta 42), reused 57 (delta 22), pack-reused 0\u001b[K\n",
      "Unpacking objects: 100% (77/77), 610.65 KiB | 763.00 KiB/s, done.\n",
      "From github.com:GeoPythonVT/geosf21_material\n",
      "   23194f9..014f434  main       -> origin/main\n",
      "Updating 23194f9..014f434\n",
      "Fast-forward\n",
      " Exercise02_PythonConcepts.ipynb                |  390 \u001b[32m+++++\u001b[m\n",
      " Exercise03_Lists.ipynb                         |  582 \u001b[32m++++++++\u001b[m\n",
      " Exercise04b_Dictionaries.ipynb                 |  578 \u001b[32m+++++++\u001b[m\n",
      " Lessons/Lesson02_PythonConcepts.ipynb          |  422 \u001b[32m++++++\u001b[m\n",
      " Lessons/Lesson03_BasicObjectTypes.ipynb        | 1904 \u001b[32m++++++++++++++++++++++++\u001b[m\n",
      " Lessons/Lesson04_Lists_empty.ipynb             | 1099 \u001b[32m++++++++++++++\u001b[m\n",
      " Lessons/Lesson04_Lists_notesAndCodeAdded.ipynb | 1683 \u001b[32m+++++++++++++++++++++\u001b[m\n",
      " Lessons/Lesson04b_Dictionaries.ipynb           |  985 \u001b[32m++++++++++++\u001b[m\n",
      " Lessons/images/Image_BillTheVendingMachine.png |  Bin \u001b[31m0\u001b[m -> \u001b[32m457082\u001b[m bytes\n",
      " Lessons/images/Image_ListComprehension.png     |  Bin \u001b[31m0\u001b[m -> \u001b[32m65832\u001b[m bytes\n",
      " Lessons/images/Image_Table_NumericObjects.jpg  |  Bin \u001b[31m0\u001b[m -> \u001b[32m39552\u001b[m bytes\n",
      " Lessons/images/Image_VariableAssignment.png    |  Bin \u001b[31m0\u001b[m -> \u001b[32m77467\u001b[m bytes\n",
      " Lessons/images/Image_jupyter.png               |  Bin \u001b[31m0\u001b[m -> \u001b[32m5733\u001b[m bytes\n",
      " 13 files changed, 7643 insertions(+)\n",
      " create mode 100644 Exercise02_PythonConcepts.ipynb\n",
      " create mode 100644 Exercise03_Lists.ipynb\n",
      " create mode 100644 Exercise04b_Dictionaries.ipynb\n",
      " create mode 100644 Lessons/Lesson02_PythonConcepts.ipynb\n",
      " create mode 100644 Lessons/Lesson03_BasicObjectTypes.ipynb\n",
      " create mode 100644 Lessons/Lesson04_Lists_empty.ipynb\n",
      " create mode 100644 Lessons/Lesson04_Lists_notesAndCodeAdded.ipynb\n",
      " create mode 100644 Lessons/Lesson04b_Dictionaries.ipynb\n",
      " create mode 100644 Lessons/images/Image_BillTheVendingMachine.png\n",
      " create mode 100644 Lessons/images/Image_ListComprehension.png\n",
      " create mode 100644 Lessons/images/Image_Table_NumericObjects.jpg\n",
      " create mode 100644 Lessons/images/Image_VariableAssignment.png\n",
      " create mode 100644 Lessons/images/Image_jupyter.png\n"
     ]
    }
   ],
   "source": [
    "! git pull"
   ]
  },
  {
   "cell_type": "code",
   "execution_count": null,
   "id": "15cc269d-abbd-4e69-915c-6b5495ff4691",
   "metadata": {},
   "outputs": [],
   "source": []
  }
 ],
 "metadata": {
  "kernelspec": {
   "display_name": "Python 3 (ipykernel)",
   "language": "python",
   "name": "python3"
  },
  "language_info": {
   "codemirror_mode": {
    "name": "ipython",
    "version": 3
   },
   "file_extension": ".py",
   "mimetype": "text/x-python",
   "name": "python",
   "nbconvert_exporter": "python",
   "pygments_lexer": "ipython3",
   "version": "3.9.5"
  }
 },
 "nbformat": 4,
 "nbformat_minor": 5
}
