{
 "cells": [
  {
   "cell_type": "markdown",
   "metadata": {},
   "source": [
    "# Geo Data Science with Python, Fall 2021\n",
    "\n",
    "## Submitting Homework\n",
    "\n",
    "Homework submissions will be accomplished through GitHub. At this point, I am assuming you have worked through the Git Configuration document and successfully added the README file via the command line.\n",
    "\n",
    "Submitting homework will involve adding your homework to the tracked files, committing changes, and finally pushing your changes to your remote repo.\n",
    "\n",
    "After you have completed your assignment and saved your final knitted document, in the terminal, do the following:\n",
    "\n",
    "### Make sure your local copy is synced with your remote copy\n",
    "\n",
    "```git\n",
    "git pull\n",
    "```\n",
    "\n",
    "### Add your homework files to the list of tracked files\n",
    "```git\n",
    "git add <your homework file>\n",
    "```\n",
    "### Commit changes you care about\n",
    "```git\n",
    "git commit -m \"final version of homework\"\n",
    "```\n",
    "### Push your homework to your remote repo\n",
    "```git\n",
    "git push\n",
    "```\n",
    "\n",
    "So, the basic workflow is:\n",
    "```git\n",
    "git pull\n",
    "<do work>\n",
    "git pull\n",
    "git add ./*ipynb\n",
    "git add ./*pdf\n",
    "git commit -m \"my first draft\"\n",
    "git push\n",
    "```\n",
    "As you work on your homework, you can and should add/commit/push often to save your work! Again, if you want to learn more, check out the docs and the cheatsheet:\n",
    "\n",
    "https://services.github.com/on-demand/downloads/github-git-cheat-sheet/"
   ]
  }
 ],
 "metadata": {
  "kernelspec": {
   "display_name": "Python 3",
   "language": "python",
   "name": "python3"
  },
  "language_info": {
   "codemirror_mode": {
    "name": "ipython",
    "version": 3
   },
   "file_extension": ".py",
   "mimetype": "text/x-python",
   "name": "python",
   "nbconvert_exporter": "python",
   "pygments_lexer": "ipython3",
   "version": "3.8.5"
  }
 },
 "nbformat": 4,
 "nbformat_minor": 5
}
