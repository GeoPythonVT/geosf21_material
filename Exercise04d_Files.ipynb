{
 "cells": [
  {
   "cell_type": "markdown",
   "metadata": {},
   "source": [
    "\"Geo Data Science with Python\" \n",
    "### Notebook Exercise 4d\n",
    "\n",
    "---\n",
    "\n",
    "# File I/O\n",
    "\n"
   ]
  },
  {
   "cell_type": "markdown",
   "metadata": {},
   "source": [
    "### Task 1: Reading and Handling a Capital Data from a File (5 points)\n",
    "\n",
    "The repository contains a data file with the name `capitals.txt`. You can open and read the file using the JupyterLab text editor. make a copy of this file to your homework repository. However, do not change the content (this will sabotage the success of your exercise).\n",
    "\n",
    "In this task, you complete the code cell below, by:\n",
    "* Open the file `captials.txt` for reading.\n",
    "* Read the file content. Choose a function that reads all capitals saved in the file into a list and give the list variable the name `myCapitals`.\n",
    "* Close the file.\n",
    "* Display the list variable on screen with `print()`.\n"
   ]
  },
  {
   "cell_type": "code",
   "execution_count": null,
   "metadata": {},
   "outputs": [],
   "source": [
    "\"Enter your code blow.\"\n",
    "\n",
    "### YOUR CODE HERE\n"
   ]
  },
  {
   "cell_type": "code",
   "execution_count": null,
   "metadata": {},
   "outputs": [],
   "source": [
    "# Check your code below.\n",
    "\n",
    "assert capList[0] == 'Tbilisi\\n'\n",
    "assert capList[8] == 'Berlin\\n'\n",
    "assert capList[11] == 'Washington\\n'\n",
    "assert capList[-1] == 'Santiago'\n"
   ]
  },
  {
   "cell_type": "markdown",
   "metadata": {},
   "source": [
    "### Task 2: Review List Operations (3 points)\n",
    "... to prepare them for file export.\n",
    "\n",
    "As you can see, you still have a newline control character `\\n` at the end of the string entries in the list `capList`. Hence, convert this list into a new one called `myCapitals_clean`. For example, you could use list comprehension and the method `.rstrip()`, or list comprehension and slicing for that. \n",
    "\n",
    "Then, make an **explicit** copy of the variable `myCapitals_clean` and save it to the variable `myCapitals_clean_sorted`. (Refer to the notebook lesson about lists, to review what it means to make an explicit copy of lists and why this might be necessary!)\n",
    "\n",
    "At last, modify the list `myCapitals_clean_sorted` so that it contains alphabetically sorted (from A to Z) entries. Which method would be useful for that? Keep in mind, what we have learned about methods that mutate a variable!!!"
   ]
  },
  {
   "cell_type": "code",
   "execution_count": null,
   "metadata": {},
   "outputs": [],
   "source": [
    "\"Enter your code blow.\"\n",
    "\n",
    "### YOUR CODE HERE\n"
   ]
  },
  {
   "cell_type": "code",
   "execution_count": null,
   "metadata": {},
   "outputs": [],
   "source": [
    "# Check the result of your code for myCapitals_clean.\n",
    "\n",
    "myCapitals_clean\n"
   ]
  },
  {
   "cell_type": "code",
   "execution_count": null,
   "metadata": {},
   "outputs": [],
   "source": [
    "# Check the result of your code for myCapitals_clean_sorted.\n",
    "\n",
    "myCapitals_clean_sorted\n"
   ]
  },
  {
   "cell_type": "code",
   "execution_count": null,
   "metadata": {},
   "outputs": [],
   "source": [
    "# Check the result of your code.\n",
    "\n",
    "assert myCapitals_clean[0] == 'Tbilisi'\n",
    "assert myCapitals_clean[8] == 'Berlin'\n",
    "assert myCapitals_clean_sorted[0] == 'Algiers'\n",
    "assert myCapitals_clean_sorted[8] == 'London'\n"
   ]
  },
  {
   "cell_type": "markdown",
   "metadata": {},
   "source": [
    "### Task 3: Writing Capital Data to a File (3 points)\n",
    "\n",
    "Now let's write the sorted list `myCapitals_clean_sorted` into a file `capitalsSorted.txt`. In case, you had issues with the string handling in part A above and want to first work on this one, we have assigned the correct list for the variable `myCapitals_clean_sorted` below. In the code cell one further below, complement the code cell below. \n",
    "\n",
    "* Open a not yet existing file for writing. Make sure to use another file name than the one from the previous task and that the file is saved in the same folder as the JupyterNotebook (you do not need to enter a filepath, only a filename.) \n",
    "* Write the list `myCapitals_clean_sorted` into a file. First think about, which function for writing data into a file might be most useful in this case?\n",
    "* Close the file"
   ]
  },
  {
   "cell_type": "code",
   "execution_count": null,
   "metadata": {},
   "outputs": [],
   "source": [
    "myCapitals_clean_sorted = [\n",
    "     'Algiers',\n",
    "     'Asmara',\n",
    "     'Beijing',\n",
    "     'Berlin',\n",
    "     'Brasilia',\n",
    "     'Cairo',\n",
    "     'Caracas',\n",
    "     'Doha',\n",
    "     'London',\n",
    "     'Mexico City',\n",
    "     'Minsk',\n",
    "     'Montevideo',\n",
    "     'Moscow',\n",
    "     'Niamey',\n",
    "     'Quito',\n",
    "     'Santiago',\n",
    "     'Stockholm',\n",
    "     'Tbilisi',\n",
    "     'Teheran',\n",
    "     'Washington',\n",
    "     'Yerevan']"
   ]
  },
  {
   "cell_type": "code",
   "execution_count": null,
   "metadata": {},
   "outputs": [],
   "source": [
    "\"\"\"Enter your code for writing the variable \n",
    "   myCapitals_clean_sorted into the file capitalsSorted.txt .\"\"\"\n",
    "\n",
    "### YOUR CODE HERE\n"
   ]
  },
  {
   "cell_type": "markdown",
   "metadata": {},
   "source": [
    "To check your results, open the file `capitalsSorted.txt` and check if the content is what you intent it to be."
   ]
  },
  {
   "cell_type": "markdown",
   "metadata": {},
   "source": [
    "### Task 4 (4 points)\n",
    "\n",
    "Re-open the file `capitalsSorted.txt` that you have just written, assing the content into a variable `myCapitals_clean_sorted_returned` and print it to screen. Write the code for that in the following cell."
   ]
  },
  {
   "cell_type": "code",
   "execution_count": null,
   "metadata": {},
   "outputs": [],
   "source": [
    "\"\"\"Add code to read the file capitalsSorted.txt and print the content to screen\"\"\"\n",
    "\n",
    "### YOUR CODE HERE\n"
   ]
  },
  {
   "cell_type": "code",
   "execution_count": null,
   "metadata": {},
   "outputs": [],
   "source": [
    "# Check your code\n",
    "\n",
    "assert myCapitals_clean_sorted_returned == ['AlgiersAsmaraBeijingBerlinBrasiliaCairoCaracasDohaLondonMexico CityMinskMontevideoMoscowNiameyQuitoSantiagoStockholmTbilisiTeheranWashingtonYerevan']\n"
   ]
  },
  {
   "cell_type": "markdown",
   "metadata": {},
   "source": [
    "Ohh, what is that?! When printing the the variable `myCapitals_clean_sorted_returned`, you should receive something like this:\n",
    "\n",
    "`['AlgiersAsmaraBeijingBerlinBrasiliaCairoCaracasDohaLondonMexico CityMinskMontevideoMoscowNiameyQuitoSantiagoStockholmTbilisiTeheranWashingtonYerevan']`\n",
    "\n",
    "\n",
    "Why has everything merged into one string? Any idea?\n",
    "\n",
    "This is about the newline control characters `\\n`. We have deleted them before sorting the list. This was necessary, because the captial string in the last line of the file has no newline control character. After sorting, that entry moved to the middle of the list, while another capital string moved to the end of the list. If we would have kept the newline control characters, just sort and write the data to file, two capitals would have been merged on one line. You can create a new code cell below and try that out.\n",
    "\n",
    "Therefore, let's put the newline control characters back at the end of each capital string in the list, except the last one and save this in a variable `myCapitals_clean_sorted2`. Since we want to focus more on file handling in this exercise, the cell below provides you with the code for this. The code applies list comprehension to add the control character at the end of each string. Then the control character is removed from the last one using the function replace. You may study the code and try to repeat it by yourself."
   ]
  },
  {
   "cell_type": "code",
   "execution_count": null,
   "metadata": {},
   "outputs": [],
   "source": [
    "myCapitals_clean_sorted2 = [ e+'\\n' for e in myCapitals_clean_sorted]\n",
    "myCapitals_clean_sorted2[-1] = myCapitals_clean_sorted2[-1].replace('\\n','')\n",
    "myCapitals_clean_sorted2"
   ]
  },
  {
   "cell_type": "markdown",
   "metadata": {},
   "source": [
    "Now, write this new variable `myCapitals_clean_sorted2` into the file `capitalsSorted.txt`, using the code from above. Make sure to change out the variable name `myCapitals_clean_sorted` to `myCapitals_clean_sorted2`."
   ]
  },
  {
   "cell_type": "code",
   "execution_count": null,
   "metadata": {},
   "outputs": [],
   "source": [
    "\"\"\"Copy your code for writing the file below.\"\"\"\n",
    "\n",
    "### YOUR CODE HERE\n"
   ]
  },
  {
   "cell_type": "markdown",
   "metadata": {},
   "source": [
    "### Task 5 (optional, 4 extra credit points)\n",
    "\n",
    "In the code cells below, experiment with the different file reading and writing functions: `read()`, `readline()` and `readlines()` as well as `write()` and `writelines()`. \n",
    "\n",
    "For example:\n",
    "* Write the strings ‘hello’ and ‘world’ into a file (e.g. `hello.txt`) on two different lines by using a trailing ‘\\n’\n",
    "* Close the file\n",
    "* Open the same file for reading.\n",
    "* Read data from the file into string in different ways: Experiment with the various functions `read()`, `readline()` and `readlines()`, to read the file in one bulk, as a list of lines or line by line into string variables.\n",
    "* Very advanced: Try the function seek()."
   ]
  },
  {
   "cell_type": "code",
   "execution_count": null,
   "metadata": {},
   "outputs": [],
   "source": [
    "# add your code here to practice file reading & writing\n",
    "    \n",
    "    "
   ]
  },
  {
   "cell_type": "code",
   "execution_count": null,
   "metadata": {},
   "outputs": [],
   "source": [
    "# add your code here to practice file reading & writing\n",
    "    \n",
    "    "
   ]
  },
  {
   "cell_type": "code",
   "execution_count": null,
   "metadata": {},
   "outputs": [],
   "source": [
    "# add your code here to practice file reading & writing\n",
    "    \n",
    "    "
   ]
  },
  {
   "cell_type": "code",
   "execution_count": null,
   "metadata": {},
   "outputs": [],
   "source": [
    "# add your code here to practice file reading & writing\n",
    "    \n",
    "    "
   ]
  },
  {
   "cell_type": "markdown",
   "metadata": {},
   "source": [
    "---\n",
    "If you are satisfied with your notebook, save it and push it to your homework repository."
   ]
  }
 ],
 "metadata": {
  "kernelspec": {
   "display_name": "Python 3",
   "language": "python",
   "name": "python3"
  },
  "language_info": {
   "codemirror_mode": {
    "name": "ipython",
    "version": 3
   },
   "file_extension": ".py",
   "mimetype": "text/x-python",
   "name": "python",
   "nbconvert_exporter": "python",
   "pygments_lexer": "ipython3",
   "version": "3.8.5"
  }
 },
 "nbformat": 4,
 "nbformat_minor": 5
}
