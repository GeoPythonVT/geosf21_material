{
 "cells": [
  {
   "cell_type": "markdown",
   "metadata": {},
   "source": [
    "# GitHub Setup your own computer"
   ]
  },
  {
   "cell_type": "markdown",
   "metadata": {},
   "source": [
    "This instructions are for setting up your GitHub connection with your computer, after you have already created your GitHub account and repository. \n",
    "- Configure Git\n",
    "- Configure Git locally to allow pushing to your personal repository (this is how you submit homework)\n",
    "\n",
    "## Install Bash and Git on your computer\n",
    "\n",
    "Follow instructions (depending on your operating system) for installing Bash, Git and Python/Anaconda on this website: https://annajiat.github.io/2021-07-19-colorado-online/\n",
    "\n",
    "## Configure your ssh keys\n",
    "\n",
    "1. If you have a key, skip to step 5.\n",
    "2. Open a terminal on your computer, or in Jupyter Lab (click on + to the left and then on Terminal). \n",
    "3. In the terminal window, type: \n",
    "    ```shell\n",
    "    ssh-keygen\n",
    "    ```\n",
    "4. Ideally you will use a short passphrase different from your pid password, but can simply hit enter for most (or all prompts).\n",
    "5. Into the terminal, type:\n",
    "    ```shell\n",
    "    cat ~/.ssh/id_rsa.pub \n",
    "    ```\n",
    "   ... and copy the entire output.\n",
    "6. Now, you need to add this to your GitHub profile. In Github, click on the pulldown (top right) to view your profile and choose settings then SSH and GPG keys.\n",
    "7. Click on New SSH key, paste your RSA public key there and save.\n",
    "\n",
    "## Configure your local Git\n",
    "\n",
    "To do this, type the following in your Terminal, or the Jupyter QTConsole:\n",
    "\n",
    "    git config --global user.email <you@example.com>  \n",
    "    git config --global user.name <GitHubUserName> \n",
    "\n",
    "    \n",
    "## Clone the new repository to your local computer\n",
    "\n",
    "In the terminal window, change directories to where you want your coursework to live, for instance cd ~/Documents/. Then pull your repository onto your computer:\n",
    "\n",
    "    git clone git@github.com:<GitHubUserName>/geosf21_<pid>.git\n",
    "\n",
    "## Push your home work to your repository \n",
    "\n",
    "```git\n",
    "cd ~./geosf21_<pid>\n",
    "git pull\n",
    "<do work>\n",
    "git pull\n",
    "git add ./*ipynb\n",
    "git add ./*pdf\n",
    "git commit -m \"homework submission\"\n",
    "git push\n",
    "```\n",
    "\n",
    "If you want to read more about this:\n",
    "\n",
    "https://services.github.com/on-demand/downloads/github-git-cheat-sheet/\n",
    "\n",
    "\n",
    "# Copy / Clone the course repository to your own computer\n",
    "\n",
    "In the terminal window, change directories to where you want the course material to live. The following command copies the course material repository to your computer to the folder './geosf21_material'. \n",
    "\n",
    "    git clone git@github.com:GeoPythonVT/geosf21_material.git\n",
    "\n",
    "Don't push any content to this repository. However, you should pull new content from this repository, whenever there is new material available. Alternatively, you can download the material directly from the repositories website: \n",
    "\n",
    "https://github.com/GeoPythonVT/geosf21_material"
   ]
  },
  {
   "cell_type": "code",
   "execution_count": null,
   "metadata": {},
   "outputs": [],
   "source": []
  }
 ],
 "metadata": {
  "kernelspec": {
   "display_name": "Python 3",
   "language": "python",
   "name": "python3"
  },
  "language_info": {
   "codemirror_mode": {
    "name": "ipython",
    "version": 3
   },
   "file_extension": ".py",
   "mimetype": "text/x-python",
   "name": "python",
   "nbconvert_exporter": "python",
   "pygments_lexer": "ipython3",
   "version": "3.8.5"
  }
 },
 "nbformat": 4,
 "nbformat_minor": 4
}
