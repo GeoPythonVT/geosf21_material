{
 "cells": [
  {
   "cell_type": "markdown",
   "id": "dbd808f0-5d6e-47ab-8a94-47fcf1e371e7",
   "metadata": {},
   "source": [
    "\"Geo Data Science with Python\" \n",
    "### Notebook Exercise 6d\n",
    "\n",
    "---\n",
    "\n",
    "# Datetime, NetCDF and Plotting Maps\n",
    "\n",
    "If you work in teams, please indicate your colaborators below!"
   ]
  },
  {
   "cell_type": "code",
   "execution_count": null,
   "id": "97327727-d6bf-425b-b1ec-6e80519f709c",
   "metadata": {},
   "outputs": [],
   "source": [
    "NAME = \"\"\n",
    "COLLABORATORS = \"\""
   ]
  },
  {
   "cell_type": "markdown",
   "id": "2a4d7c9e-2cf3-490f-9d38-9027f0c840df",
   "metadata": {},
   "source": [
    "---\n",
    "## Part A: Translate number of days into date objects and use them for a plot \n",
    "\n",
    "(11 points)\n",
    "\n",
    "\n",
    "For this part, we have defined a numpy array `noDays` and `temperatures` in the code cell below. This is a fictitious datasets of temperature records given for days of the year 1999."
   ]
  },
  {
   "cell_type": "code",
   "execution_count": null,
   "id": "3008ef98-2f3b-4d70-95a8-f95b62824f7b",
   "metadata": {},
   "outputs": [],
   "source": [
    "# given number of days since January 1, 1999\n",
    "import numpy as np\n",
    "noDays = np.array([15., 18., 38., 49., 55., 60., 100., 150., 244., 300., 364.])\n",
    "temperatures = np.array([10., 12., 12., 18., 19., 20., 22., 14., 12, 9., 6.])"
   ]
  },
  {
   "cell_type": "markdown",
   "id": "eab44c95-4e46-418c-8436-3ab9101a613c",
   "metadata": {
    "nbgrader": {
     "grade": false,
     "grade_id": "cell-A1task",
     "locked": true,
     "points": 0,
     "schema_version": 3,
     "solution": false,
     "task": true
    }
   },
   "source": [
    "---\n",
    "### Task A.1\n",
    "\n",
    "(4 points)\n",
    "\n",
    "The array `noDays` contains time stamps for the temperture records, provided in the format of numbers of days since January 1, 1999. Convert the time entries in the array to actual dates using appropriate functions of the module `Datetime`. For that you need to:\n",
    "\n",
    "* Read about the function timedelta from the datetime module https://docs.python.org/3/library/datetime.html. \n",
    "* Import the needed module and/or functions\n",
    "* Use an iteration or list comprehension that adds the date January 1, 1999 to each item in the array `noDays`. Use the timedelta function.\n",
    "* Assign the resulting dates to a list of the name `noDays_date`\n",
    "\n",
    "Note: this task does only practice usage of the datetime module (not the netcdf module)."
   ]
  },
  {
   "cell_type": "code",
   "execution_count": null,
   "id": "8b9b6687-e677-4ad2-9f26-ab9733c983b8",
   "metadata": {},
   "outputs": [],
   "source": [
    "\"\"\"Add you code below\"\"\"\n",
    "\n",
    "### YOUR CODE HERE\n"
   ]
  },
  {
   "cell_type": "code",
   "execution_count": null,
   "id": "28920584-9e55-4129-a940-a2ad8ab4f985",
   "metadata": {},
   "outputs": [],
   "source": [
    "# Print your result to test your code\n",
    "[print(e) for e in noDays_date]"
   ]
  },
  {
   "cell_type": "markdown",
   "id": "4ef60909-370d-4d12-837b-c607ba3be09b",
   "metadata": {
    "nbgrader": {
     "grade": false,
     "grade_id": "cell-A2task",
     "locked": true,
     "points": 0,
     "schema_version": 3,
     "solution": false,
     "task": true
    }
   },
   "source": [
    "---\n",
    "### Task A.2\n",
    "\n",
    "(2 points)\n",
    "\n",
    "The fictitious data set from above defines a second array of name `temperature`. Plot this fictitious dataset using the time stamps you have just translated to date objects and saved in the variable `noDays_date`. For that do the following:\n",
    "\n",
    "* Import the pyplot package \n",
    "* Make a very simple plot of the temperature dataset, using the dates from Task 1, to make sure your x-axis labels provide real dates.\n",
    "\n",
    "There is no need to further label the plot."
   ]
  },
  {
   "cell_type": "code",
   "execution_count": null,
   "id": "ed4bfaa1-9a3b-4e1b-a6d3-5e5466b3d7e0",
   "metadata": {},
   "outputs": [],
   "source": [
    "\"\"\"Add you code below\"\"\"\n",
    "\n",
    "### YOUR CODE HERE\n"
   ]
  },
  {
   "cell_type": "markdown",
   "id": "dde0b62d-1aa5-473a-b551-20cc460a5154",
   "metadata": {},
   "source": [
    "---\n",
    "### Task A.3\n",
    "\n",
    "(5 points)\n",
    "\n",
    "**This task is independent from the task above**, and practices usage of netCDF time values.\n",
    "\n",
    "Below, the time variable of the netcdf file `tos_O1_2001-2002.nc` is read into the variable ncTime. (The file should locate in the Lessons folder of the material repository geosf21_material.)\n",
    "\n",
    "Find a way to convert the netCDF time values `ncTime` into a datetime object `ncTime_dates`. The following workflow is a suggestion:\n",
    "\n",
    "* import an appropriate netCDF4 function\n",
    "* read the correct time unit from the dataset\n",
    "* use the netCDF4 function num2date and the method strftime() to convert the netCDF4 date array into a list of strings\n",
    "* convert the list of string objects into datetime dates by combining list comprehensions with the function split for converting the date string into datetime dates, multiple steps might be necessary.\n",
    "\n",
    "Refer to the reference of the datetime module and datetime function, if needed.\n"
   ]
  },
  {
   "cell_type": "code",
   "execution_count": 10,
   "id": "8f8d905d-d6a6-447f-95ee-9e7ea94aafda",
   "metadata": {},
   "outputs": [],
   "source": [
    "data = Dataset('./tos_O1_2001-2002.nc')\n",
    "ncTime = data.variables['time'][:].data"
   ]
  },
  {
   "cell_type": "code",
   "execution_count": null,
   "id": "a1ea9354-cfc6-4aad-b44a-eaee5164c42e",
   "metadata": {},
   "outputs": [],
   "source": [
    "\"\"\"Add you code below\"\"\"\n",
    "\n",
    "### YOUR CODE HERE\n"
   ]
  },
  {
   "cell_type": "markdown",
   "id": "72ad1f06-1175-445e-b5e9-22fe90419c27",
   "metadata": {
    "nbgrader": {
     "grade": false,
     "grade_id": "cell-Dtask",
     "locked": true,
     "schema_version": 3,
     "solution": false,
     "task": false
    }
   },
   "source": [
    "---\n",
    "## Part B: Import a netCDF file, calculate a map statistic and plot the result \n",
    "\n",
    "(15 points)\n",
    "\n",
    "For this task, you should import the netCDF file `tos_O1_2001-2002.nc` and calculate the maximum sea surface temperature during the year 2001 for each gridpoint. Then print the resulting map. For guidance and to receive full points, follow exactly these steps:\n",
    "\n",
    "* Import the package `Dataset` from the module netCDF4 (1 point)\n",
    "* Read the netcdf dataset from the file `tos_O1_2001-2002.nc` and save the content to the variable `data` (1 point)\n",
    "* Print out the information of the data set to get an overview\n",
    "* Assign the data content to the variable `lat`, `lon`, `time`, `tos`. Consider to select the correct object from the masked arrays, if needed (extract the data object). (2 points)\n",
    "* Close the netCDF dataset/file (1 point)\n",
    "* Convert the 1D lat/lon arrays to a meshgrid arrays and save them to the variables `lat_grid` and `lon_grid` (2 points)\n",
    "* Converting missing values in '`tos` data to `np.nan` (convert to Celsius or leave at Kelvin, as you prefer) (1 point)\n",
    "* Iterate over the data array `tos` in the correct way, to retrieve the maximum sea surface temperature during the year 2001 for each data pixel and save the results in a new map `tos_max2001` (6 points)\n",
    "* Make a simple plot the new map `tos_max` with labeled coordinate axes and a colorbar with the colormap `'viridis'`. No further labeling needed (1 point)"
   ]
  },
  {
   "cell_type": "code",
   "execution_count": null,
   "id": "dfbba1d6-14c1-4ce8-847a-30d9ef6d9e32",
   "metadata": {},
   "outputs": [],
   "source": [
    "\"\"\"Add you code below\"\"\"\n",
    "\n",
    "### YOUR CODE HERE\n"
   ]
  },
  {
   "cell_type": "markdown",
   "id": "77497a36-edd8-461d-ba6a-ec07d2aab18b",
   "metadata": {
    "nbgrader": {
     "grade": false,
     "grade_id": "cell-Btask",
     "locked": true,
     "points": 10,
     "schema_version": 3,
     "solution": false,
     "task": true
    }
   },
   "source": [
    "---\n",
    "## Part C: Print an image with adjusted axes labels (optional)\n",
    "\n",
    "(10 points, extra credit)\n",
    "\n",
    "For this task, we are providing you with some code below, which imports the shaded relief from the file `'./US_MSR_lowRes_terrain.dat'` to the variable `reliefUS`, defines related metadata as well as meshgrids for the `x` and `y` coordinates of the shaded relief. You are also given the coordinate bounds for an area of the Northeast (NE) of the United States, which you should slice out of the shaded relief data set. The bounds are given by the assigned variables `latMin`, `latMax`, `lonMin` and `lonMax`, below. You should also plot the new data frame in a matplotlib image with correctly labeled coordinate axes. In addition, plot the location of the city of New York and two further cities of your choice into the map. For that you need to:\n",
    "\n",
    "* Find correct indicees for the bounding box coordinates in the coordinate arrays `x_col` and `y_col` (2 points)\n",
    "* Reduce all neccessary arrays to bounding box using those indicees (2 points)\n",
    "* Plotting the relief data with labeled axes: coordinates (2 points)\n",
    "* Plotting the relief with a reversed gray scale colorbar (1 point)\n",
    "* Plot the location of the city New York, with the coordinates `NY_lat` and `NY_lon` using a colored dot (1 point)\n",
    "* Label the dot for the city of New York with its name (1 point)\n",
    "* Find coordinates of two more cities in the map frame and add colored dots for their locations (1 point)\n",
    "\n",
    "Fill your code in the answer code cell below. Make sure to comment your code well!!! Use exaclty the variable names as stated in the task."
   ]
  },
  {
   "cell_type": "code",
   "execution_count": null,
   "id": "be1d83bd-8374-4003-9f54-14117d618efc",
   "metadata": {
    "nbgrader": {
     "grade": false,
     "grade_id": "cell-Bdata",
     "locked": true,
     "schema_version": 3,
     "solution": false,
     "task": false
    }
   },
   "outputs": [],
   "source": [
    "# provided code to:\n",
    "#    import the relief data, \n",
    "#    define the coordinate arrays (meshgrids)\n",
    "#    define new bounding box for reduced data fram\n",
    "\n",
    "import numpy as np\n",
    "\n",
    "# reading the file using numpy function genfromtxt, skipping header\n",
    "filename = \"./US_MSR_lowRes_terrain.dat\"  # USA Shaded relief data\n",
    "reliefUS = np.genfromtxt(filename, delimiter=' ', skip_header=6) \n",
    "\n",
    "# defining information from file header\n",
    "xllcorner = -129.9727818920000004\n",
    "yllcorner =  15.5224817269999988\n",
    "cellsize  =   0.04001\n",
    "[yDim,xDim] = reliefUS.shape\n",
    "\n",
    "# Creating meshgrids x and y that hold lon and lat coordinates for each data point\n",
    "x_col = np.empty(reliefUS.shape)\n",
    "y_col = np.empty(reliefUS.shape)\n",
    "x_col = np.linspace(xllcorner,xllcorner+cellsize*(xDim+1), xDim)\n",
    "y_col = np.linspace(yllcorner,yllcorner+cellsize*(yDim+1), yDim)\n",
    "y_col = np.flip(y_col)\n",
    "x, y = np.meshgrid(x_col,y_col)\n",
    "\n",
    "# defining a new bounding box for NE USA to be extracted from the shaded relief image\n",
    "latMin = 36\n",
    "latMax = 50\n",
    "lonMin = -98\n",
    "lonMax = -65\n",
    "\n",
    "# coordinates New York\n",
    "NY_lat = 40.730610\n",
    "NY_lon = -73.935242"
   ]
  },
  {
   "cell_type": "code",
   "execution_count": null,
   "id": "2942e70d-4bac-4e38-9b7c-5ce0eb0a1e49",
   "metadata": {},
   "outputs": [],
   "source": [
    "\"\"\"Add you code below\"\"\"\n",
    "\n",
    "### YOUR CODE HERE\n"
   ]
  },
  {
   "cell_type": "markdown",
   "id": "ca337845-165f-4064-9a9c-61d2a8455151",
   "metadata": {},
   "source": [
    "---\n",
    "If you are satisfied with your code, back it up and submit it to your homework repository."
   ]
  },
  {
   "cell_type": "code",
   "execution_count": null,
   "id": "b51f205e-5085-4132-9b7b-7e583a04bf7b",
   "metadata": {},
   "outputs": [],
   "source": []
  }
 ],
 "metadata": {
  "kernelspec": {
   "display_name": "Python 3",
   "language": "python",
   "name": "python3"
  },
  "language_info": {
   "codemirror_mode": {
    "name": "ipython",
    "version": 3
   },
   "file_extension": ".py",
   "mimetype": "text/x-python",
   "name": "python",
   "nbconvert_exporter": "python",
   "pygments_lexer": "ipython3",
   "version": "3.8.8"
  }
 },
 "nbformat": 4,
 "nbformat_minor": 5
}
