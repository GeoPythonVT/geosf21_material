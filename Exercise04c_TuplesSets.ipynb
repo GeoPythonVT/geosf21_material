{
 "cells": [
  {
   "cell_type": "markdown",
   "metadata": {},
   "source": [
    "\"Geo Data Science with Python\" \n",
    "### Notebook Exercise 4c\n",
    "\n",
    "---\n",
    "\n",
    "# Python Object Types: Tuples and Sets\n",
    "\n"
   ]
  },
  {
   "cell_type": "markdown",
   "metadata": {},
   "source": [
    "### Task 1 (5 points)\n",
    "\n",
    "In the code cell below, add the code for the following tasks\n",
    "\n",
    "1. Create a tuple that contains only one number.\n",
    "2. Create a tuple containing numbers 1 to 7.\n",
    "3. Create a tuple containing the strings \"firstName\", \"lastName\" \n",
    "4. Create a dictionary with the previous tuple as key and enter your own names as data."
   ]
  },
  {
   "cell_type": "code",
   "execution_count": null,
   "metadata": {},
   "outputs": [],
   "source": [
    "\"Enter your code for task 1.1.\"\n",
    "\n",
    "### YOUR CODE HERE\n"
   ]
  },
  {
   "cell_type": "code",
   "execution_count": null,
   "metadata": {},
   "outputs": [],
   "source": [
    "\"Enter your code for task 1.2.\"\n",
    "\n",
    "### YOUR CODE HERE\n"
   ]
  },
  {
   "cell_type": "code",
   "execution_count": null,
   "metadata": {},
   "outputs": [],
   "source": [
    "\"Enter your code for task 1.3.\"\n",
    "\n",
    "### YOUR CODE HERE\n"
   ]
  },
  {
   "cell_type": "code",
   "execution_count": null,
   "metadata": {},
   "outputs": [],
   "source": [
    "\"Enter your code for task 1.4.\"\n",
    "\n",
    "### YOUR CODE HERE\n"
   ]
  },
  {
   "cell_type": "code",
   "execution_count": null,
   "metadata": {},
   "outputs": [],
   "source": [
    "# Check the result of your code\n",
    "# task 1\n",
    "assert len(numTuple) == 1\n",
    "assert type(numTuple) == tuple\n",
    "# task 2\n",
    "assert len(numTuple2) == 7\n",
    "assert min(numTuple2) == 1\n",
    "assert max(numTuple2) == 7\n",
    "assert type(numTuple2) == tuple\n",
    "# task 3 \n",
    "assert type(nameTuple) == tuple\n",
    "assert len(nameTuple) == 2\n",
    "# task 4\n",
    "assert type(nameDict) == dict\n",
    "assert type(nameDict['firstName']) == str\n",
    "assert type(nameDict['lastName']) == str\n",
    "assert len(nameDict) == 2"
   ]
  },
  {
   "cell_type": "markdown",
   "metadata": {},
   "source": [
    "### Task 2 (5 points)\n",
    "\n",
    "This tasks includes generating and handling various sets. \n",
    "\n",
    "1. Using the function range, generate a list `List1` with numbers 1-15 (inclusive 15), then generate a second list `List2` containing  numbers in the range 10-25 (inclusive 25). Make sure to convert the number ranges into an actual list. Use an appropriate function for converting an Python object into a list.  Then generate a third list `List3` by *concatenating* both previous lists. \n",
    "\n",
    "2. Convert each of the lists into three sets `Set1`, `Set2` and `Set3`."
   ]
  },
  {
   "cell_type": "code",
   "execution_count": null,
   "metadata": {},
   "outputs": [],
   "source": [
    "\"Enter your code for .\"\n",
    "\n",
    "### YOUR CODE HERE\n"
   ]
  },
  {
   "cell_type": "code",
   "execution_count": null,
   "metadata": {},
   "outputs": [],
   "source": [
    "# Check the result of your code for LISTS:\n",
    "\n",
    "assert len(List1) == 15\n",
    "assert len(List2) == 16\n",
    "assert len(List3) == 31\n",
    "assert type(List1) == type(List2) == type(List3) == list\n"
   ]
  },
  {
   "cell_type": "code",
   "execution_count": null,
   "metadata": {},
   "outputs": [],
   "source": [
    "# Check the result of your code for SETS:\n",
    "\n",
    "assert len(Set1) == 15\n",
    "assert len(Set2) == 16\n",
    "assert len(Set3) == 25\n",
    "assert type(Set1) == type(Set2) == type(Set3) == set\n"
   ]
  },
  {
   "cell_type": "code",
   "execution_count": null,
   "metadata": {},
   "outputs": [],
   "source": [
    "# Check the result of your code\n",
    "\n",
    "print('List1: ', List1) \n",
    "\n",
    "# add code to check other variables\n"
   ]
  },
  {
   "cell_type": "markdown",
   "metadata": {},
   "source": [
    "### Task 3 (5 points)\n",
    "\n",
    "Continue using the lists and sets from above and code the following in the code cell below:\n",
    "\n",
    "1. Assign the difference between `Set1` and `Set2` to a variable with the name `dif_12`.\n",
    "\n",
    "2. Assign the difference between `Set2` and `Set1` to a variable with the name `dif_21`.\n",
    "\n",
    "3. Assign the intersection between `Set1` and `Set2` to a variable with the name `intersect_12`.\n",
    "\n",
    "4. Assign the union between `Set1` and `Set2` to a variable with the name `union_12`.\n",
    "\n",
    "5. Assign the differnce between `Set3` and `union_12` to a variable with the name `leer`.\n",
    "\n",
    "6. Convert `Set3` into a tuple of the name `Tuple1`.\n",
    "\n",
    "Tuples are basically immutable lists. Therefore, you can perform the exercise on lists also on tuples, excluding those tasks, that mutate a list.\n"
   ]
  },
  {
   "cell_type": "code",
   "execution_count": null,
   "metadata": {},
   "outputs": [],
   "source": [
    "\"Enter your code for task 3.1 - 3.6.\"\n",
    "\n",
    "### YOUR CODE HERE\n",
    "### YOUR CODE HERE\n",
    "### YOUR CODE HERE\n",
    "### YOUR CODE HERE\n",
    "### YOUR CODE HERE\n",
    "### YOUR CODE HERE\n"
   ]
  },
  {
   "cell_type": "code",
   "execution_count": null,
   "metadata": {},
   "outputs": [],
   "source": [
    "# Check the result of your code:\n",
    "\n",
    "print('dif_12: ', dif_12) \n",
    "print('dif_21: ', dif_21) \n",
    "print('intersect_12: ', intersect_12) \n",
    "print('union_12: ', union_12) \n",
    "print('leer: ', leer) \n"
   ]
  },
  {
   "cell_type": "code",
   "execution_count": null,
   "metadata": {},
   "outputs": [],
   "source": [
    "# Check the result of your code\n",
    "\n",
    "assert type(Tuple1) == tuple\n",
    "assert type(dif_12) == type(dif_21) == type(intersect_12) == type(union_12) == type(leer) == set\n",
    "assert len(dif_12)  == 9\n",
    "assert len(dif_21)  == 10\n",
    "assert len(intersect_12)  == 6\n",
    "assert len(union_12) == 25\n",
    "assert len(leer)     == 0"
   ]
  },
  {
   "cell_type": "markdown",
   "metadata": {},
   "source": [
    "---\n",
    "If you are satisfied with your notebook, save it and push it to your homework repository."
   ]
  }
 ],
 "metadata": {
  "kernelspec": {
   "display_name": "Python 3",
   "language": "python",
   "name": "python3"
  },
  "language_info": {
   "codemirror_mode": {
    "name": "ipython",
    "version": 3
   },
   "file_extension": ".py",
   "mimetype": "text/x-python",
   "name": "python",
   "nbconvert_exporter": "python",
   "pygments_lexer": "ipython3",
   "version": "3.8.5"
  }
 },
 "nbformat": 4,
 "nbformat_minor": 5
}
