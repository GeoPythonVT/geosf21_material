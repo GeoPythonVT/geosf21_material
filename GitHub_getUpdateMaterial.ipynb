{
 "cells": [
  {
   "cell_type": "markdown",
   "id": "9e944262-6f7c-4148-83ad-8237ada775cb",
   "metadata": {},
   "source": [
    "# Copy / Clone the course repository to your own computer"
   ]
  },
  {
   "cell_type": "markdown",
   "id": "f2896223-160a-409d-84e1-3d590d8ed437",
   "metadata": {},
   "source": [
    "The course material is available in a public repository (no SSH connection necessary). It will be updated regularily.\n",
    "\n",
    "## Initial download\n",
    "\n",
    "In a console/terminal, change directories to where you want the course folder to live. The following command copies the entire course material repository to your computer to the folder './geosf21_material'. \n",
    "\n",
    "    git clone https://github.com/GeoPythonVT/geosf21_material.git\n",
    "\n",
    "You won't be able to push any content to this repository. \n",
    "\n",
    "## Update\n",
    "\n",
    "You can update the repository for new content (without repeatedly downloading the entire repository), whenever there is new material available. For that, enter the folder 'geosf21_material' on the ARC web-app/your computer and type in the terminal/console:\n",
    "\n",
    "    git pull https://github.com/GeoPythonVT/geosf21_material.git\n",
    "\n",
    "Alternatively, you can download the material directly from the repositories website: \n",
    "\n",
    "https://github.com/GeoPythonVT/geosf21_material"
   ]
  }
 ],
 "metadata": {
  "kernelspec": {
   "display_name": "Python [conda env:geosf21]",
   "language": "python",
   "name": "conda-env-geosf21-py"
  },
  "language_info": {
   "codemirror_mode": {
    "name": "ipython",
    "version": 3
   },
   "file_extension": ".py",
   "mimetype": "text/x-python",
   "name": "python",
   "nbconvert_exporter": "python",
   "pygments_lexer": "ipython3",
   "version": "3.9.5"
  }
 },
 "nbformat": 4,
 "nbformat_minor": 5
}
