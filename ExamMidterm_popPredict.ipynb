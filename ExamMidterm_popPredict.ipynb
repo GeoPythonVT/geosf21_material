{
 "cells": [
  {
   "cell_type": "markdown",
   "metadata": {},
   "source": [
    "\"Geo Data Science with Python\" \n",
    "### Notebook Midterm Exam\n",
    "\n",
    "---"
   ]
  },
  {
   "cell_type": "markdown",
   "metadata": {},
   "source": [
    "# Task description for the midterm take-home exam \n",
    "\n",
    "### Major goal\n",
    "\n",
    "Write a script file that reads UN population prediction data from file into an appropriate object type and anlyzes the data. Specific requirements for your program file and for the data analyzis are given below. The results of the data analyzis should be summarized in a document.\n",
    "\n",
    "### Documents to submit\n",
    "\n",
    "- Pyhon file with the name `PopPredict_<PID>.py` containing your program. Replace `<PID>` with your VT-PID.\n",
    "- Pdf-file with the name `PopPredict_<PID>.pdf` containing a summary (maximum 2 pages) that includes a short introduction of the analysis task, display of the results (in a text and/or table) and a brief discussion and interpretation of the results. **Indicate the name of your collaborator if you chose to work in a team.**\n",
    "- **If you work in a team, please indicate names of all collaborators in the doc-string of the script file. And make a statement on individual contributions at the end of the report.** (Provide detail, who coded which part, and/or which parts you worked on together, and/or who wrote which part of the summary, etc.). and the report!\n",
    "\n",
    "Note: you do not need to submit this notebook"
   ]
  },
  {
   "cell_type": "markdown",
   "metadata": {},
   "source": [
    "### Data set\n",
    "We will analyze future prediction of annual total population for different countries and regions around the world. The data were retrieved from the UN website https://population.un.org/wpp/Download/Standard/Population/.\n",
    "\n",
    "- We are using the medium variant predictions for \"Total Population - Both Sexes\" for the years 2020 to 2100.\n",
    "- The data are stored in the comma-separated text file WPP2019_INTHOUSANDS.txt\n",
    "- Population numbers are given in unit of thousand, hence, a 1 in the file stands for 1000 people.\n",
    "\n",
    "The file contains one header line: \n",
    "```txt\n",
    "Region-subregion-country-or-area, 2022, 2023, ..., 2010\n",
    "```\n",
    "\n",
    "All following lines/rows contain the population estimates for countries/region. In each line, the first entry indicates the name of the country/region and all following entries contain the population number for this region/country and for the year, corresponding to the file header, like this:\n",
    "```txt\n",
    "Burundi, 11 891,   12 255, ..., 50 904\n",
    "```\n",
    "\n",
    "For example the second entry indicates population estimate of 11891 (Eleventhousand-and-eighthundredninetyone) for the year 2020. Make sure you correctly interpret and read the numbers, as there is a space every three digits ahead of the comma."
   ]
  },
  {
   "cell_type": "markdown",
   "metadata": {},
   "source": [
    "### Detailed description of coding requirements\n",
    "\n",
    "Write a Python program (.py file) that contains the following features:\n",
    "\n",
    "- Import the `math` module with an abbreviation of your choice. Except for coding of the three functions mySum, myMean, myMax below, you may use any math attributes in your code.\n",
    "\n",
    "- Add three functions that you have coded from scratch, hence, without using any built-in functions or standard libraries and their functions. These functions should calculate the following:\n",
    "    - function **mySum**: returning total sum of a list of numbers passed to it:\n",
    "    \n",
    "        $m = \\sum_{i=1}^{n}(x_i)$\n",
    "\n",
    "    - function **myMean**: returning the mean of a list of numbers passed to it:\n",
    "    \n",
    "        $\\overline{x} = \\frac{1}{n} \\cdot \\sum_{i=1}^{n}x_i$\n",
    "\n",
    "    - function **myMax**: returning maximum of a list of numbers passed to it, without using any built-in or standard library function, like sort() or max().\n",
    "\n",
    "- Add the following fourth function. You may use the math function math.sqrt() and the built-in function pow() for this task.\n",
    "\n",
    "    - function **myStd**: standard deviation of a list of numbers passed to it:\n",
    "    \n",
    "        $s(x) = \\sqrt{ \\frac{1}{n-1} \\cdot \\sum_{i=1}^{n}(x_i-\\overline{x})^{2}}$    \n",
    "\n",
    "\n",
    "- Add a function `readUNpopData` that reads the dataset from the file `WPP2019_INTHOUSANDS.txt` into an object type that you consider ideal to process this dataset and returns that dataset. \n",
    "\n",
    "- Requests user input at the beginning of the program that requests an country of interest to be analyzed later on.\n",
    "\n",
    "- Your program should include exception handling for \n",
    "    - file opening\n",
    "    - user input for dataset selection\n",
    "\n",
    "- It is up to you to decide what exactly the exception handler should do if an exception occurs (for example repeat the user request, until an acceptable input was given, or complete the program with a respective notification to the user).\n",
    "\n",
    "- Your program should be coded in the way that it can be started and run as main level script, to perform the data analysis described in the next section. However, it should also be possible to import the file as module, to give access to the attributes that it defines and without anything being executed during import, yet.\n",
    "\n",
    "- Module imports and function definitions and other elements should be located at a reasonable location in the program file.\n",
    "\n",
    "- Add a docstring to all functions.\n",
    "\n",
    "- Add a docstring to your program file.\n",
    "\n",
    "- Generously add comments throughout your code to increase readability."
   ]
  },
  {
   "cell_type": "markdown",
   "metadata": {},
   "source": [
    "### Data analysis questions\n",
    "\n",
    "In your main program block perform the following data analysis. \n",
    "Use the function mySum, myPercentage, myMean, myStd that you are required to code, to answer these questions. Also, print your results to screen, together with an explainatory string.\n",
    "\n",
    "1. What was the estimated total world population in 2020?\n",
    "\n",
    "2. What is the predicted total world population in 2050 and 2100?\n",
    "\n",
    "3. What is the population increase of the total world population from now (2020) to 2050 and 2100 (in percentage)?\n",
    "\n",
    "4. Which three countries are expected to contain the largest population in 10 years.\n",
    "\n",
    "5. Enter any country/region for the user input request and return the population numbers for 2020, 2050 and 2100 for this country/region.\n",
    "\n",
    "6. What is the current population and expected population increase in percentage by 2100 for USA, China, India, Nigeria, Egypt, Brazil, Australia, France, Turkey ? (Code this analysis as a loop over a list of these countries, instead of copying-pasting your code for each country).\n",
    "\n",
    "7. Which country is expected to grow the fastest until 2100 (in percentage, relative to their population in 2020).\n",
    "\n",
    "8. What is the mean and standard deviation for percentage growth rates for all countries from today until 2100? \n",
    "\n",
    "9. Calculate any other statistic from the dataset that you are interested in.\n"
   ]
  },
  {
   "cell_type": "markdown",
   "metadata": {},
   "source": [
    "### Important considerations for the exam\n",
    "- This is a take home exam. You have one week to complete the task.\n",
    "- You can work in a team of up to 2 people on this exam\n",
    "- **If you work in a team, please indicate names of all collaborators in the doc-string of the script file. And make a statement on individual contributions at the end of the report.** (Provide detail, who coded which part, and/or which parts you worked on together, and/or who wrote which part of the summary, etc.). and the report!\n",
    "- This is an open book exam. You can use any literature or internet resources. We encourage you to search for helpful built-in functions or functions of the Python standard libraries (e.g. math) on the Python documentation pages (https://docs.python.org/3/) or open source tutorials.\n",
    "- If you use external references for your code solutions, pleas document this in the docstring and/or in comments throughout the script file."
   ]
  },
  {
   "cell_type": "markdown",
   "metadata": {},
   "source": [
    "### Some tips\n",
    "- For reading the data, reflect on built-in functions we have used so far to work with the various object types and include them into your code. Useful examples might be `split()`, `find()`, `index()`\n",
    "- For program building and testing, you may use a shortened version of the data set, containing only a few lines of the dataset. Just make a copy of the file and reduce the dataset for test purposes."
   ]
  },
  {
   "cell_type": "code",
   "execution_count": null,
   "metadata": {},
   "outputs": [],
   "source": []
  },
  {
   "cell_type": "code",
   "execution_count": null,
   "metadata": {},
   "outputs": [],
   "source": []
  }
 ],
 "metadata": {
  "kernelspec": {
   "display_name": "Python 3",
   "language": "python",
   "name": "python3"
  },
  "language_info": {
   "codemirror_mode": {
    "name": "ipython",
    "version": 3
   },
   "file_extension": ".py",
   "mimetype": "text/x-python",
   "name": "python",
   "nbconvert_exporter": "python",
   "pygments_lexer": "ipython3",
   "version": "3.8.8"
  }
 },
 "nbformat": 4,
 "nbformat_minor": 4
}
