{
 "cells": [
  {
   "cell_type": "markdown",
   "metadata": {},
   "source": [
    "\"Geo Data Science with Python\" \n",
    "### Notebook Exercise 5b\n",
    "\n",
    "---\n",
    "\n",
    "# Functions: Classifying and Converting Temperatures\n",
    "\n",
    "This exercise is meant to help you to understand how to use functions in Python. You are asked to create a simple function that converts temperatures from one temperature-type to another and then classify those temperatures into specific temperature classes.\n",
    "\n",
    "If you work in teams, please indicate your colaborators below!"
   ]
  },
  {
   "cell_type": "code",
   "execution_count": null,
   "metadata": {},
   "outputs": [],
   "source": [
    "NAME = \"\"\n",
    "COLLABORATORS = \"\""
   ]
  },
  {
   "cell_type": "markdown",
   "metadata": {},
   "source": [
    "---\n",
    "# Let's start with a tip for the following exercise!\n",
    "\n",
    "**Hint: Counting values from a list**\n",
    "\n",
    "In some cases it might be useful to know how many times certain value exists in a list. Consider following example:\n",
    "\n",
    "```python\n",
    "my_list = ['car', 'bus', 'bike', 'car', 'car', 'bike']\n",
    "car_count = my_list.count('car')\n",
    "print(\"There are\", car_count, \"cars in my list!\")\n",
    "```"
   ]
  },
  {
   "cell_type": "markdown",
   "metadata": {},
   "source": [
    "---\n",
    "# Part A: Temperature Converter \n",
    "### (5 points)\n",
    "\n",
    "In the first problem your aim is to create a function that converts the input temperature from degrees Fahrenheit to degrees Celsius. You will recognize this task from previous exercises. This time you are writing a new Python proper function converting Temperature units, including docstring, all by yourself! \n",
    "\n",
    "Follow closely the instructions and use the same variable, function, and parameter names as stated in the instructions."
   ]
  },
  {
   "cell_type": "markdown",
   "metadata": {},
   "source": [
    "Items of this tasks are the following (these are also criteria for grading):\n",
    "\n",
    "- Create a function called `fahr_to_celsius` \n",
    "- The function should have one input parameter called `temp_fahr`\n",
    "- Inside the function, assing a variable called `converted_temp` with the conversion result (i.e., the temperature converted to Fahrenheit)\n",
    "- The unit conversion formula from degree Fahrenheit ($T_F$) to Celsius ($T_C$) is: \n",
    "\n",
    "    $T_C = \\frac{5}{9} * (T_F - 32)   $\n",
    "\n",
    "\n",
    "- Return the converted value `converted_temp` to the function output\n",
    "- Don't forget to comment your code\n",
    "- Add a docstring that explains how to use the function `fahr_to_celsius` (i.e., document the purpose and explain usage of the function, parameters, and returned values)\n",
    "- Test and use your function. Find the results for following questions (write code that uses your function and returns propers answers):\n",
    "\n",
    "    1. What is 48° Fahrenheit in Celsius? Assign the result to a variable of the name `F48inC`. Print to screen an answer to the question.\n",
    "    2. What about 71° Fahrenheit in Celsius? Assign the result to a variable of the name `F71inC`. Print to screen an answer to the question.\n",
    "\n"
   ]
  },
  {
   "cell_type": "code",
   "execution_count": null,
   "metadata": {},
   "outputs": [],
   "source": [
    "\"Enter your function below.\"\n",
    "\n",
    "### YOUR CODE HERE\n"
   ]
  },
  {
   "cell_type": "code",
   "execution_count": null,
   "metadata": {},
   "outputs": [],
   "source": [
    "\"Test and use your function. Answer the qeustions.\"\n",
    "\n",
    "### YOUR CODE HERE\n"
   ]
  },
  {
   "cell_type": "markdown",
   "metadata": {
    "nbgrader": {
     "grade": false,
     "grade_id": "cell-Btask",
     "locked": true,
     "points": 2,
     "schema_version": 3,
     "solution": false,
     "task": true
    }
   },
   "source": [
    "---\n",
    "# Part B: Classify Temperature values \n",
    "### (7 points)\n",
    "\n",
    "In the last exercise (on statements) we practiced how to classify temperatures into four different classes (i.e. cold, slippery, comfortable, warm). Let's continue working with the same idea. \n",
    "\n",
    "Now, create a function that accepts temperature values in degree Celsius and classifies them into integer numbers 0-3 based on following criteria:\n",
    "\n",
    " | Return value | Classification criteria                  |\n",
    " | :-: | :-------------------------------------------------- |\n",
    " | 0   | temperatures below -2 degrees (Celsius)             |\n",
    " | 1   | temperatures equal or higher than -2 up to +2 degrees (Celsius)  |\n",
    " | 2   | temperatures equal or higher than +2 up to +15 degrees (Celsius)  |\n",
    " | 3   | temperatures equal or higher than +15 degrees (Celsius)            |\n",
    "\n",
    "\n",
    "Items of this task are the following (these are also criteria for grading) :\n",
    "\n",
    "- create a new function called `temp_classifier`\n",
    "- allow for one argument/parameter called `temp_celsius`\n",
    "- the function should reclassify the input temperature based on the criteria given in the table above.\n",
    "- return the classified value (i.e. number 0, 1, 2, or 3)\n",
    "- comment your code\n",
    "- add a docstring that explains how to use your `temp_classifier` function (i.e. you should write the purpose of the function, parameters, and return value(s))\n",
    "- test and use your newly created function: Find the results for following questions (write code that uses your function and proper returns answers):\n",
    "    1. What is class value for 16.5 degrees (Celsius)? Assign the result to `TclassExmplA`. Print to screen an answer to the question.\n",
    "    2. What is the class value for +2 degrees (Celsius)? Assign the result to `TclassExmplB`. Print to screen an answer to the question."
   ]
  },
  {
   "cell_type": "code",
   "execution_count": null,
   "metadata": {},
   "outputs": [],
   "source": [
    "\"Enter your function below.\"\n",
    "\n",
    "### YOUR CODE HERE\n"
   ]
  },
  {
   "cell_type": "code",
   "execution_count": null,
   "metadata": {},
   "outputs": [],
   "source": [
    "\"Test and use your function. Answer the qeustions.\"\n",
    "\n",
    "### YOUR CODE HERE\n"
   ]
  },
  {
   "cell_type": "markdown",
   "metadata": {
    "nbgrader": {
     "grade": false,
     "grade_id": "cell-Ctask1",
     "locked": true,
     "schema_version": 3,
     "solution": false,
     "task": false
    }
   },
   "source": [
    "---\n",
    "# Part C: Classify Converted Temperatures  \n",
    "\n",
    "Finally, we want to bring together all pieces that we have created thus far. We will take advantage of the new functions and reclassify a dataset of temperatures in Fahrenheit into four different classes. Some temperature data are provided below. Load in the data from the cell below into memory (run/execute it). \n",
    "\n",
    "Below are three tasks C.1 for completing a new function, and task C.2 and task C.3 require you to perform some data analysis. Each task is described in further detail, below."
   ]
  },
  {
   "cell_type": "code",
   "execution_count": null,
   "metadata": {
    "nbgrader": {
     "grade": false,
     "grade_id": "cell-Cdata",
     "locked": true,
     "schema_version": 3,
     "solution": false,
     "task": false
    }
   },
   "outputs": [],
   "source": [
    "# List of half-hourly temperature values (in degrees Fahrenheit) for one week\n",
    "temp_data =  [19, 21, 21, 21, 23, 23, 23, 21, 19, 21, 19, 21, 23, 27, 27, 28, 30, 30, 32, 32, 32, 32, 34, 34,\n",
    "             34, 36, 36, 36, 36, 36, 36, 34, 34, 34, 34, 34, 34, 32, 30, 30, 30, 28, 28, 27, 27, 27, 23, 23,\n",
    "             21, 21, 21, 19, 19, 19, 18, 18, 21, 27, 28, 30, 32, 34, 36, 37, 37, 37, 39, 39, 39, 39, 39, 39,\n",
    "             41, 41, 41, 41, 41, 39, 39, 37, 37, 36, 36, 34, 34, 32, 30, 30, 28, 27, 27, 25, 23, 23, 21, 21,\n",
    "             19, 19, 19, 18, 18, 18, 21, 25, 27, 28, 34, 34, 41, 37, 37, 39, 39, 39, 39, 41, 41, 39, 39, 39,\n",
    "             39, 39, 41, 39, 39, 39, 37, 36, 34, 32, 28, 28, 27, 25, 25, 25, 23, 23, 23, 23, 21, 21, 21, 21,\n",
    "             19, 21, 19, 21, 21, 19, 21, 27, 28, 32, 36, 36, 37, 39, 39, 39, 39, 39, 41, 41, 41, 41, 41, 41,\n",
    "             41, 41, 41, 39, 37, 36, 36, 34, 32, 30, 28, 28, 27, 27, 25, 25, 23, 23, 23, 21, 21, 21, 19, 19,\n",
    "             19, 19, 19, 19, 21, 23, 23, 23, 25, 27, 30, 36, 37, 37, 39, 39, 41, 41, 41, 39, 39, 41, 43, 43,\n",
    "             43, 43, 43, 43, 43, 43, 43, 39, 37, 37, 37, 36, 36, 36, 36, 34, 32, 32, 32, 32, 30, 30, 28, 28,\n",
    "             28, 27, 27, 27, 27, 25, 27, 27, 27, 28, 28, 28, 30, 32, 32, 32, 34, 34, 36, 36, 36, 37, 37, 37,\n",
    "             37, 37, 37, 37, 37, 37, 36, 34, 30, 30, 27, 27, 25, 25, 23, 21, 21, 21, 21, 19, 19, 19, 19, 19,\n",
    "             18, 18, 18, 18, 18, 19, 23, 27, 30, 32, 32, 32, 32, 32, 32, 34, 34, 34, 34, 34, 36, 36, 36, 36,\n",
    "             36, 32, 32, 32, 32, 32, 32, 32, 32, 30, 30, 30, 30, 30, 30, 30, 30, 30, 30, 30, 30, 30, 28, 28]"
   ]
  },
  {
   "cell_type": "markdown",
   "metadata": {},
   "source": [
    "## C.1: Write a new function to perform multiple data processing steps\n",
    "### (7 points)\n",
    "\n",
    "Items of this task are the following (these are also criteria for grading) :\n",
    "\n",
    "- Write a new function `temp_conv_class` that \n",
    "    1. converts the `temp_data` to Celcius first, \n",
    "    2. classifies the converted temperature values, and \n",
    "    3. returns the temperature class\n",
    "\n",
    "- The function receives the list variable `temp_data` as parameter\n",
    "- Try to code the function as efficient as possible and with what you have learned so far about lists, iterations, sequence operators, and so on.\n",
    "- Commented your code well! \n",
    "- Add a docstring to the function.\n",
    "- Use the new function to convert and classify the list temp_data and assign it to the variable `classified_temp_data`! Print your result.\n",
    "\n",
    "\n",
    "- Here some tips:\n",
    "    - Initialize an empty list called `temp_classes` (which can be filled with temperature class values)\n",
    "    - Iterate over the Fahrenheit temperature values in `temp_data` to convert the Fahrenheit temperature to Celsius\n",
    "    - Apply the `fahr_to_celsius` function you have created in Part A to convert the Fahrenheit temperature into Celsius. You can call `fahr_to_celsius` directly from the new function `temp_conv_class`.\n",
    "    - Classify the converted temperature `temp_celsius` using the `temp_classifier` function you have created in Part B of this assignment notebook.\n",
    "    - Add the classified values to the `temp_classes` list\n",
    "    - Return the `temp_classes` list to the function caller (user)\n",
    "    "
   ]
  },
  {
   "cell_type": "code",
   "execution_count": null,
   "metadata": {},
   "outputs": [],
   "source": [
    "\"Enter your function below.\"\n",
    "\n",
    "### YOUR CODE HERE\n"
   ]
  },
  {
   "cell_type": "code",
   "execution_count": null,
   "metadata": {},
   "outputs": [],
   "source": [
    "\"\"\"Use the function to convert data and store them in the variable \n",
    "classified_temp_data. Print your result.\"\"\"\n",
    "\n",
    "### YOUR CODE HERE\n"
   ]
  },
  {
   "cell_type": "markdown",
   "metadata": {},
   "source": [
    "## C.2: How many temperatures values are stored within each temperature class?\n",
    "\n",
    "### (2 points)\n",
    "\n",
    "1. Create four variables called `zeros`, `ones`, `twos`, and `threes`. \n",
    "2. Count and assign how many times class values 0, 1, 2, and 3 are present in the `classified_temp_data` list and store the results in the four variables. \n",
    "3. Print out the results in proper answers below.\n",
    "  \n",
    "**Hint**: You might want to consider using the [count()-function](https://www.tutorialspoint.com/python3/list_count.htm) **OR** a for loop to handle this."
   ]
  },
  {
   "cell_type": "code",
   "execution_count": null,
   "metadata": {},
   "outputs": [],
   "source": [
    "\"Enter your code below.\"\n",
    "\n",
    "### YOUR CODE HERE\n"
   ]
  },
  {
   "cell_type": "code",
   "execution_count": null,
   "metadata": {},
   "outputs": [],
   "source": [
    "\"Print the answers below.\"\n",
    "\n",
    "### YOUR CODE HERE\n"
   ]
  },
  {
   "cell_type": "markdown",
   "metadata": {},
   "source": [
    "## C.3: What is the average temperature ? \n",
    "### (Optional: 2 extra points)\n",
    "\n",
    "1. Calculate the average temperature in Celsius from `temp_data`, assign the result to the variable `avrg_temp_celsius`.\n",
    "2. Retrieve the class of the average temperature, assign this to `avrg_temp_class`.\n",
    "\n",
    "Use the functions you have created so far, as needed."
   ]
  },
  {
   "cell_type": "code",
   "execution_count": null,
   "metadata": {},
   "outputs": [],
   "source": [
    "\"Enter your code for item 1 and 2 below.\"\n",
    "\n",
    "### YOUR CODE HERE\n"
   ]
  },
  {
   "cell_type": "code",
   "execution_count": null,
   "metadata": {},
   "outputs": [],
   "source": [
    "\"Print the answers for item 1 and 2 below.\"\n",
    "\n",
    "### YOUR CODE HERE\n"
   ]
  },
  {
   "cell_type": "markdown",
   "metadata": {},
   "source": [
    "---\n",
    "Pretty cold in Finnland, isn't it?! \n",
    "\n",
    "Now you have finished all the assignments in this notebook!\n",
    "\n",
    "If you are satisfied with your notebook, save it and push it to your homework repository."
   ]
  },
  {
   "cell_type": "code",
   "execution_count": null,
   "metadata": {},
   "outputs": [],
   "source": []
  }
 ],
 "metadata": {
  "kernelspec": {
   "display_name": "Python 3",
   "language": "python",
   "name": "python3"
  },
  "language_info": {
   "codemirror_mode": {
    "name": "ipython",
    "version": 3
   },
   "file_extension": ".py",
   "mimetype": "text/x-python",
   "name": "python",
   "nbconvert_exporter": "python",
   "pygments_lexer": "ipython3",
   "version": "3.8.5"
  }
 },
 "nbformat": 4,
 "nbformat_minor": 5
}
